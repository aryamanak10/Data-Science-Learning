{
  "nbformat": 4,
  "nbformat_minor": 0,
  "metadata": {
    "kernelspec": {
      "display_name": "Python 3",
      "language": "python",
      "name": "python3"
    },
    "language_info": {
      "codemirror_mode": {
        "name": "ipython",
        "version": 3
      },
      "file_extension": ".py",
      "mimetype": "text/x-python",
      "name": "python",
      "nbconvert_exporter": "python",
      "pygments_lexer": "ipython3",
      "version": "3.7.7"
    },
    "colab": {
      "name": "Handling Imbalanced Dataset with Machine Learning.ipynb",
      "provenance": []
    }
  },
  "cells": [
    {
      "cell_type": "markdown",
      "metadata": {
        "id": "OBY3H4C95-fr",
        "colab_type": "text"
      },
      "source": [
        "## Handling Imbalanced Dataset"
      ]
    },
    {
      "cell_type": "code",
      "metadata": {
        "id": "eMPpx9J05-ft",
        "colab_type": "code",
        "colab": {}
      },
      "source": [
        "import pandas as pd"
      ],
      "execution_count": null,
      "outputs": []
    },
    {
      "cell_type": "code",
      "metadata": {
        "id": "30jEd4ZU5-f4",
        "colab_type": "code",
        "colab": {},
        "outputId": "105afff1-0993-4683-faf6-8725d22f1b62"
      },
      "source": [
        "df = pd.read_csv('creditcard.csv')\n",
        "df.head()"
      ],
      "execution_count": null,
      "outputs": [
        {
          "output_type": "execute_result",
          "data": {
            "text/html": [
              "<div>\n",
              "<style scoped>\n",
              "    .dataframe tbody tr th:only-of-type {\n",
              "        vertical-align: middle;\n",
              "    }\n",
              "\n",
              "    .dataframe tbody tr th {\n",
              "        vertical-align: top;\n",
              "    }\n",
              "\n",
              "    .dataframe thead th {\n",
              "        text-align: right;\n",
              "    }\n",
              "</style>\n",
              "<table border=\"1\" class=\"dataframe\">\n",
              "  <thead>\n",
              "    <tr style=\"text-align: right;\">\n",
              "      <th></th>\n",
              "      <th>Time</th>\n",
              "      <th>V1</th>\n",
              "      <th>V2</th>\n",
              "      <th>V3</th>\n",
              "      <th>V4</th>\n",
              "      <th>V5</th>\n",
              "      <th>V6</th>\n",
              "      <th>V7</th>\n",
              "      <th>V8</th>\n",
              "      <th>V9</th>\n",
              "      <th>...</th>\n",
              "      <th>V21</th>\n",
              "      <th>V22</th>\n",
              "      <th>V23</th>\n",
              "      <th>V24</th>\n",
              "      <th>V25</th>\n",
              "      <th>V26</th>\n",
              "      <th>V27</th>\n",
              "      <th>V28</th>\n",
              "      <th>Amount</th>\n",
              "      <th>Class</th>\n",
              "    </tr>\n",
              "  </thead>\n",
              "  <tbody>\n",
              "    <tr>\n",
              "      <th>0</th>\n",
              "      <td>0.0</td>\n",
              "      <td>-1.359807</td>\n",
              "      <td>-0.072781</td>\n",
              "      <td>2.536347</td>\n",
              "      <td>1.378155</td>\n",
              "      <td>-0.338321</td>\n",
              "      <td>0.462388</td>\n",
              "      <td>0.239599</td>\n",
              "      <td>0.098698</td>\n",
              "      <td>0.363787</td>\n",
              "      <td>...</td>\n",
              "      <td>-0.018307</td>\n",
              "      <td>0.277838</td>\n",
              "      <td>-0.110474</td>\n",
              "      <td>0.066928</td>\n",
              "      <td>0.128539</td>\n",
              "      <td>-0.189115</td>\n",
              "      <td>0.133558</td>\n",
              "      <td>-0.021053</td>\n",
              "      <td>149.62</td>\n",
              "      <td>0</td>\n",
              "    </tr>\n",
              "    <tr>\n",
              "      <th>1</th>\n",
              "      <td>0.0</td>\n",
              "      <td>1.191857</td>\n",
              "      <td>0.266151</td>\n",
              "      <td>0.166480</td>\n",
              "      <td>0.448154</td>\n",
              "      <td>0.060018</td>\n",
              "      <td>-0.082361</td>\n",
              "      <td>-0.078803</td>\n",
              "      <td>0.085102</td>\n",
              "      <td>-0.255425</td>\n",
              "      <td>...</td>\n",
              "      <td>-0.225775</td>\n",
              "      <td>-0.638672</td>\n",
              "      <td>0.101288</td>\n",
              "      <td>-0.339846</td>\n",
              "      <td>0.167170</td>\n",
              "      <td>0.125895</td>\n",
              "      <td>-0.008983</td>\n",
              "      <td>0.014724</td>\n",
              "      <td>2.69</td>\n",
              "      <td>0</td>\n",
              "    </tr>\n",
              "    <tr>\n",
              "      <th>2</th>\n",
              "      <td>1.0</td>\n",
              "      <td>-1.358354</td>\n",
              "      <td>-1.340163</td>\n",
              "      <td>1.773209</td>\n",
              "      <td>0.379780</td>\n",
              "      <td>-0.503198</td>\n",
              "      <td>1.800499</td>\n",
              "      <td>0.791461</td>\n",
              "      <td>0.247676</td>\n",
              "      <td>-1.514654</td>\n",
              "      <td>...</td>\n",
              "      <td>0.247998</td>\n",
              "      <td>0.771679</td>\n",
              "      <td>0.909412</td>\n",
              "      <td>-0.689281</td>\n",
              "      <td>-0.327642</td>\n",
              "      <td>-0.139097</td>\n",
              "      <td>-0.055353</td>\n",
              "      <td>-0.059752</td>\n",
              "      <td>378.66</td>\n",
              "      <td>0</td>\n",
              "    </tr>\n",
              "    <tr>\n",
              "      <th>3</th>\n",
              "      <td>1.0</td>\n",
              "      <td>-0.966272</td>\n",
              "      <td>-0.185226</td>\n",
              "      <td>1.792993</td>\n",
              "      <td>-0.863291</td>\n",
              "      <td>-0.010309</td>\n",
              "      <td>1.247203</td>\n",
              "      <td>0.237609</td>\n",
              "      <td>0.377436</td>\n",
              "      <td>-1.387024</td>\n",
              "      <td>...</td>\n",
              "      <td>-0.108300</td>\n",
              "      <td>0.005274</td>\n",
              "      <td>-0.190321</td>\n",
              "      <td>-1.175575</td>\n",
              "      <td>0.647376</td>\n",
              "      <td>-0.221929</td>\n",
              "      <td>0.062723</td>\n",
              "      <td>0.061458</td>\n",
              "      <td>123.50</td>\n",
              "      <td>0</td>\n",
              "    </tr>\n",
              "    <tr>\n",
              "      <th>4</th>\n",
              "      <td>2.0</td>\n",
              "      <td>-1.158233</td>\n",
              "      <td>0.877737</td>\n",
              "      <td>1.548718</td>\n",
              "      <td>0.403034</td>\n",
              "      <td>-0.407193</td>\n",
              "      <td>0.095921</td>\n",
              "      <td>0.592941</td>\n",
              "      <td>-0.270533</td>\n",
              "      <td>0.817739</td>\n",
              "      <td>...</td>\n",
              "      <td>-0.009431</td>\n",
              "      <td>0.798278</td>\n",
              "      <td>-0.137458</td>\n",
              "      <td>0.141267</td>\n",
              "      <td>-0.206010</td>\n",
              "      <td>0.502292</td>\n",
              "      <td>0.219422</td>\n",
              "      <td>0.215153</td>\n",
              "      <td>69.99</td>\n",
              "      <td>0</td>\n",
              "    </tr>\n",
              "  </tbody>\n",
              "</table>\n",
              "<p>5 rows × 31 columns</p>\n",
              "</div>"
            ],
            "text/plain": [
              "   Time        V1        V2        V3        V4        V5        V6        V7  \\\n",
              "0   0.0 -1.359807 -0.072781  2.536347  1.378155 -0.338321  0.462388  0.239599   \n",
              "1   0.0  1.191857  0.266151  0.166480  0.448154  0.060018 -0.082361 -0.078803   \n",
              "2   1.0 -1.358354 -1.340163  1.773209  0.379780 -0.503198  1.800499  0.791461   \n",
              "3   1.0 -0.966272 -0.185226  1.792993 -0.863291 -0.010309  1.247203  0.237609   \n",
              "4   2.0 -1.158233  0.877737  1.548718  0.403034 -0.407193  0.095921  0.592941   \n",
              "\n",
              "         V8        V9  ...       V21       V22       V23       V24       V25  \\\n",
              "0  0.098698  0.363787  ... -0.018307  0.277838 -0.110474  0.066928  0.128539   \n",
              "1  0.085102 -0.255425  ... -0.225775 -0.638672  0.101288 -0.339846  0.167170   \n",
              "2  0.247676 -1.514654  ...  0.247998  0.771679  0.909412 -0.689281 -0.327642   \n",
              "3  0.377436 -1.387024  ... -0.108300  0.005274 -0.190321 -1.175575  0.647376   \n",
              "4 -0.270533  0.817739  ... -0.009431  0.798278 -0.137458  0.141267 -0.206010   \n",
              "\n",
              "        V26       V27       V28  Amount  Class  \n",
              "0 -0.189115  0.133558 -0.021053  149.62      0  \n",
              "1  0.125895 -0.008983  0.014724    2.69      0  \n",
              "2 -0.139097 -0.055353 -0.059752  378.66      0  \n",
              "3 -0.221929  0.062723  0.061458  123.50      0  \n",
              "4  0.502292  0.219422  0.215153   69.99      0  \n",
              "\n",
              "[5 rows x 31 columns]"
            ]
          },
          "metadata": {
            "tags": []
          },
          "execution_count": 2
        }
      ]
    },
    {
      "cell_type": "code",
      "metadata": {
        "id": "MOEH7FG95-gD",
        "colab_type": "code",
        "colab": {},
        "outputId": "d036403d-1d55-42e3-e288-c599b59caa8b"
      },
      "source": [
        "df.shape"
      ],
      "execution_count": null,
      "outputs": [
        {
          "output_type": "execute_result",
          "data": {
            "text/plain": [
              "(284807, 31)"
            ]
          },
          "metadata": {
            "tags": []
          },
          "execution_count": 3
        }
      ]
    },
    {
      "cell_type": "code",
      "metadata": {
        "id": "2-WA4-DY5-gL",
        "colab_type": "code",
        "colab": {},
        "outputId": "e79a0960-98a6-4069-94df-b6cdcc0ac209"
      },
      "source": [
        "df.isnull().sum()"
      ],
      "execution_count": null,
      "outputs": [
        {
          "output_type": "execute_result",
          "data": {
            "text/plain": [
              "Time      0\n",
              "V1        0\n",
              "V2        0\n",
              "V3        0\n",
              "V4        0\n",
              "V5        0\n",
              "V6        0\n",
              "V7        0\n",
              "V8        0\n",
              "V9        0\n",
              "V10       0\n",
              "V11       0\n",
              "V12       0\n",
              "V13       0\n",
              "V14       0\n",
              "V15       0\n",
              "V16       0\n",
              "V17       0\n",
              "V18       0\n",
              "V19       0\n",
              "V20       0\n",
              "V21       0\n",
              "V22       0\n",
              "V23       0\n",
              "V24       0\n",
              "V25       0\n",
              "V26       0\n",
              "V27       0\n",
              "V28       0\n",
              "Amount    0\n",
              "Class     0\n",
              "dtype: int64"
            ]
          },
          "metadata": {
            "tags": []
          },
          "execution_count": 4
        }
      ]
    },
    {
      "cell_type": "code",
      "metadata": {
        "id": "mCn1598Z5-gR",
        "colab_type": "code",
        "colab": {},
        "outputId": "99c81af2-f90d-4069-d08a-9e2d42569ea7"
      },
      "source": [
        "df.isnull().count()"
      ],
      "execution_count": null,
      "outputs": [
        {
          "output_type": "execute_result",
          "data": {
            "text/plain": [
              "Time      284807\n",
              "V1        284807\n",
              "V2        284807\n",
              "V3        284807\n",
              "V4        284807\n",
              "V5        284807\n",
              "V6        284807\n",
              "V7        284807\n",
              "V8        284807\n",
              "V9        284807\n",
              "V10       284807\n",
              "V11       284807\n",
              "V12       284807\n",
              "V13       284807\n",
              "V14       284807\n",
              "V15       284807\n",
              "V16       284807\n",
              "V17       284807\n",
              "V18       284807\n",
              "V19       284807\n",
              "V20       284807\n",
              "V21       284807\n",
              "V22       284807\n",
              "V23       284807\n",
              "V24       284807\n",
              "V25       284807\n",
              "V26       284807\n",
              "V27       284807\n",
              "V28       284807\n",
              "Amount    284807\n",
              "Class     284807\n",
              "dtype: int64"
            ]
          },
          "metadata": {
            "tags": []
          },
          "execution_count": 5
        }
      ]
    },
    {
      "cell_type": "code",
      "metadata": {
        "id": "toCMCECT5-gY",
        "colab_type": "code",
        "colab": {},
        "outputId": "c5996bba-08e1-442c-fb72-a4e6c8de09a1"
      },
      "source": [
        "df['Class']"
      ],
      "execution_count": null,
      "outputs": [
        {
          "output_type": "execute_result",
          "data": {
            "text/plain": [
              "0         0\n",
              "1         0\n",
              "2         0\n",
              "3         0\n",
              "4         0\n",
              "         ..\n",
              "284802    0\n",
              "284803    0\n",
              "284804    0\n",
              "284805    0\n",
              "284806    0\n",
              "Name: Class, Length: 284807, dtype: int64"
            ]
          },
          "metadata": {
            "tags": []
          },
          "execution_count": 6
        }
      ]
    },
    {
      "cell_type": "code",
      "metadata": {
        "id": "_fX-znWo5-ge",
        "colab_type": "code",
        "colab": {},
        "outputId": "d9b4aac5-c588-47e3-dbe5-ba3c48f5766d"
      },
      "source": [
        "df['Class'].value_counts()"
      ],
      "execution_count": null,
      "outputs": [
        {
          "output_type": "execute_result",
          "data": {
            "text/plain": [
              "0    284315\n",
              "1       492\n",
              "Name: Class, dtype: int64"
            ]
          },
          "metadata": {
            "tags": []
          },
          "execution_count": 7
        }
      ]
    },
    {
      "cell_type": "markdown",
      "metadata": {
        "id": "6MBd1KaS5-gj",
        "colab_type": "text"
      },
      "source": [
        "### Independent and Dependent Features"
      ]
    },
    {
      "cell_type": "code",
      "metadata": {
        "id": "CxbxzXd75-gk",
        "colab_type": "code",
        "colab": {}
      },
      "source": [
        "X = df.drop(\"Class\", axis=1)\n",
        "y = df.Class"
      ],
      "execution_count": null,
      "outputs": []
    },
    {
      "cell_type": "markdown",
      "metadata": {
        "id": "gQHSzonC5-go",
        "colab_type": "text"
      },
      "source": [
        "### Cross Validation llike KFold and Hyperparameter tuning"
      ]
    },
    {
      "cell_type": "code",
      "metadata": {
        "id": "En4W7cyq5-gq",
        "colab_type": "code",
        "colab": {}
      },
      "source": [
        "from sklearn.linear_model import LogisticRegression\n",
        "from sklearn.metrics import accuracy_score, confusion_matrix, classification_report\n",
        "from sklearn.model_selection import KFold\n",
        "from sklearn.model_selection import GridSearchCV\n",
        "import numpy as np"
      ],
      "execution_count": null,
      "outputs": []
    },
    {
      "cell_type": "code",
      "metadata": {
        "id": "qiL0nCCy5-gu",
        "colab_type": "code",
        "colab": {},
        "outputId": "2d0fb9f0-f62f-41c5-ae25-a72784e848cb"
      },
      "source": [
        "10.0**np.arange(-2, 3)"
      ],
      "execution_count": null,
      "outputs": [
        {
          "output_type": "execute_result",
          "data": {
            "text/plain": [
              "array([1.e-02, 1.e-01, 1.e+00, 1.e+01, 1.e+02])"
            ]
          },
          "metadata": {
            "tags": []
          },
          "execution_count": 10
        }
      ]
    },
    {
      "cell_type": "markdown",
      "metadata": {
        "id": "6SE4ZdJs5-gz",
        "colab_type": "text"
      },
      "source": [
        "### Logistic Regression with HyperParameter Tuning and KFold"
      ]
    },
    {
      "cell_type": "code",
      "metadata": {
        "id": "sIp48XEC5-g0",
        "colab_type": "code",
        "colab": {}
      },
      "source": [
        "log_class = LogisticRegression()\n",
        "grid = {'C': 10.0**np.arange(-2, 3), 'penalty': ['l1', 'l2']}\n",
        "cv = KFold(n_splits=5, shuffle=False, random_state=None)"
      ],
      "execution_count": null,
      "outputs": []
    },
    {
      "cell_type": "code",
      "metadata": {
        "id": "4r7g_8j_5-g5",
        "colab_type": "code",
        "colab": {}
      },
      "source": [
        "from sklearn.model_selection import train_test_split\n",
        "X_train, X_test, y_train, y_test = train_test_split(X, y, train_size=0.7)"
      ],
      "execution_count": null,
      "outputs": []
    },
    {
      "cell_type": "code",
      "metadata": {
        "id": "-KIHBp0f5-g_",
        "colab_type": "code",
        "colab": {},
        "outputId": "cf5b978d-c1d4-4adf-a9c2-25b220749cbe"
      },
      "source": [
        "clf = GridSearchCV(log_class, grid, cv=cv, n_jobs=-1, scoring='f1_macro')\n",
        "clf.fit(X_train, y_train)"
      ],
      "execution_count": null,
      "outputs": [
        {
          "output_type": "stream",
          "text": [
            "/home/aryaman/anaconda3/envs/ml/lib/python3.7/site-packages/sklearn/linear_model/_logistic.py:764: ConvergenceWarning: lbfgs failed to converge (status=1):\n",
            "STOP: TOTAL NO. of ITERATIONS REACHED LIMIT.\n",
            "\n",
            "Increase the number of iterations (max_iter) or scale the data as shown in:\n",
            "    https://scikit-learn.org/stable/modules/preprocessing.html\n",
            "Please also refer to the documentation for alternative solver options:\n",
            "    https://scikit-learn.org/stable/modules/linear_model.html#logistic-regression\n",
            "  extra_warning_msg=_LOGISTIC_SOLVER_CONVERGENCE_MSG)\n"
          ],
          "name": "stderr"
        },
        {
          "output_type": "execute_result",
          "data": {
            "text/plain": [
              "GridSearchCV(cv=KFold(n_splits=5, random_state=None, shuffle=False),\n",
              "             estimator=LogisticRegression(), n_jobs=-1,\n",
              "             param_grid={'C': array([1.e-02, 1.e-01, 1.e+00, 1.e+01, 1.e+02]),\n",
              "                         'penalty': ['l1', 'l2']},\n",
              "             scoring='f1_macro')"
            ]
          },
          "metadata": {
            "tags": []
          },
          "execution_count": 13
        }
      ]
    },
    {
      "cell_type": "code",
      "metadata": {
        "id": "J_453rAE5-hE",
        "colab_type": "code",
        "colab": {},
        "outputId": "67f9fa0d-221d-4564-df5b-194392c47ffb"
      },
      "source": [
        "y_pred = clf.predict(X_test)\n",
        "print(confusion_matrix(y_test, y_pred))\n",
        "print(accuracy_score(y_test, y_pred))\n",
        "print(classification_report(y_test, y_pred))"
      ],
      "execution_count": null,
      "outputs": [
        {
          "output_type": "stream",
          "text": [
            "[[85227    57]\n",
            " [   49   110]]\n",
            "0.9987594068560327\n",
            "              precision    recall  f1-score   support\n",
            "\n",
            "           0       1.00      1.00      1.00     85284\n",
            "           1       0.66      0.69      0.67       159\n",
            "\n",
            "    accuracy                           1.00     85443\n",
            "   macro avg       0.83      0.85      0.84     85443\n",
            "weighted avg       1.00      1.00      1.00     85443\n",
            "\n"
          ],
          "name": "stdout"
        }
      ]
    },
    {
      "cell_type": "markdown",
      "metadata": {
        "id": "QPpDP7225-hJ",
        "colab_type": "text"
      },
      "source": [
        "* If for an Imbalanced Dataset, you get a high accuray it does not mean that your model is good.\n",
        "\n",
        "* Look at various performance metrics when working on an imbalanced dataset\n",
        "\n",
        "* Precision and Recall score should be increased for the Class 1 (Fradulent Activity).\n",
        "\n",
        "* Model is doing a decent job"
      ]
    },
    {
      "cell_type": "markdown",
      "metadata": {
        "id": "UsUqkMGT5-hK",
        "colab_type": "text"
      },
      "source": [
        "### Random Forest Classification"
      ]
    },
    {
      "cell_type": "code",
      "metadata": {
        "id": "E44hGA2v5-hL",
        "colab_type": "code",
        "colab": {},
        "outputId": "004f9018-4f84-46b5-8780-61e3333efee2"
      },
      "source": [
        "X_train.shape"
      ],
      "execution_count": null,
      "outputs": [
        {
          "output_type": "execute_result",
          "data": {
            "text/plain": [
              "(199364, 30)"
            ]
          },
          "metadata": {
            "tags": []
          },
          "execution_count": 17
        }
      ]
    },
    {
      "cell_type": "code",
      "metadata": {
        "id": "6oT_TJGJ5-hQ",
        "colab_type": "code",
        "colab": {},
        "outputId": "43db523a-5acd-450a-d673-f195d343671e"
      },
      "source": [
        "y_train.value_counts()"
      ],
      "execution_count": null,
      "outputs": [
        {
          "output_type": "execute_result",
          "data": {
            "text/plain": [
              "0    199031\n",
              "1       333\n",
              "Name: Class, dtype: int64"
            ]
          },
          "metadata": {
            "tags": []
          },
          "execution_count": 18
        }
      ]
    },
    {
      "cell_type": "code",
      "metadata": {
        "id": "5xOr-xpG5-hU",
        "colab_type": "code",
        "colab": {}
      },
      "source": [
        "class_wieght = dict({0:1, 1:100})"
      ],
      "execution_count": null,
      "outputs": []
    },
    {
      "cell_type": "code",
      "metadata": {
        "id": "jmwmBnzo5-hX",
        "colab_type": "code",
        "colab": {},
        "outputId": "f1819900-22bb-407c-aefc-4e1f43be7be6"
      },
      "source": [
        "from sklearn.ensemble import RandomForestClassifier\n",
        "classifier = RandomForestClassifier(class_weight=class_wieght)\n",
        "classifier.fit(X_train, y_train)"
      ],
      "execution_count": null,
      "outputs": [
        {
          "output_type": "execute_result",
          "data": {
            "text/plain": [
              "RandomForestClassifier(class_weight={0: 1, 1: 100})"
            ]
          },
          "metadata": {
            "tags": []
          },
          "execution_count": 20
        }
      ]
    },
    {
      "cell_type": "markdown",
      "metadata": {
        "id": "Ug_oehIz5-ha",
        "colab_type": "text"
      },
      "source": [
        "#### Results without Class Weights"
      ]
    },
    {
      "cell_type": "code",
      "metadata": {
        "id": "tU86EbCV5-hc",
        "colab_type": "code",
        "colab": {},
        "outputId": "ca87f46f-2223-4c43-ee73-7d90be62ee73"
      },
      "source": [
        "y_pred = classifier.predict(X_test)\n",
        "print(confusion_matrix(y_test, y_pred))\n",
        "print(accuracy_score(y_test, y_pred))\n",
        "print(classification_report(y_test, y_pred))"
      ],
      "execution_count": null,
      "outputs": [
        {
          "output_type": "stream",
          "text": [
            "[[85275     9]\n",
            " [   37   122]]\n",
            "0.9994616293903538\n",
            "              precision    recall  f1-score   support\n",
            "\n",
            "           0       1.00      1.00      1.00     85284\n",
            "           1       0.93      0.77      0.84       159\n",
            "\n",
            "    accuracy                           1.00     85443\n",
            "   macro avg       0.97      0.88      0.92     85443\n",
            "weighted avg       1.00      1.00      1.00     85443\n",
            "\n"
          ],
          "name": "stdout"
        }
      ]
    },
    {
      "cell_type": "markdown",
      "metadata": {
        "id": "qEnmTnHU5-hg",
        "colab_type": "text"
      },
      "source": [
        "#### Results with Class Weights"
      ]
    },
    {
      "cell_type": "code",
      "metadata": {
        "id": "Vg6HgdEz5-hh",
        "colab_type": "code",
        "colab": {},
        "outputId": "bd1a5c95-4a8b-4a4e-d957-0d6020e3bf5c"
      },
      "source": [
        "y_pred = classifier.predict(X_test)\n",
        "print(confusion_matrix(y_test, y_pred))\n",
        "print(accuracy_score(y_test, y_pred))\n",
        "print(classification_report(y_test, y_pred))"
      ],
      "execution_count": null,
      "outputs": [
        {
          "output_type": "stream",
          "text": [
            "[[85279     5]\n",
            " [   39   120]]\n",
            "0.9994850368081645\n",
            "              precision    recall  f1-score   support\n",
            "\n",
            "           0       1.00      1.00      1.00     85284\n",
            "           1       0.96      0.75      0.85       159\n",
            "\n",
            "    accuracy                           1.00     85443\n",
            "   macro avg       0.98      0.88      0.92     85443\n",
            "weighted avg       1.00      1.00      1.00     85443\n",
            "\n"
          ],
          "name": "stdout"
        }
      ]
    },
    {
      "cell_type": "markdown",
      "metadata": {
        "id": "kWL6NOKz5-hm",
        "colab_type": "text"
      },
      "source": [
        "### 1. Under Sampling Technique"
      ]
    },
    {
      "cell_type": "markdown",
      "metadata": {
        "id": "57aXYaQF5-hn",
        "colab_type": "text"
      },
      "source": [
        "* Reduces the points of the maximum labels in our case it is (0 label)\n",
        "\n",
        "* Not use this because there is loss of data\n",
        "\n",
        "* Should use it when the dataset is not large enough"
      ]
    },
    {
      "cell_type": "code",
      "metadata": {
        "id": "3WEer3rg5-hn",
        "colab_type": "code",
        "colab": {},
        "outputId": "b907f9ed-2764-4d5a-bd46-89e042626db4"
      },
      "source": [
        "y_train.value_counts()"
      ],
      "execution_count": null,
      "outputs": [
        {
          "output_type": "execute_result",
          "data": {
            "text/plain": [
              "0    199031\n",
              "1       333\n",
              "Name: Class, dtype: int64"
            ]
          },
          "metadata": {
            "tags": []
          },
          "execution_count": 22
        }
      ]
    },
    {
      "cell_type": "code",
      "metadata": {
        "id": "_8jjk8GJ5-hs",
        "colab_type": "code",
        "colab": {},
        "outputId": "e83c152e-5fdc-4232-d0d7-ba9816276680"
      },
      "source": [
        "from collections import Counter\n",
        "from imblearn.under_sampling import NearMiss\n",
        "\n",
        "ns = NearMiss(sampling_strategy=0.8)\n",
        "X_train_ns, y_train_ns = ns.fit_sample(X_train, y_train)\n",
        "print(\"The number of class before Near Miss {}\".format(Counter(y_train)))\n",
        "print(\"The number of class after Near Miss {}\".format(Counter(y_train_ns)))"
      ],
      "execution_count": null,
      "outputs": [
        {
          "output_type": "stream",
          "text": [
            "The number of class before Near Miss Counter({0: 199031, 1: 333})\n",
            "The number of class after Near Miss Counter({0: 416, 1: 333})\n"
          ],
          "name": "stdout"
        }
      ]
    },
    {
      "cell_type": "markdown",
      "metadata": {
        "id": "8YNTzHrO5-hx",
        "colab_type": "text"
      },
      "source": [
        "### Random Forest Classifer After Near Miss"
      ]
    },
    {
      "cell_type": "code",
      "metadata": {
        "id": "VZu6dmNM5-hx",
        "colab_type": "code",
        "colab": {},
        "outputId": "27bbe894-31c6-4725-d1cd-c522d3c6a3d4"
      },
      "source": [
        "from sklearn.ensemble import RandomForestClassifier\n",
        "classifier = RandomForestClassifier()\n",
        "classifier.fit(X_train_ns, y_train_ns)"
      ],
      "execution_count": null,
      "outputs": [
        {
          "output_type": "execute_result",
          "data": {
            "text/plain": [
              "RandomForestClassifier()"
            ]
          },
          "metadata": {
            "tags": []
          },
          "execution_count": 25
        }
      ]
    },
    {
      "cell_type": "code",
      "metadata": {
        "id": "n5ydqYBF5-h1",
        "colab_type": "code",
        "colab": {},
        "outputId": "b07ee6a2-2341-4fdb-e208-3c4bdb44b3ee"
      },
      "source": [
        "y_pred = classifier.predict(X_test)\n",
        "print(confusion_matrix(y_test, y_pred))\n",
        "print(accuracy_score(y_test, y_pred))\n",
        "print(classification_report(y_test, y_pred))"
      ],
      "execution_count": null,
      "outputs": [
        {
          "output_type": "stream",
          "text": [
            "[[68263 17021]\n",
            " [   16   143]]\n",
            "0.8006039113795161\n",
            "              precision    recall  f1-score   support\n",
            "\n",
            "           0       1.00      0.80      0.89     85284\n",
            "           1       0.01      0.90      0.02       159\n",
            "\n",
            "    accuracy                           0.80     85443\n",
            "   macro avg       0.50      0.85      0.45     85443\n",
            "weighted avg       1.00      0.80      0.89     85443\n",
            "\n"
          ],
          "name": "stdout"
        }
      ]
    },
    {
      "cell_type": "markdown",
      "metadata": {
        "id": "WAMTdW9r5-h5",
        "colab_type": "text"
      },
      "source": [
        "* The accuracy was no where near the previous one so it is advisable to avoid Under Sampling if possible"
      ]
    },
    {
      "cell_type": "markdown",
      "metadata": {
        "id": "PGZSgItx5-h5",
        "colab_type": "text"
      },
      "source": [
        "### 2. Over Sampling Technique"
      ]
    },
    {
      "cell_type": "markdown",
      "metadata": {
        "id": "wib5inXK5-h6",
        "colab_type": "text"
      },
      "source": [
        "* Increases the points of the minimum labels in our case it is (1 label)\n",
        "\n",
        "* The points are created over the same points in the '1' label"
      ]
    },
    {
      "cell_type": "code",
      "metadata": {
        "id": "9sFi1sig5-h7",
        "colab_type": "code",
        "colab": {}
      },
      "source": [
        "from imblearn.over_sampling import RandomOverSampler"
      ],
      "execution_count": null,
      "outputs": []
    },
    {
      "cell_type": "code",
      "metadata": {
        "id": "nkSxDoot5-h-",
        "colab_type": "code",
        "colab": {},
        "outputId": "d840c8ff-5f95-4d3b-839a-5952c3569785"
      },
      "source": [
        "from collections import Counter\n",
        "\n",
        "os = RandomOverSampler(sampling_strategy=0.75)\n",
        "X_train_os, y_train_os = os.fit_sample(X_train, y_train)\n",
        "print(\"The number of class before Over Sampler {}\".format(Counter(y_train)))\n",
        "print(\"The number of class after Over Sampler {}\".format(Counter(y_train_os)))"
      ],
      "execution_count": null,
      "outputs": [
        {
          "output_type": "stream",
          "text": [
            "The number of class before Over Sampler Counter({0: 199031, 1: 333})\n",
            "The number of class after Over Sampler Counter({0: 199031, 1: 149273})\n"
          ],
          "name": "stdout"
        }
      ]
    },
    {
      "cell_type": "markdown",
      "metadata": {
        "id": "Yuusa_E75-iF",
        "colab_type": "text"
      },
      "source": [
        "#### Random Forest Classifer after Over Sampling"
      ]
    },
    {
      "cell_type": "code",
      "metadata": {
        "id": "uMJEELig5-iG",
        "colab_type": "code",
        "colab": {},
        "outputId": "db80239a-0886-4a23-e57f-e6a4ecc1a0cb"
      },
      "source": [
        "from sklearn.ensemble import RandomForestClassifier\n",
        "classifier = RandomForestClassifier()\n",
        "classifier.fit(X_train_os, y_train_os)"
      ],
      "execution_count": null,
      "outputs": [
        {
          "output_type": "execute_result",
          "data": {
            "text/plain": [
              "RandomForestClassifier()"
            ]
          },
          "metadata": {
            "tags": []
          },
          "execution_count": 33
        }
      ]
    },
    {
      "cell_type": "code",
      "metadata": {
        "id": "rflmrbTq5-iJ",
        "colab_type": "code",
        "colab": {},
        "outputId": "6c37f7fc-ee1a-4a7d-f9fb-d00a93c0000f"
      },
      "source": [
        "y_pred = classifier.predict(X_test)\n",
        "print(confusion_matrix(y_test, y_pred))\n",
        "print(accuracy_score(y_test, y_pred))\n",
        "print(classification_report(y_test, y_pred))"
      ],
      "execution_count": null,
      "outputs": [
        {
          "output_type": "stream",
          "text": [
            "[[85274    10]\n",
            " [   36   123]]\n",
            "0.9994616293903538\n",
            "              precision    recall  f1-score   support\n",
            "\n",
            "           0       1.00      1.00      1.00     85284\n",
            "           1       0.92      0.77      0.84       159\n",
            "\n",
            "    accuracy                           1.00     85443\n",
            "   macro avg       0.96      0.89      0.92     85443\n",
            "weighted avg       1.00      1.00      1.00     85443\n",
            "\n"
          ],
          "name": "stdout"
        }
      ]
    },
    {
      "cell_type": "markdown",
      "metadata": {
        "id": "VMqPDSNr5-iO",
        "colab_type": "text"
      },
      "source": [
        "### 3. SMOTETomek Technique"
      ]
    },
    {
      "cell_type": "markdown",
      "metadata": {
        "id": "UlOO153_5-iO",
        "colab_type": "text"
      },
      "source": [
        "* SMOTETomek technique creates new points of the minimum label ('1' label)\n",
        "\n",
        "* Based on the nearest point of the label more points will **created** around it. Hence it takes more time"
      ]
    },
    {
      "cell_type": "code",
      "metadata": {
        "id": "qYbYZcoB5-iO",
        "colab_type": "code",
        "colab": {}
      },
      "source": [
        "from imblearn.combine import SMOTETomek"
      ],
      "execution_count": null,
      "outputs": []
    },
    {
      "cell_type": "code",
      "metadata": {
        "id": "X2JxnTNr5-iR",
        "colab_type": "code",
        "colab": {},
        "outputId": "0743224c-e515-43d1-998b-964e990d2523"
      },
      "source": [
        "st = SMOTETomek(sampling_strategy=0.75)\n",
        "X_train_st, y_train_st = st.fit_sample(X_train, y_train)\n",
        "print(\"The number of class before SmoteTomek {}\".format(Counter(y_train)))\n",
        "print(\"The number of class after SmoteTomek {}\".format(Counter(y_train_st)))"
      ],
      "execution_count": null,
      "outputs": [
        {
          "output_type": "stream",
          "text": [
            "The number of class before SmoteTomek Counter({0: 199031, 1: 333})\n",
            "The number of class after SmoteTomek Counter({0: 198423, 1: 148665})\n"
          ],
          "name": "stdout"
        }
      ]
    },
    {
      "cell_type": "code",
      "metadata": {
        "id": "p68mBGqy5-iU",
        "colab_type": "code",
        "colab": {},
        "outputId": "6a919cf9-108a-41cb-a8a5-bc8c1e37d9e5"
      },
      "source": [
        "from sklearn.ensemble import RandomForestClassifier\n",
        "classifier = RandomForestClassifier()\n",
        "classifier.fit(X_train_st, y_train_st)"
      ],
      "execution_count": null,
      "outputs": [
        {
          "output_type": "execute_result",
          "data": {
            "text/plain": [
              "RandomForestClassifier()"
            ]
          },
          "metadata": {
            "tags": []
          },
          "execution_count": 38
        }
      ]
    },
    {
      "cell_type": "code",
      "metadata": {
        "id": "WNZlCZUD5-iX",
        "colab_type": "code",
        "colab": {},
        "outputId": "0d3d90cb-eef7-4abc-8d91-71cacc9ea370"
      },
      "source": [
        "y_pred = classifier.predict(X_test)\n",
        "print(confusion_matrix(y_test, y_pred))\n",
        "print(accuracy_score(y_test, y_pred))\n",
        "print(classification_report(y_test, y_pred))"
      ],
      "execution_count": null,
      "outputs": [
        {
          "output_type": "stream",
          "text": [
            "[[85266    18]\n",
            " [   33   126]]\n",
            "0.999403110845827\n",
            "              precision    recall  f1-score   support\n",
            "\n",
            "           0       1.00      1.00      1.00     85284\n",
            "           1       0.88      0.79      0.83       159\n",
            "\n",
            "    accuracy                           1.00     85443\n",
            "   macro avg       0.94      0.90      0.92     85443\n",
            "weighted avg       1.00      1.00      1.00     85443\n",
            "\n"
          ],
          "name": "stdout"
        }
      ]
    },
    {
      "cell_type": "markdown",
      "metadata": {
        "id": "c4Uf_WR85-ib",
        "colab_type": "text"
      },
      "source": [
        "### Ensemble Techniques (Imbalanced Learn)"
      ]
    },
    {
      "cell_type": "code",
      "metadata": {
        "id": "dxlvxs2U5-ib",
        "colab_type": "code",
        "colab": {}
      },
      "source": [
        "from imblearn.ensemble import EasyEnsembleClassifier"
      ],
      "execution_count": null,
      "outputs": []
    },
    {
      "cell_type": "code",
      "metadata": {
        "id": "UMF9H_RE5-if",
        "colab_type": "code",
        "colab": {},
        "outputId": "a0e81d7e-ef77-474b-d77f-917d266cb40f"
      },
      "source": [
        "easy = EasyEnsembleClassifier()\n",
        "easy.fit(X_train, y_train)"
      ],
      "execution_count": null,
      "outputs": [
        {
          "output_type": "execute_result",
          "data": {
            "text/plain": [
              "EasyEnsembleClassifier()"
            ]
          },
          "metadata": {
            "tags": []
          },
          "execution_count": 41
        }
      ]
    },
    {
      "cell_type": "code",
      "metadata": {
        "id": "oTQzdU-G5-ih",
        "colab_type": "code",
        "colab": {},
        "outputId": "75767017-4afa-47d6-ce77-8da791bbb7d1"
      },
      "source": [
        "y_pred = easy.predict(X_test)\n",
        "print(confusion_matrix(y_test, y_pred))\n",
        "print(accuracy_score(y_test, y_pred))\n",
        "print(classification_report(y_test, y_pred))"
      ],
      "execution_count": null,
      "outputs": [
        {
          "output_type": "stream",
          "text": [
            "[[82875  2409]\n",
            " [   21   138]]\n",
            "0.9715599873599944\n",
            "              precision    recall  f1-score   support\n",
            "\n",
            "           0       1.00      0.97      0.99     85284\n",
            "           1       0.05      0.87      0.10       159\n",
            "\n",
            "    accuracy                           0.97     85443\n",
            "   macro avg       0.53      0.92      0.54     85443\n",
            "weighted avg       1.00      0.97      0.98     85443\n",
            "\n"
          ],
          "name": "stdout"
        }
      ]
    }
  ]
}