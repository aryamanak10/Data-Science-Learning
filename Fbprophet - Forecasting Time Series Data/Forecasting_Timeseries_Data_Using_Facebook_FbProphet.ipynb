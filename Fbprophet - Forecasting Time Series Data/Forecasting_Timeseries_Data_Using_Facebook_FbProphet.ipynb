{
  "nbformat": 4,
  "nbformat_minor": 0,
  "metadata": {
    "kernelspec": {
      "display_name": "Python 3",
      "language": "python",
      "name": "python3"
    },
    "language_info": {
      "codemirror_mode": {
        "name": "ipython",
        "version": 3
      },
      "file_extension": ".py",
      "mimetype": "text/x-python",
      "name": "python",
      "nbconvert_exporter": "python",
      "pygments_lexer": "ipython3",
      "version": "3.7.7"
    },
    "colab": {
      "name": "Forecasting Timeseries Data Using Facebook FbProphet.ipynb",
      "provenance": []
    }
  },
  "cells": [
    {
      "cell_type": "markdown",
      "metadata": {
        "id": "VO17qapazwgy",
        "colab_type": "text"
      },
      "source": [
        "## Forecasting Timeseries Data Using Facebook FbProphet"
      ]
    },
    {
      "cell_type": "markdown",
      "metadata": {
        "id": "wUmVHjtrzwg1",
        "colab_type": "text"
      },
      "source": [
        "* **Steps Required With FbProphet**\n",
        "\n",
        "    1. Introduction And Installation\n",
        "    2. Data Preprocessing With Time Series\n",
        "    3. Model Fitting\n",
        "    4. Obtaining The Forecasts\n",
        "    5. Plotting The Forecasts\n",
        "    6. Cross Validation\n",
        "    7. Computing Performance Metrics\n",
        "    8. Visualize the Performance Metrics\n",
        "    9. Conclusions"
      ]
    },
    {
      "cell_type": "markdown",
      "metadata": {
        "id": "ekD_55J_zwg3",
        "colab_type": "text"
      },
      "source": [
        "**Create a new Conda Environment and then Install these packages in that Environment**"
      ]
    },
    {
      "cell_type": "code",
      "metadata": {
        "id": "m0p2PAF_zwg6",
        "colab_type": "code",
        "colab": {}
      },
      "source": [
        "# pip install pystan\n",
        "# conda install -c conda-forge fbprophet"
      ],
      "execution_count": null,
      "outputs": []
    },
    {
      "cell_type": "markdown",
      "metadata": {
        "id": "sT4CQAOtzwhF",
        "colab_type": "text"
      },
      "source": [
        "* Execute the below line twice if working in Python 3.7 version. (Plotly fails the first time)"
      ]
    },
    {
      "cell_type": "code",
      "metadata": {
        "id": "RvkCCFQxzwhG",
        "colab_type": "code",
        "colab": {},
        "outputId": "7081fec3-bf32-4b34-c57e-2cd6d88c6ae5"
      },
      "source": [
        "import pandas as pd\n",
        "import fbprophet\n",
        "import matplotlib.pyplot as plt\n",
        "%matplotlib inline"
      ],
      "execution_count": null,
      "outputs": [
        {
          "output_type": "stream",
          "text": [
            "Importing plotly failed. Interactive plots will not work.\n"
          ],
          "name": "stderr"
        }
      ]
    },
    {
      "cell_type": "code",
      "metadata": {
        "id": "DxIDot5-zwhQ",
        "colab_type": "code",
        "colab": {},
        "outputId": "9dff7059-5e12-458e-e1e2-9ce445fb0c9f"
      },
      "source": [
        "df=pd.read_csv('monthly-milk-production-pounds.csv')\n",
        "df.head()"
      ],
      "execution_count": null,
      "outputs": [
        {
          "output_type": "execute_result",
          "data": {
            "text/html": [
              "<div>\n",
              "<style scoped>\n",
              "    .dataframe tbody tr th:only-of-type {\n",
              "        vertical-align: middle;\n",
              "    }\n",
              "\n",
              "    .dataframe tbody tr th {\n",
              "        vertical-align: top;\n",
              "    }\n",
              "\n",
              "    .dataframe thead th {\n",
              "        text-align: right;\n",
              "    }\n",
              "</style>\n",
              "<table border=\"1\" class=\"dataframe\">\n",
              "  <thead>\n",
              "    <tr style=\"text-align: right;\">\n",
              "      <th></th>\n",
              "      <th>Month</th>\n",
              "      <th>Monthly milk production: pounds per cow. Jan 62 ? Dec 75</th>\n",
              "    </tr>\n",
              "  </thead>\n",
              "  <tbody>\n",
              "    <tr>\n",
              "      <th>0</th>\n",
              "      <td>1962-01</td>\n",
              "      <td>589.0</td>\n",
              "    </tr>\n",
              "    <tr>\n",
              "      <th>1</th>\n",
              "      <td>1962-02</td>\n",
              "      <td>561.0</td>\n",
              "    </tr>\n",
              "    <tr>\n",
              "      <th>2</th>\n",
              "      <td>1962-03</td>\n",
              "      <td>640.0</td>\n",
              "    </tr>\n",
              "    <tr>\n",
              "      <th>3</th>\n",
              "      <td>1962-04</td>\n",
              "      <td>656.0</td>\n",
              "    </tr>\n",
              "    <tr>\n",
              "      <th>4</th>\n",
              "      <td>1962-05</td>\n",
              "      <td>727.0</td>\n",
              "    </tr>\n",
              "  </tbody>\n",
              "</table>\n",
              "</div>"
            ],
            "text/plain": [
              "     Month  Monthly milk production: pounds per cow. Jan 62 ? Dec 75\n",
              "0  1962-01                                              589.0       \n",
              "1  1962-02                                              561.0       \n",
              "2  1962-03                                              640.0       \n",
              "3  1962-04                                              656.0       \n",
              "4  1962-05                                              727.0       "
            ]
          },
          "metadata": {
            "tags": []
          },
          "execution_count": 3
        }
      ]
    },
    {
      "cell_type": "code",
      "metadata": {
        "id": "9C1PXdt7zwhW",
        "colab_type": "code",
        "colab": {},
        "outputId": "34885213-a731-4b86-baa1-d0e58f4915a5"
      },
      "source": [
        "df.tail()"
      ],
      "execution_count": null,
      "outputs": [
        {
          "output_type": "execute_result",
          "data": {
            "text/html": [
              "<div>\n",
              "<style scoped>\n",
              "    .dataframe tbody tr th:only-of-type {\n",
              "        vertical-align: middle;\n",
              "    }\n",
              "\n",
              "    .dataframe tbody tr th {\n",
              "        vertical-align: top;\n",
              "    }\n",
              "\n",
              "    .dataframe thead th {\n",
              "        text-align: right;\n",
              "    }\n",
              "</style>\n",
              "<table border=\"1\" class=\"dataframe\">\n",
              "  <thead>\n",
              "    <tr style=\"text-align: right;\">\n",
              "      <th></th>\n",
              "      <th>Month</th>\n",
              "      <th>Monthly milk production: pounds per cow. Jan 62 ? Dec 75</th>\n",
              "    </tr>\n",
              "  </thead>\n",
              "  <tbody>\n",
              "    <tr>\n",
              "      <th>164</th>\n",
              "      <td>1975-09</td>\n",
              "      <td>817.0</td>\n",
              "    </tr>\n",
              "    <tr>\n",
              "      <th>165</th>\n",
              "      <td>1975-10</td>\n",
              "      <td>827.0</td>\n",
              "    </tr>\n",
              "    <tr>\n",
              "      <th>166</th>\n",
              "      <td>1975-11</td>\n",
              "      <td>797.0</td>\n",
              "    </tr>\n",
              "    <tr>\n",
              "      <th>167</th>\n",
              "      <td>1975-12</td>\n",
              "      <td>843.0</td>\n",
              "    </tr>\n",
              "    <tr>\n",
              "      <th>168</th>\n",
              "      <td>Monthly milk production: pounds per cow. Jan 6...</td>\n",
              "      <td>NaN</td>\n",
              "    </tr>\n",
              "  </tbody>\n",
              "</table>\n",
              "</div>"
            ],
            "text/plain": [
              "                                                 Month  \\\n",
              "164                                            1975-09   \n",
              "165                                            1975-10   \n",
              "166                                            1975-11   \n",
              "167                                            1975-12   \n",
              "168  Monthly milk production: pounds per cow. Jan 6...   \n",
              "\n",
              "     Monthly milk production: pounds per cow. Jan 62 ? Dec 75  \n",
              "164                                              817.0         \n",
              "165                                              827.0         \n",
              "166                                              797.0         \n",
              "167                                              843.0         \n",
              "168                                                NaN         "
            ]
          },
          "metadata": {
            "tags": []
          },
          "execution_count": 4
        }
      ]
    },
    {
      "cell_type": "code",
      "metadata": {
        "id": "Jy2wIEItzwhe",
        "colab_type": "code",
        "colab": {},
        "outputId": "7c4f42bb-9e83-4b3e-c6bb-0dfd2954789f"
      },
      "source": [
        "df.drop(168,axis=0,inplace=True)\n",
        "df.tail()"
      ],
      "execution_count": null,
      "outputs": [
        {
          "output_type": "execute_result",
          "data": {
            "text/html": [
              "<div>\n",
              "<style scoped>\n",
              "    .dataframe tbody tr th:only-of-type {\n",
              "        vertical-align: middle;\n",
              "    }\n",
              "\n",
              "    .dataframe tbody tr th {\n",
              "        vertical-align: top;\n",
              "    }\n",
              "\n",
              "    .dataframe thead th {\n",
              "        text-align: right;\n",
              "    }\n",
              "</style>\n",
              "<table border=\"1\" class=\"dataframe\">\n",
              "  <thead>\n",
              "    <tr style=\"text-align: right;\">\n",
              "      <th></th>\n",
              "      <th>Month</th>\n",
              "      <th>Monthly milk production: pounds per cow. Jan 62 ? Dec 75</th>\n",
              "    </tr>\n",
              "  </thead>\n",
              "  <tbody>\n",
              "    <tr>\n",
              "      <th>163</th>\n",
              "      <td>1975-08</td>\n",
              "      <td>858.0</td>\n",
              "    </tr>\n",
              "    <tr>\n",
              "      <th>164</th>\n",
              "      <td>1975-09</td>\n",
              "      <td>817.0</td>\n",
              "    </tr>\n",
              "    <tr>\n",
              "      <th>165</th>\n",
              "      <td>1975-10</td>\n",
              "      <td>827.0</td>\n",
              "    </tr>\n",
              "    <tr>\n",
              "      <th>166</th>\n",
              "      <td>1975-11</td>\n",
              "      <td>797.0</td>\n",
              "    </tr>\n",
              "    <tr>\n",
              "      <th>167</th>\n",
              "      <td>1975-12</td>\n",
              "      <td>843.0</td>\n",
              "    </tr>\n",
              "  </tbody>\n",
              "</table>\n",
              "</div>"
            ],
            "text/plain": [
              "       Month  Monthly milk production: pounds per cow. Jan 62 ? Dec 75\n",
              "163  1975-08                                              858.0       \n",
              "164  1975-09                                              817.0       \n",
              "165  1975-10                                              827.0       \n",
              "166  1975-11                                              797.0       \n",
              "167  1975-12                                              843.0       "
            ]
          },
          "metadata": {
            "tags": []
          },
          "execution_count": 5
        }
      ]
    },
    {
      "cell_type": "code",
      "metadata": {
        "id": "MawdvO0Yzwhk",
        "colab_type": "code",
        "colab": {},
        "outputId": "fd719d09-1ccd-49d6-9f22-63db296b93c1"
      },
      "source": [
        "df.columns=[\"ds\",\"y\"]\n",
        "df.head()"
      ],
      "execution_count": null,
      "outputs": [
        {
          "output_type": "execute_result",
          "data": {
            "text/html": [
              "<div>\n",
              "<style scoped>\n",
              "    .dataframe tbody tr th:only-of-type {\n",
              "        vertical-align: middle;\n",
              "    }\n",
              "\n",
              "    .dataframe tbody tr th {\n",
              "        vertical-align: top;\n",
              "    }\n",
              "\n",
              "    .dataframe thead th {\n",
              "        text-align: right;\n",
              "    }\n",
              "</style>\n",
              "<table border=\"1\" class=\"dataframe\">\n",
              "  <thead>\n",
              "    <tr style=\"text-align: right;\">\n",
              "      <th></th>\n",
              "      <th>ds</th>\n",
              "      <th>y</th>\n",
              "    </tr>\n",
              "  </thead>\n",
              "  <tbody>\n",
              "    <tr>\n",
              "      <th>0</th>\n",
              "      <td>1962-01</td>\n",
              "      <td>589.0</td>\n",
              "    </tr>\n",
              "    <tr>\n",
              "      <th>1</th>\n",
              "      <td>1962-02</td>\n",
              "      <td>561.0</td>\n",
              "    </tr>\n",
              "    <tr>\n",
              "      <th>2</th>\n",
              "      <td>1962-03</td>\n",
              "      <td>640.0</td>\n",
              "    </tr>\n",
              "    <tr>\n",
              "      <th>3</th>\n",
              "      <td>1962-04</td>\n",
              "      <td>656.0</td>\n",
              "    </tr>\n",
              "    <tr>\n",
              "      <th>4</th>\n",
              "      <td>1962-05</td>\n",
              "      <td>727.0</td>\n",
              "    </tr>\n",
              "  </tbody>\n",
              "</table>\n",
              "</div>"
            ],
            "text/plain": [
              "        ds      y\n",
              "0  1962-01  589.0\n",
              "1  1962-02  561.0\n",
              "2  1962-03  640.0\n",
              "3  1962-04  656.0\n",
              "4  1962-05  727.0"
            ]
          },
          "metadata": {
            "tags": []
          },
          "execution_count": 6
        }
      ]
    },
    {
      "cell_type": "code",
      "metadata": {
        "id": "Yk6CteYozwhr",
        "colab_type": "code",
        "colab": {},
        "outputId": "24b2aae7-875f-4e58-e17c-4e73e4deb4f0"
      },
      "source": [
        "df.plot()"
      ],
      "execution_count": null,
      "outputs": [
        {
          "output_type": "execute_result",
          "data": {
            "text/plain": [
              "<AxesSubplot:>"
            ]
          },
          "metadata": {
            "tags": []
          },
          "execution_count": 7
        },
        {
          "output_type": "display_data",
          "data": {
            "image/png": "[encoded data removed]",
            "text/plain": [
              "<Figure size 432x288 with 1 Axes>"
            ]
          },
          "metadata": {
            "tags": [],
            "needs_background": "light"
          }
        }
      ]
    },
    {
      "cell_type": "markdown",
      "metadata": {
        "id": "lAJtld3-zwhw",
        "colab_type": "text"
      },
      "source": [
        "* Changing the 'ds' string to a date time format because fbprophet requires datetime format."
      ]
    },
    {
      "cell_type": "code",
      "metadata": {
        "id": "IW6zP9sOzwhx",
        "colab_type": "code",
        "colab": {}
      },
      "source": [
        "df['ds']=pd.to_datetime(df['ds'])"
      ],
      "execution_count": null,
      "outputs": []
    },
    {
      "cell_type": "code",
      "metadata": {
        "id": "SLvWpmejzwh2",
        "colab_type": "code",
        "colab": {},
        "outputId": "fd02f026-382c-4e37-bee8-0b47773f3f85"
      },
      "source": [
        "df.head()"
      ],
      "execution_count": null,
      "outputs": [
        {
          "output_type": "execute_result",
          "data": {
            "text/html": [
              "<div>\n",
              "<style scoped>\n",
              "    .dataframe tbody tr th:only-of-type {\n",
              "        vertical-align: middle;\n",
              "    }\n",
              "\n",
              "    .dataframe tbody tr th {\n",
              "        vertical-align: top;\n",
              "    }\n",
              "\n",
              "    .dataframe thead th {\n",
              "        text-align: right;\n",
              "    }\n",
              "</style>\n",
              "<table border=\"1\" class=\"dataframe\">\n",
              "  <thead>\n",
              "    <tr style=\"text-align: right;\">\n",
              "      <th></th>\n",
              "      <th>ds</th>\n",
              "      <th>y</th>\n",
              "    </tr>\n",
              "  </thead>\n",
              "  <tbody>\n",
              "    <tr>\n",
              "      <th>0</th>\n",
              "      <td>1962-01-01</td>\n",
              "      <td>589.0</td>\n",
              "    </tr>\n",
              "    <tr>\n",
              "      <th>1</th>\n",
              "      <td>1962-02-01</td>\n",
              "      <td>561.0</td>\n",
              "    </tr>\n",
              "    <tr>\n",
              "      <th>2</th>\n",
              "      <td>1962-03-01</td>\n",
              "      <td>640.0</td>\n",
              "    </tr>\n",
              "    <tr>\n",
              "      <th>3</th>\n",
              "      <td>1962-04-01</td>\n",
              "      <td>656.0</td>\n",
              "    </tr>\n",
              "    <tr>\n",
              "      <th>4</th>\n",
              "      <td>1962-05-01</td>\n",
              "      <td>727.0</td>\n",
              "    </tr>\n",
              "  </tbody>\n",
              "</table>\n",
              "</div>"
            ],
            "text/plain": [
              "          ds      y\n",
              "0 1962-01-01  589.0\n",
              "1 1962-02-01  561.0\n",
              "2 1962-03-01  640.0\n",
              "3 1962-04-01  656.0\n",
              "4 1962-05-01  727.0"
            ]
          },
          "metadata": {
            "tags": []
          },
          "execution_count": 9
        }
      ]
    },
    {
      "cell_type": "code",
      "metadata": {
        "id": "6qVZNIePzwh7",
        "colab_type": "code",
        "colab": {},
        "outputId": "c1a77ef3-03fe-48da-f5fa-cd0550044282"
      },
      "source": [
        "df['y'].plot()"
      ],
      "execution_count": null,
      "outputs": [
        {
          "output_type": "execute_result",
          "data": {
            "text/plain": [
              "<AxesSubplot:>"
            ]
          },
          "metadata": {
            "tags": []
          },
          "execution_count": 10
        },
        {
          "output_type": "display_data",
          "data": {
            "image/png": "[encoded data removed]",
            "text/plain": [
              "<Figure size 432x288 with 1 Axes>"
            ]
          },
          "metadata": {
            "tags": [],
            "needs_background": "light"
          }
        }
      ]
    },
    {
      "cell_type": "markdown",
      "metadata": {
        "id": "65SIM394zwiA",
        "colab_type": "text"
      },
      "source": [
        "* We usually convert this data into stationery and hence we are using the shift function to shift the 'y' values 1 row down but **FBprophet does not require the shifting of the data**"
      ]
    },
    {
      "cell_type": "code",
      "metadata": {
        "id": "4E0Y64pHzwiB",
        "colab_type": "code",
        "colab": {}
      },
      "source": [
        "# df['y'].shift(1)"
      ],
      "execution_count": null,
      "outputs": []
    },
    {
      "cell_type": "code",
      "metadata": {
        "id": "fcVpDyiszwiG",
        "colab_type": "code",
        "colab": {}
      },
      "source": [
        "# df['y'] = df['y'] - df['y'].shift(1)\n",
        "# df.head()"
      ],
      "execution_count": null,
      "outputs": []
    },
    {
      "cell_type": "markdown",
      "metadata": {
        "id": "8AfkrOu0zwiM",
        "colab_type": "text"
      },
      "source": [
        "* **If after 1 shift, it does turn into stationary so we keep on shifting unless we make the data stationary**\n",
        "\n",
        "* Ditifuller Test **(Check it Out)**"
      ]
    },
    {
      "cell_type": "code",
      "metadata": {
        "id": "zFwi2jeOzwiN",
        "colab_type": "code",
        "colab": {}
      },
      "source": [
        "from fbprophet import Prophet"
      ],
      "execution_count": null,
      "outputs": []
    },
    {
      "cell_type": "code",
      "metadata": {
        "id": "AQ-35joyzwiS",
        "colab_type": "code",
        "colab": {},
        "outputId": "398528ad-7d9e-456b-eb91-d0bf5331ea9c"
      },
      "source": [
        "dir(Prophet)"
      ],
      "execution_count": null,
      "outputs": [
        {
          "output_type": "execute_result",
          "data": {
            "text/plain": [
              "['__class__',\n",
              " '__delattr__',\n",
              " '__dict__',\n",
              " '__dir__',\n",
              " '__doc__',\n",
              " '__eq__',\n",
              " '__format__',\n",
              " '__ge__',\n",
              " '__getattribute__',\n",
              " '__gt__',\n",
              " '__hash__',\n",
              " '__init__',\n",
              " '__init_subclass__',\n",
              " '__le__',\n",
              " '__lt__',\n",
              " '__module__',\n",
              " '__ne__',\n",
              " '__new__',\n",
              " '__reduce__',\n",
              " '__reduce_ex__',\n",
              " '__repr__',\n",
              " '__setattr__',\n",
              " '__sizeof__',\n",
              " '__str__',\n",
              " '__subclasshook__',\n",
              " '__weakref__',\n",
              " '_load_stan_backend',\n",
              " 'add_country_holidays',\n",
              " 'add_group_component',\n",
              " 'add_regressor',\n",
              " 'add_seasonality',\n",
              " 'construct_holiday_dataframe',\n",
              " 'fit',\n",
              " 'fourier_series',\n",
              " 'initialize_scales',\n",
              " 'linear_growth_init',\n",
              " 'logistic_growth_init',\n",
              " 'make_all_seasonality_features',\n",
              " 'make_future_dataframe',\n",
              " 'make_holiday_features',\n",
              " 'make_seasonality_features',\n",
              " 'parse_seasonality_args',\n",
              " 'percentile',\n",
              " 'piecewise_linear',\n",
              " 'piecewise_logistic',\n",
              " 'plot',\n",
              " 'plot_components',\n",
              " 'predict',\n",
              " 'predict_seasonal_components',\n",
              " 'predict_trend',\n",
              " 'predict_uncertainty',\n",
              " 'predictive_samples',\n",
              " 'regressor_column_matrix',\n",
              " 'sample_model',\n",
              " 'sample_posterior_predictive',\n",
              " 'sample_predictive_trend',\n",
              " 'set_auto_seasonalities',\n",
              " 'set_changepoints',\n",
              " 'setup_dataframe',\n",
              " 'validate_column_name',\n",
              " 'validate_inputs']"
            ]
          },
          "metadata": {
            "tags": []
          },
          "execution_count": 14
        }
      ]
    },
    {
      "cell_type": "code",
      "metadata": {
        "id": "a0nlaoXtzwiZ",
        "colab_type": "code",
        "colab": {},
        "outputId": "b4a14ae0-b0f8-415e-aa9d-3c42bad79ec3"
      },
      "source": [
        "df.head()"
      ],
      "execution_count": null,
      "outputs": [
        {
          "output_type": "execute_result",
          "data": {
            "text/html": [
              "<div>\n",
              "<style scoped>\n",
              "    .dataframe tbody tr th:only-of-type {\n",
              "        vertical-align: middle;\n",
              "    }\n",
              "\n",
              "    .dataframe tbody tr th {\n",
              "        vertical-align: top;\n",
              "    }\n",
              "\n",
              "    .dataframe thead th {\n",
              "        text-align: right;\n",
              "    }\n",
              "</style>\n",
              "<table border=\"1\" class=\"dataframe\">\n",
              "  <thead>\n",
              "    <tr style=\"text-align: right;\">\n",
              "      <th></th>\n",
              "      <th>ds</th>\n",
              "      <th>y</th>\n",
              "    </tr>\n",
              "  </thead>\n",
              "  <tbody>\n",
              "    <tr>\n",
              "      <th>0</th>\n",
              "      <td>1962-01-01</td>\n",
              "      <td>589.0</td>\n",
              "    </tr>\n",
              "    <tr>\n",
              "      <th>1</th>\n",
              "      <td>1962-02-01</td>\n",
              "      <td>561.0</td>\n",
              "    </tr>\n",
              "    <tr>\n",
              "      <th>2</th>\n",
              "      <td>1962-03-01</td>\n",
              "      <td>640.0</td>\n",
              "    </tr>\n",
              "    <tr>\n",
              "      <th>3</th>\n",
              "      <td>1962-04-01</td>\n",
              "      <td>656.0</td>\n",
              "    </tr>\n",
              "    <tr>\n",
              "      <th>4</th>\n",
              "      <td>1962-05-01</td>\n",
              "      <td>727.0</td>\n",
              "    </tr>\n",
              "  </tbody>\n",
              "</table>\n",
              "</div>"
            ],
            "text/plain": [
              "          ds      y\n",
              "0 1962-01-01  589.0\n",
              "1 1962-02-01  561.0\n",
              "2 1962-03-01  640.0\n",
              "3 1962-04-01  656.0\n",
              "4 1962-05-01  727.0"
            ]
          },
          "metadata": {
            "tags": []
          },
          "execution_count": 15
        }
      ]
    },
    {
      "cell_type": "markdown",
      "metadata": {
        "id": "TUgbp3Jnzwid",
        "colab_type": "text"
      },
      "source": [
        "### Intializing the Model"
      ]
    },
    {
      "cell_type": "markdown",
      "metadata": {
        "id": "znL16ucXzwif",
        "colab_type": "text"
      },
      "source": [
        "* Prophet assumes that you have your datetime feature in the 1st column and the output in the 2nd Column.\n",
        "\n",
        "* Arrange your data accordingly"
      ]
    },
    {
      "cell_type": "code",
      "metadata": {
        "id": "-2BQHZ6jzwif",
        "colab_type": "code",
        "colab": {},
        "outputId": "a6d8fdae-ee21-4b43-fb73-057e5ed5c0f8"
      },
      "source": [
        "model=Prophet()\n",
        "model.fit(df)"
      ],
      "execution_count": null,
      "outputs": [
        {
          "output_type": "stream",
          "text": [
            "INFO:fbprophet:Disabling weekly seasonality. Run prophet with weekly_seasonality=True to override this.\n",
            "INFO:fbprophet:Disabling daily seasonality. Run prophet with daily_seasonality=True to override this.\n"
          ],
          "name": "stderr"
        },
        {
          "output_type": "execute_result",
          "data": {
            "text/plain": [
              "<fbprophet.forecaster.Prophet at 0x7fdca4528550>"
            ]
          },
          "metadata": {
            "tags": []
          },
          "execution_count": 16
        }
      ]
    },
    {
      "cell_type": "markdown",
      "metadata": {
        "id": "pFl9oq-wzwik",
        "colab_type": "text"
      },
      "source": [
        "* Seasonality in the dataset is monthly but fbprophet is taking yearly."
      ]
    },
    {
      "cell_type": "code",
      "metadata": {
        "id": "FnuB8d_0zwil",
        "colab_type": "code",
        "colab": {},
        "outputId": "ba57aa29-e122-4dcc-d756-d2ac708a165e"
      },
      "source": [
        "model.seasonalities"
      ],
      "execution_count": null,
      "outputs": [
        {
          "output_type": "execute_result",
          "data": {
            "text/plain": [
              "OrderedDict([('yearly',\n",
              "              {'period': 365.25,\n",
              "               'fourier_order': 10,\n",
              "               'prior_scale': 10.0,\n",
              "               'mode': 'additive',\n",
              "               'condition_name': None})])"
            ]
          },
          "metadata": {
            "tags": []
          },
          "execution_count": 17
        }
      ]
    },
    {
      "cell_type": "code",
      "metadata": {
        "id": "Yq3by8-Czwiq",
        "colab_type": "code",
        "colab": {},
        "outputId": "f4133c73-4abf-4504-d3b7-b71e32d8d3a1"
      },
      "source": [
        "model.component_modes"
      ],
      "execution_count": null,
      "outputs": [
        {
          "output_type": "execute_result",
          "data": {
            "text/plain": [
              "{'additive': ['yearly',\n",
              "  'additive_terms',\n",
              "  'extra_regressors_additive',\n",
              "  'holidays'],\n",
              " 'multiplicative': ['multiplicative_terms', 'extra_regressors_multiplicative']}"
            ]
          },
          "metadata": {
            "tags": []
          },
          "execution_count": 18
        }
      ]
    },
    {
      "cell_type": "markdown",
      "metadata": {
        "id": "ptaIwqDqzwit",
        "colab_type": "text"
      },
      "source": [
        "### Create future dates of 365 days - Forecasting"
      ]
    },
    {
      "cell_type": "code",
      "metadata": {
        "id": "N0smDlcLzwiu",
        "colab_type": "code",
        "colab": {}
      },
      "source": [
        "future_dates=model.make_future_dataframe(periods=365)"
      ],
      "execution_count": null,
      "outputs": []
    },
    {
      "cell_type": "code",
      "metadata": {
        "id": "1hokjjoxzwiz",
        "colab_type": "code",
        "colab": {},
        "outputId": "a8e5490f-a323-47b1-f04f-d5e6143f51c5"
      },
      "source": [
        "df.tail()"
      ],
      "execution_count": null,
      "outputs": [
        {
          "output_type": "execute_result",
          "data": {
            "text/html": [
              "<div>\n",
              "<style scoped>\n",
              "    .dataframe tbody tr th:only-of-type {\n",
              "        vertical-align: middle;\n",
              "    }\n",
              "\n",
              "    .dataframe tbody tr th {\n",
              "        vertical-align: top;\n",
              "    }\n",
              "\n",
              "    .dataframe thead th {\n",
              "        text-align: right;\n",
              "    }\n",
              "</style>\n",
              "<table border=\"1\" class=\"dataframe\">\n",
              "  <thead>\n",
              "    <tr style=\"text-align: right;\">\n",
              "      <th></th>\n",
              "      <th>ds</th>\n",
              "      <th>y</th>\n",
              "    </tr>\n",
              "  </thead>\n",
              "  <tbody>\n",
              "    <tr>\n",
              "      <th>163</th>\n",
              "      <td>1975-08-01</td>\n",
              "      <td>858.0</td>\n",
              "    </tr>\n",
              "    <tr>\n",
              "      <th>164</th>\n",
              "      <td>1975-09-01</td>\n",
              "      <td>817.0</td>\n",
              "    </tr>\n",
              "    <tr>\n",
              "      <th>165</th>\n",
              "      <td>1975-10-01</td>\n",
              "      <td>827.0</td>\n",
              "    </tr>\n",
              "    <tr>\n",
              "      <th>166</th>\n",
              "      <td>1975-11-01</td>\n",
              "      <td>797.0</td>\n",
              "    </tr>\n",
              "    <tr>\n",
              "      <th>167</th>\n",
              "      <td>1975-12-01</td>\n",
              "      <td>843.0</td>\n",
              "    </tr>\n",
              "  </tbody>\n",
              "</table>\n",
              "</div>"
            ],
            "text/plain": [
              "            ds      y\n",
              "163 1975-08-01  858.0\n",
              "164 1975-09-01  817.0\n",
              "165 1975-10-01  827.0\n",
              "166 1975-11-01  797.0\n",
              "167 1975-12-01  843.0"
            ]
          },
          "metadata": {
            "tags": []
          },
          "execution_count": 20
        }
      ]
    },
    {
      "cell_type": "code",
      "metadata": {
        "id": "2qgKQZ8ezwi2",
        "colab_type": "code",
        "colab": {},
        "outputId": "cf1aa52d-623d-4905-acd3-753fb49d685f"
      },
      "source": [
        "future_dates.tail(20)"
      ],
      "execution_count": null,
      "outputs": [
        {
          "output_type": "execute_result",
          "data": {
            "text/html": [
              "<div>\n",
              "<style scoped>\n",
              "    .dataframe tbody tr th:only-of-type {\n",
              "        vertical-align: middle;\n",
              "    }\n",
              "\n",
              "    .dataframe tbody tr th {\n",
              "        vertical-align: top;\n",
              "    }\n",
              "\n",
              "    .dataframe thead th {\n",
              "        text-align: right;\n",
              "    }\n",
              "</style>\n",
              "<table border=\"1\" class=\"dataframe\">\n",
              "  <thead>\n",
              "    <tr style=\"text-align: right;\">\n",
              "      <th></th>\n",
              "      <th>ds</th>\n",
              "    </tr>\n",
              "  </thead>\n",
              "  <tbody>\n",
              "    <tr>\n",
              "      <th>513</th>\n",
              "      <td>1976-11-11</td>\n",
              "    </tr>\n",
              "    <tr>\n",
              "      <th>514</th>\n",
              "      <td>1976-11-12</td>\n",
              "    </tr>\n",
              "    <tr>\n",
              "      <th>515</th>\n",
              "      <td>1976-11-13</td>\n",
              "    </tr>\n",
              "    <tr>\n",
              "      <th>516</th>\n",
              "      <td>1976-11-14</td>\n",
              "    </tr>\n",
              "    <tr>\n",
              "      <th>517</th>\n",
              "      <td>1976-11-15</td>\n",
              "    </tr>\n",
              "    <tr>\n",
              "      <th>518</th>\n",
              "      <td>1976-11-16</td>\n",
              "    </tr>\n",
              "    <tr>\n",
              "      <th>519</th>\n",
              "      <td>1976-11-17</td>\n",
              "    </tr>\n",
              "    <tr>\n",
              "      <th>520</th>\n",
              "      <td>1976-11-18</td>\n",
              "    </tr>\n",
              "    <tr>\n",
              "      <th>521</th>\n",
              "      <td>1976-11-19</td>\n",
              "    </tr>\n",
              "    <tr>\n",
              "      <th>522</th>\n",
              "      <td>1976-11-20</td>\n",
              "    </tr>\n",
              "    <tr>\n",
              "      <th>523</th>\n",
              "      <td>1976-11-21</td>\n",
              "    </tr>\n",
              "    <tr>\n",
              "      <th>524</th>\n",
              "      <td>1976-11-22</td>\n",
              "    </tr>\n",
              "    <tr>\n",
              "      <th>525</th>\n",
              "      <td>1976-11-23</td>\n",
              "    </tr>\n",
              "    <tr>\n",
              "      <th>526</th>\n",
              "      <td>1976-11-24</td>\n",
              "    </tr>\n",
              "    <tr>\n",
              "      <th>527</th>\n",
              "      <td>1976-11-25</td>\n",
              "    </tr>\n",
              "    <tr>\n",
              "      <th>528</th>\n",
              "      <td>1976-11-26</td>\n",
              "    </tr>\n",
              "    <tr>\n",
              "      <th>529</th>\n",
              "      <td>1976-11-27</td>\n",
              "    </tr>\n",
              "    <tr>\n",
              "      <th>530</th>\n",
              "      <td>1976-11-28</td>\n",
              "    </tr>\n",
              "    <tr>\n",
              "      <th>531</th>\n",
              "      <td>1976-11-29</td>\n",
              "    </tr>\n",
              "    <tr>\n",
              "      <th>532</th>\n",
              "      <td>1976-11-30</td>\n",
              "    </tr>\n",
              "  </tbody>\n",
              "</table>\n",
              "</div>"
            ],
            "text/plain": [
              "            ds\n",
              "513 1976-11-11\n",
              "514 1976-11-12\n",
              "515 1976-11-13\n",
              "516 1976-11-14\n",
              "517 1976-11-15\n",
              "518 1976-11-16\n",
              "519 1976-11-17\n",
              "520 1976-11-18\n",
              "521 1976-11-19\n",
              "522 1976-11-20\n",
              "523 1976-11-21\n",
              "524 1976-11-22\n",
              "525 1976-11-23\n",
              "526 1976-11-24\n",
              "527 1976-11-25\n",
              "528 1976-11-26\n",
              "529 1976-11-27\n",
              "530 1976-11-28\n",
              "531 1976-11-29\n",
              "532 1976-11-30"
            ]
          },
          "metadata": {
            "tags": []
          },
          "execution_count": 21
        }
      ]
    },
    {
      "cell_type": "markdown",
      "metadata": {
        "id": "Qfy2nUrCzwi8",
        "colab_type": "text"
      },
      "source": [
        "#### Prediction for future 365 days"
      ]
    },
    {
      "cell_type": "code",
      "metadata": {
        "id": "Gp1Hwd8izwi9",
        "colab_type": "code",
        "colab": {}
      },
      "source": [
        "prediction=model.predict(future_dates)"
      ],
      "execution_count": null,
      "outputs": []
    },
    {
      "cell_type": "code",
      "metadata": {
        "id": "rOKdP3DRzwjB",
        "colab_type": "code",
        "colab": {},
        "outputId": "04efb690-aa2c-444f-a128-7edf2574165e"
      },
      "source": [
        "prediction.head()"
      ],
      "execution_count": null,
      "outputs": [
        {
          "output_type": "execute_result",
          "data": {
            "text/html": [
              "<div>\n",
              "<style scoped>\n",
              "    .dataframe tbody tr th:only-of-type {\n",
              "        vertical-align: middle;\n",
              "    }\n",
              "\n",
              "    .dataframe tbody tr th {\n",
              "        vertical-align: top;\n",
              "    }\n",
              "\n",
              "    .dataframe thead th {\n",
              "        text-align: right;\n",
              "    }\n",
              "</style>\n",
              "<table border=\"1\" class=\"dataframe\">\n",
              "  <thead>\n",
              "    <tr style=\"text-align: right;\">\n",
              "      <th></th>\n",
              "      <th>ds</th>\n",
              "      <th>trend</th>\n",
              "      <th>yhat_lower</th>\n",
              "      <th>yhat_upper</th>\n",
              "      <th>trend_lower</th>\n",
              "      <th>trend_upper</th>\n",
              "      <th>additive_terms</th>\n",
              "      <th>additive_terms_lower</th>\n",
              "      <th>additive_terms_upper</th>\n",
              "      <th>yearly</th>\n",
              "      <th>yearly_lower</th>\n",
              "      <th>yearly_upper</th>\n",
              "      <th>multiplicative_terms</th>\n",
              "      <th>multiplicative_terms_lower</th>\n",
              "      <th>multiplicative_terms_upper</th>\n",
              "      <th>yhat</th>\n",
              "    </tr>\n",
              "  </thead>\n",
              "  <tbody>\n",
              "    <tr>\n",
              "      <th>0</th>\n",
              "      <td>1962-01-01</td>\n",
              "      <td>606.822820</td>\n",
              "      <td>576.524614</td>\n",
              "      <td>596.124699</td>\n",
              "      <td>606.822820</td>\n",
              "      <td>606.822820</td>\n",
              "      <td>-20.087336</td>\n",
              "      <td>-20.087336</td>\n",
              "      <td>-20.087336</td>\n",
              "      <td>-20.087336</td>\n",
              "      <td>-20.087336</td>\n",
              "      <td>-20.087336</td>\n",
              "      <td>0.0</td>\n",
              "      <td>0.0</td>\n",
              "      <td>0.0</td>\n",
              "      <td>586.735484</td>\n",
              "    </tr>\n",
              "    <tr>\n",
              "      <th>1</th>\n",
              "      <td>1962-02-01</td>\n",
              "      <td>608.548015</td>\n",
              "      <td>535.915651</td>\n",
              "      <td>554.950672</td>\n",
              "      <td>608.548015</td>\n",
              "      <td>608.548015</td>\n",
              "      <td>-62.524137</td>\n",
              "      <td>-62.524137</td>\n",
              "      <td>-62.524137</td>\n",
              "      <td>-62.524137</td>\n",
              "      <td>-62.524137</td>\n",
              "      <td>-62.524137</td>\n",
              "      <td>0.0</td>\n",
              "      <td>0.0</td>\n",
              "      <td>0.0</td>\n",
              "      <td>546.023878</td>\n",
              "    </tr>\n",
              "    <tr>\n",
              "      <th>2</th>\n",
              "      <td>1962-03-01</td>\n",
              "      <td>610.106255</td>\n",
              "      <td>631.214708</td>\n",
              "      <td>651.751273</td>\n",
              "      <td>610.106255</td>\n",
              "      <td>610.106255</td>\n",
              "      <td>31.424792</td>\n",
              "      <td>31.424792</td>\n",
              "      <td>31.424792</td>\n",
              "      <td>31.424792</td>\n",
              "      <td>31.424792</td>\n",
              "      <td>31.424792</td>\n",
              "      <td>0.0</td>\n",
              "      <td>0.0</td>\n",
              "      <td>0.0</td>\n",
              "      <td>641.531047</td>\n",
              "    </tr>\n",
              "    <tr>\n",
              "      <th>3</th>\n",
              "      <td>1962-04-01</td>\n",
              "      <td>611.831450</td>\n",
              "      <td>648.376485</td>\n",
              "      <td>668.287253</td>\n",
              "      <td>611.831450</td>\n",
              "      <td>611.831450</td>\n",
              "      <td>46.750890</td>\n",
              "      <td>46.750890</td>\n",
              "      <td>46.750890</td>\n",
              "      <td>46.750890</td>\n",
              "      <td>46.750890</td>\n",
              "      <td>46.750890</td>\n",
              "      <td>0.0</td>\n",
              "      <td>0.0</td>\n",
              "      <td>0.0</td>\n",
              "      <td>658.582340</td>\n",
              "    </tr>\n",
              "    <tr>\n",
              "      <th>4</th>\n",
              "      <td>1962-05-01</td>\n",
              "      <td>613.500993</td>\n",
              "      <td>712.155900</td>\n",
              "      <td>730.829292</td>\n",
              "      <td>613.500993</td>\n",
              "      <td>613.500993</td>\n",
              "      <td>108.080865</td>\n",
              "      <td>108.080865</td>\n",
              "      <td>108.080865</td>\n",
              "      <td>108.080865</td>\n",
              "      <td>108.080865</td>\n",
              "      <td>108.080865</td>\n",
              "      <td>0.0</td>\n",
              "      <td>0.0</td>\n",
              "      <td>0.0</td>\n",
              "      <td>721.581858</td>\n",
              "    </tr>\n",
              "  </tbody>\n",
              "</table>\n",
              "</div>"
            ],
            "text/plain": [
              "          ds       trend  yhat_lower  yhat_upper  trend_lower  trend_upper  \\\n",
              "0 1962-01-01  606.822820  576.524614  596.124699   606.822820   606.822820   \n",
              "1 1962-02-01  608.548015  535.915651  554.950672   608.548015   608.548015   \n",
              "2 1962-03-01  610.106255  631.214708  651.751273   610.106255   610.106255   \n",
              "3 1962-04-01  611.831450  648.376485  668.287253   611.831450   611.831450   \n",
              "4 1962-05-01  613.500993  712.155900  730.829292   613.500993   613.500993   \n",
              "\n",
              "   additive_terms  additive_terms_lower  additive_terms_upper      yearly  \\\n",
              "0      -20.087336            -20.087336            -20.087336  -20.087336   \n",
              "1      -62.524137            -62.524137            -62.524137  -62.524137   \n",
              "2       31.424792             31.424792             31.424792   31.424792   \n",
              "3       46.750890             46.750890             46.750890   46.750890   \n",
              "4      108.080865            108.080865            108.080865  108.080865   \n",
              "\n",
              "   yearly_lower  yearly_upper  multiplicative_terms  \\\n",
              "0    -20.087336    -20.087336                   0.0   \n",
              "1    -62.524137    -62.524137                   0.0   \n",
              "2     31.424792     31.424792                   0.0   \n",
              "3     46.750890     46.750890                   0.0   \n",
              "4    108.080865    108.080865                   0.0   \n",
              "\n",
              "   multiplicative_terms_lower  multiplicative_terms_upper        yhat  \n",
              "0                         0.0                         0.0  586.735484  \n",
              "1                         0.0                         0.0  546.023878  \n",
              "2                         0.0                         0.0  641.531047  \n",
              "3                         0.0                         0.0  658.582340  \n",
              "4                         0.0                         0.0  721.581858  "
            ]
          },
          "metadata": {
            "tags": []
          },
          "execution_count": 23
        }
      ]
    },
    {
      "cell_type": "markdown",
      "metadata": {
        "id": "7w2B1IcmzwjF",
        "colab_type": "text"
      },
      "source": [
        "* **yhat is the predicted value, yhat_lower is the lower predicted value and yhat_upper is the upper predicted value.**\n",
        "\n",
        "* **Prediction** is the prediction of 1 value, **Forecasting** is showing the trends or patterns."
      ]
    },
    {
      "cell_type": "code",
      "metadata": {
        "id": "TqYjpzJizwjF",
        "colab_type": "code",
        "colab": {},
        "outputId": "b16b2f3e-ca1d-493a-a037-dbf23d047aed"
      },
      "source": [
        "prediction[['ds','yhat','yhat_lower','yhat_upper']].tail()"
      ],
      "execution_count": null,
      "outputs": [
        {
          "output_type": "execute_result",
          "data": {
            "text/html": [
              "<div>\n",
              "<style scoped>\n",
              "    .dataframe tbody tr th:only-of-type {\n",
              "        vertical-align: middle;\n",
              "    }\n",
              "\n",
              "    .dataframe tbody tr th {\n",
              "        vertical-align: top;\n",
              "    }\n",
              "\n",
              "    .dataframe thead th {\n",
              "        text-align: right;\n",
              "    }\n",
              "</style>\n",
              "<table border=\"1\" class=\"dataframe\">\n",
              "  <thead>\n",
              "    <tr style=\"text-align: right;\">\n",
              "      <th></th>\n",
              "      <th>ds</th>\n",
              "      <th>yhat</th>\n",
              "      <th>yhat_lower</th>\n",
              "      <th>yhat_upper</th>\n",
              "    </tr>\n",
              "  </thead>\n",
              "  <tbody>\n",
              "    <tr>\n",
              "      <th>528</th>\n",
              "      <td>1976-11-26</td>\n",
              "      <td>815.540547</td>\n",
              "      <td>804.063444</td>\n",
              "      <td>826.701467</td>\n",
              "    </tr>\n",
              "    <tr>\n",
              "      <th>529</th>\n",
              "      <td>1976-11-27</td>\n",
              "      <td>818.638617</td>\n",
              "      <td>807.269783</td>\n",
              "      <td>829.598501</td>\n",
              "    </tr>\n",
              "    <tr>\n",
              "      <th>530</th>\n",
              "      <td>1976-11-28</td>\n",
              "      <td>821.894355</td>\n",
              "      <td>810.266429</td>\n",
              "      <td>833.466715</td>\n",
              "    </tr>\n",
              "    <tr>\n",
              "      <th>531</th>\n",
              "      <td>1976-11-29</td>\n",
              "      <td>825.246705</td>\n",
              "      <td>813.590573</td>\n",
              "      <td>836.462690</td>\n",
              "    </tr>\n",
              "    <tr>\n",
              "      <th>532</th>\n",
              "      <td>1976-11-30</td>\n",
              "      <td>828.628002</td>\n",
              "      <td>817.798615</td>\n",
              "      <td>839.551566</td>\n",
              "    </tr>\n",
              "  </tbody>\n",
              "</table>\n",
              "</div>"
            ],
            "text/plain": [
              "            ds        yhat  yhat_lower  yhat_upper\n",
              "528 1976-11-26  815.540547  804.063444  826.701467\n",
              "529 1976-11-27  818.638617  807.269783  829.598501\n",
              "530 1976-11-28  821.894355  810.266429  833.466715\n",
              "531 1976-11-29  825.246705  813.590573  836.462690\n",
              "532 1976-11-30  828.628002  817.798615  839.551566"
            ]
          },
          "metadata": {
            "tags": []
          },
          "execution_count": 24
        }
      ]
    },
    {
      "cell_type": "markdown",
      "metadata": {
        "id": "ozJDnDOUzwjJ",
        "colab_type": "text"
      },
      "source": [
        "* **yhat is the mean of yhat_lower and yhat_upper.**"
      ]
    },
    {
      "cell_type": "markdown",
      "metadata": {
        "id": "M0it-u2jzwjK",
        "colab_type": "text"
      },
      "source": [
        "### Plotting the Forecasts\n",
        "\n",
        "* Prophet has an inbuilt feature that enables us to plot the forecasts we just generated. \n",
        "\n",
        "* This is achieved using model.plot() and passing in our forecasts as the argument. \n",
        "\n",
        "* The blue line in the graph represents the predicted values while the black dots represents the data in our dataset."
      ]
    },
    {
      "cell_type": "markdown",
      "metadata": {
        "id": "SKRRHQHfzwjM",
        "colab_type": "text"
      },
      "source": [
        "#### Plot the predicted projection or forecast"
      ]
    },
    {
      "cell_type": "code",
      "metadata": {
        "id": "wSITZxdHzwjM",
        "colab_type": "code",
        "colab": {},
        "outputId": "37ae82f9-fc1c-488a-b88b-db0be2817c15"
      },
      "source": [
        "model.plot(prediction)"
      ],
      "execution_count": null,
      "outputs": [
        {
          "output_type": "execute_result",
          "data": {
            "image/png": "[encoded data removed]",
            "text/plain": [
              "<Figure size 720x432 with 1 Axes>"
            ]
          },
          "metadata": {
            "tags": []
          },
          "execution_count": 25
        },
        {
          "output_type": "display_data",
          "data": {
            "image/png": "[encoded data removed]",
            "text/plain": [
              "<Figure size 720x432 with 1 Axes>"
            ]
          },
          "metadata": {
            "tags": []
          }
        }
      ]
    },
    {
      "cell_type": "markdown",
      "metadata": {
        "id": "7D_KcPpEzwjS",
        "colab_type": "text"
      },
      "source": [
        "##### Visualize Each Components[Trends,Weekly]"
      ]
    },
    {
      "cell_type": "code",
      "metadata": {
        "id": "JUJVHD77zwjS",
        "colab_type": "code",
        "colab": {},
        "outputId": "04886a89-5848-492e-fdcf-2adcff2127ee"
      },
      "source": [
        "model.plot_components(prediction)"
      ],
      "execution_count": null,
      "outputs": [
        {
          "output_type": "execute_result",
          "data": {
            "image/png": "[encoded data removed]",
            "text/plain": [
              "<Figure size 648x432 with 2 Axes>"
            ]
          },
          "metadata": {
            "tags": []
          },
          "execution_count": 26
        },
        {
          "output_type": "display_data",
          "data": {
            "image/png": "[encoded data removed]",
            "text/plain": [
              "<Figure size 648x432 with 2 Axes>"
            ]
          },
          "metadata": {
            "tags": []
          }
        }
      ]
    },
    {
      "cell_type": "markdown",
      "metadata": {
        "id": "aSGdkvoLzwjX",
        "colab_type": "text"
      },
      "source": [
        "### Cross Validation\n",
        "\n",
        "1. Next let’s measure the forecast error using the historical data. \n",
        "\n",
        "    * We’ll do this by comparing the predicted values with the actual values. \n",
        "    * In order to perform this operation we select cut of points in the history of the data and fit the model with data upto that cut off point.\n",
        "    * Afterwards we compare the actual values to the predicted values.\n",
        "    \n",
        "    \n",
        "2. The cross_validation method allows us to do this in Prophet. This method take the following parameters as explained below:\n",
        "\n",
        "    *  horizon the forecast horizon\n",
        "    * initial the size of the initial training period\n",
        "    * period the spacing between cutoff dates"
      ]
    },
    {
      "cell_type": "code",
      "metadata": {
        "id": "8NV7oM2pzwjX",
        "colab_type": "code",
        "colab": {},
        "outputId": "0a6767a6-698a-4d32-9e29-f1af8c6993f4"
      },
      "source": [
        "df.shape"
      ],
      "execution_count": null,
      "outputs": [
        {
          "output_type": "execute_result",
          "data": {
            "text/plain": [
              "(168, 2)"
            ]
          },
          "metadata": {
            "tags": []
          },
          "execution_count": 27
        }
      ]
    },
    {
      "cell_type": "code",
      "metadata": {
        "id": "FCumetVXzwjb",
        "colab_type": "code",
        "colab": {}
      },
      "source": [
        "from fbprophet.diagnostics  import cross_validation"
      ],
      "execution_count": null,
      "outputs": []
    },
    {
      "cell_type": "code",
      "metadata": {
        "id": "WX-85-Fhzwjf",
        "colab_type": "code",
        "colab": {},
        "outputId": "c64f8cea-33bf-480e-9f61-57fc823db631"
      },
      "source": [
        "df_cv=cross_validation(model,horizon=\"365 days\",period='180 days',initial='1095 days')"
      ],
      "execution_count": null,
      "outputs": [
        {
          "output_type": "stream",
          "text": [
            "INFO:fbprophet:Making 21 forecasts with cutoffs between 1965-01-22 00:00:00 and 1974-12-01 00:00:00\n"
          ],
          "name": "stderr"
        }
      ]
    },
    {
      "cell_type": "code",
      "metadata": {
        "id": "JPeWh8PAzwjh",
        "colab_type": "code",
        "colab": {},
        "outputId": "6801cab8-1225-409a-c41f-f1848f0d37d3"
      },
      "source": [
        "df.head()"
      ],
      "execution_count": null,
      "outputs": [
        {
          "output_type": "execute_result",
          "data": {
            "text/html": [
              "<div>\n",
              "<style scoped>\n",
              "    .dataframe tbody tr th:only-of-type {\n",
              "        vertical-align: middle;\n",
              "    }\n",
              "\n",
              "    .dataframe tbody tr th {\n",
              "        vertical-align: top;\n",
              "    }\n",
              "\n",
              "    .dataframe thead th {\n",
              "        text-align: right;\n",
              "    }\n",
              "</style>\n",
              "<table border=\"1\" class=\"dataframe\">\n",
              "  <thead>\n",
              "    <tr style=\"text-align: right;\">\n",
              "      <th></th>\n",
              "      <th>ds</th>\n",
              "      <th>y</th>\n",
              "    </tr>\n",
              "  </thead>\n",
              "  <tbody>\n",
              "    <tr>\n",
              "      <th>0</th>\n",
              "      <td>1962-01-01</td>\n",
              "      <td>589.0</td>\n",
              "    </tr>\n",
              "    <tr>\n",
              "      <th>1</th>\n",
              "      <td>1962-02-01</td>\n",
              "      <td>561.0</td>\n",
              "    </tr>\n",
              "    <tr>\n",
              "      <th>2</th>\n",
              "      <td>1962-03-01</td>\n",
              "      <td>640.0</td>\n",
              "    </tr>\n",
              "    <tr>\n",
              "      <th>3</th>\n",
              "      <td>1962-04-01</td>\n",
              "      <td>656.0</td>\n",
              "    </tr>\n",
              "    <tr>\n",
              "      <th>4</th>\n",
              "      <td>1962-05-01</td>\n",
              "      <td>727.0</td>\n",
              "    </tr>\n",
              "  </tbody>\n",
              "</table>\n",
              "</div>"
            ],
            "text/plain": [
              "          ds      y\n",
              "0 1962-01-01  589.0\n",
              "1 1962-02-01  561.0\n",
              "2 1962-03-01  640.0\n",
              "3 1962-04-01  656.0\n",
              "4 1962-05-01  727.0"
            ]
          },
          "metadata": {
            "tags": []
          },
          "execution_count": 30
        }
      ]
    },
    {
      "cell_type": "code",
      "metadata": {
        "scrolled": true,
        "id": "uxNwZTvmzwjl",
        "colab_type": "code",
        "colab": {},
        "outputId": "4a28343e-92c9-4998-e8c4-b43a78bc3d2a"
      },
      "source": [
        "df_cv.head(20)"
      ],
      "execution_count": null,
      "outputs": [
        {
          "output_type": "execute_result",
          "data": {
            "text/html": [
              "<div>\n",
              "<style scoped>\n",
              "    .dataframe tbody tr th:only-of-type {\n",
              "        vertical-align: middle;\n",
              "    }\n",
              "\n",
              "    .dataframe tbody tr th {\n",
              "        vertical-align: top;\n",
              "    }\n",
              "\n",
              "    .dataframe thead th {\n",
              "        text-align: right;\n",
              "    }\n",
              "</style>\n",
              "<table border=\"1\" class=\"dataframe\">\n",
              "  <thead>\n",
              "    <tr style=\"text-align: right;\">\n",
              "      <th></th>\n",
              "      <th>ds</th>\n",
              "      <th>yhat</th>\n",
              "      <th>yhat_lower</th>\n",
              "      <th>yhat_upper</th>\n",
              "      <th>y</th>\n",
              "      <th>cutoff</th>\n",
              "    </tr>\n",
              "  </thead>\n",
              "  <tbody>\n",
              "    <tr>\n",
              "      <th>0</th>\n",
              "      <td>1965-02-01</td>\n",
              "      <td>624.023076</td>\n",
              "      <td>621.739022</td>\n",
              "      <td>626.035726</td>\n",
              "      <td>622.0</td>\n",
              "      <td>1965-01-22</td>\n",
              "    </tr>\n",
              "    <tr>\n",
              "      <th>1</th>\n",
              "      <td>1965-03-01</td>\n",
              "      <td>705.442406</td>\n",
              "      <td>699.036526</td>\n",
              "      <td>712.141882</td>\n",
              "      <td>709.0</td>\n",
              "      <td>1965-01-22</td>\n",
              "    </tr>\n",
              "    <tr>\n",
              "      <th>2</th>\n",
              "      <td>1965-04-01</td>\n",
              "      <td>719.203883</td>\n",
              "      <td>705.646581</td>\n",
              "      <td>732.407582</td>\n",
              "      <td>722.0</td>\n",
              "      <td>1965-01-22</td>\n",
              "    </tr>\n",
              "    <tr>\n",
              "      <th>3</th>\n",
              "      <td>1965-05-01</td>\n",
              "      <td>784.846991</td>\n",
              "      <td>762.667869</td>\n",
              "      <td>806.760813</td>\n",
              "      <td>782.0</td>\n",
              "      <td>1965-01-22</td>\n",
              "    </tr>\n",
              "    <tr>\n",
              "      <th>4</th>\n",
              "      <td>1965-06-01</td>\n",
              "      <td>752.915491</td>\n",
              "      <td>721.959472</td>\n",
              "      <td>785.181591</td>\n",
              "      <td>756.0</td>\n",
              "      <td>1965-01-22</td>\n",
              "    </tr>\n",
              "    <tr>\n",
              "      <th>5</th>\n",
              "      <td>1965-07-01</td>\n",
              "      <td>695.503885</td>\n",
              "      <td>654.098351</td>\n",
              "      <td>736.342912</td>\n",
              "      <td>702.0</td>\n",
              "      <td>1965-01-22</td>\n",
              "    </tr>\n",
              "    <tr>\n",
              "      <th>6</th>\n",
              "      <td>1965-08-01</td>\n",
              "      <td>655.932022</td>\n",
              "      <td>603.930331</td>\n",
              "      <td>708.298501</td>\n",
              "      <td>653.0</td>\n",
              "      <td>1965-01-22</td>\n",
              "    </tr>\n",
              "    <tr>\n",
              "      <th>7</th>\n",
              "      <td>1965-09-01</td>\n",
              "      <td>621.956610</td>\n",
              "      <td>558.386090</td>\n",
              "      <td>687.304068</td>\n",
              "      <td>615.0</td>\n",
              "      <td>1965-01-22</td>\n",
              "    </tr>\n",
              "    <tr>\n",
              "      <th>8</th>\n",
              "      <td>1965-10-01</td>\n",
              "      <td>629.417825</td>\n",
              "      <td>555.693033</td>\n",
              "      <td>708.576705</td>\n",
              "      <td>621.0</td>\n",
              "      <td>1965-01-22</td>\n",
              "    </tr>\n",
              "    <tr>\n",
              "      <th>9</th>\n",
              "      <td>1965-11-01</td>\n",
              "      <td>610.485973</td>\n",
              "      <td>522.743548</td>\n",
              "      <td>704.634234</td>\n",
              "      <td>602.0</td>\n",
              "      <td>1965-01-22</td>\n",
              "    </tr>\n",
              "    <tr>\n",
              "      <th>10</th>\n",
              "      <td>1965-12-01</td>\n",
              "      <td>647.087238</td>\n",
              "      <td>546.149446</td>\n",
              "      <td>754.626380</td>\n",
              "      <td>635.0</td>\n",
              "      <td>1965-01-22</td>\n",
              "    </tr>\n",
              "    <tr>\n",
              "      <th>11</th>\n",
              "      <td>1966-01-01</td>\n",
              "      <td>671.918519</td>\n",
              "      <td>556.198295</td>\n",
              "      <td>797.486830</td>\n",
              "      <td>677.0</td>\n",
              "      <td>1965-01-22</td>\n",
              "    </tr>\n",
              "    <tr>\n",
              "      <th>12</th>\n",
              "      <td>1965-08-01</td>\n",
              "      <td>657.622378</td>\n",
              "      <td>654.806799</td>\n",
              "      <td>660.258707</td>\n",
              "      <td>653.0</td>\n",
              "      <td>1965-07-21</td>\n",
              "    </tr>\n",
              "    <tr>\n",
              "      <th>13</th>\n",
              "      <td>1965-09-01</td>\n",
              "      <td>623.108984</td>\n",
              "      <td>619.884561</td>\n",
              "      <td>626.252983</td>\n",
              "      <td>615.0</td>\n",
              "      <td>1965-07-21</td>\n",
              "    </tr>\n",
              "    <tr>\n",
              "      <th>14</th>\n",
              "      <td>1965-10-01</td>\n",
              "      <td>629.545180</td>\n",
              "      <td>625.712486</td>\n",
              "      <td>633.593474</td>\n",
              "      <td>621.0</td>\n",
              "      <td>1965-07-21</td>\n",
              "    </tr>\n",
              "    <tr>\n",
              "      <th>15</th>\n",
              "      <td>1965-11-01</td>\n",
              "      <td>611.086537</td>\n",
              "      <td>605.655651</td>\n",
              "      <td>616.402121</td>\n",
              "      <td>602.0</td>\n",
              "      <td>1965-07-21</td>\n",
              "    </tr>\n",
              "    <tr>\n",
              "      <th>16</th>\n",
              "      <td>1965-12-01</td>\n",
              "      <td>648.023824</td>\n",
              "      <td>640.800471</td>\n",
              "      <td>654.888288</td>\n",
              "      <td>635.0</td>\n",
              "      <td>1965-07-21</td>\n",
              "    </tr>\n",
              "    <tr>\n",
              "      <th>17</th>\n",
              "      <td>1966-01-01</td>\n",
              "      <td>672.611833</td>\n",
              "      <td>663.608798</td>\n",
              "      <td>681.915638</td>\n",
              "      <td>677.0</td>\n",
              "      <td>1965-07-21</td>\n",
              "    </tr>\n",
              "    <tr>\n",
              "      <th>18</th>\n",
              "      <td>1966-02-01</td>\n",
              "      <td>642.593928</td>\n",
              "      <td>631.566532</td>\n",
              "      <td>654.764147</td>\n",
              "      <td>635.0</td>\n",
              "      <td>1965-07-21</td>\n",
              "    </tr>\n",
              "    <tr>\n",
              "      <th>19</th>\n",
              "      <td>1966-03-01</td>\n",
              "      <td>723.822410</td>\n",
              "      <td>710.688784</td>\n",
              "      <td>737.319359</td>\n",
              "      <td>736.0</td>\n",
              "      <td>1965-07-21</td>\n",
              "    </tr>\n",
              "  </tbody>\n",
              "</table>\n",
              "</div>"
            ],
            "text/plain": [
              "           ds        yhat  yhat_lower  yhat_upper      y     cutoff\n",
              "0  1965-02-01  624.023076  621.739022  626.035726  622.0 1965-01-22\n",
              "1  1965-03-01  705.442406  699.036526  712.141882  709.0 1965-01-22\n",
              "2  1965-04-01  719.203883  705.646581  732.407582  722.0 1965-01-22\n",
              "3  1965-05-01  784.846991  762.667869  806.760813  782.0 1965-01-22\n",
              "4  1965-06-01  752.915491  721.959472  785.181591  756.0 1965-01-22\n",
              "5  1965-07-01  695.503885  654.098351  736.342912  702.0 1965-01-22\n",
              "6  1965-08-01  655.932022  603.930331  708.298501  653.0 1965-01-22\n",
              "7  1965-09-01  621.956610  558.386090  687.304068  615.0 1965-01-22\n",
              "8  1965-10-01  629.417825  555.693033  708.576705  621.0 1965-01-22\n",
              "9  1965-11-01  610.485973  522.743548  704.634234  602.0 1965-01-22\n",
              "10 1965-12-01  647.087238  546.149446  754.626380  635.0 1965-01-22\n",
              "11 1966-01-01  671.918519  556.198295  797.486830  677.0 1965-01-22\n",
              "12 1965-08-01  657.622378  654.806799  660.258707  653.0 1965-07-21\n",
              "13 1965-09-01  623.108984  619.884561  626.252983  615.0 1965-07-21\n",
              "14 1965-10-01  629.545180  625.712486  633.593474  621.0 1965-07-21\n",
              "15 1965-11-01  611.086537  605.655651  616.402121  602.0 1965-07-21\n",
              "16 1965-12-01  648.023824  640.800471  654.888288  635.0 1965-07-21\n",
              "17 1966-01-01  672.611833  663.608798  681.915638  677.0 1965-07-21\n",
              "18 1966-02-01  642.593928  631.566532  654.764147  635.0 1965-07-21\n",
              "19 1966-03-01  723.822410  710.688784  737.319359  736.0 1965-07-21"
            ]
          },
          "metadata": {
            "tags": []
          },
          "execution_count": 31
        }
      ]
    },
    {
      "cell_type": "code",
      "metadata": {
        "id": "muH1VDNgzwjp",
        "colab_type": "code",
        "colab": {},
        "outputId": "b9722ee3-e52e-4cdd-e172-cc1322cd60d8"
      },
      "source": [
        "df_cv.tail()"
      ],
      "execution_count": null,
      "outputs": [
        {
          "output_type": "execute_result",
          "data": {
            "text/html": [
              "<div>\n",
              "<style scoped>\n",
              "    .dataframe tbody tr th:only-of-type {\n",
              "        vertical-align: middle;\n",
              "    }\n",
              "\n",
              "    .dataframe tbody tr th {\n",
              "        vertical-align: top;\n",
              "    }\n",
              "\n",
              "    .dataframe thead th {\n",
              "        text-align: right;\n",
              "    }\n",
              "</style>\n",
              "<table border=\"1\" class=\"dataframe\">\n",
              "  <thead>\n",
              "    <tr style=\"text-align: right;\">\n",
              "      <th></th>\n",
              "      <th>ds</th>\n",
              "      <th>yhat</th>\n",
              "      <th>yhat_lower</th>\n",
              "      <th>yhat_upper</th>\n",
              "      <th>y</th>\n",
              "      <th>cutoff</th>\n",
              "    </tr>\n",
              "  </thead>\n",
              "  <tbody>\n",
              "    <tr>\n",
              "      <th>247</th>\n",
              "      <td>1975-08-01</td>\n",
              "      <td>850.391835</td>\n",
              "      <td>840.655090</td>\n",
              "      <td>860.426157</td>\n",
              "      <td>858.0</td>\n",
              "      <td>1974-12-01</td>\n",
              "    </tr>\n",
              "    <tr>\n",
              "      <th>248</th>\n",
              "      <td>1975-09-01</td>\n",
              "      <td>807.913651</td>\n",
              "      <td>797.717049</td>\n",
              "      <td>818.111502</td>\n",
              "      <td>817.0</td>\n",
              "      <td>1974-12-01</td>\n",
              "    </tr>\n",
              "    <tr>\n",
              "      <th>249</th>\n",
              "      <td>1975-10-01</td>\n",
              "      <td>811.402292</td>\n",
              "      <td>801.555062</td>\n",
              "      <td>821.800748</td>\n",
              "      <td>827.0</td>\n",
              "      <td>1974-12-01</td>\n",
              "    </tr>\n",
              "    <tr>\n",
              "      <th>250</th>\n",
              "      <td>1975-11-01</td>\n",
              "      <td>779.398005</td>\n",
              "      <td>769.304318</td>\n",
              "      <td>790.817038</td>\n",
              "      <td>797.0</td>\n",
              "      <td>1974-12-01</td>\n",
              "    </tr>\n",
              "    <tr>\n",
              "      <th>251</th>\n",
              "      <td>1975-12-01</td>\n",
              "      <td>813.788791</td>\n",
              "      <td>803.215270</td>\n",
              "      <td>825.020167</td>\n",
              "      <td>843.0</td>\n",
              "      <td>1974-12-01</td>\n",
              "    </tr>\n",
              "  </tbody>\n",
              "</table>\n",
              "</div>"
            ],
            "text/plain": [
              "            ds        yhat  yhat_lower  yhat_upper      y     cutoff\n",
              "247 1975-08-01  850.391835  840.655090  860.426157  858.0 1974-12-01\n",
              "248 1975-09-01  807.913651  797.717049  818.111502  817.0 1974-12-01\n",
              "249 1975-10-01  811.402292  801.555062  821.800748  827.0 1974-12-01\n",
              "250 1975-11-01  779.398005  769.304318  790.817038  797.0 1974-12-01\n",
              "251 1975-12-01  813.788791  803.215270  825.020167  843.0 1974-12-01"
            ]
          },
          "metadata": {
            "tags": []
          },
          "execution_count": 32
        }
      ]
    },
    {
      "cell_type": "markdown",
      "metadata": {
        "id": "gNJqkMPUzwjs",
        "colab_type": "text"
      },
      "source": [
        "### Obtaining the Performance Metrics\n",
        "\n",
        "* We use the performance_metrics utility to compute the Mean Squared Error(MSE), Root Mean Squared Error(RMSE),Mean Absolute Error(MAE), Mean Absolute Percentage Error(MAPE), Median Absolute Percentage Error(MDAPE) and the coverage of the the yhat_lower and yhat_upper estimates."
      ]
    },
    {
      "cell_type": "code",
      "metadata": {
        "id": "LiLskXmPzwjt",
        "colab_type": "code",
        "colab": {}
      },
      "source": [
        "from fbprophet.diagnostics import performance_metrics"
      ],
      "execution_count": null,
      "outputs": []
    },
    {
      "cell_type": "code",
      "metadata": {
        "id": "c0AI9-grzwjw",
        "colab_type": "code",
        "colab": {},
        "outputId": "1ae7b74a-92a7-4fa3-f859-8481c4d2564a"
      },
      "source": [
        "df_performance=performance_metrics(df_cv)\n",
        "df_performance.head()"
      ],
      "execution_count": null,
      "outputs": [
        {
          "output_type": "execute_result",
          "data": {
            "text/html": [
              "<div>\n",
              "<style scoped>\n",
              "    .dataframe tbody tr th:only-of-type {\n",
              "        vertical-align: middle;\n",
              "    }\n",
              "\n",
              "    .dataframe tbody tr th {\n",
              "        vertical-align: top;\n",
              "    }\n",
              "\n",
              "    .dataframe thead th {\n",
              "        text-align: right;\n",
              "    }\n",
              "</style>\n",
              "<table border=\"1\" class=\"dataframe\">\n",
              "  <thead>\n",
              "    <tr style=\"text-align: right;\">\n",
              "      <th></th>\n",
              "      <th>horizon</th>\n",
              "      <th>mse</th>\n",
              "      <th>rmse</th>\n",
              "      <th>mae</th>\n",
              "      <th>mape</th>\n",
              "      <th>mdape</th>\n",
              "      <th>coverage</th>\n",
              "    </tr>\n",
              "  </thead>\n",
              "  <tbody>\n",
              "    <tr>\n",
              "      <th>0</th>\n",
              "      <td>38 days</td>\n",
              "      <td>249.749766</td>\n",
              "      <td>15.803473</td>\n",
              "      <td>12.138373</td>\n",
              "      <td>0.015543</td>\n",
              "      <td>0.013585</td>\n",
              "      <td>0.40</td>\n",
              "    </tr>\n",
              "    <tr>\n",
              "      <th>1</th>\n",
              "      <td>41 days</td>\n",
              "      <td>247.623357</td>\n",
              "      <td>15.736053</td>\n",
              "      <td>12.051842</td>\n",
              "      <td>0.015468</td>\n",
              "      <td>0.013585</td>\n",
              "      <td>0.40</td>\n",
              "    </tr>\n",
              "    <tr>\n",
              "      <th>2</th>\n",
              "      <td>42 days</td>\n",
              "      <td>263.336249</td>\n",
              "      <td>16.227638</td>\n",
              "      <td>12.534043</td>\n",
              "      <td>0.016135</td>\n",
              "      <td>0.013797</td>\n",
              "      <td>0.40</td>\n",
              "    </tr>\n",
              "    <tr>\n",
              "      <th>3</th>\n",
              "      <td>43 days</td>\n",
              "      <td>265.283178</td>\n",
              "      <td>16.287516</td>\n",
              "      <td>12.784303</td>\n",
              "      <td>0.016532</td>\n",
              "      <td>0.013797</td>\n",
              "      <td>0.38</td>\n",
              "    </tr>\n",
              "    <tr>\n",
              "      <th>4</th>\n",
              "      <td>46 days</td>\n",
              "      <td>251.735214</td>\n",
              "      <td>15.866166</td>\n",
              "      <td>12.545135</td>\n",
              "      <td>0.016223</td>\n",
              "      <td>0.013797</td>\n",
              "      <td>0.36</td>\n",
              "    </tr>\n",
              "  </tbody>\n",
              "</table>\n",
              "</div>"
            ],
            "text/plain": [
              "  horizon         mse       rmse        mae      mape     mdape  coverage\n",
              "0 38 days  249.749766  15.803473  12.138373  0.015543  0.013585      0.40\n",
              "1 41 days  247.623357  15.736053  12.051842  0.015468  0.013585      0.40\n",
              "2 42 days  263.336249  16.227638  12.534043  0.016135  0.013797      0.40\n",
              "3 43 days  265.283178  16.287516  12.784303  0.016532  0.013797      0.38\n",
              "4 46 days  251.735214  15.866166  12.545135  0.016223  0.013797      0.36"
            ]
          },
          "metadata": {
            "tags": []
          },
          "execution_count": 34
        }
      ]
    },
    {
      "cell_type": "code",
      "metadata": {
        "id": "yf-JR8rAzwjz",
        "colab_type": "code",
        "colab": {},
        "outputId": "4190963c-2d8f-417b-b4f2-71f7d7a6e60b"
      },
      "source": [
        "from fbprophet.plot import plot_cross_validation_metric\n",
        "fig=plot_cross_validation_metric(df_cv,metric='rmse')"
      ],
      "execution_count": null,
      "outputs": [
        {
          "output_type": "display_data",
          "data": {
            "image/png": "[encoded data removed]",
            "text/plain": [
              "<Figure size 720x432 with 1 Axes>"
            ]
          },
          "metadata": {
            "tags": []
          }
        }
      ]
    },
    {
      "cell_type": "code",
      "metadata": {
        "id": "izGDUOafzwj2",
        "colab_type": "code",
        "colab": {},
        "outputId": "ca7b1315-5286-4712-81be-8f88e71ade01"
      },
      "source": [
        "from fbprophet.plot import plot_cross_validation_metric\n",
        "fig=plot_cross_validation_metric(df_cv,metric='mse')"
      ],
      "execution_count": null,
      "outputs": [
        {
          "output_type": "display_data",
          "data": {
            "image/png": "[encoded data removed]",
            "text/plain": [
              "<Figure size 720x432 with 1 Axes>"
            ]
          },
          "metadata": {
            "tags": []
          }
        }
      ]
    }
  ]
}