{
  "nbformat": 4,
  "nbformat_minor": 0,
  "metadata": {
    "colab": {
      "name": "Back Propagation using PyTorch.ipynb",
      "provenance": [],
      "authorship_tag": "ABX9TyODkr0fKCM+mnWGFIsdduto"
    },
    "kernelspec": {
      "name": "python3",
      "display_name": "Python 3"
    }
  },
  "cells": [
    {
      "cell_type": "markdown",
      "metadata": {
        "id": "Yxjdoh_uViV0",
        "colab_type": "text"
      },
      "source": [
        "## Back Propogation using PyTorch"
      ]
    },
    {
      "cell_type": "code",
      "metadata": {
        "id": "y05Yu6PKVDnm",
        "colab_type": "code",
        "colab": {}
      },
      "source": [
        "import torch"
      ],
      "execution_count": 1,
      "outputs": []
    },
    {
      "cell_type": "code",
      "metadata": {
        "id": "PAyapTF0VmUW",
        "colab_type": "code",
        "colab": {}
      },
      "source": [
        "# Computing the derivatives for Back Propogation\n",
        "\n",
        "x = torch.tensor(4.0, requires_grad=True)"
      ],
      "execution_count": 2,
      "outputs": []
    },
    {
      "cell_type": "code",
      "metadata": {
        "id": "rMMi-B4gWgGw",
        "colab_type": "code",
        "colab": {
          "base_uri": "https://localhost:8080/",
          "height": 33
        },
        "outputId": "0aea0fff-b64e-4da4-e55f-626645eccca4"
      },
      "source": [
        "x"
      ],
      "execution_count": 3,
      "outputs": [
        {
          "output_type": "execute_result",
          "data": {
            "text/plain": [
              "tensor(4., requires_grad=True)"
            ]
          },
          "metadata": {
            "tags": []
          },
          "execution_count": 3
        }
      ]
    },
    {
      "cell_type": "code",
      "metadata": {
        "id": "2KbeXUlHWg7t",
        "colab_type": "code",
        "colab": {
          "base_uri": "https://localhost:8080/",
          "height": 33
        },
        "outputId": "04007ae4-8d8f-4524-d43d-04a08aded794"
      },
      "source": [
        "y = x**2\n",
        "y"
      ],
      "execution_count": 4,
      "outputs": [
        {
          "output_type": "execute_result",
          "data": {
            "text/plain": [
              "tensor(16., grad_fn=<PowBackward0>)"
            ]
          },
          "metadata": {
            "tags": []
          },
          "execution_count": 4
        }
      ]
    },
    {
      "cell_type": "code",
      "metadata": {
        "id": "a0oBhcF9Wjsa",
        "colab_type": "code",
        "colab": {}
      },
      "source": [
        "# Back Propogation equation will be y = 2*x\n",
        "\n",
        "y.backward()"
      ],
      "execution_count": 5,
      "outputs": []
    },
    {
      "cell_type": "code",
      "metadata": {
        "id": "jSvi_lW5W0U9",
        "colab_type": "code",
        "colab": {
          "base_uri": "https://localhost:8080/",
          "height": 33
        },
        "outputId": "6ec3b9f2-fc03-4667-e989-697d852ef25f"
      },
      "source": [
        "print(x.grad)"
      ],
      "execution_count": 6,
      "outputs": [
        {
          "output_type": "stream",
          "text": [
            "tensor(8.)\n"
          ],
          "name": "stdout"
        }
      ]
    },
    {
      "cell_type": "code",
      "metadata": {
        "id": "JxbEIHQ5W9zg",
        "colab_type": "code",
        "colab": {}
      },
      "source": [
        "lst = [[2.0, 3.0, 1.0], [4.0, 5.0, 3.0], [7.0, 6.0, 4.0]]\n",
        "\n",
        "torch_input = torch.tensor(lst, requires_grad=True)"
      ],
      "execution_count": 7,
      "outputs": []
    },
    {
      "cell_type": "code",
      "metadata": {
        "id": "ZWW6UpzuXij8",
        "colab_type": "code",
        "colab": {
          "base_uri": "https://localhost:8080/",
          "height": 67
        },
        "outputId": "21e16c7f-2078-4205-9e75-a101d803c6cb"
      },
      "source": [
        "torch_input"
      ],
      "execution_count": 8,
      "outputs": [
        {
          "output_type": "execute_result",
          "data": {
            "text/plain": [
              "tensor([[2., 3., 1.],\n",
              "        [4., 5., 3.],\n",
              "        [7., 6., 4.]], requires_grad=True)"
            ]
          },
          "metadata": {
            "tags": []
          },
          "execution_count": 8
        }
      ]
    },
    {
      "cell_type": "code",
      "metadata": {
        "id": "A6dEAl-IXkEy",
        "colab_type": "code",
        "colab": {}
      },
      "source": [
        "# y = x**3 + x**2\n",
        "# y' = 3*(x**2) + 2*x\n",
        "\n",
        "y = torch_input**3 + torch_input**2"
      ],
      "execution_count": 9,
      "outputs": []
    },
    {
      "cell_type": "code",
      "metadata": {
        "id": "QQAXB5QpYIco",
        "colab_type": "code",
        "colab": {
          "base_uri": "https://localhost:8080/",
          "height": 67
        },
        "outputId": "9a2afa46-3e7c-46e4-9df8-55dd2662948f"
      },
      "source": [
        "y"
      ],
      "execution_count": 10,
      "outputs": [
        {
          "output_type": "execute_result",
          "data": {
            "text/plain": [
              "tensor([[ 12.,  36.,   2.],\n",
              "        [ 80., 150.,  36.],\n",
              "        [392., 252.,  80.]], grad_fn=<AddBackward0>)"
            ]
          },
          "metadata": {
            "tags": []
          },
          "execution_count": 10
        }
      ]
    },
    {
      "cell_type": "code",
      "metadata": {
        "id": "bDn5GOj0YKTl",
        "colab_type": "code",
        "colab": {
          "base_uri": "https://localhost:8080/",
          "height": 33
        },
        "outputId": "66d2becb-6c3f-4e0c-d3d3-542910c0305e"
      },
      "source": [
        "z = y.sum()\n",
        "z"
      ],
      "execution_count": 11,
      "outputs": [
        {
          "output_type": "execute_result",
          "data": {
            "text/plain": [
              "tensor(1040., grad_fn=<SumBackward0>)"
            ]
          },
          "metadata": {
            "tags": []
          },
          "execution_count": 11
        }
      ]
    },
    {
      "cell_type": "code",
      "metadata": {
        "id": "gbesm8V_Ya2-",
        "colab_type": "code",
        "colab": {}
      },
      "source": [
        "z.backward()"
      ],
      "execution_count": 12,
      "outputs": []
    },
    {
      "cell_type": "code",
      "metadata": {
        "id": "j-toxiVbYjzS",
        "colab_type": "code",
        "colab": {
          "base_uri": "https://localhost:8080/",
          "height": 67
        },
        "outputId": "472a0057-3378-4946-d2ec-80114d57f520"
      },
      "source": [
        "torch_input.grad"
      ],
      "execution_count": 13,
      "outputs": [
        {
          "output_type": "execute_result",
          "data": {
            "text/plain": [
              "tensor([[ 16.,  33.,   5.],\n",
              "        [ 56.,  85.,  33.],\n",
              "        [161., 120.,  56.]])"
            ]
          },
          "metadata": {
            "tags": []
          },
          "execution_count": 13
        }
      ]
    }
  ]
}