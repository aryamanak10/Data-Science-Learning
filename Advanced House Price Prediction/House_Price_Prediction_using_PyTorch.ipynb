{
  "nbformat": 4,
  "nbformat_minor": 0,
  "metadata": {
    "kernelspec": {
      "display_name": "Python 3",
      "language": "python",
      "name": "python3"
    },
    "language_info": {
      "codemirror_mode": {
        "name": "ipython",
        "version": 3
      },
      "file_extension": ".py",
      "mimetype": "text/x-python",
      "name": "python",
      "nbconvert_exporter": "python",
      "pygments_lexer": "ipython3",
      "version": "3.7.3"
    },
    "colab": {
      "name": "House Price Prediction using PyTorch.ipynb",
      "provenance": [],
      "collapsed_sections": []
    }
  },
  "cells": [
    {
      "cell_type": "markdown",
      "metadata": {
        "id": "3OkNPHKtq7E2",
        "colab_type": "text"
      },
      "source": [
        "## Kaggle Advance House Price Prediction Using PyTorch\n",
        "\n",
        "* https://docs.fast.ai/tabular.html\n",
        "\n",
        "* https://www.fast.ai/2018/04/29/categorical-embeddings/\n",
        "\n",
        "* https://yashuseth.blog/2018/07/22/pytorch-neural-network-for-tabular-data-with-categorical-embeddings/"
      ]
    },
    {
      "cell_type": "code",
      "metadata": {
        "id": "2HswCaf3q7E4",
        "colab_type": "code",
        "colab": {}
      },
      "source": [
        "import pandas as pd"
      ],
      "execution_count": 1,
      "outputs": []
    },
    {
      "cell_type": "markdown",
      "metadata": {
        "id": "0AsYJ6jXvyB0",
        "colab_type": "text"
      },
      "source": [
        "### Importing the Dataset"
      ]
    },
    {
      "cell_type": "code",
      "metadata": {
        "id": "ibRiK1guq7E_",
        "colab_type": "code",
        "colab": {}
      },
      "source": [
        "df=pd.read_csv('houseprice.csv',usecols=[\"SalePrice\", \"MSSubClass\", \"MSZoning\", \"LotFrontage\", \"LotArea\",\n",
        "                                         \"Street\", \"YearBuilt\", \"LotShape\", \"1stFlrSF\", \"2ndFlrSF\"]).dropna()"
      ],
      "execution_count": 2,
      "outputs": []
    },
    {
      "cell_type": "code",
      "metadata": {
        "id": "0EHLKJc-q7FD",
        "colab_type": "code",
        "colab": {
          "base_uri": "https://localhost:8080/",
          "height": 33
        },
        "outputId": "b44faf02-9df2-4001-f5d4-12e7dc2e3386"
      },
      "source": [
        "df.shape"
      ],
      "execution_count": 3,
      "outputs": [
        {
          "output_type": "execute_result",
          "data": {
            "text/plain": [
              "(1201, 10)"
            ]
          },
          "metadata": {
            "tags": []
          },
          "execution_count": 3
        }
      ]
    },
    {
      "cell_type": "code",
      "metadata": {
        "id": "DgGX_dnzq7FI",
        "colab_type": "code",
        "colab": {
          "base_uri": "https://localhost:8080/",
          "height": 196
        },
        "outputId": "81904b8c-cda2-4474-e3cb-d7279ac50d55"
      },
      "source": [
        "df.head()"
      ],
      "execution_count": 4,
      "outputs": [
        {
          "output_type": "execute_result",
          "data": {
            "text/html": [
              "<div>\n",
              "<style scoped>\n",
              "    .dataframe tbody tr th:only-of-type {\n",
              "        vertical-align: middle;\n",
              "    }\n",
              "\n",
              "    .dataframe tbody tr th {\n",
              "        vertical-align: top;\n",
              "    }\n",
              "\n",
              "    .dataframe thead th {\n",
              "        text-align: right;\n",
              "    }\n",
              "</style>\n",
              "<table border=\"1\" class=\"dataframe\">\n",
              "  <thead>\n",
              "    <tr style=\"text-align: right;\">\n",
              "      <th></th>\n",
              "      <th>MSSubClass</th>\n",
              "      <th>MSZoning</th>\n",
              "      <th>LotFrontage</th>\n",
              "      <th>LotArea</th>\n",
              "      <th>Street</th>\n",
              "      <th>LotShape</th>\n",
              "      <th>YearBuilt</th>\n",
              "      <th>1stFlrSF</th>\n",
              "      <th>2ndFlrSF</th>\n",
              "      <th>SalePrice</th>\n",
              "    </tr>\n",
              "  </thead>\n",
              "  <tbody>\n",
              "    <tr>\n",
              "      <th>0</th>\n",
              "      <td>60</td>\n",
              "      <td>RL</td>\n",
              "      <td>65.0</td>\n",
              "      <td>8450</td>\n",
              "      <td>Pave</td>\n",
              "      <td>Reg</td>\n",
              "      <td>2003</td>\n",
              "      <td>856</td>\n",
              "      <td>854</td>\n",
              "      <td>208500</td>\n",
              "    </tr>\n",
              "    <tr>\n",
              "      <th>1</th>\n",
              "      <td>20</td>\n",
              "      <td>RL</td>\n",
              "      <td>80.0</td>\n",
              "      <td>9600</td>\n",
              "      <td>Pave</td>\n",
              "      <td>Reg</td>\n",
              "      <td>1976</td>\n",
              "      <td>1262</td>\n",
              "      <td>0</td>\n",
              "      <td>181500</td>\n",
              "    </tr>\n",
              "    <tr>\n",
              "      <th>2</th>\n",
              "      <td>60</td>\n",
              "      <td>RL</td>\n",
              "      <td>68.0</td>\n",
              "      <td>11250</td>\n",
              "      <td>Pave</td>\n",
              "      <td>IR1</td>\n",
              "      <td>2001</td>\n",
              "      <td>920</td>\n",
              "      <td>866</td>\n",
              "      <td>223500</td>\n",
              "    </tr>\n",
              "    <tr>\n",
              "      <th>3</th>\n",
              "      <td>70</td>\n",
              "      <td>RL</td>\n",
              "      <td>60.0</td>\n",
              "      <td>9550</td>\n",
              "      <td>Pave</td>\n",
              "      <td>IR1</td>\n",
              "      <td>1915</td>\n",
              "      <td>961</td>\n",
              "      <td>756</td>\n",
              "      <td>140000</td>\n",
              "    </tr>\n",
              "    <tr>\n",
              "      <th>4</th>\n",
              "      <td>60</td>\n",
              "      <td>RL</td>\n",
              "      <td>84.0</td>\n",
              "      <td>14260</td>\n",
              "      <td>Pave</td>\n",
              "      <td>IR1</td>\n",
              "      <td>2000</td>\n",
              "      <td>1145</td>\n",
              "      <td>1053</td>\n",
              "      <td>250000</td>\n",
              "    </tr>\n",
              "  </tbody>\n",
              "</table>\n",
              "</div>"
            ],
            "text/plain": [
              "   MSSubClass MSZoning  LotFrontage  ...  1stFlrSF 2ndFlrSF SalePrice\n",
              "0          60       RL         65.0  ...       856      854    208500\n",
              "1          20       RL         80.0  ...      1262        0    181500\n",
              "2          60       RL         68.0  ...       920      866    223500\n",
              "3          70       RL         60.0  ...       961      756    140000\n",
              "4          60       RL         84.0  ...      1145     1053    250000\n",
              "\n",
              "[5 rows x 10 columns]"
            ]
          },
          "metadata": {
            "tags": []
          },
          "execution_count": 4
        }
      ]
    },
    {
      "cell_type": "code",
      "metadata": {
        "id": "W6lLOQ88q7FL",
        "colab_type": "code",
        "colab": {
          "base_uri": "https://localhost:8080/",
          "height": 301
        },
        "outputId": "ec275813-3aa9-4d2d-a2c7-eeb52464f399"
      },
      "source": [
        "df.info()"
      ],
      "execution_count": 5,
      "outputs": [
        {
          "output_type": "stream",
          "text": [
            "<class 'pandas.core.frame.DataFrame'>\n",
            "Int64Index: 1201 entries, 0 to 1459\n",
            "Data columns (total 10 columns):\n",
            " #   Column       Non-Null Count  Dtype  \n",
            "---  ------       --------------  -----  \n",
            " 0   MSSubClass   1201 non-null   int64  \n",
            " 1   MSZoning     1201 non-null   object \n",
            " 2   LotFrontage  1201 non-null   float64\n",
            " 3   LotArea      1201 non-null   int64  \n",
            " 4   Street       1201 non-null   object \n",
            " 5   LotShape     1201 non-null   object \n",
            " 6   YearBuilt    1201 non-null   int64  \n",
            " 7   1stFlrSF     1201 non-null   int64  \n",
            " 8   2ndFlrSF     1201 non-null   int64  \n",
            " 9   SalePrice    1201 non-null   int64  \n",
            "dtypes: float64(1), int64(6), object(3)\n",
            "memory usage: 103.2+ KB\n"
          ],
          "name": "stdout"
        }
      ]
    },
    {
      "cell_type": "markdown",
      "metadata": {
        "id": "J6nPrVxGveNU",
        "colab_type": "text"
      },
      "source": [
        "### Unique Values in the Columns"
      ]
    },
    {
      "cell_type": "code",
      "metadata": {
        "id": "Cdg08n6cq7FO",
        "colab_type": "code",
        "colab": {
          "base_uri": "https://localhost:8080/",
          "height": 184
        },
        "outputId": "f67f71dd-b46b-4820-e615-530c3dc678a5"
      },
      "source": [
        "for i in df.columns:\n",
        "    print(\"Column name {} and unique values are {}\".format(i,len(df[i].unique())))"
      ],
      "execution_count": 6,
      "outputs": [
        {
          "output_type": "stream",
          "text": [
            "Column name MSSubClass and unique values are 15\n",
            "Column name MSZoning and unique values are 5\n",
            "Column name LotFrontage and unique values are 110\n",
            "Column name LotArea and unique values are 869\n",
            "Column name Street and unique values are 2\n",
            "Column name LotShape and unique values are 4\n",
            "Column name YearBuilt and unique values are 112\n",
            "Column name 1stFlrSF and unique values are 678\n",
            "Column name 2ndFlrSF and unique values are 368\n",
            "Column name SalePrice and unique values are 597\n"
          ],
          "name": "stdout"
        }
      ]
    },
    {
      "cell_type": "markdown",
      "metadata": {
        "id": "MSPWVL2wvh5x",
        "colab_type": "text"
      },
      "source": [
        "### Derived Features"
      ]
    },
    {
      "cell_type": "code",
      "metadata": {
        "id": "mVvYF-awq7FR",
        "colab_type": "code",
        "colab": {
          "base_uri": "https://localhost:8080/",
          "height": 33
        },
        "outputId": "d7088bdf-3895-4234-a15b-18b8c84f6bdb"
      },
      "source": [
        "import datetime\n",
        "datetime.datetime.now().year"
      ],
      "execution_count": 7,
      "outputs": [
        {
          "output_type": "execute_result",
          "data": {
            "text/plain": [
              "2020"
            ]
          },
          "metadata": {
            "tags": []
          },
          "execution_count": 7
        }
      ]
    },
    {
      "cell_type": "code",
      "metadata": {
        "id": "SPZ90Zcxq7FU",
        "colab_type": "code",
        "colab": {}
      },
      "source": [
        "df['Total Years']=datetime.datetime.now().year-df['YearBuilt']"
      ],
      "execution_count": 8,
      "outputs": []
    },
    {
      "cell_type": "code",
      "metadata": {
        "id": "QNP9GExAvtRj",
        "colab_type": "code",
        "colab": {
          "base_uri": "https://localhost:8080/",
          "height": 196
        },
        "outputId": "d2ce09cd-b3ac-454e-f436-6406e4c85018"
      },
      "source": [
        "df.head()"
      ],
      "execution_count": 9,
      "outputs": [
        {
          "output_type": "execute_result",
          "data": {
            "text/html": [
              "<div>\n",
              "<style scoped>\n",
              "    .dataframe tbody tr th:only-of-type {\n",
              "        vertical-align: middle;\n",
              "    }\n",
              "\n",
              "    .dataframe tbody tr th {\n",
              "        vertical-align: top;\n",
              "    }\n",
              "\n",
              "    .dataframe thead th {\n",
              "        text-align: right;\n",
              "    }\n",
              "</style>\n",
              "<table border=\"1\" class=\"dataframe\">\n",
              "  <thead>\n",
              "    <tr style=\"text-align: right;\">\n",
              "      <th></th>\n",
              "      <th>MSSubClass</th>\n",
              "      <th>MSZoning</th>\n",
              "      <th>LotFrontage</th>\n",
              "      <th>LotArea</th>\n",
              "      <th>Street</th>\n",
              "      <th>LotShape</th>\n",
              "      <th>YearBuilt</th>\n",
              "      <th>1stFlrSF</th>\n",
              "      <th>2ndFlrSF</th>\n",
              "      <th>SalePrice</th>\n",
              "      <th>Total Years</th>\n",
              "    </tr>\n",
              "  </thead>\n",
              "  <tbody>\n",
              "    <tr>\n",
              "      <th>0</th>\n",
              "      <td>60</td>\n",
              "      <td>RL</td>\n",
              "      <td>65.0</td>\n",
              "      <td>8450</td>\n",
              "      <td>Pave</td>\n",
              "      <td>Reg</td>\n",
              "      <td>2003</td>\n",
              "      <td>856</td>\n",
              "      <td>854</td>\n",
              "      <td>208500</td>\n",
              "      <td>17</td>\n",
              "    </tr>\n",
              "    <tr>\n",
              "      <th>1</th>\n",
              "      <td>20</td>\n",
              "      <td>RL</td>\n",
              "      <td>80.0</td>\n",
              "      <td>9600</td>\n",
              "      <td>Pave</td>\n",
              "      <td>Reg</td>\n",
              "      <td>1976</td>\n",
              "      <td>1262</td>\n",
              "      <td>0</td>\n",
              "      <td>181500</td>\n",
              "      <td>44</td>\n",
              "    </tr>\n",
              "    <tr>\n",
              "      <th>2</th>\n",
              "      <td>60</td>\n",
              "      <td>RL</td>\n",
              "      <td>68.0</td>\n",
              "      <td>11250</td>\n",
              "      <td>Pave</td>\n",
              "      <td>IR1</td>\n",
              "      <td>2001</td>\n",
              "      <td>920</td>\n",
              "      <td>866</td>\n",
              "      <td>223500</td>\n",
              "      <td>19</td>\n",
              "    </tr>\n",
              "    <tr>\n",
              "      <th>3</th>\n",
              "      <td>70</td>\n",
              "      <td>RL</td>\n",
              "      <td>60.0</td>\n",
              "      <td>9550</td>\n",
              "      <td>Pave</td>\n",
              "      <td>IR1</td>\n",
              "      <td>1915</td>\n",
              "      <td>961</td>\n",
              "      <td>756</td>\n",
              "      <td>140000</td>\n",
              "      <td>105</td>\n",
              "    </tr>\n",
              "    <tr>\n",
              "      <th>4</th>\n",
              "      <td>60</td>\n",
              "      <td>RL</td>\n",
              "      <td>84.0</td>\n",
              "      <td>14260</td>\n",
              "      <td>Pave</td>\n",
              "      <td>IR1</td>\n",
              "      <td>2000</td>\n",
              "      <td>1145</td>\n",
              "      <td>1053</td>\n",
              "      <td>250000</td>\n",
              "      <td>20</td>\n",
              "    </tr>\n",
              "  </tbody>\n",
              "</table>\n",
              "</div>"
            ],
            "text/plain": [
              "   MSSubClass MSZoning  LotFrontage  ...  2ndFlrSF SalePrice Total Years\n",
              "0          60       RL         65.0  ...       854    208500          17\n",
              "1          20       RL         80.0  ...         0    181500          44\n",
              "2          60       RL         68.0  ...       866    223500          19\n",
              "3          70       RL         60.0  ...       756    140000         105\n",
              "4          60       RL         84.0  ...      1053    250000          20\n",
              "\n",
              "[5 rows x 11 columns]"
            ]
          },
          "metadata": {
            "tags": []
          },
          "execution_count": 9
        }
      ]
    },
    {
      "cell_type": "code",
      "metadata": {
        "id": "LWFvQ5Ehq7FW",
        "colab_type": "code",
        "colab": {}
      },
      "source": [
        "df.drop(\"YearBuilt\",axis=1,inplace=True)"
      ],
      "execution_count": 10,
      "outputs": []
    },
    {
      "cell_type": "code",
      "metadata": {
        "id": "ZVZzAR-8q7FY",
        "colab_type": "code",
        "colab": {
          "base_uri": "https://localhost:8080/",
          "height": 67
        },
        "outputId": "67596ae7-b3f8-470e-fa9f-a226bcc68722"
      },
      "source": [
        "df.columns"
      ],
      "execution_count": 11,
      "outputs": [
        {
          "output_type": "execute_result",
          "data": {
            "text/plain": [
              "Index(['MSSubClass', 'MSZoning', 'LotFrontage', 'LotArea', 'Street',\n",
              "       'LotShape', '1stFlrSF', '2ndFlrSF', 'SalePrice', 'Total Years'],\n",
              "      dtype='object')"
            ]
          },
          "metadata": {
            "tags": []
          },
          "execution_count": 11
        }
      ]
    },
    {
      "cell_type": "markdown",
      "metadata": {
        "id": "DpxR1vfRv426",
        "colab_type": "text"
      },
      "source": [
        "### Creating my Categorical Features"
      ]
    },
    {
      "cell_type": "code",
      "metadata": {
        "id": "HomgrIYLq7Fb",
        "colab_type": "code",
        "colab": {}
      },
      "source": [
        "cat_features=[\"MSSubClass\", \"MSZoning\", \"Street\", \"LotShape\"]\n",
        "out_feature=\"SalePrice\""
      ],
      "execution_count": 12,
      "outputs": []
    },
    {
      "cell_type": "code",
      "metadata": {
        "id": "LYYgPeVKv__4",
        "colab_type": "code",
        "colab": {
          "base_uri": "https://localhost:8080/",
          "height": 50
        },
        "outputId": "cb009470-a322-4598-95b1-2bbad74f0371"
      },
      "source": [
        "df[\"MSSubClass\"].unique()"
      ],
      "execution_count": 13,
      "outputs": [
        {
          "output_type": "execute_result",
          "data": {
            "text/plain": [
              "array([ 60,  20,  70,  50, 190,  45,  90, 120,  30,  80, 160,  75, 180,\n",
              "        40,  85])"
            ]
          },
          "metadata": {
            "tags": []
          },
          "execution_count": 13
        }
      ]
    },
    {
      "cell_type": "markdown",
      "metadata": {
        "id": "VB5qmkRUwOSr",
        "colab_type": "text"
      },
      "source": [
        "### Converting the categorical feature"
      ]
    },
    {
      "cell_type": "code",
      "metadata": {
        "id": "mxdlda9Hq7Fd",
        "colab_type": "code",
        "colab": {
          "base_uri": "https://localhost:8080/",
          "height": 33
        },
        "outputId": "10b461eb-2591-45c3-9e5f-f4f236046cba"
      },
      "source": [
        "from sklearn.preprocessing import LabelEncoder\n",
        "lbl_encoders={}\n",
        "lbl_encoders[\"MSSubClass\"]=LabelEncoder()\n",
        "lbl_encoders[\"MSSubClass\"].fit_transform(df[\"MSSubClass\"])"
      ],
      "execution_count": 14,
      "outputs": [
        {
          "output_type": "execute_result",
          "data": {
            "text/plain": [
              "array([5, 0, 5, ..., 6, 0, 0])"
            ]
          },
          "metadata": {
            "tags": []
          },
          "execution_count": 14
        }
      ]
    },
    {
      "cell_type": "code",
      "metadata": {
        "id": "xMBaOiULq7Fh",
        "colab_type": "code",
        "colab": {
          "base_uri": "https://localhost:8080/",
          "height": 33
        },
        "outputId": "ae66e3fc-7c65-4599-cf47-26a6864451b8"
      },
      "source": [
        "lbl_encoders"
      ],
      "execution_count": 15,
      "outputs": [
        {
          "output_type": "execute_result",
          "data": {
            "text/plain": [
              "{'MSSubClass': LabelEncoder()}"
            ]
          },
          "metadata": {
            "tags": []
          },
          "execution_count": 15
        }
      ]
    },
    {
      "cell_type": "code",
      "metadata": {
        "id": "tF3NVjSCq7Fj",
        "colab_type": "code",
        "colab": {}
      },
      "source": [
        "from sklearn.preprocessing import LabelEncoder\n",
        "lbl_encoders={}\n",
        "for feature in cat_features:\n",
        "    lbl_encoders[feature]=LabelEncoder()\n",
        "    df[feature]=lbl_encoders[feature].fit_transform(df[feature])"
      ],
      "execution_count": 16,
      "outputs": []
    },
    {
      "cell_type": "code",
      "metadata": {
        "id": "DkX5eJtOq7Fm",
        "colab_type": "code",
        "colab": {
          "base_uri": "https://localhost:8080/",
          "height": 196
        },
        "outputId": "9e697a22-a378-4d56-b28e-9a5590d0af52"
      },
      "source": [
        "df.head()"
      ],
      "execution_count": 17,
      "outputs": [
        {
          "output_type": "execute_result",
          "data": {
            "text/html": [
              "<div>\n",
              "<style scoped>\n",
              "    .dataframe tbody tr th:only-of-type {\n",
              "        vertical-align: middle;\n",
              "    }\n",
              "\n",
              "    .dataframe tbody tr th {\n",
              "        vertical-align: top;\n",
              "    }\n",
              "\n",
              "    .dataframe thead th {\n",
              "        text-align: right;\n",
              "    }\n",
              "</style>\n",
              "<table border=\"1\" class=\"dataframe\">\n",
              "  <thead>\n",
              "    <tr style=\"text-align: right;\">\n",
              "      <th></th>\n",
              "      <th>MSSubClass</th>\n",
              "      <th>MSZoning</th>\n",
              "      <th>LotFrontage</th>\n",
              "      <th>LotArea</th>\n",
              "      <th>Street</th>\n",
              "      <th>LotShape</th>\n",
              "      <th>1stFlrSF</th>\n",
              "      <th>2ndFlrSF</th>\n",
              "      <th>SalePrice</th>\n",
              "      <th>Total Years</th>\n",
              "    </tr>\n",
              "  </thead>\n",
              "  <tbody>\n",
              "    <tr>\n",
              "      <th>0</th>\n",
              "      <td>5</td>\n",
              "      <td>3</td>\n",
              "      <td>65.0</td>\n",
              "      <td>8450</td>\n",
              "      <td>1</td>\n",
              "      <td>3</td>\n",
              "      <td>856</td>\n",
              "      <td>854</td>\n",
              "      <td>208500</td>\n",
              "      <td>17</td>\n",
              "    </tr>\n",
              "    <tr>\n",
              "      <th>1</th>\n",
              "      <td>0</td>\n",
              "      <td>3</td>\n",
              "      <td>80.0</td>\n",
              "      <td>9600</td>\n",
              "      <td>1</td>\n",
              "      <td>3</td>\n",
              "      <td>1262</td>\n",
              "      <td>0</td>\n",
              "      <td>181500</td>\n",
              "      <td>44</td>\n",
              "    </tr>\n",
              "    <tr>\n",
              "      <th>2</th>\n",
              "      <td>5</td>\n",
              "      <td>3</td>\n",
              "      <td>68.0</td>\n",
              "      <td>11250</td>\n",
              "      <td>1</td>\n",
              "      <td>0</td>\n",
              "      <td>920</td>\n",
              "      <td>866</td>\n",
              "      <td>223500</td>\n",
              "      <td>19</td>\n",
              "    </tr>\n",
              "    <tr>\n",
              "      <th>3</th>\n",
              "      <td>6</td>\n",
              "      <td>3</td>\n",
              "      <td>60.0</td>\n",
              "      <td>9550</td>\n",
              "      <td>1</td>\n",
              "      <td>0</td>\n",
              "      <td>961</td>\n",
              "      <td>756</td>\n",
              "      <td>140000</td>\n",
              "      <td>105</td>\n",
              "    </tr>\n",
              "    <tr>\n",
              "      <th>4</th>\n",
              "      <td>5</td>\n",
              "      <td>3</td>\n",
              "      <td>84.0</td>\n",
              "      <td>14260</td>\n",
              "      <td>1</td>\n",
              "      <td>0</td>\n",
              "      <td>1145</td>\n",
              "      <td>1053</td>\n",
              "      <td>250000</td>\n",
              "      <td>20</td>\n",
              "    </tr>\n",
              "  </tbody>\n",
              "</table>\n",
              "</div>"
            ],
            "text/plain": [
              "   MSSubClass  MSZoning  LotFrontage  ...  2ndFlrSF  SalePrice  Total Years\n",
              "0           5         3         65.0  ...       854     208500           17\n",
              "1           0         3         80.0  ...         0     181500           44\n",
              "2           5         3         68.0  ...       866     223500           19\n",
              "3           6         3         60.0  ...       756     140000          105\n",
              "4           5         3         84.0  ...      1053     250000           20\n",
              "\n",
              "[5 rows x 10 columns]"
            ]
          },
          "metadata": {
            "tags": []
          },
          "execution_count": 17
        }
      ]
    },
    {
      "cell_type": "markdown",
      "metadata": {
        "id": "vkL7Q63TxCh6",
        "colab_type": "text"
      },
      "source": [
        "### Stacking and Converting Into Tensors"
      ]
    },
    {
      "cell_type": "code",
      "metadata": {
        "id": "OurVpHkaq7Fo",
        "colab_type": "code",
        "colab": {
          "base_uri": "https://localhost:8080/",
          "height": 134
        },
        "outputId": "bbe77922-7078-47bb-837b-dd53bac4a78c"
      },
      "source": [
        "import numpy as np\n",
        "\n",
        "cat_features=np.stack([df['MSSubClass'],df['MSZoning'],df['Street'],df['LotShape']],1)\n",
        "cat_features"
      ],
      "execution_count": 18,
      "outputs": [
        {
          "output_type": "execute_result",
          "data": {
            "text/plain": [
              "array([[5, 3, 1, 3],\n",
              "       [0, 3, 1, 3],\n",
              "       [5, 3, 1, 0],\n",
              "       ...,\n",
              "       [6, 3, 1, 3],\n",
              "       [0, 3, 1, 3],\n",
              "       [0, 3, 1, 3]])"
            ]
          },
          "metadata": {
            "tags": []
          },
          "execution_count": 18
        }
      ]
    },
    {
      "cell_type": "markdown",
      "metadata": {
        "id": "oxjwQVYGxOzQ",
        "colab_type": "text"
      },
      "source": [
        "### Convert numpy to Tensors"
      ]
    },
    {
      "cell_type": "markdown",
      "metadata": {
        "id": "xZoc8u1W0q9b",
        "colab_type": "text"
      },
      "source": [
        "**Note: CATEGORICAL FEATURES CAN NEVER BY CONVERTED TO FLOAT**"
      ]
    },
    {
      "cell_type": "code",
      "metadata": {
        "id": "TBJKdsovq7Fq",
        "colab_type": "code",
        "colab": {
          "base_uri": "https://localhost:8080/",
          "height": 134
        },
        "outputId": "4234c2a9-4165-44cc-c56c-6aebe9d47930"
      },
      "source": [
        "import torch\n",
        "cat_features=torch.tensor(cat_features,dtype=torch.int64)\n",
        "cat_features"
      ],
      "execution_count": 19,
      "outputs": [
        {
          "output_type": "execute_result",
          "data": {
            "text/plain": [
              "tensor([[5, 3, 1, 3],\n",
              "        [0, 3, 1, 3],\n",
              "        [5, 3, 1, 0],\n",
              "        ...,\n",
              "        [6, 3, 1, 3],\n",
              "        [0, 3, 1, 3],\n",
              "        [0, 3, 1, 3]])"
            ]
          },
          "metadata": {
            "tags": []
          },
          "execution_count": 19
        }
      ]
    },
    {
      "cell_type": "markdown",
      "metadata": {
        "id": "8nQXy965zHQB",
        "colab_type": "text"
      },
      "source": [
        "### Creating continuous variables"
      ]
    },
    {
      "cell_type": "code",
      "metadata": {
        "id": "3VMOSUGCq7Fs",
        "colab_type": "code",
        "colab": {}
      },
      "source": [
        "cont_features=[]\n",
        "for i in df.columns:\n",
        "    if i in [\"MSSubClass\", \"MSZoning\", \"Street\", \"LotShape\",\"SalePrice\"]:\n",
        "        pass\n",
        "    else:\n",
        "        cont_features.append(i)"
      ],
      "execution_count": 20,
      "outputs": []
    },
    {
      "cell_type": "code",
      "metadata": {
        "id": "iDICljhOq7Fy",
        "colab_type": "code",
        "colab": {
          "base_uri": "https://localhost:8080/",
          "height": 33
        },
        "outputId": "70720b51-2089-41c0-ce24-0705f9fd8868"
      },
      "source": [
        "cont_features"
      ],
      "execution_count": 21,
      "outputs": [
        {
          "output_type": "execute_result",
          "data": {
            "text/plain": [
              "['LotFrontage', 'LotArea', '1stFlrSF', '2ndFlrSF', 'Total Years']"
            ]
          },
          "metadata": {
            "tags": []
          },
          "execution_count": 21
        }
      ]
    },
    {
      "cell_type": "markdown",
      "metadata": {
        "id": "YekAtkKt1H7A",
        "colab_type": "text"
      },
      "source": [
        "### Stacking continuous variables to a tensor"
      ]
    },
    {
      "cell_type": "code",
      "metadata": {
        "id": "yXaZUFjEq7F0",
        "colab_type": "code",
        "colab": {
          "base_uri": "https://localhost:8080/",
          "height": 134
        },
        "outputId": "e2f93b71-255f-4e5e-cd0f-f497ee824198"
      },
      "source": [
        "cont_values=np.stack([df[i].values for i in cont_features],axis=1)\n",
        "cont_values=torch.tensor(cont_values,dtype=torch.float)\n",
        "cont_values"
      ],
      "execution_count": 22,
      "outputs": [
        {
          "output_type": "execute_result",
          "data": {
            "text/plain": [
              "tensor([[   65.,  8450.,   856.,   854.,    17.],\n",
              "        [   80.,  9600.,  1262.,     0.,    44.],\n",
              "        [   68., 11250.,   920.,   866.,    19.],\n",
              "        ...,\n",
              "        [   66.,  9042.,  1188.,  1152.,    79.],\n",
              "        [   68.,  9717.,  1078.,     0.,    70.],\n",
              "        [   75.,  9937.,  1256.,     0.,    55.]])"
            ]
          },
          "metadata": {
            "tags": []
          },
          "execution_count": 22
        }
      ]
    },
    {
      "cell_type": "code",
      "metadata": {
        "id": "asb13vzfq7F2",
        "colab_type": "code",
        "colab": {
          "base_uri": "https://localhost:8080/",
          "height": 33
        },
        "outputId": "0f0d5947-44ab-401a-fe86-e202130775ab"
      },
      "source": [
        "cont_values.dtype"
      ],
      "execution_count": 23,
      "outputs": [
        {
          "output_type": "execute_result",
          "data": {
            "text/plain": [
              "torch.float32"
            ]
          },
          "metadata": {
            "tags": []
          },
          "execution_count": 23
        }
      ]
    },
    {
      "cell_type": "markdown",
      "metadata": {
        "id": "VVkoMGlj2MXx",
        "colab_type": "text"
      },
      "source": [
        "### Dependent Feature"
      ]
    },
    {
      "cell_type": "code",
      "metadata": {
        "id": "nryZJUipq7F6",
        "colab_type": "code",
        "colab": {
          "base_uri": "https://localhost:8080/",
          "height": 134
        },
        "outputId": "70125347-c243-4bc1-8698-02744cf39f6a"
      },
      "source": [
        "y=torch.tensor(df['SalePrice'].values,dtype=torch.float).reshape(-1,1)\n",
        "y"
      ],
      "execution_count": 24,
      "outputs": [
        {
          "output_type": "execute_result",
          "data": {
            "text/plain": [
              "tensor([[208500.],\n",
              "        [181500.],\n",
              "        [223500.],\n",
              "        ...,\n",
              "        [266500.],\n",
              "        [142125.],\n",
              "        [147500.]])"
            ]
          },
          "metadata": {
            "tags": []
          },
          "execution_count": 24
        }
      ]
    },
    {
      "cell_type": "code",
      "metadata": {
        "id": "CSiHNZP3q7F8",
        "colab_type": "code",
        "colab": {
          "base_uri": "https://localhost:8080/",
          "height": 301
        },
        "outputId": "cf80e385-3fe7-4a1e-b783-a248be622495"
      },
      "source": [
        "df.info()"
      ],
      "execution_count": 25,
      "outputs": [
        {
          "output_type": "stream",
          "text": [
            "<class 'pandas.core.frame.DataFrame'>\n",
            "Int64Index: 1201 entries, 0 to 1459\n",
            "Data columns (total 10 columns):\n",
            " #   Column       Non-Null Count  Dtype  \n",
            "---  ------       --------------  -----  \n",
            " 0   MSSubClass   1201 non-null   int64  \n",
            " 1   MSZoning     1201 non-null   int64  \n",
            " 2   LotFrontage  1201 non-null   float64\n",
            " 3   LotArea      1201 non-null   int64  \n",
            " 4   Street       1201 non-null   int64  \n",
            " 5   LotShape     1201 non-null   int64  \n",
            " 6   1stFlrSF     1201 non-null   int64  \n",
            " 7   2ndFlrSF     1201 non-null   int64  \n",
            " 8   SalePrice    1201 non-null   int64  \n",
            " 9   Total Years  1201 non-null   int64  \n",
            "dtypes: float64(1), int64(9)\n",
            "memory usage: 103.2 KB\n"
          ],
          "name": "stdout"
        }
      ]
    },
    {
      "cell_type": "code",
      "metadata": {
        "id": "8-G_O5hsq7GA",
        "colab_type": "code",
        "colab": {
          "base_uri": "https://localhost:8080/",
          "height": 33
        },
        "outputId": "41e2dcff-0c98-4f82-8b07-b9ae79dd331e"
      },
      "source": [
        "cat_features.shape,cont_values.shape,y.shape"
      ],
      "execution_count": 26,
      "outputs": [
        {
          "output_type": "execute_result",
          "data": {
            "text/plain": [
              "(torch.Size([1201, 4]), torch.Size([1201, 5]), torch.Size([1201, 1]))"
            ]
          },
          "metadata": {
            "tags": []
          },
          "execution_count": 26
        }
      ]
    },
    {
      "cell_type": "code",
      "metadata": {
        "id": "gajqbSpfq7GD",
        "colab_type": "code",
        "colab": {
          "base_uri": "https://localhost:8080/",
          "height": 33
        },
        "outputId": "5605ff6e-5487-4289-c124-de3231e2f6c1"
      },
      "source": [
        "len(df['MSSubClass'].unique())"
      ],
      "execution_count": 27,
      "outputs": [
        {
          "output_type": "execute_result",
          "data": {
            "text/plain": [
              "15"
            ]
          },
          "metadata": {
            "tags": []
          },
          "execution_count": 27
        }
      ]
    },
    {
      "cell_type": "markdown",
      "metadata": {
        "id": "0ZfspjUq406q",
        "colab_type": "text"
      },
      "source": [
        "## Embedding Size For Categorical columns"
      ]
    },
    {
      "cell_type": "code",
      "metadata": {
        "id": "dMqecyv0q7GG",
        "colab_type": "code",
        "colab": {}
      },
      "source": [
        "cat_dims=[len(df[col].unique()) for col in [\"MSSubClass\", \"MSZoning\", \"Street\", \"LotShape\"]]"
      ],
      "execution_count": 28,
      "outputs": []
    },
    {
      "cell_type": "code",
      "metadata": {
        "id": "zZKuRD30q7GJ",
        "colab_type": "code",
        "colab": {
          "base_uri": "https://localhost:8080/",
          "height": 33
        },
        "outputId": "0beebc34-1083-49f1-82a8-aa4122aa5e04"
      },
      "source": [
        "cat_dims"
      ],
      "execution_count": 29,
      "outputs": [
        {
          "output_type": "execute_result",
          "data": {
            "text/plain": [
              "[15, 5, 2, 4]"
            ]
          },
          "metadata": {
            "tags": []
          },
          "execution_count": 29
        }
      ]
    },
    {
      "cell_type": "markdown",
      "metadata": {
        "id": "gfsIx6955jpe",
        "colab_type": "text"
      },
      "source": [
        "### Dimension of Output from the Embedding Layer\n",
        "\n",
        "* Output dimension should be set based on the input dimension\n",
        "\n",
        "* Should be min(50, feature dimension/2)\n",
        "\n",
        "* **Not more than 50 categorical values can be used**"
      ]
    },
    {
      "cell_type": "code",
      "metadata": {
        "id": "rhBePq6Aq7GL",
        "colab_type": "code",
        "colab": {}
      },
      "source": [
        "embedding_dim= [(x, min(50, (x + 1) // 2)) for x in cat_dims]"
      ],
      "execution_count": 30,
      "outputs": []
    },
    {
      "cell_type": "code",
      "metadata": {
        "id": "R4-wzuZwq7GO",
        "colab_type": "code",
        "colab": {
          "base_uri": "https://localhost:8080/",
          "height": 33
        },
        "outputId": "184e8a0d-a8fd-4202-8a9f-c0d57c619593"
      },
      "source": [
        "embedding_dim"
      ],
      "execution_count": 31,
      "outputs": [
        {
          "output_type": "execute_result",
          "data": {
            "text/plain": [
              "[(15, 8), (5, 3), (2, 1), (4, 2)]"
            ]
          },
          "metadata": {
            "tags": []
          },
          "execution_count": 31
        }
      ]
    },
    {
      "cell_type": "markdown",
      "metadata": {
        "id": "N4XYl0JIQnxi",
        "colab_type": "text"
      },
      "source": [
        "## Creating an Embedding Layer inside the Neural Network"
      ]
    },
    {
      "cell_type": "markdown",
      "metadata": {
        "id": "7c-hcg5SRP1f",
        "colab_type": "text"
      },
      "source": [
        "* ModuleList is used because we have many dimensions (4) in the embedding layer.\n",
        "\n",
        "* Embedding function creates the embedding layer using the list comprehension"
      ]
    },
    {
      "cell_type": "code",
      "metadata": {
        "id": "kJ9wv9LUq7GS",
        "colab_type": "code",
        "colab": {
          "base_uri": "https://localhost:8080/",
          "height": 117
        },
        "outputId": "6bb59ff5-cf6b-4813-c171-d30dd60f8966"
      },
      "source": [
        "import torch\n",
        "import torch.nn as nn\n",
        "import torch.nn.functional as F\n",
        "\n",
        "embed_representation=nn.ModuleList([nn.Embedding(inp,out) for inp,out in embedding_dim])\n",
        "embed_representation"
      ],
      "execution_count": 32,
      "outputs": [
        {
          "output_type": "execute_result",
          "data": {
            "text/plain": [
              "ModuleList(\n",
              "  (0): Embedding(15, 8)\n",
              "  (1): Embedding(5, 3)\n",
              "  (2): Embedding(2, 1)\n",
              "  (3): Embedding(4, 2)\n",
              ")"
            ]
          },
          "metadata": {
            "tags": []
          },
          "execution_count": 32
        }
      ]
    },
    {
      "cell_type": "code",
      "metadata": {
        "id": "oaIqY8Hzq7GV",
        "colab_type": "code",
        "colab": {
          "base_uri": "https://localhost:8080/",
          "height": 134
        },
        "outputId": "f02ac564-25f4-48c6-8797-531267875f5a"
      },
      "source": [
        "cat_features"
      ],
      "execution_count": 33,
      "outputs": [
        {
          "output_type": "execute_result",
          "data": {
            "text/plain": [
              "tensor([[5, 3, 1, 3],\n",
              "        [0, 3, 1, 3],\n",
              "        [5, 3, 1, 0],\n",
              "        ...,\n",
              "        [6, 3, 1, 3],\n",
              "        [0, 3, 1, 3],\n",
              "        [0, 3, 1, 3]])"
            ]
          },
          "metadata": {
            "tags": []
          },
          "execution_count": 33
        }
      ]
    },
    {
      "cell_type": "code",
      "metadata": {
        "id": "UfIp2eYYq7GW",
        "colab_type": "code",
        "colab": {
          "base_uri": "https://localhost:8080/",
          "height": 84
        },
        "outputId": "0cab79a6-abe6-4f10-e330-c04a24ebbde8"
      },
      "source": [
        "cat_featuresz=cat_features[:4]\n",
        "cat_featuresz"
      ],
      "execution_count": 34,
      "outputs": [
        {
          "output_type": "execute_result",
          "data": {
            "text/plain": [
              "tensor([[5, 3, 1, 3],\n",
              "        [0, 3, 1, 3],\n",
              "        [5, 3, 1, 0],\n",
              "        [6, 3, 1, 0]])"
            ]
          },
          "metadata": {
            "tags": []
          },
          "execution_count": 34
        }
      ]
    },
    {
      "cell_type": "code",
      "metadata": {
        "id": "KS4xrc-eq7GZ",
        "colab_type": "code",
        "colab": {}
      },
      "source": [
        "pd.set_option('display.max_rows', 500)\n",
        "embedding_val=[]\n",
        "for i,e in enumerate(embed_representation):\n",
        "    embedding_val.append(e(cat_features[:,i]))"
      ],
      "execution_count": 35,
      "outputs": []
    },
    {
      "cell_type": "code",
      "metadata": {
        "id": "Qm4D0_Kiq7Gb",
        "colab_type": "code",
        "colab": {
          "base_uri": "https://localhost:8080/",
          "height": 452
        },
        "outputId": "0ddf1826-0f3a-47f8-d42e-93060a9d9b23"
      },
      "source": [
        "embedding_val"
      ],
      "execution_count": 36,
      "outputs": [
        {
          "output_type": "execute_result",
          "data": {
            "text/plain": [
              "[tensor([[-1.9940,  1.0335, -0.1425,  ..., -1.6050, -1.1309,  1.7972],\n",
              "         [ 0.0833,  1.2504,  0.3971,  ..., -0.0728, -1.2149, -1.7660],\n",
              "         [-1.9940,  1.0335, -0.1425,  ..., -1.6050, -1.1309,  1.7972],\n",
              "         ...,\n",
              "         [ 0.6523,  0.6793, -0.3254,  ..., -0.5404, -0.7510,  0.5988],\n",
              "         [ 0.0833,  1.2504,  0.3971,  ..., -0.0728, -1.2149, -1.7660],\n",
              "         [ 0.0833,  1.2504,  0.3971,  ..., -0.0728, -1.2149, -1.7660]],\n",
              "        grad_fn=<EmbeddingBackward>), tensor([[ 0.6301, -0.8992,  0.4286],\n",
              "         [ 0.6301, -0.8992,  0.4286],\n",
              "         [ 0.6301, -0.8992,  0.4286],\n",
              "         ...,\n",
              "         [ 0.6301, -0.8992,  0.4286],\n",
              "         [ 0.6301, -0.8992,  0.4286],\n",
              "         [ 0.6301, -0.8992,  0.4286]], grad_fn=<EmbeddingBackward>), tensor([[0.5735],\n",
              "         [0.5735],\n",
              "         [0.5735],\n",
              "         ...,\n",
              "         [0.5735],\n",
              "         [0.5735],\n",
              "         [0.5735]], grad_fn=<EmbeddingBackward>), tensor([[ 0.9473,  0.5288],\n",
              "         [ 0.9473,  0.5288],\n",
              "         [-0.3506, -0.5410],\n",
              "         ...,\n",
              "         [ 0.9473,  0.5288],\n",
              "         [ 0.9473,  0.5288],\n",
              "         [ 0.9473,  0.5288]], grad_fn=<EmbeddingBackward>)]"
            ]
          },
          "metadata": {
            "tags": []
          },
          "execution_count": 36
        }
      ]
    },
    {
      "cell_type": "code",
      "metadata": {
        "id": "efZpc2I3SgRl",
        "colab_type": "code",
        "colab": {
          "base_uri": "https://localhost:8080/",
          "height": 33
        },
        "outputId": "38cb13f9-669d-48dc-be45-ba401b3db8be"
      },
      "source": [
        "len(embedding_val[0][0])"
      ],
      "execution_count": 38,
      "outputs": [
        {
          "output_type": "execute_result",
          "data": {
            "text/plain": [
              "8"
            ]
          },
          "metadata": {
            "tags": []
          },
          "execution_count": 38
        }
      ]
    },
    {
      "cell_type": "markdown",
      "metadata": {
        "id": "SqUgtFKUTBs2",
        "colab_type": "text"
      },
      "source": [
        "### Stacking the embedded values column wise"
      ]
    },
    {
      "cell_type": "code",
      "metadata": {
        "id": "qe4Rrgmyq7Gd",
        "colab_type": "code",
        "colab": {
          "base_uri": "https://localhost:8080/",
          "height": 150
        },
        "outputId": "3f62fa52-2ce1-48bc-c849-498101d6c10c"
      },
      "source": [
        "z = torch.cat(embedding_val, 1)\n",
        "z"
      ],
      "execution_count": 39,
      "outputs": [
        {
          "output_type": "execute_result",
          "data": {
            "text/plain": [
              "tensor([[-1.9940,  1.0335, -0.1425,  ...,  0.5735,  0.9473,  0.5288],\n",
              "        [ 0.0833,  1.2504,  0.3971,  ...,  0.5735,  0.9473,  0.5288],\n",
              "        [-1.9940,  1.0335, -0.1425,  ...,  0.5735, -0.3506, -0.5410],\n",
              "        ...,\n",
              "        [ 0.6523,  0.6793, -0.3254,  ...,  0.5735,  0.9473,  0.5288],\n",
              "        [ 0.0833,  1.2504,  0.3971,  ...,  0.5735,  0.9473,  0.5288],\n",
              "        [ 0.0833,  1.2504,  0.3971,  ...,  0.5735,  0.9473,  0.5288]],\n",
              "       grad_fn=<CatBackward>)"
            ]
          },
          "metadata": {
            "tags": []
          },
          "execution_count": 39
        }
      ]
    },
    {
      "cell_type": "markdown",
      "metadata": {
        "id": "5ClH4UeLTMZD",
        "colab_type": "text"
      },
      "source": [
        "### Implement dropout - Regularization Method (Prevents Overfitting)"
      ]
    },
    {
      "cell_type": "code",
      "metadata": {
        "id": "WS3L2HZ6q7Ge",
        "colab_type": "code",
        "colab": {}
      },
      "source": [
        "# 40% values are dropped out.\n",
        "\n",
        "droput=nn.Dropout(.4)"
      ],
      "execution_count": 40,
      "outputs": []
    },
    {
      "cell_type": "code",
      "metadata": {
        "id": "vnQ3m1JEq7Gh",
        "colab_type": "code",
        "colab": {
          "base_uri": "https://localhost:8080/",
          "height": 150
        },
        "outputId": "0f1589bc-820b-473f-aa23-62d9fb85a2e4"
      },
      "source": [
        "final_embed=droput(z)\n",
        "final_embed"
      ],
      "execution_count": 41,
      "outputs": [
        {
          "output_type": "execute_result",
          "data": {
            "text/plain": [
              "tensor([[-3.3233,  0.0000, -0.2374,  ...,  0.0000,  0.0000,  0.0000],\n",
              "        [ 0.0000,  2.0839,  0.0000,  ...,  0.9558,  1.5788,  0.0000],\n",
              "        [-0.0000,  1.7224, -0.2374,  ...,  0.9558, -0.5843, -0.9016],\n",
              "        ...,\n",
              "        [ 0.0000,  1.1322, -0.5424,  ...,  0.9558,  0.0000,  0.8814],\n",
              "        [ 0.0000,  2.0839,  0.0000,  ...,  0.0000,  1.5788,  0.8814],\n",
              "        [ 0.1389,  2.0839,  0.0000,  ...,  0.0000,  0.0000,  0.8814]],\n",
              "       grad_fn=<MulBackward0>)"
            ]
          },
          "metadata": {
            "tags": []
          },
          "execution_count": 41
        }
      ]
    },
    {
      "cell_type": "markdown",
      "metadata": {
        "id": "960-au4nT5wO",
        "colab_type": "text"
      },
      "source": [
        "## Create a Feed Forward Neural Network"
      ]
    },
    {
      "cell_type": "code",
      "metadata": {
        "id": "h8i3r9Hgq7Gj",
        "colab_type": "code",
        "colab": {}
      },
      "source": [
        "import torch\n",
        "import torch.nn as nn\n",
        "import torch.nn.functional as F\n",
        "class FeedForwardNN(nn.Module):\n",
        "\n",
        "    def __init__(self, embedding_dim, n_cont, out_sz, layers, p=0.5):\n",
        "        super().__init__()\n",
        "        self.embeds = nn.ModuleList([nn.Embedding(inp,out) for inp,out in embedding_dim])\n",
        "        self.emb_drop = nn.Dropout(p)\n",
        "        self.bn_cont = nn.BatchNorm1d(n_cont)\n",
        "        \n",
        "        layerlist = []\n",
        "        n_emb = sum((out for inp,out in embedding_dim))\n",
        "\n",
        "        # Input feature = Embedding Layers + Continuous Variables\n",
        "        n_in = n_emb + n_cont\n",
        "        \n",
        "        for i in layers:\n",
        "            layerlist.append(nn.Linear(n_in,i)) \n",
        "            layerlist.append(nn.ReLU(inplace=True))\n",
        "            layerlist.append(nn.BatchNorm1d(i))\n",
        "            layerlist.append(nn.Dropout(p))\n",
        "            n_in = i\n",
        "        layerlist.append(nn.Linear(layers[-1],out_sz))\n",
        "            \n",
        "        self.layers = nn.Sequential(*layerlist)\n",
        "    \n",
        "    def forward(self, x_cat, x_cont):\n",
        "        embeddings = []\n",
        "        for i,e in enumerate(self.embeds):\n",
        "            embeddings.append(e(x_cat[:,i]))\n",
        "        x = torch.cat(embeddings, 1)\n",
        "        x = self.emb_drop(x)\n",
        "        \n",
        "        x_cont = self.bn_cont(x_cont)\n",
        "        x = torch.cat([x, x_cont], 1)\n",
        "        x = self.layers(x)\n",
        "        return x"
      ],
      "execution_count": 42,
      "outputs": []
    },
    {
      "cell_type": "code",
      "metadata": {
        "id": "xedJonNwq7Gl",
        "colab_type": "code",
        "colab": {
          "base_uri": "https://localhost:8080/",
          "height": 33
        },
        "outputId": "cf191ca1-57ca-46b6-b213-e153cc604247"
      },
      "source": [
        "len(cont_features)"
      ],
      "execution_count": 43,
      "outputs": [
        {
          "output_type": "execute_result",
          "data": {
            "text/plain": [
              "5"
            ]
          },
          "metadata": {
            "tags": []
          },
          "execution_count": 43
        }
      ]
    },
    {
      "cell_type": "code",
      "metadata": {
        "id": "C3IWkSh-q7Go",
        "colab_type": "code",
        "colab": {}
      },
      "source": [
        "torch.manual_seed(100)\n",
        "model=FeedForwardNN(embedding_dim,len(cont_features),1,[100,50],p=0.4)"
      ],
      "execution_count": 44,
      "outputs": []
    },
    {
      "cell_type": "markdown",
      "metadata": {
        "id": "_GqyA9-9YptW",
        "colab_type": "text"
      },
      "source": [
        "* ReLU activation function is used because it is a regression problem."
      ]
    },
    {
      "cell_type": "code",
      "metadata": {
        "id": "9Q_S6_lsq7Gu",
        "colab_type": "code",
        "colab": {
          "base_uri": "https://localhost:8080/",
          "height": 368
        },
        "outputId": "550e22a9-3f4c-4c83-ab51-c9e7861efa34"
      },
      "source": [
        "model"
      ],
      "execution_count": 45,
      "outputs": [
        {
          "output_type": "execute_result",
          "data": {
            "text/plain": [
              "FeedForwardNN(\n",
              "  (embeds): ModuleList(\n",
              "    (0): Embedding(15, 8)\n",
              "    (1): Embedding(5, 3)\n",
              "    (2): Embedding(2, 1)\n",
              "    (3): Embedding(4, 2)\n",
              "  )\n",
              "  (emb_drop): Dropout(p=0.4, inplace=False)\n",
              "  (bn_cont): BatchNorm1d(5, eps=1e-05, momentum=0.1, affine=True, track_running_stats=True)\n",
              "  (layers): Sequential(\n",
              "    (0): Linear(in_features=19, out_features=100, bias=True)\n",
              "    (1): ReLU(inplace=True)\n",
              "    (2): BatchNorm1d(100, eps=1e-05, momentum=0.1, affine=True, track_running_stats=True)\n",
              "    (3): Dropout(p=0.4, inplace=False)\n",
              "    (4): Linear(in_features=100, out_features=50, bias=True)\n",
              "    (5): ReLU(inplace=True)\n",
              "    (6): BatchNorm1d(50, eps=1e-05, momentum=0.1, affine=True, track_running_stats=True)\n",
              "    (7): Dropout(p=0.4, inplace=False)\n",
              "    (8): Linear(in_features=50, out_features=1, bias=True)\n",
              "  )\n",
              ")"
            ]
          },
          "metadata": {
            "tags": []
          },
          "execution_count": 45
        }
      ]
    },
    {
      "cell_type": "markdown",
      "metadata": {
        "id": "7twuGet9q7Gw",
        "colab_type": "text"
      },
      "source": [
        "### Define Loss And Optimizer"
      ]
    },
    {
      "cell_type": "code",
      "metadata": {
        "id": "U9QZXIirY7h4",
        "colab_type": "code",
        "colab": {
          "base_uri": "https://localhost:8080/",
          "height": 368
        },
        "outputId": "6df6079d-9f6c-45b3-9271-6250c7b7d8bd"
      },
      "source": [
        "model.parameters"
      ],
      "execution_count": 46,
      "outputs": [
        {
          "output_type": "execute_result",
          "data": {
            "text/plain": [
              "<bound method Module.parameters of FeedForwardNN(\n",
              "  (embeds): ModuleList(\n",
              "    (0): Embedding(15, 8)\n",
              "    (1): Embedding(5, 3)\n",
              "    (2): Embedding(2, 1)\n",
              "    (3): Embedding(4, 2)\n",
              "  )\n",
              "  (emb_drop): Dropout(p=0.4, inplace=False)\n",
              "  (bn_cont): BatchNorm1d(5, eps=1e-05, momentum=0.1, affine=True, track_running_stats=True)\n",
              "  (layers): Sequential(\n",
              "    (0): Linear(in_features=19, out_features=100, bias=True)\n",
              "    (1): ReLU(inplace=True)\n",
              "    (2): BatchNorm1d(100, eps=1e-05, momentum=0.1, affine=True, track_running_stats=True)\n",
              "    (3): Dropout(p=0.4, inplace=False)\n",
              "    (4): Linear(in_features=100, out_features=50, bias=True)\n",
              "    (5): ReLU(inplace=True)\n",
              "    (6): BatchNorm1d(50, eps=1e-05, momentum=0.1, affine=True, track_running_stats=True)\n",
              "    (7): Dropout(p=0.4, inplace=False)\n",
              "    (8): Linear(in_features=50, out_features=1, bias=True)\n",
              "  )\n",
              ")>"
            ]
          },
          "metadata": {
            "tags": []
          },
          "execution_count": 46
        }
      ]
    },
    {
      "cell_type": "code",
      "metadata": {
        "id": "PWe9TZ2Jq7Gx",
        "colab_type": "code",
        "colab": {}
      },
      "source": [
        "# Later converted to Root Mean Squared Error\n",
        "\n",
        "loss_function=nn.MSELoss()\n",
        "optimizer=torch.optim.Adam(model.parameters(),lr=0.01)"
      ],
      "execution_count": 47,
      "outputs": []
    },
    {
      "cell_type": "code",
      "metadata": {
        "id": "WSeBUy2Dq7G1",
        "colab_type": "code",
        "colab": {
          "base_uri": "https://localhost:8080/",
          "height": 33
        },
        "outputId": "20ecbc8d-3701-4fde-bb37-cc45785bec59"
      },
      "source": [
        "df.shape"
      ],
      "execution_count": 48,
      "outputs": [
        {
          "output_type": "execute_result",
          "data": {
            "text/plain": [
              "(1201, 10)"
            ]
          },
          "metadata": {
            "tags": []
          },
          "execution_count": 48
        }
      ]
    },
    {
      "cell_type": "code",
      "metadata": {
        "id": "1094IPz0q7G3",
        "colab_type": "code",
        "colab": {
          "base_uri": "https://localhost:8080/",
          "height": 134
        },
        "outputId": "2dbf2b71-ffa6-480e-f39c-ff0a9ac340f5"
      },
      "source": [
        "cont_values"
      ],
      "execution_count": 49,
      "outputs": [
        {
          "output_type": "execute_result",
          "data": {
            "text/plain": [
              "tensor([[   65.,  8450.,   856.,   854.,    17.],\n",
              "        [   80.,  9600.,  1262.,     0.,    44.],\n",
              "        [   68., 11250.,   920.,   866.,    19.],\n",
              "        ...,\n",
              "        [   66.,  9042.,  1188.,  1152.,    79.],\n",
              "        [   68.,  9717.,  1078.,     0.,    70.],\n",
              "        [   75.,  9937.,  1256.,     0.,    55.]])"
            ]
          },
          "metadata": {
            "tags": []
          },
          "execution_count": 49
        }
      ]
    },
    {
      "cell_type": "code",
      "metadata": {
        "id": "rFcbaTJ1q7G6",
        "colab_type": "code",
        "colab": {
          "base_uri": "https://localhost:8080/",
          "height": 33
        },
        "outputId": "4ca9fd94-8c1a-4a02-d0d0-b7e754e42f17"
      },
      "source": [
        "cont_values.shape"
      ],
      "execution_count": 50,
      "outputs": [
        {
          "output_type": "execute_result",
          "data": {
            "text/plain": [
              "torch.Size([1201, 5])"
            ]
          },
          "metadata": {
            "tags": []
          },
          "execution_count": 50
        }
      ]
    },
    {
      "cell_type": "code",
      "metadata": {
        "id": "uMGMs1ZIq7G8",
        "colab_type": "code",
        "colab": {}
      },
      "source": [
        "batch_size=1200\n",
        "test_size=int(batch_size*0.15)\n",
        "train_categorical=cat_features[:batch_size-test_size]\n",
        "test_categorical=cat_features[batch_size-test_size:batch_size]\n",
        "train_cont=cont_values[:batch_size-test_size]\n",
        "test_cont=cont_values[batch_size-test_size:batch_size]\n",
        "y_train=y[:batch_size-test_size]\n",
        "y_test=y[batch_size-test_size:batch_size]"
      ],
      "execution_count": 51,
      "outputs": []
    },
    {
      "cell_type": "code",
      "metadata": {
        "id": "p0sOEKfPq7G9",
        "colab_type": "code",
        "colab": {
          "base_uri": "https://localhost:8080/",
          "height": 33
        },
        "outputId": "f134e54d-5de7-4cad-ace5-d85075074363"
      },
      "source": [
        "len(train_categorical),len(test_categorical),len(train_cont),len(test_cont),len(y_train),len(y_test)"
      ],
      "execution_count": 52,
      "outputs": [
        {
          "output_type": "execute_result",
          "data": {
            "text/plain": [
              "(1020, 180, 1020, 180, 1020, 180)"
            ]
          },
          "metadata": {
            "tags": []
          },
          "execution_count": 52
        }
      ]
    },
    {
      "cell_type": "code",
      "metadata": {
        "id": "3dNLQO8cq7HA",
        "colab_type": "code",
        "colab": {
          "base_uri": "https://localhost:8080/",
          "height": 1000
        },
        "outputId": "a41161c6-4b86-415e-9aba-dffdcffc4aa0"
      },
      "source": [
        "epochs=5000\n",
        "final_losses=[]\n",
        "for i in range(epochs):\n",
        "    i=i+1\n",
        "    y_pred=model(train_categorical,train_cont)\n",
        "\n",
        "    # RMSE\n",
        "    loss=torch.sqrt(loss_function(y_pred,y_train)) \n",
        "    final_losses.append(loss)\n",
        "    if i%10==1:\n",
        "        print(\"Epoch number: {} and the loss : {}\".format(i,loss.item()))\n",
        "    optimizer.zero_grad()\n",
        "    loss.backward()\n",
        "    optimizer.step()"
      ],
      "execution_count": 53,
      "outputs": [
        {
          "output_type": "stream",
          "text": [
            "Epoch number: 1 and the loss : 200496.78125\n",
            "Epoch number: 11 and the loss : 200493.4375\n",
            "Epoch number: 21 and the loss : 200489.15625\n",
            "Epoch number: 31 and the loss : 200482.609375\n",
            "Epoch number: 41 and the loss : 200473.265625\n",
            "Epoch number: 51 and the loss : 200461.359375\n",
            "Epoch number: 61 and the loss : 200446.390625\n",
            "Epoch number: 71 and the loss : 200429.359375\n",
            "Epoch number: 81 and the loss : 200408.0\n",
            "Epoch number: 91 and the loss : 200383.421875\n",
            "Epoch number: 101 and the loss : 200355.3125\n",
            "Epoch number: 111 and the loss : 200322.125\n",
            "Epoch number: 121 and the loss : 200291.40625\n",
            "Epoch number: 131 and the loss : 200252.0\n",
            "Epoch number: 141 and the loss : 200206.625\n",
            "Epoch number: 151 and the loss : 200162.25\n",
            "Epoch number: 161 and the loss : 200112.25\n",
            "Epoch number: 171 and the loss : 200059.796875\n",
            "Epoch number: 181 and the loss : 200005.8125\n",
            "Epoch number: 191 and the loss : 199946.1875\n",
            "Epoch number: 201 and the loss : 199881.546875\n",
            "Epoch number: 211 and the loss : 199815.828125\n",
            "Epoch number: 221 and the loss : 199737.25\n",
            "Epoch number: 231 and the loss : 199669.640625\n",
            "Epoch number: 241 and the loss : 199588.796875\n",
            "Epoch number: 251 and the loss : 199505.765625\n",
            "Epoch number: 261 and the loss : 199411.03125\n",
            "Epoch number: 271 and the loss : 199326.203125\n",
            "Epoch number: 281 and the loss : 199244.265625\n",
            "Epoch number: 291 and the loss : 199140.5\n",
            "Epoch number: 301 and the loss : 199026.96875\n",
            "Epoch number: 311 and the loss : 198931.984375\n",
            "Epoch number: 321 and the loss : 198844.59375\n",
            "Epoch number: 331 and the loss : 198694.125\n",
            "Epoch number: 341 and the loss : 198605.078125\n",
            "Epoch number: 351 and the loss : 198504.15625\n",
            "Epoch number: 361 and the loss : 198383.453125\n",
            "Epoch number: 371 and the loss : 198243.875\n",
            "Epoch number: 381 and the loss : 198103.96875\n",
            "Epoch number: 391 and the loss : 198017.0\n",
            "Epoch number: 401 and the loss : 197889.40625\n",
            "Epoch number: 411 and the loss : 197730.28125\n",
            "Epoch number: 421 and the loss : 197594.484375\n",
            "Epoch number: 431 and the loss : 197419.1875\n",
            "Epoch number: 441 and the loss : 197284.4375\n",
            "Epoch number: 451 and the loss : 197177.65625\n",
            "Epoch number: 461 and the loss : 196967.453125\n",
            "Epoch number: 471 and the loss : 196880.796875\n",
            "Epoch number: 481 and the loss : 196704.875\n",
            "Epoch number: 491 and the loss : 196503.734375\n",
            "Epoch number: 501 and the loss : 196432.296875\n",
            "Epoch number: 511 and the loss : 196208.109375\n",
            "Epoch number: 521 and the loss : 196045.890625\n",
            "Epoch number: 531 and the loss : 195880.671875\n",
            "Epoch number: 541 and the loss : 195663.84375\n",
            "Epoch number: 551 and the loss : 195497.546875\n",
            "Epoch number: 561 and the loss : 195290.671875\n",
            "Epoch number: 571 and the loss : 195074.1875\n",
            "Epoch number: 581 and the loss : 194839.453125\n",
            "Epoch number: 591 and the loss : 194691.296875\n",
            "Epoch number: 601 and the loss : 194530.453125\n",
            "Epoch number: 611 and the loss : 194272.6875\n",
            "Epoch number: 621 and the loss : 194122.125\n",
            "Epoch number: 631 and the loss : 193830.890625\n",
            "Epoch number: 641 and the loss : 193685.484375\n",
            "Epoch number: 651 and the loss : 193475.65625\n",
            "Epoch number: 661 and the loss : 193223.625\n",
            "Epoch number: 671 and the loss : 193058.03125\n",
            "Epoch number: 681 and the loss : 192778.78125\n",
            "Epoch number: 691 and the loss : 192498.359375\n",
            "Epoch number: 701 and the loss : 192299.3125\n",
            "Epoch number: 711 and the loss : 192207.765625\n",
            "Epoch number: 721 and the loss : 192026.625\n",
            "Epoch number: 731 and the loss : 191636.6875\n",
            "Epoch number: 741 and the loss : 191512.1875\n",
            "Epoch number: 751 and the loss : 191196.5625\n",
            "Epoch number: 761 and the loss : 190986.65625\n",
            "Epoch number: 771 and the loss : 190729.53125\n",
            "Epoch number: 781 and the loss : 190464.515625\n",
            "Epoch number: 791 and the loss : 190280.671875\n",
            "Epoch number: 801 and the loss : 189874.28125\n",
            "Epoch number: 811 and the loss : 189753.3125\n",
            "Epoch number: 821 and the loss : 189661.359375\n",
            "Epoch number: 831 and the loss : 189288.84375\n",
            "Epoch number: 841 and the loss : 188941.234375\n",
            "Epoch number: 851 and the loss : 188843.421875\n",
            "Epoch number: 861 and the loss : 188393.609375\n",
            "Epoch number: 871 and the loss : 188171.140625\n",
            "Epoch number: 881 and the loss : 187892.8125\n",
            "Epoch number: 891 and the loss : 187477.875\n",
            "Epoch number: 901 and the loss : 187439.59375\n",
            "Epoch number: 911 and the loss : 187233.203125\n",
            "Epoch number: 921 and the loss : 186804.46875\n",
            "Epoch number: 931 and the loss : 186380.671875\n",
            "Epoch number: 941 and the loss : 186142.625\n",
            "Epoch number: 951 and the loss : 185960.546875\n",
            "Epoch number: 961 and the loss : 185525.21875\n",
            "Epoch number: 971 and the loss : 185286.046875\n",
            "Epoch number: 981 and the loss : 185261.734375\n",
            "Epoch number: 991 and the loss : 184791.046875\n",
            "Epoch number: 1001 and the loss : 184303.5625\n",
            "Epoch number: 1011 and the loss : 184003.046875\n",
            "Epoch number: 1021 and the loss : 183797.140625\n",
            "Epoch number: 1031 and the loss : 183369.8125\n",
            "Epoch number: 1041 and the loss : 183233.171875\n",
            "Epoch number: 1051 and the loss : 182897.15625\n",
            "Epoch number: 1061 and the loss : 182756.75\n",
            "Epoch number: 1071 and the loss : 182305.390625\n",
            "Epoch number: 1081 and the loss : 181908.6875\n",
            "Epoch number: 1091 and the loss : 181493.75\n",
            "Epoch number: 1101 and the loss : 181296.46875\n",
            "Epoch number: 1111 and the loss : 180749.3125\n",
            "Epoch number: 1121 and the loss : 180474.96875\n",
            "Epoch number: 1131 and the loss : 180411.40625\n",
            "Epoch number: 1141 and the loss : 179917.796875\n",
            "Epoch number: 1151 and the loss : 179520.40625\n",
            "Epoch number: 1161 and the loss : 179362.703125\n",
            "Epoch number: 1171 and the loss : 178925.71875\n",
            "Epoch number: 1181 and the loss : 178540.375\n",
            "Epoch number: 1191 and the loss : 178103.1875\n",
            "Epoch number: 1201 and the loss : 178084.953125\n",
            "Epoch number: 1211 and the loss : 177440.71875\n",
            "Epoch number: 1221 and the loss : 177459.90625\n",
            "Epoch number: 1231 and the loss : 176569.65625\n",
            "Epoch number: 1241 and the loss : 176320.421875\n",
            "Epoch number: 1251 and the loss : 175505.015625\n",
            "Epoch number: 1261 and the loss : 175565.609375\n",
            "Epoch number: 1271 and the loss : 175246.015625\n",
            "Epoch number: 1281 and the loss : 174914.109375\n",
            "Epoch number: 1291 and the loss : 174471.265625\n",
            "Epoch number: 1301 and the loss : 174210.421875\n",
            "Epoch number: 1311 and the loss : 173658.546875\n",
            "Epoch number: 1321 and the loss : 173111.765625\n",
            "Epoch number: 1331 and the loss : 173405.9375\n",
            "Epoch number: 1341 and the loss : 172628.484375\n",
            "Epoch number: 1351 and the loss : 172276.0625\n",
            "Epoch number: 1361 and the loss : 172004.640625\n",
            "Epoch number: 1371 and the loss : 171816.234375\n",
            "Epoch number: 1381 and the loss : 171322.734375\n",
            "Epoch number: 1391 and the loss : 170380.109375\n",
            "Epoch number: 1401 and the loss : 170471.953125\n",
            "Epoch number: 1411 and the loss : 169653.84375\n",
            "Epoch number: 1421 and the loss : 169844.546875\n",
            "Epoch number: 1431 and the loss : 169650.515625\n",
            "Epoch number: 1441 and the loss : 168659.609375\n",
            "Epoch number: 1451 and the loss : 168564.0625\n",
            "Epoch number: 1461 and the loss : 167951.859375\n",
            "Epoch number: 1471 and the loss : 167613.015625\n",
            "Epoch number: 1481 and the loss : 167345.875\n",
            "Epoch number: 1491 and the loss : 166591.0625\n",
            "Epoch number: 1501 and the loss : 166339.859375\n",
            "Epoch number: 1511 and the loss : 165579.453125\n",
            "Epoch number: 1521 and the loss : 165820.1875\n",
            "Epoch number: 1531 and the loss : 165515.5\n",
            "Epoch number: 1541 and the loss : 164851.640625\n",
            "Epoch number: 1551 and the loss : 164743.109375\n",
            "Epoch number: 1561 and the loss : 163687.5625\n",
            "Epoch number: 1571 and the loss : 163462.453125\n",
            "Epoch number: 1581 and the loss : 163085.703125\n",
            "Epoch number: 1591 and the loss : 162952.78125\n",
            "Epoch number: 1601 and the loss : 162482.375\n",
            "Epoch number: 1611 and the loss : 161681.515625\n",
            "Epoch number: 1621 and the loss : 160775.25\n",
            "Epoch number: 1631 and the loss : 160810.6875\n",
            "Epoch number: 1641 and the loss : 160633.109375\n",
            "Epoch number: 1651 and the loss : 160130.4375\n",
            "Epoch number: 1661 and the loss : 160152.375\n",
            "Epoch number: 1671 and the loss : 159077.078125\n",
            "Epoch number: 1681 and the loss : 158377.4375\n",
            "Epoch number: 1691 and the loss : 158333.84375\n",
            "Epoch number: 1701 and the loss : 157657.8125\n",
            "Epoch number: 1711 and the loss : 157348.734375\n",
            "Epoch number: 1721 and the loss : 157138.125\n",
            "Epoch number: 1731 and the loss : 156711.859375\n",
            "Epoch number: 1741 and the loss : 156259.5\n",
            "Epoch number: 1751 and the loss : 156171.8125\n",
            "Epoch number: 1761 and the loss : 154753.453125\n",
            "Epoch number: 1771 and the loss : 154650.75\n",
            "Epoch number: 1781 and the loss : 154439.578125\n",
            "Epoch number: 1791 and the loss : 153716.875\n",
            "Epoch number: 1801 and the loss : 153738.609375\n",
            "Epoch number: 1811 and the loss : 152830.1875\n",
            "Epoch number: 1821 and the loss : 152309.46875\n",
            "Epoch number: 1831 and the loss : 152448.359375\n",
            "Epoch number: 1841 and the loss : 151628.09375\n",
            "Epoch number: 1851 and the loss : 150717.875\n",
            "Epoch number: 1861 and the loss : 150833.5\n",
            "Epoch number: 1871 and the loss : 150570.0625\n",
            "Epoch number: 1881 and the loss : 149636.09375\n",
            "Epoch number: 1891 and the loss : 148813.921875\n",
            "Epoch number: 1901 and the loss : 148658.140625\n",
            "Epoch number: 1911 and the loss : 148903.59375\n",
            "Epoch number: 1921 and the loss : 147781.328125\n",
            "Epoch number: 1931 and the loss : 147365.109375\n",
            "Epoch number: 1941 and the loss : 146713.953125\n",
            "Epoch number: 1951 and the loss : 146620.515625\n",
            "Epoch number: 1961 and the loss : 146007.59375\n",
            "Epoch number: 1971 and the loss : 145559.03125\n",
            "Epoch number: 1981 and the loss : 145807.78125\n",
            "Epoch number: 1991 and the loss : 144714.609375\n",
            "Epoch number: 2001 and the loss : 144213.703125\n",
            "Epoch number: 2011 and the loss : 143075.03125\n",
            "Epoch number: 2021 and the loss : 143022.25\n",
            "Epoch number: 2031 and the loss : 142567.484375\n",
            "Epoch number: 2041 and the loss : 142025.078125\n",
            "Epoch number: 2051 and the loss : 141205.09375\n",
            "Epoch number: 2061 and the loss : 140984.875\n",
            "Epoch number: 2071 and the loss : 140998.0625\n",
            "Epoch number: 2081 and the loss : 139757.03125\n",
            "Epoch number: 2091 and the loss : 139764.6875\n",
            "Epoch number: 2101 and the loss : 139943.484375\n",
            "Epoch number: 2111 and the loss : 138724.109375\n",
            "Epoch number: 2121 and the loss : 137914.53125\n",
            "Epoch number: 2131 and the loss : 137977.15625\n",
            "Epoch number: 2141 and the loss : 137237.765625\n",
            "Epoch number: 2151 and the loss : 136609.03125\n",
            "Epoch number: 2161 and the loss : 136455.21875\n",
            "Epoch number: 2171 and the loss : 136887.25\n",
            "Epoch number: 2181 and the loss : 135967.78125\n",
            "Epoch number: 2191 and the loss : 134839.515625\n",
            "Epoch number: 2201 and the loss : 134191.625\n",
            "Epoch number: 2211 and the loss : 133769.5625\n",
            "Epoch number: 2221 and the loss : 132845.96875\n",
            "Epoch number: 2231 and the loss : 132616.359375\n",
            "Epoch number: 2241 and the loss : 131460.5\n",
            "Epoch number: 2251 and the loss : 131620.890625\n",
            "Epoch number: 2261 and the loss : 130279.0234375\n",
            "Epoch number: 2271 and the loss : 130363.8515625\n",
            "Epoch number: 2281 and the loss : 130361.09375\n",
            "Epoch number: 2291 and the loss : 129453.7890625\n",
            "Epoch number: 2301 and the loss : 128888.765625\n",
            "Epoch number: 2311 and the loss : 129747.296875\n",
            "Epoch number: 2321 and the loss : 128437.3125\n",
            "Epoch number: 2331 and the loss : 128694.9921875\n",
            "Epoch number: 2341 and the loss : 127686.5546875\n",
            "Epoch number: 2351 and the loss : 126193.5\n",
            "Epoch number: 2361 and the loss : 127119.4453125\n",
            "Epoch number: 2371 and the loss : 125700.7734375\n",
            "Epoch number: 2381 and the loss : 124824.9765625\n",
            "Epoch number: 2391 and the loss : 124761.6328125\n",
            "Epoch number: 2401 and the loss : 124421.25\n",
            "Epoch number: 2411 and the loss : 123205.4765625\n",
            "Epoch number: 2421 and the loss : 123201.140625\n",
            "Epoch number: 2431 and the loss : 122450.0546875\n",
            "Epoch number: 2441 and the loss : 122385.296875\n",
            "Epoch number: 2451 and the loss : 121547.5390625\n",
            "Epoch number: 2461 and the loss : 120443.25\n",
            "Epoch number: 2471 and the loss : 120723.7265625\n",
            "Epoch number: 2481 and the loss : 121227.4609375\n",
            "Epoch number: 2491 and the loss : 120644.890625\n",
            "Epoch number: 2501 and the loss : 120985.8984375\n",
            "Epoch number: 2511 and the loss : 118626.0625\n",
            "Epoch number: 2521 and the loss : 117707.78125\n",
            "Epoch number: 2531 and the loss : 119102.0234375\n",
            "Epoch number: 2541 and the loss : 117476.2734375\n",
            "Epoch number: 2551 and the loss : 117166.21875\n",
            "Epoch number: 2561 and the loss : 116365.6875\n",
            "Epoch number: 2571 and the loss : 115621.234375\n",
            "Epoch number: 2581 and the loss : 116025.671875\n",
            "Epoch number: 2591 and the loss : 115601.046875\n",
            "Epoch number: 2601 and the loss : 115459.921875\n",
            "Epoch number: 2611 and the loss : 114371.171875\n",
            "Epoch number: 2621 and the loss : 114658.8125\n",
            "Epoch number: 2631 and the loss : 112764.296875\n",
            "Epoch number: 2641 and the loss : 112165.3359375\n",
            "Epoch number: 2651 and the loss : 112221.5390625\n",
            "Epoch number: 2661 and the loss : 111420.2890625\n",
            "Epoch number: 2671 and the loss : 110858.0\n",
            "Epoch number: 2681 and the loss : 110071.796875\n",
            "Epoch number: 2691 and the loss : 109593.453125\n",
            "Epoch number: 2701 and the loss : 109912.453125\n",
            "Epoch number: 2711 and the loss : 109199.765625\n",
            "Epoch number: 2721 and the loss : 109115.9140625\n",
            "Epoch number: 2731 and the loss : 108504.6875\n",
            "Epoch number: 2741 and the loss : 107224.859375\n",
            "Epoch number: 2751 and the loss : 105984.953125\n",
            "Epoch number: 2761 and the loss : 106299.8359375\n",
            "Epoch number: 2771 and the loss : 106751.71875\n",
            "Epoch number: 2781 and the loss : 105410.2109375\n",
            "Epoch number: 2791 and the loss : 104705.96875\n",
            "Epoch number: 2801 and the loss : 103795.6328125\n",
            "Epoch number: 2811 and the loss : 104117.9140625\n",
            "Epoch number: 2821 and the loss : 102839.7421875\n",
            "Epoch number: 2831 and the loss : 103165.75\n",
            "Epoch number: 2841 and the loss : 102487.3359375\n",
            "Epoch number: 2851 and the loss : 101247.03125\n",
            "Epoch number: 2861 and the loss : 101842.5546875\n",
            "Epoch number: 2871 and the loss : 100967.5390625\n",
            "Epoch number: 2881 and the loss : 101029.6875\n",
            "Epoch number: 2891 and the loss : 100507.0234375\n",
            "Epoch number: 2901 and the loss : 99015.9140625\n",
            "Epoch number: 2911 and the loss : 98136.328125\n",
            "Epoch number: 2921 and the loss : 98212.53125\n",
            "Epoch number: 2931 and the loss : 98896.171875\n",
            "Epoch number: 2941 and the loss : 97147.25\n",
            "Epoch number: 2951 and the loss : 97494.5625\n",
            "Epoch number: 2961 and the loss : 96472.6875\n",
            "Epoch number: 2971 and the loss : 95379.125\n",
            "Epoch number: 2981 and the loss : 95148.2421875\n",
            "Epoch number: 2991 and the loss : 94356.8046875\n",
            "Epoch number: 3001 and the loss : 93826.9921875\n",
            "Epoch number: 3011 and the loss : 94425.828125\n",
            "Epoch number: 3021 and the loss : 93151.0546875\n",
            "Epoch number: 3031 and the loss : 92648.140625\n",
            "Epoch number: 3041 and the loss : 92689.53125\n",
            "Epoch number: 3051 and the loss : 91518.484375\n",
            "Epoch number: 3061 and the loss : 92024.7578125\n",
            "Epoch number: 3071 and the loss : 91083.59375\n",
            "Epoch number: 3081 and the loss : 90851.0390625\n",
            "Epoch number: 3091 and the loss : 89949.125\n",
            "Epoch number: 3101 and the loss : 89197.6796875\n",
            "Epoch number: 3111 and the loss : 89732.2421875\n",
            "Epoch number: 3121 and the loss : 92186.265625\n",
            "Epoch number: 3131 and the loss : 87971.8046875\n",
            "Epoch number: 3141 and the loss : 87727.921875\n",
            "Epoch number: 3151 and the loss : 87765.984375\n",
            "Epoch number: 3161 and the loss : 85952.8125\n",
            "Epoch number: 3171 and the loss : 87067.953125\n",
            "Epoch number: 3181 and the loss : 85912.21875\n",
            "Epoch number: 3191 and the loss : 86808.1875\n",
            "Epoch number: 3201 and the loss : 84680.015625\n",
            "Epoch number: 3211 and the loss : 84347.046875\n",
            "Epoch number: 3221 and the loss : 83062.5390625\n",
            "Epoch number: 3231 and the loss : 84105.4375\n",
            "Epoch number: 3241 and the loss : 82194.40625\n",
            "Epoch number: 3251 and the loss : 81605.9140625\n",
            "Epoch number: 3261 and the loss : 81483.9453125\n",
            "Epoch number: 3271 and the loss : 81877.9921875\n",
            "Epoch number: 3281 and the loss : 80955.0390625\n",
            "Epoch number: 3291 and the loss : 81005.2109375\n",
            "Epoch number: 3301 and the loss : 80098.671875\n",
            "Epoch number: 3311 and the loss : 79212.5703125\n",
            "Epoch number: 3321 and the loss : 81050.5390625\n",
            "Epoch number: 3331 and the loss : 78464.671875\n",
            "Epoch number: 3341 and the loss : 77863.9375\n",
            "Epoch number: 3351 and the loss : 77110.4609375\n",
            "Epoch number: 3361 and the loss : 76913.75\n",
            "Epoch number: 3371 and the loss : 76559.1875\n",
            "Epoch number: 3381 and the loss : 76211.1796875\n",
            "Epoch number: 3391 and the loss : 74934.3125\n",
            "Epoch number: 3401 and the loss : 74475.8203125\n",
            "Epoch number: 3411 and the loss : 74441.8046875\n",
            "Epoch number: 3421 and the loss : 75650.7265625\n",
            "Epoch number: 3431 and the loss : 73757.765625\n",
            "Epoch number: 3441 and the loss : 73054.59375\n",
            "Epoch number: 3451 and the loss : 72988.640625\n",
            "Epoch number: 3461 and the loss : 72257.4453125\n",
            "Epoch number: 3471 and the loss : 71155.390625\n",
            "Epoch number: 3481 and the loss : 71685.140625\n",
            "Epoch number: 3491 and the loss : 70960.1796875\n",
            "Epoch number: 3501 and the loss : 68513.53125\n",
            "Epoch number: 3511 and the loss : 69469.2109375\n",
            "Epoch number: 3521 and the loss : 69065.6484375\n",
            "Epoch number: 3531 and the loss : 68595.703125\n",
            "Epoch number: 3541 and the loss : 68254.40625\n",
            "Epoch number: 3551 and the loss : 68390.3984375\n",
            "Epoch number: 3561 and the loss : 66304.9140625\n",
            "Epoch number: 3571 and the loss : 66203.359375\n",
            "Epoch number: 3581 and the loss : 66169.828125\n",
            "Epoch number: 3591 and the loss : 66314.0390625\n",
            "Epoch number: 3601 and the loss : 64764.75\n",
            "Epoch number: 3611 and the loss : 65285.8828125\n",
            "Epoch number: 3621 and the loss : 65437.234375\n",
            "Epoch number: 3631 and the loss : 63149.47265625\n",
            "Epoch number: 3641 and the loss : 64540.6171875\n",
            "Epoch number: 3651 and the loss : 62474.8515625\n",
            "Epoch number: 3661 and the loss : 63414.953125\n",
            "Epoch number: 3671 and the loss : 62719.6953125\n",
            "Epoch number: 3681 and the loss : 60876.28125\n",
            "Epoch number: 3691 and the loss : 61419.63671875\n",
            "Epoch number: 3701 and the loss : 61455.25\n",
            "Epoch number: 3711 and the loss : 61459.8828125\n",
            "Epoch number: 3721 and the loss : 59544.375\n",
            "Epoch number: 3731 and the loss : 57562.61328125\n",
            "Epoch number: 3741 and the loss : 59007.7734375\n",
            "Epoch number: 3751 and the loss : 59072.84765625\n",
            "Epoch number: 3761 and the loss : 58844.49609375\n",
            "Epoch number: 3771 and the loss : 56971.41796875\n",
            "Epoch number: 3781 and the loss : 56132.5703125\n",
            "Epoch number: 3791 and the loss : 58002.2890625\n",
            "Epoch number: 3801 and the loss : 56292.3046875\n",
            "Epoch number: 3811 and the loss : 55786.0859375\n",
            "Epoch number: 3821 and the loss : 56860.53125\n",
            "Epoch number: 3831 and the loss : 54475.88671875\n",
            "Epoch number: 3841 and the loss : 53451.21875\n",
            "Epoch number: 3851 and the loss : 55285.80078125\n",
            "Epoch number: 3861 and the loss : 54659.76171875\n",
            "Epoch number: 3871 and the loss : 52517.7734375\n",
            "Epoch number: 3881 and the loss : 51582.9296875\n",
            "Epoch number: 3891 and the loss : 50352.66796875\n",
            "Epoch number: 3901 and the loss : 56014.62890625\n",
            "Epoch number: 3911 and the loss : 52436.9296875\n",
            "Epoch number: 3921 and the loss : 51133.046875\n",
            "Epoch number: 3931 and the loss : 50135.44921875\n",
            "Epoch number: 3941 and the loss : 49889.265625\n",
            "Epoch number: 3951 and the loss : 49500.12890625\n",
            "Epoch number: 3961 and the loss : 50650.328125\n",
            "Epoch number: 3971 and the loss : 49051.6640625\n",
            "Epoch number: 3981 and the loss : 52412.765625\n",
            "Epoch number: 3991 and the loss : 49647.2734375\n",
            "Epoch number: 4001 and the loss : 49774.72265625\n",
            "Epoch number: 4011 and the loss : 46375.9921875\n",
            "Epoch number: 4021 and the loss : 48124.73046875\n",
            "Epoch number: 4031 and the loss : 45388.02734375\n",
            "Epoch number: 4041 and the loss : 47241.85546875\n",
            "Epoch number: 4051 and the loss : 47614.4375\n",
            "Epoch number: 4061 and the loss : 44883.97265625\n",
            "Epoch number: 4071 and the loss : 46024.9921875\n",
            "Epoch number: 4081 and the loss : 44898.46484375\n",
            "Epoch number: 4091 and the loss : 44908.6953125\n",
            "Epoch number: 4101 and the loss : 44221.41796875\n",
            "Epoch number: 4111 and the loss : 43736.64453125\n",
            "Epoch number: 4121 and the loss : 43915.40625\n",
            "Epoch number: 4131 and the loss : 43497.2734375\n",
            "Epoch number: 4141 and the loss : 45308.48046875\n",
            "Epoch number: 4151 and the loss : 43324.375\n",
            "Epoch number: 4161 and the loss : 42992.95703125\n",
            "Epoch number: 4171 and the loss : 41931.42578125\n",
            "Epoch number: 4181 and the loss : 42532.87109375\n",
            "Epoch number: 4191 and the loss : 42519.1796875\n",
            "Epoch number: 4201 and the loss : 41382.046875\n",
            "Epoch number: 4211 and the loss : 40172.4375\n",
            "Epoch number: 4221 and the loss : 40009.13671875\n",
            "Epoch number: 4231 and the loss : 41727.59375\n",
            "Epoch number: 4241 and the loss : 40630.00390625\n",
            "Epoch number: 4251 and the loss : 40144.41015625\n",
            "Epoch number: 4261 and the loss : 40974.46484375\n",
            "Epoch number: 4271 and the loss : 40714.97265625\n",
            "Epoch number: 4281 and the loss : 42204.8671875\n",
            "Epoch number: 4291 and the loss : 39406.7890625\n",
            "Epoch number: 4301 and the loss : 39050.87109375\n",
            "Epoch number: 4311 and the loss : 39831.6328125\n",
            "Epoch number: 4321 and the loss : 40008.68359375\n",
            "Epoch number: 4331 and the loss : 38729.32421875\n",
            "Epoch number: 4341 and the loss : 38553.38671875\n",
            "Epoch number: 4351 and the loss : 41735.484375\n",
            "Epoch number: 4361 and the loss : 40164.03125\n",
            "Epoch number: 4371 and the loss : 37602.3984375\n",
            "Epoch number: 4381 and the loss : 38815.9765625\n",
            "Epoch number: 4391 and the loss : 36606.5078125\n",
            "Epoch number: 4401 and the loss : 37687.90625\n",
            "Epoch number: 4411 and the loss : 38632.71484375\n",
            "Epoch number: 4421 and the loss : 39022.90625\n",
            "Epoch number: 4431 and the loss : 38177.91015625\n",
            "Epoch number: 4441 and the loss : 38113.75\n",
            "Epoch number: 4451 and the loss : 38052.16796875\n",
            "Epoch number: 4461 and the loss : 38121.625\n",
            "Epoch number: 4471 and the loss : 37924.62109375\n",
            "Epoch number: 4481 and the loss : 37076.8828125\n",
            "Epoch number: 4491 and the loss : 40067.48046875\n",
            "Epoch number: 4501 and the loss : 37945.56640625\n",
            "Epoch number: 4511 and the loss : 37815.00390625\n",
            "Epoch number: 4521 and the loss : 36596.2109375\n",
            "Epoch number: 4531 and the loss : 37756.984375\n",
            "Epoch number: 4541 and the loss : 35360.93359375\n",
            "Epoch number: 4551 and the loss : 35767.78515625\n",
            "Epoch number: 4561 and the loss : 36125.71484375\n",
            "Epoch number: 4571 and the loss : 39856.75390625\n",
            "Epoch number: 4581 and the loss : 35291.75390625\n",
            "Epoch number: 4591 and the loss : 34204.62890625\n",
            "Epoch number: 4601 and the loss : 37450.2109375\n",
            "Epoch number: 4611 and the loss : 35435.8125\n",
            "Epoch number: 4621 and the loss : 34542.1328125\n",
            "Epoch number: 4631 and the loss : 35792.6953125\n",
            "Epoch number: 4641 and the loss : 35763.5546875\n",
            "Epoch number: 4651 and the loss : 35811.00390625\n",
            "Epoch number: 4661 and the loss : 34760.703125\n",
            "Epoch number: 4671 and the loss : 37238.1015625\n",
            "Epoch number: 4681 and the loss : 36655.11328125\n",
            "Epoch number: 4691 and the loss : 38700.04296875\n",
            "Epoch number: 4701 and the loss : 34532.3671875\n",
            "Epoch number: 4711 and the loss : 33980.35546875\n",
            "Epoch number: 4721 and the loss : 40729.3125\n",
            "Epoch number: 4731 and the loss : 35026.5234375\n",
            "Epoch number: 4741 and the loss : 35284.7265625\n",
            "Epoch number: 4751 and the loss : 36004.40234375\n",
            "Epoch number: 4761 and the loss : 35814.234375\n",
            "Epoch number: 4771 and the loss : 35639.62890625\n",
            "Epoch number: 4781 and the loss : 34802.21875\n",
            "Epoch number: 4791 and the loss : 36565.3984375\n",
            "Epoch number: 4801 and the loss : 34606.37109375\n",
            "Epoch number: 4811 and the loss : 35034.109375\n",
            "Epoch number: 4821 and the loss : 34988.4453125\n",
            "Epoch number: 4831 and the loss : 35977.9765625\n",
            "Epoch number: 4841 and the loss : 35544.25\n",
            "Epoch number: 4851 and the loss : 39623.90234375\n",
            "Epoch number: 4861 and the loss : 36200.89453125\n",
            "Epoch number: 4871 and the loss : 35670.47265625\n",
            "Epoch number: 4881 and the loss : 41166.66796875\n",
            "Epoch number: 4891 and the loss : 36249.1796875\n",
            "Epoch number: 4901 and the loss : 36768.77734375\n",
            "Epoch number: 4911 and the loss : 34041.66015625\n",
            "Epoch number: 4921 and the loss : 34517.1171875\n",
            "Epoch number: 4931 and the loss : 36179.01171875\n",
            "Epoch number: 4941 and the loss : 37503.05078125\n",
            "Epoch number: 4951 and the loss : 34548.72265625\n",
            "Epoch number: 4961 and the loss : 34638.06640625\n",
            "Epoch number: 4971 and the loss : 36708.17578125\n",
            "Epoch number: 4981 and the loss : 34645.5078125\n",
            "Epoch number: 4991 and the loss : 33835.1796875\n"
          ],
          "name": "stdout"
        }
      ]
    },
    {
      "cell_type": "code",
      "metadata": {
        "id": "Aou5QEBuq7HD",
        "colab_type": "code",
        "colab": {
          "base_uri": "https://localhost:8080/",
          "height": 296
        },
        "outputId": "d69490a6-9843-49a5-9392-1f05f6b8c347"
      },
      "source": [
        "import matplotlib.pyplot as plt\n",
        "%matplotlib inline\n",
        "\n",
        "plt.plot(range(epochs), final_losses)\n",
        "plt.ylabel('RMSE Loss')\n",
        "plt.xlabel('Epoch')"
      ],
      "execution_count": 54,
      "outputs": [
        {
          "output_type": "execute_result",
          "data": {
            "text/plain": [
              "Text(0.5, 0, 'Epoch')"
            ]
          },
          "metadata": {
            "tags": []
          },
          "execution_count": 54
        },
        {
          "output_type": "display_data",
          "data": {
            "image/png": "[encoded data removed]",
            "text/plain": [
              "<Figure size 432x288 with 1 Axes>"
            ]
          },
          "metadata": {
            "tags": [],
            "needs_background": "light"
          }
        }
      ]
    },
    {
      "cell_type": "markdown",
      "metadata": {
        "id": "EfncTVfWaemr",
        "colab_type": "text"
      },
      "source": [
        "### Validate the Test Data"
      ]
    },
    {
      "cell_type": "code",
      "metadata": {
        "id": "Slj6RI-eq7HI",
        "colab_type": "code",
        "colab": {
          "base_uri": "https://localhost:8080/",
          "height": 33
        },
        "outputId": "95afd511-386d-4c80-d358-7837720ad9db"
      },
      "source": [
        "y_pred=\"\"\n",
        "with torch.no_grad():\n",
        "    y_pred=model(test_categorical,test_cont)\n",
        "    loss=torch.sqrt(loss_function(y_pred,y_test))\n",
        "print('RMSE: {}'.format(loss))"
      ],
      "execution_count": 55,
      "outputs": [
        {
          "output_type": "stream",
          "text": [
            "RMSE: 42693.4296875\n"
          ],
          "name": "stdout"
        }
      ]
    },
    {
      "cell_type": "code",
      "metadata": {
        "id": "dArJRh3-q7HK",
        "colab_type": "code",
        "colab": {}
      },
      "source": [
        "data_verify=pd.DataFrame(y_test.tolist(),columns=[\"Test\"])"
      ],
      "execution_count": 56,
      "outputs": []
    },
    {
      "cell_type": "code",
      "metadata": {
        "id": "BDECkyOYbLaP",
        "colab_type": "code",
        "colab": {
          "base_uri": "https://localhost:8080/",
          "height": 1000
        },
        "outputId": "4154243a-d6fa-4c15-b00a-f1c4059f3a4c"
      },
      "source": [
        "data_verify"
      ],
      "execution_count": 57,
      "outputs": [
        {
          "output_type": "execute_result",
          "data": {
            "text/html": [
              "<div>\n",
              "<style scoped>\n",
              "    .dataframe tbody tr th:only-of-type {\n",
              "        vertical-align: middle;\n",
              "    }\n",
              "\n",
              "    .dataframe tbody tr th {\n",
              "        vertical-align: top;\n",
              "    }\n",
              "\n",
              "    .dataframe thead th {\n",
              "        text-align: right;\n",
              "    }\n",
              "</style>\n",
              "<table border=\"1\" class=\"dataframe\">\n",
              "  <thead>\n",
              "    <tr style=\"text-align: right;\">\n",
              "      <th></th>\n",
              "      <th>Test</th>\n",
              "    </tr>\n",
              "  </thead>\n",
              "  <tbody>\n",
              "    <tr>\n",
              "      <th>0</th>\n",
              "      <td>130000.0</td>\n",
              "    </tr>\n",
              "    <tr>\n",
              "      <th>1</th>\n",
              "      <td>138887.0</td>\n",
              "    </tr>\n",
              "    <tr>\n",
              "      <th>2</th>\n",
              "      <td>175500.0</td>\n",
              "    </tr>\n",
              "    <tr>\n",
              "      <th>3</th>\n",
              "      <td>195000.0</td>\n",
              "    </tr>\n",
              "    <tr>\n",
              "      <th>4</th>\n",
              "      <td>142500.0</td>\n",
              "    </tr>\n",
              "    <tr>\n",
              "      <th>5</th>\n",
              "      <td>265900.0</td>\n",
              "    </tr>\n",
              "    <tr>\n",
              "      <th>6</th>\n",
              "      <td>224900.0</td>\n",
              "    </tr>\n",
              "    <tr>\n",
              "      <th>7</th>\n",
              "      <td>248328.0</td>\n",
              "    </tr>\n",
              "    <tr>\n",
              "      <th>8</th>\n",
              "      <td>170000.0</td>\n",
              "    </tr>\n",
              "    <tr>\n",
              "      <th>9</th>\n",
              "      <td>465000.0</td>\n",
              "    </tr>\n",
              "    <tr>\n",
              "      <th>10</th>\n",
              "      <td>178000.0</td>\n",
              "    </tr>\n",
              "    <tr>\n",
              "      <th>11</th>\n",
              "      <td>186500.0</td>\n",
              "    </tr>\n",
              "    <tr>\n",
              "      <th>12</th>\n",
              "      <td>129500.0</td>\n",
              "    </tr>\n",
              "    <tr>\n",
              "      <th>13</th>\n",
              "      <td>119000.0</td>\n",
              "    </tr>\n",
              "    <tr>\n",
              "      <th>14</th>\n",
              "      <td>244000.0</td>\n",
              "    </tr>\n",
              "    <tr>\n",
              "      <th>15</th>\n",
              "      <td>130000.0</td>\n",
              "    </tr>\n",
              "    <tr>\n",
              "      <th>16</th>\n",
              "      <td>165400.0</td>\n",
              "    </tr>\n",
              "    <tr>\n",
              "      <th>17</th>\n",
              "      <td>127500.0</td>\n",
              "    </tr>\n",
              "    <tr>\n",
              "      <th>18</th>\n",
              "      <td>301500.0</td>\n",
              "    </tr>\n",
              "    <tr>\n",
              "      <th>19</th>\n",
              "      <td>99900.0</td>\n",
              "    </tr>\n",
              "    <tr>\n",
              "      <th>20</th>\n",
              "      <td>190000.0</td>\n",
              "    </tr>\n",
              "    <tr>\n",
              "      <th>21</th>\n",
              "      <td>151000.0</td>\n",
              "    </tr>\n",
              "    <tr>\n",
              "      <th>22</th>\n",
              "      <td>128900.0</td>\n",
              "    </tr>\n",
              "    <tr>\n",
              "      <th>23</th>\n",
              "      <td>180500.0</td>\n",
              "    </tr>\n",
              "    <tr>\n",
              "      <th>24</th>\n",
              "      <td>181000.0</td>\n",
              "    </tr>\n",
              "    <tr>\n",
              "      <th>25</th>\n",
              "      <td>183900.0</td>\n",
              "    </tr>\n",
              "    <tr>\n",
              "      <th>26</th>\n",
              "      <td>122000.0</td>\n",
              "    </tr>\n",
              "    <tr>\n",
              "      <th>27</th>\n",
              "      <td>378500.0</td>\n",
              "    </tr>\n",
              "    <tr>\n",
              "      <th>28</th>\n",
              "      <td>144000.0</td>\n",
              "    </tr>\n",
              "    <tr>\n",
              "      <th>29</th>\n",
              "      <td>177000.0</td>\n",
              "    </tr>\n",
              "    <tr>\n",
              "      <th>30</th>\n",
              "      <td>139000.0</td>\n",
              "    </tr>\n",
              "    <tr>\n",
              "      <th>31</th>\n",
              "      <td>137000.0</td>\n",
              "    </tr>\n",
              "    <tr>\n",
              "      <th>32</th>\n",
              "      <td>237000.0</td>\n",
              "    </tr>\n",
              "    <tr>\n",
              "      <th>33</th>\n",
              "      <td>68400.0</td>\n",
              "    </tr>\n",
              "    <tr>\n",
              "      <th>34</th>\n",
              "      <td>227000.0</td>\n",
              "    </tr>\n",
              "    <tr>\n",
              "      <th>35</th>\n",
              "      <td>180000.0</td>\n",
              "    </tr>\n",
              "    <tr>\n",
              "      <th>36</th>\n",
              "      <td>150500.0</td>\n",
              "    </tr>\n",
              "    <tr>\n",
              "      <th>37</th>\n",
              "      <td>139000.0</td>\n",
              "    </tr>\n",
              "    <tr>\n",
              "      <th>38</th>\n",
              "      <td>169000.0</td>\n",
              "    </tr>\n",
              "    <tr>\n",
              "      <th>39</th>\n",
              "      <td>132500.0</td>\n",
              "    </tr>\n",
              "    <tr>\n",
              "      <th>40</th>\n",
              "      <td>278000.0</td>\n",
              "    </tr>\n",
              "    <tr>\n",
              "      <th>41</th>\n",
              "      <td>281000.0</td>\n",
              "    </tr>\n",
              "    <tr>\n",
              "      <th>42</th>\n",
              "      <td>119500.0</td>\n",
              "    </tr>\n",
              "    <tr>\n",
              "      <th>43</th>\n",
              "      <td>107500.0</td>\n",
              "    </tr>\n",
              "    <tr>\n",
              "      <th>44</th>\n",
              "      <td>162900.0</td>\n",
              "    </tr>\n",
              "    <tr>\n",
              "      <th>45</th>\n",
              "      <td>115000.0</td>\n",
              "    </tr>\n",
              "    <tr>\n",
              "      <th>46</th>\n",
              "      <td>138500.0</td>\n",
              "    </tr>\n",
              "    <tr>\n",
              "      <th>47</th>\n",
              "      <td>155000.0</td>\n",
              "    </tr>\n",
              "    <tr>\n",
              "      <th>48</th>\n",
              "      <td>140000.0</td>\n",
              "    </tr>\n",
              "    <tr>\n",
              "      <th>49</th>\n",
              "      <td>160000.0</td>\n",
              "    </tr>\n",
              "    <tr>\n",
              "      <th>50</th>\n",
              "      <td>154000.0</td>\n",
              "    </tr>\n",
              "    <tr>\n",
              "      <th>51</th>\n",
              "      <td>290000.0</td>\n",
              "    </tr>\n",
              "    <tr>\n",
              "      <th>52</th>\n",
              "      <td>232000.0</td>\n",
              "    </tr>\n",
              "    <tr>\n",
              "      <th>53</th>\n",
              "      <td>130000.0</td>\n",
              "    </tr>\n",
              "    <tr>\n",
              "      <th>54</th>\n",
              "      <td>325000.0</td>\n",
              "    </tr>\n",
              "    <tr>\n",
              "      <th>55</th>\n",
              "      <td>202500.0</td>\n",
              "    </tr>\n",
              "    <tr>\n",
              "      <th>56</th>\n",
              "      <td>138000.0</td>\n",
              "    </tr>\n",
              "    <tr>\n",
              "      <th>57</th>\n",
              "      <td>147000.0</td>\n",
              "    </tr>\n",
              "    <tr>\n",
              "      <th>58</th>\n",
              "      <td>335000.0</td>\n",
              "    </tr>\n",
              "    <tr>\n",
              "      <th>59</th>\n",
              "      <td>203000.0</td>\n",
              "    </tr>\n",
              "    <tr>\n",
              "      <th>60</th>\n",
              "      <td>333168.0</td>\n",
              "    </tr>\n",
              "    <tr>\n",
              "      <th>61</th>\n",
              "      <td>119000.0</td>\n",
              "    </tr>\n",
              "    <tr>\n",
              "      <th>62</th>\n",
              "      <td>206900.0</td>\n",
              "    </tr>\n",
              "    <tr>\n",
              "      <th>63</th>\n",
              "      <td>295493.0</td>\n",
              "    </tr>\n",
              "    <tr>\n",
              "      <th>64</th>\n",
              "      <td>208900.0</td>\n",
              "    </tr>\n",
              "    <tr>\n",
              "      <th>65</th>\n",
              "      <td>111000.0</td>\n",
              "    </tr>\n",
              "    <tr>\n",
              "      <th>66</th>\n",
              "      <td>156500.0</td>\n",
              "    </tr>\n",
              "    <tr>\n",
              "      <th>67</th>\n",
              "      <td>190000.0</td>\n",
              "    </tr>\n",
              "    <tr>\n",
              "      <th>68</th>\n",
              "      <td>82500.0</td>\n",
              "    </tr>\n",
              "    <tr>\n",
              "      <th>69</th>\n",
              "      <td>147000.0</td>\n",
              "    </tr>\n",
              "    <tr>\n",
              "      <th>70</th>\n",
              "      <td>55000.0</td>\n",
              "    </tr>\n",
              "    <tr>\n",
              "      <th>71</th>\n",
              "      <td>79000.0</td>\n",
              "    </tr>\n",
              "    <tr>\n",
              "      <th>72</th>\n",
              "      <td>130500.0</td>\n",
              "    </tr>\n",
              "    <tr>\n",
              "      <th>73</th>\n",
              "      <td>256000.0</td>\n",
              "    </tr>\n",
              "    <tr>\n",
              "      <th>74</th>\n",
              "      <td>176500.0</td>\n",
              "    </tr>\n",
              "    <tr>\n",
              "      <th>75</th>\n",
              "      <td>227000.0</td>\n",
              "    </tr>\n",
              "    <tr>\n",
              "      <th>76</th>\n",
              "      <td>132500.0</td>\n",
              "    </tr>\n",
              "    <tr>\n",
              "      <th>77</th>\n",
              "      <td>100000.0</td>\n",
              "    </tr>\n",
              "    <tr>\n",
              "      <th>78</th>\n",
              "      <td>125500.0</td>\n",
              "    </tr>\n",
              "    <tr>\n",
              "      <th>79</th>\n",
              "      <td>125000.0</td>\n",
              "    </tr>\n",
              "    <tr>\n",
              "      <th>80</th>\n",
              "      <td>167900.0</td>\n",
              "    </tr>\n",
              "    <tr>\n",
              "      <th>81</th>\n",
              "      <td>135000.0</td>\n",
              "    </tr>\n",
              "    <tr>\n",
              "      <th>82</th>\n",
              "      <td>52500.0</td>\n",
              "    </tr>\n",
              "    <tr>\n",
              "      <th>83</th>\n",
              "      <td>200000.0</td>\n",
              "    </tr>\n",
              "    <tr>\n",
              "      <th>84</th>\n",
              "      <td>128500.0</td>\n",
              "    </tr>\n",
              "    <tr>\n",
              "      <th>85</th>\n",
              "      <td>123000.0</td>\n",
              "    </tr>\n",
              "    <tr>\n",
              "      <th>86</th>\n",
              "      <td>155000.0</td>\n",
              "    </tr>\n",
              "    <tr>\n",
              "      <th>87</th>\n",
              "      <td>177000.0</td>\n",
              "    </tr>\n",
              "    <tr>\n",
              "      <th>88</th>\n",
              "      <td>155835.0</td>\n",
              "    </tr>\n",
              "    <tr>\n",
              "      <th>89</th>\n",
              "      <td>108500.0</td>\n",
              "    </tr>\n",
              "    <tr>\n",
              "      <th>90</th>\n",
              "      <td>283463.0</td>\n",
              "    </tr>\n",
              "    <tr>\n",
              "      <th>91</th>\n",
              "      <td>122000.0</td>\n",
              "    </tr>\n",
              "    <tr>\n",
              "      <th>92</th>\n",
              "      <td>200000.0</td>\n",
              "    </tr>\n",
              "    <tr>\n",
              "      <th>93</th>\n",
              "      <td>171000.0</td>\n",
              "    </tr>\n",
              "    <tr>\n",
              "      <th>94</th>\n",
              "      <td>134900.0</td>\n",
              "    </tr>\n",
              "    <tr>\n",
              "      <th>95</th>\n",
              "      <td>410000.0</td>\n",
              "    </tr>\n",
              "    <tr>\n",
              "      <th>96</th>\n",
              "      <td>170000.0</td>\n",
              "    </tr>\n",
              "    <tr>\n",
              "      <th>97</th>\n",
              "      <td>315000.0</td>\n",
              "    </tr>\n",
              "    <tr>\n",
              "      <th>98</th>\n",
              "      <td>189000.0</td>\n",
              "    </tr>\n",
              "    <tr>\n",
              "      <th>99</th>\n",
              "      <td>260000.0</td>\n",
              "    </tr>\n",
              "    <tr>\n",
              "      <th>100</th>\n",
              "      <td>156932.0</td>\n",
              "    </tr>\n",
              "    <tr>\n",
              "      <th>101</th>\n",
              "      <td>144152.0</td>\n",
              "    </tr>\n",
              "    <tr>\n",
              "      <th>102</th>\n",
              "      <td>193000.0</td>\n",
              "    </tr>\n",
              "    <tr>\n",
              "      <th>103</th>\n",
              "      <td>127000.0</td>\n",
              "    </tr>\n",
              "    <tr>\n",
              "      <th>104</th>\n",
              "      <td>232000.0</td>\n",
              "    </tr>\n",
              "    <tr>\n",
              "      <th>105</th>\n",
              "      <td>105000.0</td>\n",
              "    </tr>\n",
              "    <tr>\n",
              "      <th>106</th>\n",
              "      <td>165500.0</td>\n",
              "    </tr>\n",
              "    <tr>\n",
              "      <th>107</th>\n",
              "      <td>274300.0</td>\n",
              "    </tr>\n",
              "    <tr>\n",
              "      <th>108</th>\n",
              "      <td>250000.0</td>\n",
              "    </tr>\n",
              "    <tr>\n",
              "      <th>109</th>\n",
              "      <td>239000.0</td>\n",
              "    </tr>\n",
              "    <tr>\n",
              "      <th>110</th>\n",
              "      <td>91000.0</td>\n",
              "    </tr>\n",
              "    <tr>\n",
              "      <th>111</th>\n",
              "      <td>117000.0</td>\n",
              "    </tr>\n",
              "    <tr>\n",
              "      <th>112</th>\n",
              "      <td>83000.0</td>\n",
              "    </tr>\n",
              "    <tr>\n",
              "      <th>113</th>\n",
              "      <td>167500.0</td>\n",
              "    </tr>\n",
              "    <tr>\n",
              "      <th>114</th>\n",
              "      <td>58500.0</td>\n",
              "    </tr>\n",
              "    <tr>\n",
              "      <th>115</th>\n",
              "      <td>157000.0</td>\n",
              "    </tr>\n",
              "    <tr>\n",
              "      <th>116</th>\n",
              "      <td>105000.0</td>\n",
              "    </tr>\n",
              "    <tr>\n",
              "      <th>117</th>\n",
              "      <td>125500.0</td>\n",
              "    </tr>\n",
              "    <tr>\n",
              "      <th>118</th>\n",
              "      <td>250000.0</td>\n",
              "    </tr>\n",
              "    <tr>\n",
              "      <th>119</th>\n",
              "      <td>136000.0</td>\n",
              "    </tr>\n",
              "    <tr>\n",
              "      <th>120</th>\n",
              "      <td>377500.0</td>\n",
              "    </tr>\n",
              "    <tr>\n",
              "      <th>121</th>\n",
              "      <td>131000.0</td>\n",
              "    </tr>\n",
              "    <tr>\n",
              "      <th>122</th>\n",
              "      <td>235000.0</td>\n",
              "    </tr>\n",
              "    <tr>\n",
              "      <th>123</th>\n",
              "      <td>124000.0</td>\n",
              "    </tr>\n",
              "    <tr>\n",
              "      <th>124</th>\n",
              "      <td>123000.0</td>\n",
              "    </tr>\n",
              "    <tr>\n",
              "      <th>125</th>\n",
              "      <td>163000.0</td>\n",
              "    </tr>\n",
              "    <tr>\n",
              "      <th>126</th>\n",
              "      <td>246578.0</td>\n",
              "    </tr>\n",
              "    <tr>\n",
              "      <th>127</th>\n",
              "      <td>281213.0</td>\n",
              "    </tr>\n",
              "    <tr>\n",
              "      <th>128</th>\n",
              "      <td>137500.0</td>\n",
              "    </tr>\n",
              "    <tr>\n",
              "      <th>129</th>\n",
              "      <td>138000.0</td>\n",
              "    </tr>\n",
              "    <tr>\n",
              "      <th>130</th>\n",
              "      <td>137450.0</td>\n",
              "    </tr>\n",
              "    <tr>\n",
              "      <th>131</th>\n",
              "      <td>120000.0</td>\n",
              "    </tr>\n",
              "    <tr>\n",
              "      <th>132</th>\n",
              "      <td>193000.0</td>\n",
              "    </tr>\n",
              "    <tr>\n",
              "      <th>133</th>\n",
              "      <td>193879.0</td>\n",
              "    </tr>\n",
              "    <tr>\n",
              "      <th>134</th>\n",
              "      <td>282922.0</td>\n",
              "    </tr>\n",
              "    <tr>\n",
              "      <th>135</th>\n",
              "      <td>105000.0</td>\n",
              "    </tr>\n",
              "    <tr>\n",
              "      <th>136</th>\n",
              "      <td>275000.0</td>\n",
              "    </tr>\n",
              "    <tr>\n",
              "      <th>137</th>\n",
              "      <td>133000.0</td>\n",
              "    </tr>\n",
              "    <tr>\n",
              "      <th>138</th>\n",
              "      <td>125500.0</td>\n",
              "    </tr>\n",
              "    <tr>\n",
              "      <th>139</th>\n",
              "      <td>215000.0</td>\n",
              "    </tr>\n",
              "    <tr>\n",
              "      <th>140</th>\n",
              "      <td>230000.0</td>\n",
              "    </tr>\n",
              "    <tr>\n",
              "      <th>141</th>\n",
              "      <td>140000.0</td>\n",
              "    </tr>\n",
              "    <tr>\n",
              "      <th>142</th>\n",
              "      <td>90000.0</td>\n",
              "    </tr>\n",
              "    <tr>\n",
              "      <th>143</th>\n",
              "      <td>257000.0</td>\n",
              "    </tr>\n",
              "    <tr>\n",
              "      <th>144</th>\n",
              "      <td>207000.0</td>\n",
              "    </tr>\n",
              "    <tr>\n",
              "      <th>145</th>\n",
              "      <td>175900.0</td>\n",
              "    </tr>\n",
              "    <tr>\n",
              "      <th>146</th>\n",
              "      <td>122500.0</td>\n",
              "    </tr>\n",
              "    <tr>\n",
              "      <th>147</th>\n",
              "      <td>124000.0</td>\n",
              "    </tr>\n",
              "    <tr>\n",
              "      <th>148</th>\n",
              "      <td>179900.0</td>\n",
              "    </tr>\n",
              "    <tr>\n",
              "      <th>149</th>\n",
              "      <td>127500.0</td>\n",
              "    </tr>\n",
              "    <tr>\n",
              "      <th>150</th>\n",
              "      <td>136500.0</td>\n",
              "    </tr>\n",
              "    <tr>\n",
              "      <th>151</th>\n",
              "      <td>142000.0</td>\n",
              "    </tr>\n",
              "    <tr>\n",
              "      <th>152</th>\n",
              "      <td>271000.0</td>\n",
              "    </tr>\n",
              "    <tr>\n",
              "      <th>153</th>\n",
              "      <td>140000.0</td>\n",
              "    </tr>\n",
              "    <tr>\n",
              "      <th>154</th>\n",
              "      <td>119000.0</td>\n",
              "    </tr>\n",
              "    <tr>\n",
              "      <th>155</th>\n",
              "      <td>192140.0</td>\n",
              "    </tr>\n",
              "    <tr>\n",
              "      <th>156</th>\n",
              "      <td>64500.0</td>\n",
              "    </tr>\n",
              "    <tr>\n",
              "      <th>157</th>\n",
              "      <td>186500.0</td>\n",
              "    </tr>\n",
              "    <tr>\n",
              "      <th>158</th>\n",
              "      <td>160000.0</td>\n",
              "    </tr>\n",
              "    <tr>\n",
              "      <th>159</th>\n",
              "      <td>174000.0</td>\n",
              "    </tr>\n",
              "    <tr>\n",
              "      <th>160</th>\n",
              "      <td>120500.0</td>\n",
              "    </tr>\n",
              "    <tr>\n",
              "      <th>161</th>\n",
              "      <td>394617.0</td>\n",
              "    </tr>\n",
              "    <tr>\n",
              "      <th>162</th>\n",
              "      <td>149700.0</td>\n",
              "    </tr>\n",
              "    <tr>\n",
              "      <th>163</th>\n",
              "      <td>197000.0</td>\n",
              "    </tr>\n",
              "    <tr>\n",
              "      <th>164</th>\n",
              "      <td>191000.0</td>\n",
              "    </tr>\n",
              "    <tr>\n",
              "      <th>165</th>\n",
              "      <td>310000.0</td>\n",
              "    </tr>\n",
              "    <tr>\n",
              "      <th>166</th>\n",
              "      <td>179600.0</td>\n",
              "    </tr>\n",
              "    <tr>\n",
              "      <th>167</th>\n",
              "      <td>129000.0</td>\n",
              "    </tr>\n",
              "    <tr>\n",
              "      <th>168</th>\n",
              "      <td>240000.0</td>\n",
              "    </tr>\n",
              "    <tr>\n",
              "      <th>169</th>\n",
              "      <td>112000.0</td>\n",
              "    </tr>\n",
              "    <tr>\n",
              "      <th>170</th>\n",
              "      <td>92000.0</td>\n",
              "    </tr>\n",
              "    <tr>\n",
              "      <th>171</th>\n",
              "      <td>136000.0</td>\n",
              "    </tr>\n",
              "    <tr>\n",
              "      <th>172</th>\n",
              "      <td>287090.0</td>\n",
              "    </tr>\n",
              "    <tr>\n",
              "      <th>173</th>\n",
              "      <td>145000.0</td>\n",
              "    </tr>\n",
              "    <tr>\n",
              "      <th>174</th>\n",
              "      <td>84500.0</td>\n",
              "    </tr>\n",
              "    <tr>\n",
              "      <th>175</th>\n",
              "      <td>185000.0</td>\n",
              "    </tr>\n",
              "    <tr>\n",
              "      <th>176</th>\n",
              "      <td>175000.0</td>\n",
              "    </tr>\n",
              "    <tr>\n",
              "      <th>177</th>\n",
              "      <td>210000.0</td>\n",
              "    </tr>\n",
              "    <tr>\n",
              "      <th>178</th>\n",
              "      <td>266500.0</td>\n",
              "    </tr>\n",
              "    <tr>\n",
              "      <th>179</th>\n",
              "      <td>142125.0</td>\n",
              "    </tr>\n",
              "  </tbody>\n",
              "</table>\n",
              "</div>"
            ],
            "text/plain": [
              "         Test\n",
              "0    130000.0\n",
              "1    138887.0\n",
              "2    175500.0\n",
              "3    195000.0\n",
              "4    142500.0\n",
              "5    265900.0\n",
              "6    224900.0\n",
              "7    248328.0\n",
              "8    170000.0\n",
              "9    465000.0\n",
              "10   178000.0\n",
              "11   186500.0\n",
              "12   129500.0\n",
              "13   119000.0\n",
              "14   244000.0\n",
              "15   130000.0\n",
              "16   165400.0\n",
              "17   127500.0\n",
              "18   301500.0\n",
              "19    99900.0\n",
              "20   190000.0\n",
              "21   151000.0\n",
              "22   128900.0\n",
              "23   180500.0\n",
              "24   181000.0\n",
              "25   183900.0\n",
              "26   122000.0\n",
              "27   378500.0\n",
              "28   144000.0\n",
              "29   177000.0\n",
              "30   139000.0\n",
              "31   137000.0\n",
              "32   237000.0\n",
              "33    68400.0\n",
              "34   227000.0\n",
              "35   180000.0\n",
              "36   150500.0\n",
              "37   139000.0\n",
              "38   169000.0\n",
              "39   132500.0\n",
              "40   278000.0\n",
              "41   281000.0\n",
              "42   119500.0\n",
              "43   107500.0\n",
              "44   162900.0\n",
              "45   115000.0\n",
              "46   138500.0\n",
              "47   155000.0\n",
              "48   140000.0\n",
              "49   160000.0\n",
              "50   154000.0\n",
              "51   290000.0\n",
              "52   232000.0\n",
              "53   130000.0\n",
              "54   325000.0\n",
              "55   202500.0\n",
              "56   138000.0\n",
              "57   147000.0\n",
              "58   335000.0\n",
              "59   203000.0\n",
              "60   333168.0\n",
              "61   119000.0\n",
              "62   206900.0\n",
              "63   295493.0\n",
              "64   208900.0\n",
              "65   111000.0\n",
              "66   156500.0\n",
              "67   190000.0\n",
              "68    82500.0\n",
              "69   147000.0\n",
              "70    55000.0\n",
              "71    79000.0\n",
              "72   130500.0\n",
              "73   256000.0\n",
              "74   176500.0\n",
              "75   227000.0\n",
              "76   132500.0\n",
              "77   100000.0\n",
              "78   125500.0\n",
              "79   125000.0\n",
              "80   167900.0\n",
              "81   135000.0\n",
              "82    52500.0\n",
              "83   200000.0\n",
              "84   128500.0\n",
              "85   123000.0\n",
              "86   155000.0\n",
              "87   177000.0\n",
              "88   155835.0\n",
              "89   108500.0\n",
              "90   283463.0\n",
              "91   122000.0\n",
              "92   200000.0\n",
              "93   171000.0\n",
              "94   134900.0\n",
              "95   410000.0\n",
              "96   170000.0\n",
              "97   315000.0\n",
              "98   189000.0\n",
              "99   260000.0\n",
              "100  156932.0\n",
              "101  144152.0\n",
              "102  193000.0\n",
              "103  127000.0\n",
              "104  232000.0\n",
              "105  105000.0\n",
              "106  165500.0\n",
              "107  274300.0\n",
              "108  250000.0\n",
              "109  239000.0\n",
              "110   91000.0\n",
              "111  117000.0\n",
              "112   83000.0\n",
              "113  167500.0\n",
              "114   58500.0\n",
              "115  157000.0\n",
              "116  105000.0\n",
              "117  125500.0\n",
              "118  250000.0\n",
              "119  136000.0\n",
              "120  377500.0\n",
              "121  131000.0\n",
              "122  235000.0\n",
              "123  124000.0\n",
              "124  123000.0\n",
              "125  163000.0\n",
              "126  246578.0\n",
              "127  281213.0\n",
              "128  137500.0\n",
              "129  138000.0\n",
              "130  137450.0\n",
              "131  120000.0\n",
              "132  193000.0\n",
              "133  193879.0\n",
              "134  282922.0\n",
              "135  105000.0\n",
              "136  275000.0\n",
              "137  133000.0\n",
              "138  125500.0\n",
              "139  215000.0\n",
              "140  230000.0\n",
              "141  140000.0\n",
              "142   90000.0\n",
              "143  257000.0\n",
              "144  207000.0\n",
              "145  175900.0\n",
              "146  122500.0\n",
              "147  124000.0\n",
              "148  179900.0\n",
              "149  127500.0\n",
              "150  136500.0\n",
              "151  142000.0\n",
              "152  271000.0\n",
              "153  140000.0\n",
              "154  119000.0\n",
              "155  192140.0\n",
              "156   64500.0\n",
              "157  186500.0\n",
              "158  160000.0\n",
              "159  174000.0\n",
              "160  120500.0\n",
              "161  394617.0\n",
              "162  149700.0\n",
              "163  197000.0\n",
              "164  191000.0\n",
              "165  310000.0\n",
              "166  179600.0\n",
              "167  129000.0\n",
              "168  240000.0\n",
              "169  112000.0\n",
              "170   92000.0\n",
              "171  136000.0\n",
              "172  287090.0\n",
              "173  145000.0\n",
              "174   84500.0\n",
              "175  185000.0\n",
              "176  175000.0\n",
              "177  210000.0\n",
              "178  266500.0\n",
              "179  142125.0"
            ]
          },
          "metadata": {
            "tags": []
          },
          "execution_count": 57
        }
      ]
    },
    {
      "cell_type": "code",
      "metadata": {
        "id": "n9dlb8tbq7HM",
        "colab_type": "code",
        "colab": {}
      },
      "source": [
        "data_predicted=pd.DataFrame(y_pred.tolist(),columns=[\"Prediction\"])"
      ],
      "execution_count": 58,
      "outputs": []
    },
    {
      "cell_type": "code",
      "metadata": {
        "id": "jM-eAiC8q7HN",
        "colab_type": "code",
        "colab": {
          "base_uri": "https://localhost:8080/",
          "height": 1000
        },
        "outputId": "b93ef862-e4e9-4be4-ee05-7660f9b1b60a"
      },
      "source": [
        "data_predicted"
      ],
      "execution_count": 59,
      "outputs": [
        {
          "output_type": "execute_result",
          "data": {
            "text/html": [
              "<div>\n",
              "<style scoped>\n",
              "    .dataframe tbody tr th:only-of-type {\n",
              "        vertical-align: middle;\n",
              "    }\n",
              "\n",
              "    .dataframe tbody tr th {\n",
              "        vertical-align: top;\n",
              "    }\n",
              "\n",
              "    .dataframe thead th {\n",
              "        text-align: right;\n",
              "    }\n",
              "</style>\n",
              "<table border=\"1\" class=\"dataframe\">\n",
              "  <thead>\n",
              "    <tr style=\"text-align: right;\">\n",
              "      <th></th>\n",
              "      <th>Prediction</th>\n",
              "    </tr>\n",
              "  </thead>\n",
              "  <tbody>\n",
              "    <tr>\n",
              "      <th>0</th>\n",
              "      <td>125071.664062</td>\n",
              "    </tr>\n",
              "    <tr>\n",
              "      <th>1</th>\n",
              "      <td>217297.359375</td>\n",
              "    </tr>\n",
              "    <tr>\n",
              "      <th>2</th>\n",
              "      <td>152125.906250</td>\n",
              "    </tr>\n",
              "    <tr>\n",
              "      <th>3</th>\n",
              "      <td>251757.046875</td>\n",
              "    </tr>\n",
              "    <tr>\n",
              "      <th>4</th>\n",
              "      <td>223750.671875</td>\n",
              "    </tr>\n",
              "    <tr>\n",
              "      <th>5</th>\n",
              "      <td>211186.015625</td>\n",
              "    </tr>\n",
              "    <tr>\n",
              "      <th>6</th>\n",
              "      <td>148613.609375</td>\n",
              "    </tr>\n",
              "    <tr>\n",
              "      <th>7</th>\n",
              "      <td>282291.125000</td>\n",
              "    </tr>\n",
              "    <tr>\n",
              "      <th>8</th>\n",
              "      <td>162473.953125</td>\n",
              "    </tr>\n",
              "    <tr>\n",
              "      <th>9</th>\n",
              "      <td>373956.031250</td>\n",
              "    </tr>\n",
              "    <tr>\n",
              "      <th>10</th>\n",
              "      <td>213018.812500</td>\n",
              "    </tr>\n",
              "    <tr>\n",
              "      <th>11</th>\n",
              "      <td>200625.390625</td>\n",
              "    </tr>\n",
              "    <tr>\n",
              "      <th>12</th>\n",
              "      <td>178765.734375</td>\n",
              "    </tr>\n",
              "    <tr>\n",
              "      <th>13</th>\n",
              "      <td>104372.929688</td>\n",
              "    </tr>\n",
              "    <tr>\n",
              "      <th>14</th>\n",
              "      <td>198036.671875</td>\n",
              "    </tr>\n",
              "    <tr>\n",
              "      <th>15</th>\n",
              "      <td>111980.210938</td>\n",
              "    </tr>\n",
              "    <tr>\n",
              "      <th>16</th>\n",
              "      <td>242403.859375</td>\n",
              "    </tr>\n",
              "    <tr>\n",
              "      <th>17</th>\n",
              "      <td>125503.367188</td>\n",
              "    </tr>\n",
              "    <tr>\n",
              "      <th>18</th>\n",
              "      <td>333459.968750</td>\n",
              "    </tr>\n",
              "    <tr>\n",
              "      <th>19</th>\n",
              "      <td>69915.226562</td>\n",
              "    </tr>\n",
              "    <tr>\n",
              "      <th>20</th>\n",
              "      <td>198931.515625</td>\n",
              "    </tr>\n",
              "    <tr>\n",
              "      <th>21</th>\n",
              "      <td>111579.882812</td>\n",
              "    </tr>\n",
              "    <tr>\n",
              "      <th>22</th>\n",
              "      <td>88237.851562</td>\n",
              "    </tr>\n",
              "    <tr>\n",
              "      <th>23</th>\n",
              "      <td>205703.953125</td>\n",
              "    </tr>\n",
              "    <tr>\n",
              "      <th>24</th>\n",
              "      <td>192203.375000</td>\n",
              "    </tr>\n",
              "    <tr>\n",
              "      <th>25</th>\n",
              "      <td>183753.828125</td>\n",
              "    </tr>\n",
              "    <tr>\n",
              "      <th>26</th>\n",
              "      <td>131451.234375</td>\n",
              "    </tr>\n",
              "    <tr>\n",
              "      <th>27</th>\n",
              "      <td>352263.000000</td>\n",
              "    </tr>\n",
              "    <tr>\n",
              "      <th>28</th>\n",
              "      <td>167486.359375</td>\n",
              "    </tr>\n",
              "    <tr>\n",
              "      <th>29</th>\n",
              "      <td>161020.296875</td>\n",
              "    </tr>\n",
              "    <tr>\n",
              "      <th>30</th>\n",
              "      <td>54237.910156</td>\n",
              "    </tr>\n",
              "    <tr>\n",
              "      <th>31</th>\n",
              "      <td>118020.960938</td>\n",
              "    </tr>\n",
              "    <tr>\n",
              "      <th>32</th>\n",
              "      <td>264249.375000</td>\n",
              "    </tr>\n",
              "    <tr>\n",
              "      <th>33</th>\n",
              "      <td>77752.054688</td>\n",
              "    </tr>\n",
              "    <tr>\n",
              "      <th>34</th>\n",
              "      <td>217460.078125</td>\n",
              "    </tr>\n",
              "    <tr>\n",
              "      <th>35</th>\n",
              "      <td>186889.796875</td>\n",
              "    </tr>\n",
              "    <tr>\n",
              "      <th>36</th>\n",
              "      <td>116082.507812</td>\n",
              "    </tr>\n",
              "    <tr>\n",
              "      <th>37</th>\n",
              "      <td>123427.117188</td>\n",
              "    </tr>\n",
              "    <tr>\n",
              "      <th>38</th>\n",
              "      <td>166718.125000</td>\n",
              "    </tr>\n",
              "    <tr>\n",
              "      <th>39</th>\n",
              "      <td>105819.093750</td>\n",
              "    </tr>\n",
              "    <tr>\n",
              "      <th>40</th>\n",
              "      <td>259976.343750</td>\n",
              "    </tr>\n",
              "    <tr>\n",
              "      <th>41</th>\n",
              "      <td>304532.718750</td>\n",
              "    </tr>\n",
              "    <tr>\n",
              "      <th>42</th>\n",
              "      <td>91207.734375</td>\n",
              "    </tr>\n",
              "    <tr>\n",
              "      <th>43</th>\n",
              "      <td>155612.843750</td>\n",
              "    </tr>\n",
              "    <tr>\n",
              "      <th>44</th>\n",
              "      <td>192233.015625</td>\n",
              "    </tr>\n",
              "    <tr>\n",
              "      <th>45</th>\n",
              "      <td>118265.093750</td>\n",
              "    </tr>\n",
              "    <tr>\n",
              "      <th>46</th>\n",
              "      <td>102243.359375</td>\n",
              "    </tr>\n",
              "    <tr>\n",
              "      <th>47</th>\n",
              "      <td>125962.140625</td>\n",
              "    </tr>\n",
              "    <tr>\n",
              "      <th>48</th>\n",
              "      <td>125849.257812</td>\n",
              "    </tr>\n",
              "    <tr>\n",
              "      <th>49</th>\n",
              "      <td>333194.906250</td>\n",
              "    </tr>\n",
              "    <tr>\n",
              "      <th>50</th>\n",
              "      <td>128305.570312</td>\n",
              "    </tr>\n",
              "    <tr>\n",
              "      <th>51</th>\n",
              "      <td>335330.062500</td>\n",
              "    </tr>\n",
              "    <tr>\n",
              "      <th>52</th>\n",
              "      <td>215876.796875</td>\n",
              "    </tr>\n",
              "    <tr>\n",
              "      <th>53</th>\n",
              "      <td>150352.906250</td>\n",
              "    </tr>\n",
              "    <tr>\n",
              "      <th>54</th>\n",
              "      <td>261046.734375</td>\n",
              "    </tr>\n",
              "    <tr>\n",
              "      <th>55</th>\n",
              "      <td>192662.234375</td>\n",
              "    </tr>\n",
              "    <tr>\n",
              "      <th>56</th>\n",
              "      <td>141039.140625</td>\n",
              "    </tr>\n",
              "    <tr>\n",
              "      <th>57</th>\n",
              "      <td>118935.742188</td>\n",
              "    </tr>\n",
              "    <tr>\n",
              "      <th>58</th>\n",
              "      <td>268043.531250</td>\n",
              "    </tr>\n",
              "    <tr>\n",
              "      <th>59</th>\n",
              "      <td>176173.453125</td>\n",
              "    </tr>\n",
              "    <tr>\n",
              "      <th>60</th>\n",
              "      <td>336695.406250</td>\n",
              "    </tr>\n",
              "    <tr>\n",
              "      <th>61</th>\n",
              "      <td>110796.257812</td>\n",
              "    </tr>\n",
              "    <tr>\n",
              "      <th>62</th>\n",
              "      <td>211171.796875</td>\n",
              "    </tr>\n",
              "    <tr>\n",
              "      <th>63</th>\n",
              "      <td>231730.109375</td>\n",
              "    </tr>\n",
              "    <tr>\n",
              "      <th>64</th>\n",
              "      <td>161406.187500</td>\n",
              "    </tr>\n",
              "    <tr>\n",
              "      <th>65</th>\n",
              "      <td>125324.531250</td>\n",
              "    </tr>\n",
              "    <tr>\n",
              "      <th>66</th>\n",
              "      <td>170322.593750</td>\n",
              "    </tr>\n",
              "    <tr>\n",
              "      <th>67</th>\n",
              "      <td>261969.390625</td>\n",
              "    </tr>\n",
              "    <tr>\n",
              "      <th>68</th>\n",
              "      <td>56529.781250</td>\n",
              "    </tr>\n",
              "    <tr>\n",
              "      <th>69</th>\n",
              "      <td>255223.984375</td>\n",
              "    </tr>\n",
              "    <tr>\n",
              "      <th>70</th>\n",
              "      <td>92672.960938</td>\n",
              "    </tr>\n",
              "    <tr>\n",
              "      <th>71</th>\n",
              "      <td>74443.500000</td>\n",
              "    </tr>\n",
              "    <tr>\n",
              "      <th>72</th>\n",
              "      <td>89566.195312</td>\n",
              "    </tr>\n",
              "    <tr>\n",
              "      <th>73</th>\n",
              "      <td>374742.375000</td>\n",
              "    </tr>\n",
              "    <tr>\n",
              "      <th>74</th>\n",
              "      <td>194125.265625</td>\n",
              "    </tr>\n",
              "    <tr>\n",
              "      <th>75</th>\n",
              "      <td>222363.671875</td>\n",
              "    </tr>\n",
              "    <tr>\n",
              "      <th>76</th>\n",
              "      <td>129062.250000</td>\n",
              "    </tr>\n",
              "    <tr>\n",
              "      <th>77</th>\n",
              "      <td>109311.742188</td>\n",
              "    </tr>\n",
              "    <tr>\n",
              "      <th>78</th>\n",
              "      <td>125784.976562</td>\n",
              "    </tr>\n",
              "    <tr>\n",
              "      <th>79</th>\n",
              "      <td>126142.289062</td>\n",
              "    </tr>\n",
              "    <tr>\n",
              "      <th>80</th>\n",
              "      <td>154459.062500</td>\n",
              "    </tr>\n",
              "    <tr>\n",
              "      <th>81</th>\n",
              "      <td>134190.046875</td>\n",
              "    </tr>\n",
              "    <tr>\n",
              "      <th>82</th>\n",
              "      <td>99313.648438</td>\n",
              "    </tr>\n",
              "    <tr>\n",
              "      <th>83</th>\n",
              "      <td>250036.734375</td>\n",
              "    </tr>\n",
              "    <tr>\n",
              "      <th>84</th>\n",
              "      <td>126543.523438</td>\n",
              "    </tr>\n",
              "    <tr>\n",
              "      <th>85</th>\n",
              "      <td>112931.093750</td>\n",
              "    </tr>\n",
              "    <tr>\n",
              "      <th>86</th>\n",
              "      <td>142069.593750</td>\n",
              "    </tr>\n",
              "    <tr>\n",
              "      <th>87</th>\n",
              "      <td>144067.890625</td>\n",
              "    </tr>\n",
              "    <tr>\n",
              "      <th>88</th>\n",
              "      <td>137041.296875</td>\n",
              "    </tr>\n",
              "    <tr>\n",
              "      <th>89</th>\n",
              "      <td>113639.867188</td>\n",
              "    </tr>\n",
              "    <tr>\n",
              "      <th>90</th>\n",
              "      <td>287586.937500</td>\n",
              "    </tr>\n",
              "    <tr>\n",
              "      <th>91</th>\n",
              "      <td>139234.812500</td>\n",
              "    </tr>\n",
              "    <tr>\n",
              "      <th>92</th>\n",
              "      <td>158231.359375</td>\n",
              "    </tr>\n",
              "    <tr>\n",
              "      <th>93</th>\n",
              "      <td>131993.734375</td>\n",
              "    </tr>\n",
              "    <tr>\n",
              "      <th>94</th>\n",
              "      <td>133744.265625</td>\n",
              "    </tr>\n",
              "    <tr>\n",
              "      <th>95</th>\n",
              "      <td>514886.125000</td>\n",
              "    </tr>\n",
              "    <tr>\n",
              "      <th>96</th>\n",
              "      <td>195635.578125</td>\n",
              "    </tr>\n",
              "    <tr>\n",
              "      <th>97</th>\n",
              "      <td>360102.406250</td>\n",
              "    </tr>\n",
              "    <tr>\n",
              "      <th>98</th>\n",
              "      <td>221930.671875</td>\n",
              "    </tr>\n",
              "    <tr>\n",
              "      <th>99</th>\n",
              "      <td>256278.421875</td>\n",
              "    </tr>\n",
              "    <tr>\n",
              "      <th>100</th>\n",
              "      <td>169005.781250</td>\n",
              "    </tr>\n",
              "    <tr>\n",
              "      <th>101</th>\n",
              "      <td>152323.328125</td>\n",
              "    </tr>\n",
              "    <tr>\n",
              "      <th>102</th>\n",
              "      <td>222730.640625</td>\n",
              "    </tr>\n",
              "    <tr>\n",
              "      <th>103</th>\n",
              "      <td>102849.117188</td>\n",
              "    </tr>\n",
              "    <tr>\n",
              "      <th>104</th>\n",
              "      <td>271230.937500</td>\n",
              "    </tr>\n",
              "    <tr>\n",
              "      <th>105</th>\n",
              "      <td>154575.734375</td>\n",
              "    </tr>\n",
              "    <tr>\n",
              "      <th>106</th>\n",
              "      <td>145565.437500</td>\n",
              "    </tr>\n",
              "    <tr>\n",
              "      <th>107</th>\n",
              "      <td>265936.875000</td>\n",
              "    </tr>\n",
              "    <tr>\n",
              "      <th>108</th>\n",
              "      <td>276775.875000</td>\n",
              "    </tr>\n",
              "    <tr>\n",
              "      <th>109</th>\n",
              "      <td>237270.671875</td>\n",
              "    </tr>\n",
              "    <tr>\n",
              "      <th>110</th>\n",
              "      <td>105900.039062</td>\n",
              "    </tr>\n",
              "    <tr>\n",
              "      <th>111</th>\n",
              "      <td>128255.289062</td>\n",
              "    </tr>\n",
              "    <tr>\n",
              "      <th>112</th>\n",
              "      <td>55143.589844</td>\n",
              "    </tr>\n",
              "    <tr>\n",
              "      <th>113</th>\n",
              "      <td>193712.890625</td>\n",
              "    </tr>\n",
              "    <tr>\n",
              "      <th>114</th>\n",
              "      <td>112453.140625</td>\n",
              "    </tr>\n",
              "    <tr>\n",
              "      <th>115</th>\n",
              "      <td>157220.812500</td>\n",
              "    </tr>\n",
              "    <tr>\n",
              "      <th>116</th>\n",
              "      <td>139797.109375</td>\n",
              "    </tr>\n",
              "    <tr>\n",
              "      <th>117</th>\n",
              "      <td>121114.460938</td>\n",
              "    </tr>\n",
              "    <tr>\n",
              "      <th>118</th>\n",
              "      <td>356310.000000</td>\n",
              "    </tr>\n",
              "    <tr>\n",
              "      <th>119</th>\n",
              "      <td>317676.125000</td>\n",
              "    </tr>\n",
              "    <tr>\n",
              "      <th>120</th>\n",
              "      <td>226140.109375</td>\n",
              "    </tr>\n",
              "    <tr>\n",
              "      <th>121</th>\n",
              "      <td>108855.132812</td>\n",
              "    </tr>\n",
              "    <tr>\n",
              "      <th>122</th>\n",
              "      <td>171983.984375</td>\n",
              "    </tr>\n",
              "    <tr>\n",
              "      <th>123</th>\n",
              "      <td>137102.593750</td>\n",
              "    </tr>\n",
              "    <tr>\n",
              "      <th>124</th>\n",
              "      <td>100060.148438</td>\n",
              "    </tr>\n",
              "    <tr>\n",
              "      <th>125</th>\n",
              "      <td>133103.484375</td>\n",
              "    </tr>\n",
              "    <tr>\n",
              "      <th>126</th>\n",
              "      <td>196974.484375</td>\n",
              "    </tr>\n",
              "    <tr>\n",
              "      <th>127</th>\n",
              "      <td>302318.281250</td>\n",
              "    </tr>\n",
              "    <tr>\n",
              "      <th>128</th>\n",
              "      <td>103706.859375</td>\n",
              "    </tr>\n",
              "    <tr>\n",
              "      <th>129</th>\n",
              "      <td>153255.765625</td>\n",
              "    </tr>\n",
              "    <tr>\n",
              "      <th>130</th>\n",
              "      <td>106060.429688</td>\n",
              "    </tr>\n",
              "    <tr>\n",
              "      <th>131</th>\n",
              "      <td>119286.429688</td>\n",
              "    </tr>\n",
              "    <tr>\n",
              "      <th>132</th>\n",
              "      <td>188559.171875</td>\n",
              "    </tr>\n",
              "    <tr>\n",
              "      <th>133</th>\n",
              "      <td>168828.609375</td>\n",
              "    </tr>\n",
              "    <tr>\n",
              "      <th>134</th>\n",
              "      <td>250511.234375</td>\n",
              "    </tr>\n",
              "    <tr>\n",
              "      <th>135</th>\n",
              "      <td>95128.835938</td>\n",
              "    </tr>\n",
              "    <tr>\n",
              "      <th>136</th>\n",
              "      <td>339072.093750</td>\n",
              "    </tr>\n",
              "    <tr>\n",
              "      <th>137</th>\n",
              "      <td>131071.460938</td>\n",
              "    </tr>\n",
              "    <tr>\n",
              "      <th>138</th>\n",
              "      <td>139960.500000</td>\n",
              "    </tr>\n",
              "    <tr>\n",
              "      <th>139</th>\n",
              "      <td>239621.859375</td>\n",
              "    </tr>\n",
              "    <tr>\n",
              "      <th>140</th>\n",
              "      <td>221114.796875</td>\n",
              "    </tr>\n",
              "    <tr>\n",
              "      <th>141</th>\n",
              "      <td>142112.171875</td>\n",
              "    </tr>\n",
              "    <tr>\n",
              "      <th>142</th>\n",
              "      <td>66340.617188</td>\n",
              "    </tr>\n",
              "    <tr>\n",
              "      <th>143</th>\n",
              "      <td>312505.343750</td>\n",
              "    </tr>\n",
              "    <tr>\n",
              "      <th>144</th>\n",
              "      <td>147355.140625</td>\n",
              "    </tr>\n",
              "    <tr>\n",
              "      <th>145</th>\n",
              "      <td>246355.218750</td>\n",
              "    </tr>\n",
              "    <tr>\n",
              "      <th>146</th>\n",
              "      <td>143212.515625</td>\n",
              "    </tr>\n",
              "    <tr>\n",
              "      <th>147</th>\n",
              "      <td>136052.937500</td>\n",
              "    </tr>\n",
              "    <tr>\n",
              "      <th>148</th>\n",
              "      <td>145586.765625</td>\n",
              "    </tr>\n",
              "    <tr>\n",
              "      <th>149</th>\n",
              "      <td>131762.265625</td>\n",
              "    </tr>\n",
              "    <tr>\n",
              "      <th>150</th>\n",
              "      <td>141804.140625</td>\n",
              "    </tr>\n",
              "    <tr>\n",
              "      <th>151</th>\n",
              "      <td>125867.390625</td>\n",
              "    </tr>\n",
              "    <tr>\n",
              "      <th>152</th>\n",
              "      <td>214968.703125</td>\n",
              "    </tr>\n",
              "    <tr>\n",
              "      <th>153</th>\n",
              "      <td>142851.984375</td>\n",
              "    </tr>\n",
              "    <tr>\n",
              "      <th>154</th>\n",
              "      <td>82498.914062</td>\n",
              "    </tr>\n",
              "    <tr>\n",
              "      <th>155</th>\n",
              "      <td>222904.390625</td>\n",
              "    </tr>\n",
              "    <tr>\n",
              "      <th>156</th>\n",
              "      <td>99116.398438</td>\n",
              "    </tr>\n",
              "    <tr>\n",
              "      <th>157</th>\n",
              "      <td>186668.296875</td>\n",
              "    </tr>\n",
              "    <tr>\n",
              "      <th>158</th>\n",
              "      <td>154194.796875</td>\n",
              "    </tr>\n",
              "    <tr>\n",
              "      <th>159</th>\n",
              "      <td>169674.859375</td>\n",
              "    </tr>\n",
              "    <tr>\n",
              "      <th>160</th>\n",
              "      <td>125126.335938</td>\n",
              "    </tr>\n",
              "    <tr>\n",
              "      <th>161</th>\n",
              "      <td>335832.125000</td>\n",
              "    </tr>\n",
              "    <tr>\n",
              "      <th>162</th>\n",
              "      <td>127568.453125</td>\n",
              "    </tr>\n",
              "    <tr>\n",
              "      <th>163</th>\n",
              "      <td>172965.937500</td>\n",
              "    </tr>\n",
              "    <tr>\n",
              "      <th>164</th>\n",
              "      <td>210944.312500</td>\n",
              "    </tr>\n",
              "    <tr>\n",
              "      <th>165</th>\n",
              "      <td>351021.531250</td>\n",
              "    </tr>\n",
              "    <tr>\n",
              "      <th>166</th>\n",
              "      <td>201991.390625</td>\n",
              "    </tr>\n",
              "    <tr>\n",
              "      <th>167</th>\n",
              "      <td>92665.554688</td>\n",
              "    </tr>\n",
              "    <tr>\n",
              "      <th>168</th>\n",
              "      <td>264475.031250</td>\n",
              "    </tr>\n",
              "    <tr>\n",
              "      <th>169</th>\n",
              "      <td>116067.664062</td>\n",
              "    </tr>\n",
              "    <tr>\n",
              "      <th>170</th>\n",
              "      <td>75683.304688</td>\n",
              "    </tr>\n",
              "    <tr>\n",
              "      <th>171</th>\n",
              "      <td>108906.914062</td>\n",
              "    </tr>\n",
              "    <tr>\n",
              "      <th>172</th>\n",
              "      <td>276503.312500</td>\n",
              "    </tr>\n",
              "    <tr>\n",
              "      <th>173</th>\n",
              "      <td>91205.312500</td>\n",
              "    </tr>\n",
              "    <tr>\n",
              "      <th>174</th>\n",
              "      <td>167718.765625</td>\n",
              "    </tr>\n",
              "    <tr>\n",
              "      <th>175</th>\n",
              "      <td>178329.421875</td>\n",
              "    </tr>\n",
              "    <tr>\n",
              "      <th>176</th>\n",
              "      <td>181485.718750</td>\n",
              "    </tr>\n",
              "    <tr>\n",
              "      <th>177</th>\n",
              "      <td>273418.593750</td>\n",
              "    </tr>\n",
              "    <tr>\n",
              "      <th>178</th>\n",
              "      <td>236352.140625</td>\n",
              "    </tr>\n",
              "    <tr>\n",
              "      <th>179</th>\n",
              "      <td>115420.851562</td>\n",
              "    </tr>\n",
              "  </tbody>\n",
              "</table>\n",
              "</div>"
            ],
            "text/plain": [
              "        Prediction\n",
              "0    125071.664062\n",
              "1    217297.359375\n",
              "2    152125.906250\n",
              "3    251757.046875\n",
              "4    223750.671875\n",
              "5    211186.015625\n",
              "6    148613.609375\n",
              "7    282291.125000\n",
              "8    162473.953125\n",
              "9    373956.031250\n",
              "10   213018.812500\n",
              "11   200625.390625\n",
              "12   178765.734375\n",
              "13   104372.929688\n",
              "14   198036.671875\n",
              "15   111980.210938\n",
              "16   242403.859375\n",
              "17   125503.367188\n",
              "18   333459.968750\n",
              "19    69915.226562\n",
              "20   198931.515625\n",
              "21   111579.882812\n",
              "22    88237.851562\n",
              "23   205703.953125\n",
              "24   192203.375000\n",
              "25   183753.828125\n",
              "26   131451.234375\n",
              "27   352263.000000\n",
              "28   167486.359375\n",
              "29   161020.296875\n",
              "30    54237.910156\n",
              "31   118020.960938\n",
              "32   264249.375000\n",
              "33    77752.054688\n",
              "34   217460.078125\n",
              "35   186889.796875\n",
              "36   116082.507812\n",
              "37   123427.117188\n",
              "38   166718.125000\n",
              "39   105819.093750\n",
              "40   259976.343750\n",
              "41   304532.718750\n",
              "42    91207.734375\n",
              "43   155612.843750\n",
              "44   192233.015625\n",
              "45   118265.093750\n",
              "46   102243.359375\n",
              "47   125962.140625\n",
              "48   125849.257812\n",
              "49   333194.906250\n",
              "50   128305.570312\n",
              "51   335330.062500\n",
              "52   215876.796875\n",
              "53   150352.906250\n",
              "54   261046.734375\n",
              "55   192662.234375\n",
              "56   141039.140625\n",
              "57   118935.742188\n",
              "58   268043.531250\n",
              "59   176173.453125\n",
              "60   336695.406250\n",
              "61   110796.257812\n",
              "62   211171.796875\n",
              "63   231730.109375\n",
              "64   161406.187500\n",
              "65   125324.531250\n",
              "66   170322.593750\n",
              "67   261969.390625\n",
              "68    56529.781250\n",
              "69   255223.984375\n",
              "70    92672.960938\n",
              "71    74443.500000\n",
              "72    89566.195312\n",
              "73   374742.375000\n",
              "74   194125.265625\n",
              "75   222363.671875\n",
              "76   129062.250000\n",
              "77   109311.742188\n",
              "78   125784.976562\n",
              "79   126142.289062\n",
              "80   154459.062500\n",
              "81   134190.046875\n",
              "82    99313.648438\n",
              "83   250036.734375\n",
              "84   126543.523438\n",
              "85   112931.093750\n",
              "86   142069.593750\n",
              "87   144067.890625\n",
              "88   137041.296875\n",
              "89   113639.867188\n",
              "90   287586.937500\n",
              "91   139234.812500\n",
              "92   158231.359375\n",
              "93   131993.734375\n",
              "94   133744.265625\n",
              "95   514886.125000\n",
              "96   195635.578125\n",
              "97   360102.406250\n",
              "98   221930.671875\n",
              "99   256278.421875\n",
              "100  169005.781250\n",
              "101  152323.328125\n",
              "102  222730.640625\n",
              "103  102849.117188\n",
              "104  271230.937500\n",
              "105  154575.734375\n",
              "106  145565.437500\n",
              "107  265936.875000\n",
              "108  276775.875000\n",
              "109  237270.671875\n",
              "110  105900.039062\n",
              "111  128255.289062\n",
              "112   55143.589844\n",
              "113  193712.890625\n",
              "114  112453.140625\n",
              "115  157220.812500\n",
              "116  139797.109375\n",
              "117  121114.460938\n",
              "118  356310.000000\n",
              "119  317676.125000\n",
              "120  226140.109375\n",
              "121  108855.132812\n",
              "122  171983.984375\n",
              "123  137102.593750\n",
              "124  100060.148438\n",
              "125  133103.484375\n",
              "126  196974.484375\n",
              "127  302318.281250\n",
              "128  103706.859375\n",
              "129  153255.765625\n",
              "130  106060.429688\n",
              "131  119286.429688\n",
              "132  188559.171875\n",
              "133  168828.609375\n",
              "134  250511.234375\n",
              "135   95128.835938\n",
              "136  339072.093750\n",
              "137  131071.460938\n",
              "138  139960.500000\n",
              "139  239621.859375\n",
              "140  221114.796875\n",
              "141  142112.171875\n",
              "142   66340.617188\n",
              "143  312505.343750\n",
              "144  147355.140625\n",
              "145  246355.218750\n",
              "146  143212.515625\n",
              "147  136052.937500\n",
              "148  145586.765625\n",
              "149  131762.265625\n",
              "150  141804.140625\n",
              "151  125867.390625\n",
              "152  214968.703125\n",
              "153  142851.984375\n",
              "154   82498.914062\n",
              "155  222904.390625\n",
              "156   99116.398438\n",
              "157  186668.296875\n",
              "158  154194.796875\n",
              "159  169674.859375\n",
              "160  125126.335938\n",
              "161  335832.125000\n",
              "162  127568.453125\n",
              "163  172965.937500\n",
              "164  210944.312500\n",
              "165  351021.531250\n",
              "166  201991.390625\n",
              "167   92665.554688\n",
              "168  264475.031250\n",
              "169  116067.664062\n",
              "170   75683.304688\n",
              "171  108906.914062\n",
              "172  276503.312500\n",
              "173   91205.312500\n",
              "174  167718.765625\n",
              "175  178329.421875\n",
              "176  181485.718750\n",
              "177  273418.593750\n",
              "178  236352.140625\n",
              "179  115420.851562"
            ]
          },
          "metadata": {
            "tags": []
          },
          "execution_count": 59
        }
      ]
    },
    {
      "cell_type": "code",
      "metadata": {
        "id": "F3fDwz7Bq7HQ",
        "colab_type": "code",
        "colab": {
          "base_uri": "https://localhost:8080/",
          "height": 196
        },
        "outputId": "07499ed4-b54e-44cf-d77a-a90763868fac"
      },
      "source": [
        "final_output=pd.concat([data_verify,data_predicted],axis=1)\n",
        "final_output['Difference']=final_output['Test']-final_output['Prediction']\n",
        "final_output.head()"
      ],
      "execution_count": 60,
      "outputs": [
        {
          "output_type": "execute_result",
          "data": {
            "text/html": [
              "<div>\n",
              "<style scoped>\n",
              "    .dataframe tbody tr th:only-of-type {\n",
              "        vertical-align: middle;\n",
              "    }\n",
              "\n",
              "    .dataframe tbody tr th {\n",
              "        vertical-align: top;\n",
              "    }\n",
              "\n",
              "    .dataframe thead th {\n",
              "        text-align: right;\n",
              "    }\n",
              "</style>\n",
              "<table border=\"1\" class=\"dataframe\">\n",
              "  <thead>\n",
              "    <tr style=\"text-align: right;\">\n",
              "      <th></th>\n",
              "      <th>Test</th>\n",
              "      <th>Prediction</th>\n",
              "      <th>Difference</th>\n",
              "    </tr>\n",
              "  </thead>\n",
              "  <tbody>\n",
              "    <tr>\n",
              "      <th>0</th>\n",
              "      <td>130000.0</td>\n",
              "      <td>125071.664062</td>\n",
              "      <td>4928.335938</td>\n",
              "    </tr>\n",
              "    <tr>\n",
              "      <th>1</th>\n",
              "      <td>138887.0</td>\n",
              "      <td>217297.359375</td>\n",
              "      <td>-78410.359375</td>\n",
              "    </tr>\n",
              "    <tr>\n",
              "      <th>2</th>\n",
              "      <td>175500.0</td>\n",
              "      <td>152125.906250</td>\n",
              "      <td>23374.093750</td>\n",
              "    </tr>\n",
              "    <tr>\n",
              "      <th>3</th>\n",
              "      <td>195000.0</td>\n",
              "      <td>251757.046875</td>\n",
              "      <td>-56757.046875</td>\n",
              "    </tr>\n",
              "    <tr>\n",
              "      <th>4</th>\n",
              "      <td>142500.0</td>\n",
              "      <td>223750.671875</td>\n",
              "      <td>-81250.671875</td>\n",
              "    </tr>\n",
              "  </tbody>\n",
              "</table>\n",
              "</div>"
            ],
            "text/plain": [
              "       Test     Prediction    Difference\n",
              "0  130000.0  125071.664062   4928.335938\n",
              "1  138887.0  217297.359375 -78410.359375\n",
              "2  175500.0  152125.906250  23374.093750\n",
              "3  195000.0  251757.046875 -56757.046875\n",
              "4  142500.0  223750.671875 -81250.671875"
            ]
          },
          "metadata": {
            "tags": []
          },
          "execution_count": 60
        }
      ]
    },
    {
      "cell_type": "markdown",
      "metadata": {
        "id": "8mz53MJSboEp",
        "colab_type": "text"
      },
      "source": [
        "## Save the model"
      ]
    },
    {
      "cell_type": "code",
      "metadata": {
        "id": "JrlMnfteq7HT",
        "colab_type": "code",
        "colab": {
          "base_uri": "https://localhost:8080/",
          "height": 70
        },
        "outputId": "5e8c89b9-c15e-4e9b-c84a-a47340384857"
      },
      "source": [
        "torch.save(model,'HousePrice.pt')"
      ],
      "execution_count": 62,
      "outputs": [
        {
          "output_type": "stream",
          "text": [
            "/usr/local/lib/python3.6/dist-packages/torch/serialization.py:402: UserWarning: Couldn't retrieve source code for container of type FeedForwardNN. It won't be checked for correctness upon loading.\n",
            "  \"type \" + obj.__name__ + \". It won't be checked \"\n"
          ],
          "name": "stderr"
        }
      ]
    },
    {
      "cell_type": "code",
      "metadata": {
        "id": "INQAFzPKq7HX",
        "colab_type": "code",
        "colab": {}
      },
      "source": [
        "torch.save(model.state_dict(),'HouseWeights.pt')"
      ],
      "execution_count": 63,
      "outputs": []
    },
    {
      "cell_type": "markdown",
      "metadata": {
        "id": "nwjJqh7rb_BK",
        "colab_type": "text"
      },
      "source": [
        "### Loading the saved Model"
      ]
    },
    {
      "cell_type": "code",
      "metadata": {
        "id": "0zuSGKhIq7HZ",
        "colab_type": "code",
        "colab": {}
      },
      "source": [
        "embs_size=[(15, 8), (5, 3), (2, 1), (4, 2)]\n",
        "model1=FeedForwardNN(embs_size,5,1,[100,50],p=0.4)"
      ],
      "execution_count": 64,
      "outputs": []
    },
    {
      "cell_type": "code",
      "metadata": {
        "id": "9u6swnJPq7Ha",
        "colab_type": "code",
        "colab": {
          "base_uri": "https://localhost:8080/",
          "height": 33
        },
        "outputId": "4764dc95-6b14-4484-ab9f-d42a47020e5b"
      },
      "source": [
        "model1.load_state_dict(torch.load('HouseWeights.pt'))"
      ],
      "execution_count": 65,
      "outputs": [
        {
          "output_type": "execute_result",
          "data": {
            "text/plain": [
              "<All keys matched successfully>"
            ]
          },
          "metadata": {
            "tags": []
          },
          "execution_count": 65
        }
      ]
    },
    {
      "cell_type": "code",
      "metadata": {
        "id": "bo06kHW3q7Hc",
        "colab_type": "code",
        "colab": {
          "base_uri": "https://localhost:8080/",
          "height": 368
        },
        "outputId": "4203d7f9-5faa-4bf2-90da-051a2e96e4d3"
      },
      "source": [
        "model1.eval()"
      ],
      "execution_count": 66,
      "outputs": [
        {
          "output_type": "execute_result",
          "data": {
            "text/plain": [
              "FeedForwardNN(\n",
              "  (embeds): ModuleList(\n",
              "    (0): Embedding(15, 8)\n",
              "    (1): Embedding(5, 3)\n",
              "    (2): Embedding(2, 1)\n",
              "    (3): Embedding(4, 2)\n",
              "  )\n",
              "  (emb_drop): Dropout(p=0.4, inplace=False)\n",
              "  (bn_cont): BatchNorm1d(5, eps=1e-05, momentum=0.1, affine=True, track_running_stats=True)\n",
              "  (layers): Sequential(\n",
              "    (0): Linear(in_features=19, out_features=100, bias=True)\n",
              "    (1): ReLU(inplace=True)\n",
              "    (2): BatchNorm1d(100, eps=1e-05, momentum=0.1, affine=True, track_running_stats=True)\n",
              "    (3): Dropout(p=0.4, inplace=False)\n",
              "    (4): Linear(in_features=100, out_features=50, bias=True)\n",
              "    (5): ReLU(inplace=True)\n",
              "    (6): BatchNorm1d(50, eps=1e-05, momentum=0.1, affine=True, track_running_stats=True)\n",
              "    (7): Dropout(p=0.4, inplace=False)\n",
              "    (8): Linear(in_features=50, out_features=1, bias=True)\n",
              "  )\n",
              ")"
            ]
          },
          "metadata": {
            "tags": []
          },
          "execution_count": 66
        }
      ]
    }
  ]
}