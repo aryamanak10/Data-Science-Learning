{
  "nbformat": 4,
  "nbformat_minor": 0,
  "metadata": {
    "kernelspec": {
      "display_name": "Python 3",
      "language": "python",
      "name": "python3"
    },
    "language_info": {
      "codemirror_mode": {
        "name": "ipython",
        "version": 3
      },
      "file_extension": ".py",
      "mimetype": "text/x-python",
      "name": "python",
      "nbconvert_exporter": "python",
      "pygments_lexer": "ipython3",
      "version": "3.7.7"
    },
    "colab": {
      "name": "Handling Outliers and It's Impact on ML.ipynb",
      "provenance": []
    }
  },
  "cells": [
    {
      "cell_type": "markdown",
      "metadata": {
        "id": "fOOJtzBpuUDs",
        "colab_type": "text"
      },
      "source": [
        "## Handling Outliers and It's Impact on ML"
      ]
    },
    {
      "cell_type": "markdown",
      "metadata": {
        "id": "XB8T0gcLuUDv",
        "colab_type": "text"
      },
      "source": [
        "**Which Machine Learning Models Are Sensitive To Outliers?**\n",
        "\n",
        "1.  **Naive Bayes Classifier**---------------------- Not Sensitive To Outliers\n",
        "2.  **SVM**------------------------------------------------- Not Sensitive To Outliers\n",
        "3.  **Linear Regression**------------------------------ Sensitive To Outliers\n",
        "4.  **Logistic Regression**----------------------------Sensitive To Outliers\n",
        "5.  **Decision Tree Regressor or Classifier**-- Not Sensitive\n",
        "6.  **Ensemble(RF,XGboost,GB)**----------------- Not Sensitive\n",
        "7.  **KNN**--------------------------------------- Not Sensitive\n",
        "8.  **Kmeans**---------------------------------- Sensitive\n",
        "9.  **Hierarichal**------------------------------ Sensitive\n",
        "10. **PCA**--------------------------------------- Sensitive\n",
        "11. **Neural Networks**---------------------- Sensitive"
      ]
    },
    {
      "cell_type": "code",
      "metadata": {
        "id": "X1yeT1LYuUDx",
        "colab_type": "code",
        "colab": {}
      },
      "source": [
        "import pandas as pd"
      ],
      "execution_count": null,
      "outputs": []
    },
    {
      "cell_type": "code",
      "metadata": {
        "id": "9EJADF5YuUD8",
        "colab_type": "code",
        "colab": {},
        "outputId": "178d23c9-5962-4daa-f9d6-e39cb3c66679"
      },
      "source": [
        "df = pd.read_csv('titanic.csv')\n",
        "df.head()"
      ],
      "execution_count": null,
      "outputs": [
        {
          "output_type": "execute_result",
          "data": {
            "text/html": [
              "<div>\n",
              "<style scoped>\n",
              "    .dataframe tbody tr th:only-of-type {\n",
              "        vertical-align: middle;\n",
              "    }\n",
              "\n",
              "    .dataframe tbody tr th {\n",
              "        vertical-align: top;\n",
              "    }\n",
              "\n",
              "    .dataframe thead th {\n",
              "        text-align: right;\n",
              "    }\n",
              "</style>\n",
              "<table border=\"1\" class=\"dataframe\">\n",
              "  <thead>\n",
              "    <tr style=\"text-align: right;\">\n",
              "      <th></th>\n",
              "      <th>PassengerId</th>\n",
              "      <th>Survived</th>\n",
              "      <th>Pclass</th>\n",
              "      <th>Name</th>\n",
              "      <th>Sex</th>\n",
              "      <th>Age</th>\n",
              "      <th>SibSp</th>\n",
              "      <th>Parch</th>\n",
              "      <th>Ticket</th>\n",
              "      <th>Fare</th>\n",
              "      <th>Cabin</th>\n",
              "      <th>Embarked</th>\n",
              "    </tr>\n",
              "  </thead>\n",
              "  <tbody>\n",
              "    <tr>\n",
              "      <th>0</th>\n",
              "      <td>1</td>\n",
              "      <td>0</td>\n",
              "      <td>3</td>\n",
              "      <td>Braund, Mr. Owen Harris</td>\n",
              "      <td>male</td>\n",
              "      <td>22.0</td>\n",
              "      <td>1</td>\n",
              "      <td>0</td>\n",
              "      <td>A/5 21171</td>\n",
              "      <td>7.2500</td>\n",
              "      <td>NaN</td>\n",
              "      <td>S</td>\n",
              "    </tr>\n",
              "    <tr>\n",
              "      <th>1</th>\n",
              "      <td>2</td>\n",
              "      <td>1</td>\n",
              "      <td>1</td>\n",
              "      <td>Cumings, Mrs. John Bradley (Florence Briggs Th...</td>\n",
              "      <td>female</td>\n",
              "      <td>38.0</td>\n",
              "      <td>1</td>\n",
              "      <td>0</td>\n",
              "      <td>PC 17599</td>\n",
              "      <td>71.2833</td>\n",
              "      <td>C85</td>\n",
              "      <td>C</td>\n",
              "    </tr>\n",
              "    <tr>\n",
              "      <th>2</th>\n",
              "      <td>3</td>\n",
              "      <td>1</td>\n",
              "      <td>3</td>\n",
              "      <td>Heikkinen, Miss. Laina</td>\n",
              "      <td>female</td>\n",
              "      <td>26.0</td>\n",
              "      <td>0</td>\n",
              "      <td>0</td>\n",
              "      <td>STON/O2. 3101282</td>\n",
              "      <td>7.9250</td>\n",
              "      <td>NaN</td>\n",
              "      <td>S</td>\n",
              "    </tr>\n",
              "    <tr>\n",
              "      <th>3</th>\n",
              "      <td>4</td>\n",
              "      <td>1</td>\n",
              "      <td>1</td>\n",
              "      <td>Futrelle, Mrs. Jacques Heath (Lily May Peel)</td>\n",
              "      <td>female</td>\n",
              "      <td>35.0</td>\n",
              "      <td>1</td>\n",
              "      <td>0</td>\n",
              "      <td>113803</td>\n",
              "      <td>53.1000</td>\n",
              "      <td>C123</td>\n",
              "      <td>S</td>\n",
              "    </tr>\n",
              "    <tr>\n",
              "      <th>4</th>\n",
              "      <td>5</td>\n",
              "      <td>0</td>\n",
              "      <td>3</td>\n",
              "      <td>Allen, Mr. William Henry</td>\n",
              "      <td>male</td>\n",
              "      <td>35.0</td>\n",
              "      <td>0</td>\n",
              "      <td>0</td>\n",
              "      <td>373450</td>\n",
              "      <td>8.0500</td>\n",
              "      <td>NaN</td>\n",
              "      <td>S</td>\n",
              "    </tr>\n",
              "  </tbody>\n",
              "</table>\n",
              "</div>"
            ],
            "text/plain": [
              "   PassengerId  Survived  Pclass  \\\n",
              "0            1         0       3   \n",
              "1            2         1       1   \n",
              "2            3         1       3   \n",
              "3            4         1       1   \n",
              "4            5         0       3   \n",
              "\n",
              "                                                Name     Sex   Age  SibSp  \\\n",
              "0                            Braund, Mr. Owen Harris    male  22.0      1   \n",
              "1  Cumings, Mrs. John Bradley (Florence Briggs Th...  female  38.0      1   \n",
              "2                             Heikkinen, Miss. Laina  female  26.0      0   \n",
              "3       Futrelle, Mrs. Jacques Heath (Lily May Peel)  female  35.0      1   \n",
              "4                           Allen, Mr. William Henry    male  35.0      0   \n",
              "\n",
              "   Parch            Ticket     Fare Cabin Embarked  \n",
              "0      0         A/5 21171   7.2500   NaN        S  \n",
              "1      0          PC 17599  71.2833   C85        C  \n",
              "2      0  STON/O2. 3101282   7.9250   NaN        S  \n",
              "3      0            113803  53.1000  C123        S  \n",
              "4      0            373450   8.0500   NaN        S  "
            ]
          },
          "metadata": {
            "tags": []
          },
          "execution_count": 2
        }
      ]
    },
    {
      "cell_type": "code",
      "metadata": {
        "id": "WawjLvRPuUEF",
        "colab_type": "code",
        "colab": {},
        "outputId": "d081704e-8279-4cc7-8173-d99640d5577d"
      },
      "source": [
        "df['Age'].isnull().sum()"
      ],
      "execution_count": null,
      "outputs": [
        {
          "output_type": "execute_result",
          "data": {
            "text/plain": [
              "177"
            ]
          },
          "metadata": {
            "tags": []
          },
          "execution_count": 3
        }
      ]
    },
    {
      "cell_type": "markdown",
      "metadata": {
        "id": "pNh9nHuWuUEL",
        "colab_type": "text"
      },
      "source": [
        "### Normal Distribution Curve"
      ]
    },
    {
      "cell_type": "code",
      "metadata": {
        "id": "vZpFWLQPuUEM",
        "colab_type": "code",
        "colab": {}
      },
      "source": [
        "import seaborn as sns"
      ],
      "execution_count": null,
      "outputs": []
    },
    {
      "cell_type": "code",
      "metadata": {
        "id": "lMNrFGdOuUER",
        "colab_type": "code",
        "colab": {},
        "outputId": "8dc8c9ad-3685-4848-d341-620d4380a826"
      },
      "source": [
        "sns.distplot(df['Age'].dropna())"
      ],
      "execution_count": null,
      "outputs": [
        {
          "output_type": "execute_result",
          "data": {
            "text/plain": [
              "<AxesSubplot:xlabel='Age'>"
            ]
          },
          "metadata": {
            "tags": []
          },
          "execution_count": 5
        },
        {
          "output_type": "display_data",
          "data": {
            "image/png": "[encoded data removed]",
            "text/plain": [
              "<Figure size 432x288 with 1 Axes>"
            ]
          },
          "metadata": {
            "tags": [],
            "needs_background": "light"
          }
        }
      ]
    },
    {
      "cell_type": "markdown",
      "metadata": {
        "id": "tcf-SWn5uUEY",
        "colab_type": "text"
      },
      "source": [
        "### Adding Outliers"
      ]
    },
    {
      "cell_type": "code",
      "metadata": {
        "id": "Qqlqgd38uUEZ",
        "colab_type": "code",
        "colab": {},
        "outputId": "a575ba6f-962a-4a08-d44f-a841afba7b1a"
      },
      "source": [
        "sns.distplot(df['Age'].fillna(100))"
      ],
      "execution_count": null,
      "outputs": [
        {
          "output_type": "execute_result",
          "data": {
            "text/plain": [
              "<AxesSubplot:xlabel='Age'>"
            ]
          },
          "metadata": {
            "tags": []
          },
          "execution_count": 6
        },
        {
          "output_type": "display_data",
          "data": {
            "image/png": "[encoded data removed]",
            "text/plain": [
              "<Figure size 432x288 with 1 Axes>"
            ]
          },
          "metadata": {
            "tags": [],
            "needs_background": "light"
          }
        }
      ]
    },
    {
      "cell_type": "markdown",
      "metadata": {
        "id": "ezw8b0hFuUEf",
        "colab_type": "text"
      },
      "source": [
        "### Without Dropping the Null Values (Gaussian Distribution)"
      ]
    },
    {
      "cell_type": "code",
      "metadata": {
        "id": "2NiTW0-quUEh",
        "colab_type": "code",
        "colab": {},
        "outputId": "0aa95b21-d58c-46cf-ff3d-fd2b3d47382e"
      },
      "source": [
        "figure = df.Age.hist(bins=50)\n",
        "figure.set_title('Age vs Number of Passengers')\n",
        "figure.set_xlabel('Age')\n",
        "figure.set_ylabel('Number of Passengers')"
      ],
      "execution_count": null,
      "outputs": [
        {
          "output_type": "execute_result",
          "data": {
            "text/plain": [
              "Text(0, 0.5, 'Number of Passengers')"
            ]
          },
          "metadata": {
            "tags": []
          },
          "execution_count": 7
        },
        {
          "output_type": "display_data",
          "data": {
            "image/png": "[encoded data removed]",
            "text/plain": [
              "<Figure size 432x288 with 1 Axes>"
            ]
          },
          "metadata": {
            "tags": [],
            "needs_background": "light"
          }
        }
      ]
    },
    {
      "cell_type": "code",
      "metadata": {
        "id": "iuhQVtDTuUEl",
        "colab_type": "code",
        "colab": {},
        "outputId": "7af1e31a-2d3c-4879-b753-35fb87d956c2"
      },
      "source": [
        "figure = df.boxplot(column=\"Age\")"
      ],
      "execution_count": null,
      "outputs": [
        {
          "output_type": "display_data",
          "data": {
            "image/png": "[encoded data removed]",
            "text/plain": [
              "<Figure size 432x288 with 1 Axes>"
            ]
          },
          "metadata": {
            "tags": [],
            "needs_background": "light"
          }
        }
      ]
    },
    {
      "cell_type": "markdown",
      "metadata": {
        "id": "RjDNY-kLuUEq",
        "colab_type": "text"
      },
      "source": [
        "* The Dotted Points are the Outliers"
      ]
    },
    {
      "cell_type": "code",
      "metadata": {
        "id": "RJMzWibcuUEr",
        "colab_type": "code",
        "colab": {},
        "outputId": "3ffa585d-4c57-481d-a4d0-f75645f871e1"
      },
      "source": [
        "df['Age'].describe()"
      ],
      "execution_count": null,
      "outputs": [
        {
          "output_type": "execute_result",
          "data": {
            "text/plain": [
              "count    714.000000\n",
              "mean      29.699118\n",
              "std       14.526497\n",
              "min        0.420000\n",
              "25%       20.125000\n",
              "50%       28.000000\n",
              "75%       38.000000\n",
              "max       80.000000\n",
              "Name: Age, dtype: float64"
            ]
          },
          "metadata": {
            "tags": []
          },
          "execution_count": 9
        }
      ]
    },
    {
      "cell_type": "markdown",
      "metadata": {
        "id": "9D3C4feKuUEv",
        "colab_type": "text"
      },
      "source": [
        "## 3-Standard Deviation Technique"
      ]
    },
    {
      "cell_type": "markdown",
      "metadata": {
        "id": "-clwS3F5uUEw",
        "colab_type": "text"
      },
      "source": [
        "**Assuming Age follows a Gaussian Distribution, we will calculate the boundaries which differentiate the outliers**"
      ]
    },
    {
      "cell_type": "code",
      "metadata": {
        "id": "klqCnVrGuUEy",
        "colab_type": "code",
        "colab": {},
        "outputId": "19ae4a35-8246-424f-9710-e4a420df25a2"
      },
      "source": [
        "df['Age'].mean()"
      ],
      "execution_count": null,
      "outputs": [
        {
          "output_type": "execute_result",
          "data": {
            "text/plain": [
              "29.69911764705882"
            ]
          },
          "metadata": {
            "tags": []
          },
          "execution_count": 10
        }
      ]
    },
    {
      "cell_type": "code",
      "metadata": {
        "id": "soGpTpeVuUE2",
        "colab_type": "code",
        "colab": {}
      },
      "source": [
        "upper_boundary = df['Age'].mean() + 3*df['Age'].std()"
      ],
      "execution_count": null,
      "outputs": []
    },
    {
      "cell_type": "code",
      "metadata": {
        "id": "nwoy3EAIuUE8",
        "colab_type": "code",
        "colab": {}
      },
      "source": [
        "lower_boundary = df['Age'].mean() - 3*df['Age'].std()"
      ],
      "execution_count": null,
      "outputs": []
    },
    {
      "cell_type": "code",
      "metadata": {
        "id": "RG6dpFInuUFA",
        "colab_type": "code",
        "colab": {},
        "outputId": "80fb2e6c-e9f3-48e3-93cc-582105a7dbd5"
      },
      "source": [
        "print(lower_boundary), print(upper_boundary), print(df['Age'].mean())"
      ],
      "execution_count": null,
      "outputs": [
        {
          "output_type": "stream",
          "text": [
            "-13.880374349943303\n",
            "73.27860964406094\n",
            "29.69911764705882\n"
          ],
          "name": "stdout"
        },
        {
          "output_type": "execute_result",
          "data": {
            "text/plain": [
              "(None, None, None)"
            ]
          },
          "metadata": {
            "tags": []
          },
          "execution_count": 13
        }
      ]
    },
    {
      "cell_type": "markdown",
      "metadata": {
        "id": "m3kYzewDuUFF",
        "colab_type": "text"
      },
      "source": [
        "* Anything above 73.28 can be considered as an outlier in this case."
      ]
    },
    {
      "cell_type": "markdown",
      "metadata": {
        "id": "nSPv4OA1uUFG",
        "colab_type": "text"
      },
      "source": [
        "### Computing the Inter-Quantile Range"
      ]
    },
    {
      "cell_type": "markdown",
      "metadata": {
        "id": "nMYm3V-ruUFH",
        "colab_type": "text"
      },
      "source": [
        "* Inter-Quantile Range is used to calculate the boundaries\n",
        "\n",
        "* Difference between 75%ile and 25%ile"
      ]
    },
    {
      "cell_type": "code",
      "metadata": {
        "id": "TElmMn7ZuUFH",
        "colab_type": "code",
        "colab": {}
      },
      "source": [
        "IQR = df.Age.quantile(0.75) - df.Age.quantile(0.25)"
      ],
      "execution_count": null,
      "outputs": []
    },
    {
      "cell_type": "code",
      "metadata": {
        "scrolled": true,
        "id": "qTSKBerbuUFM",
        "colab_type": "code",
        "colab": {},
        "outputId": "a0fc6512-facb-463a-a40d-e398de8e04b8"
      },
      "source": [
        "IQR"
      ],
      "execution_count": null,
      "outputs": [
        {
          "output_type": "execute_result",
          "data": {
            "text/plain": [
              "17.875"
            ]
          },
          "metadata": {
            "tags": []
          },
          "execution_count": 15
        }
      ]
    },
    {
      "cell_type": "code",
      "metadata": {
        "id": "pL0v3R6juUFQ",
        "colab_type": "code",
        "colab": {}
      },
      "source": [
        "lower_bridge = df['Age'].quantile(0.25) - (IQR*1.5)\n",
        "upper_bridge = df['Age'].quantile(0.75) + (IQR*1.5)"
      ],
      "execution_count": null,
      "outputs": []
    },
    {
      "cell_type": "code",
      "metadata": {
        "id": "NGSuLbf-uUFT",
        "colab_type": "code",
        "colab": {},
        "outputId": "2f844ff2-ce1c-469e-b193-d59f6f127a71"
      },
      "source": [
        "print(upper_bridge)"
      ],
      "execution_count": null,
      "outputs": [
        {
          "output_type": "stream",
          "text": [
            "64.8125\n"
          ],
          "name": "stdout"
        }
      ]
    },
    {
      "cell_type": "code",
      "metadata": {
        "id": "zBVMdfmSuUFX",
        "colab_type": "code",
        "colab": {},
        "outputId": "96ccec5d-fbaa-442c-e197-e475a68aa181"
      },
      "source": [
        "print(lower_bridge)"
      ],
      "execution_count": null,
      "outputs": [
        {
          "output_type": "stream",
          "text": [
            "-6.6875\n"
          ],
          "name": "stdout"
        }
      ]
    },
    {
      "cell_type": "markdown",
      "metadata": {
        "id": "Xa7FVpTIuUFf",
        "colab_type": "text"
      },
      "source": [
        "### Extreme Outliers"
      ]
    },
    {
      "cell_type": "code",
      "metadata": {
        "id": "gW7MNyARuUFh",
        "colab_type": "code",
        "colab": {}
      },
      "source": [
        "lower_bridge = df['Age'].quantile(0.25) - (IQR*3)\n",
        "upper_bridge = df['Age'].quantile(0.75) + (IQR*3)"
      ],
      "execution_count": null,
      "outputs": []
    },
    {
      "cell_type": "code",
      "metadata": {
        "id": "A-7TCJ00uUFk",
        "colab_type": "code",
        "colab": {},
        "outputId": "ff42557f-25c7-47eb-ac23-ca287e078117"
      },
      "source": [
        "print(upper_bridge), print(lower_bridge)"
      ],
      "execution_count": null,
      "outputs": [
        {
          "output_type": "stream",
          "text": [
            "91.625\n",
            "-33.5\n"
          ],
          "name": "stdout"
        },
        {
          "output_type": "execute_result",
          "data": {
            "text/plain": [
              "(None, None)"
            ]
          },
          "metadata": {
            "tags": []
          },
          "execution_count": 20
        }
      ]
    },
    {
      "cell_type": "markdown",
      "metadata": {
        "id": "F9veLO40uUFo",
        "colab_type": "text"
      },
      "source": [
        "### Skewed Column (Fare)"
      ]
    },
    {
      "cell_type": "code",
      "metadata": {
        "id": "VI7O14CouUFp",
        "colab_type": "code",
        "colab": {},
        "outputId": "88cfd1f3-1466-439f-b9e6-d53278d288a9"
      },
      "source": [
        "figure = df.Fare.hist(bins=50)\n",
        "figure.set_title('Fare vs Number of Passengers')\n",
        "figure.set_xlabel('Fare')\n",
        "figure.set_ylabel('Number of Passengers')"
      ],
      "execution_count": null,
      "outputs": [
        {
          "output_type": "execute_result",
          "data": {
            "text/plain": [
              "Text(0, 0.5, 'Number of Passengers')"
            ]
          },
          "metadata": {
            "tags": []
          },
          "execution_count": 21
        },
        {
          "output_type": "display_data",
          "data": {
            "image/png": "[encoded data removed]",
            "text/plain": [
              "<Figure size 432x288 with 1 Axes>"
            ]
          },
          "metadata": {
            "tags": [],
            "needs_background": "light"
          }
        }
      ]
    },
    {
      "cell_type": "markdown",
      "metadata": {
        "id": "DBXmGuGKuUFu",
        "colab_type": "text"
      },
      "source": [
        "* DataSet column 'Fare' is not distrubuted normally, it is skewed."
      ]
    },
    {
      "cell_type": "code",
      "metadata": {
        "id": "5qLBYdiRuUFw",
        "colab_type": "code",
        "colab": {},
        "outputId": "3b98adee-6d2d-4f5e-c954-8aa0758ce031"
      },
      "source": [
        "figure = df.boxplot(column=\"Fare\")"
      ],
      "execution_count": null,
      "outputs": [
        {
          "output_type": "display_data",
          "data": {
            "image/png": "[encoded data removed]",
            "text/plain": [
              "<Figure size 432x288 with 1 Axes>"
            ]
          },
          "metadata": {
            "tags": [],
            "needs_background": "light"
          }
        }
      ]
    },
    {
      "cell_type": "markdown",
      "metadata": {
        "id": "HmXgtZnFuUFz",
        "colab_type": "text"
      },
      "source": [
        "* Huge amount of outliers can be seen (dots)"
      ]
    },
    {
      "cell_type": "code",
      "metadata": {
        "id": "ZYkodS-buUF0",
        "colab_type": "code",
        "colab": {},
        "outputId": "73d21b21-17e7-4c48-b399-37617a4b7210"
      },
      "source": [
        "df['Fare'].describe()"
      ],
      "execution_count": null,
      "outputs": [
        {
          "output_type": "execute_result",
          "data": {
            "text/plain": [
              "count    891.000000\n",
              "mean      32.204208\n",
              "std       49.693429\n",
              "min        0.000000\n",
              "25%        7.910400\n",
              "50%       14.454200\n",
              "75%       31.000000\n",
              "max      512.329200\n",
              "Name: Fare, dtype: float64"
            ]
          },
          "metadata": {
            "tags": []
          },
          "execution_count": 23
        }
      ]
    },
    {
      "cell_type": "markdown",
      "metadata": {
        "id": "q5PrDQckuUF5",
        "colab_type": "text"
      },
      "source": [
        "* Difference between max and 75% is huge which says that there are many outliers"
      ]
    },
    {
      "cell_type": "markdown",
      "metadata": {
        "id": "fe6E55CAuUF5",
        "colab_type": "text"
      },
      "source": [
        "### Inter-Quantile Range (Fare Column)"
      ]
    },
    {
      "cell_type": "markdown",
      "metadata": {
        "id": "a5iqX28CuUF6",
        "colab_type": "text"
      },
      "source": [
        "* In terms of skewed data, it is quite possible that the IQR method won't work but you have to try it.\n",
        "\n",
        "* For normal Distribution, IQR will definitely work."
      ]
    },
    {
      "cell_type": "code",
      "metadata": {
        "id": "x8cMsxsPuUF6",
        "colab_type": "code",
        "colab": {}
      },
      "source": [
        "IQR = df.Fare.quantile(0.75) - df.Fare.quantile(0.25)"
      ],
      "execution_count": null,
      "outputs": []
    },
    {
      "cell_type": "code",
      "metadata": {
        "id": "VnJCe6KPuUF9",
        "colab_type": "code",
        "colab": {},
        "outputId": "d30f530d-f275-4258-e831-2319e264f1fb"
      },
      "source": [
        "print(IQR)"
      ],
      "execution_count": null,
      "outputs": [
        {
          "output_type": "stream",
          "text": [
            "23.0896\n"
          ],
          "name": "stdout"
        }
      ]
    },
    {
      "cell_type": "code",
      "metadata": {
        "id": "jVs9Cvo1uUGD",
        "colab_type": "code",
        "colab": {},
        "outputId": "9a5772a6-dbd4-4754-9aa2-4bf079908f3d"
      },
      "source": [
        "upper_boundary = df['Fare'].mean() + 3*df['Fare'].std()\n",
        "lower_boundary = df['Fare'].mean() - 3*df['Fare'].std()\n",
        "print(lower_boundary), print(upper_boundary), print(df['Fare'].mean())"
      ],
      "execution_count": null,
      "outputs": [
        {
          "output_type": "stream",
          "text": [
            "-116.87607782296804\n",
            "181.2844937601173\n",
            "32.204207968574636\n"
          ],
          "name": "stdout"
        },
        {
          "output_type": "execute_result",
          "data": {
            "text/plain": [
              "(None, None, None)"
            ]
          },
          "metadata": {
            "tags": []
          },
          "execution_count": 26
        }
      ]
    },
    {
      "cell_type": "markdown",
      "metadata": {
        "id": "SdqN-glguUGH",
        "colab_type": "text"
      },
      "source": [
        "**Have to use the upper and lower boundary values for the outliers in the Age Column or Normal Distribution**"
      ]
    },
    {
      "cell_type": "code",
      "metadata": {
        "id": "zso1JAJauUGI",
        "colab_type": "code",
        "colab": {},
        "outputId": "ffe1d846-e8c8-4398-c104-ecaf37fce9bb"
      },
      "source": [
        "lower_bridge = df['Fare'].quantile(0.25) - (IQR*1.5)\n",
        "upper_bridge = df['Fare'].quantile(0.75) + (IQR*1.5)\n",
        "print(upper_bridge), print(lower_bridge)"
      ],
      "execution_count": null,
      "outputs": [
        {
          "output_type": "stream",
          "text": [
            "65.6344\n",
            "-26.724\n"
          ],
          "name": "stdout"
        },
        {
          "output_type": "execute_result",
          "data": {
            "text/plain": [
              "(None, None)"
            ]
          },
          "metadata": {
            "tags": []
          },
          "execution_count": 31
        }
      ]
    },
    {
      "cell_type": "markdown",
      "metadata": {
        "id": "Qjoi5yKNuUGL",
        "colab_type": "text"
      },
      "source": [
        "### Extreme Outliers"
      ]
    },
    {
      "cell_type": "code",
      "metadata": {
        "id": "7b6Gyv63uUGM",
        "colab_type": "code",
        "colab": {},
        "outputId": "dc803e1a-63b4-49b5-d680-ccab2b5a6490"
      },
      "source": [
        "lower_bridge = df['Fare'].quantile(0.25) - (IQR*3)\n",
        "upper_bridge = df['Fare'].quantile(0.75) + (IQR*3)\n",
        "print(upper_bridge), print(lower_bridge)"
      ],
      "execution_count": null,
      "outputs": [
        {
          "output_type": "stream",
          "text": [
            "100.2688\n",
            "-61.358399999999996\n"
          ],
          "name": "stdout"
        },
        {
          "output_type": "execute_result",
          "data": {
            "text/plain": [
              "(None, None)"
            ]
          },
          "metadata": {
            "tags": []
          },
          "execution_count": 32
        }
      ]
    },
    {
      "cell_type": "markdown",
      "metadata": {
        "id": "hoTAN4b_uUGP",
        "colab_type": "text"
      },
      "source": [
        "* Since the fare columns consists of data like 200, 300 and 500, we take extreme outliers as the boundary.\n",
        "\n",
        "* Anything above 100.2688 is considered as an outlier in this case (**Skewed Data**)"
      ]
    },
    {
      "cell_type": "code",
      "metadata": {
        "id": "dEABsOCUuUGQ",
        "colab_type": "code",
        "colab": {}
      },
      "source": [
        "data = df.copy()"
      ],
      "execution_count": null,
      "outputs": []
    },
    {
      "cell_type": "code",
      "metadata": {
        "id": "EeHLCyL7uUGT",
        "colab_type": "code",
        "colab": {}
      },
      "source": [
        "data.loc[data['Age']>73, 'Age'] = 73"
      ],
      "execution_count": null,
      "outputs": []
    },
    {
      "cell_type": "code",
      "metadata": {
        "id": "1oT0BU4duUGW",
        "colab_type": "code",
        "colab": {},
        "outputId": "9bce8557-20af-4b1a-b133-90ed807c3f4b"
      },
      "source": [
        "data.head()"
      ],
      "execution_count": null,
      "outputs": [
        {
          "output_type": "execute_result",
          "data": {
            "text/html": [
              "<div>\n",
              "<style scoped>\n",
              "    .dataframe tbody tr th:only-of-type {\n",
              "        vertical-align: middle;\n",
              "    }\n",
              "\n",
              "    .dataframe tbody tr th {\n",
              "        vertical-align: top;\n",
              "    }\n",
              "\n",
              "    .dataframe thead th {\n",
              "        text-align: right;\n",
              "    }\n",
              "</style>\n",
              "<table border=\"1\" class=\"dataframe\">\n",
              "  <thead>\n",
              "    <tr style=\"text-align: right;\">\n",
              "      <th></th>\n",
              "      <th>PassengerId</th>\n",
              "      <th>Survived</th>\n",
              "      <th>Pclass</th>\n",
              "      <th>Name</th>\n",
              "      <th>Sex</th>\n",
              "      <th>Age</th>\n",
              "      <th>SibSp</th>\n",
              "      <th>Parch</th>\n",
              "      <th>Ticket</th>\n",
              "      <th>Fare</th>\n",
              "      <th>Cabin</th>\n",
              "      <th>Embarked</th>\n",
              "    </tr>\n",
              "  </thead>\n",
              "  <tbody>\n",
              "    <tr>\n",
              "      <th>0</th>\n",
              "      <td>1</td>\n",
              "      <td>0</td>\n",
              "      <td>3</td>\n",
              "      <td>Braund, Mr. Owen Harris</td>\n",
              "      <td>male</td>\n",
              "      <td>22.0</td>\n",
              "      <td>1</td>\n",
              "      <td>0</td>\n",
              "      <td>A/5 21171</td>\n",
              "      <td>7.2500</td>\n",
              "      <td>NaN</td>\n",
              "      <td>S</td>\n",
              "    </tr>\n",
              "    <tr>\n",
              "      <th>1</th>\n",
              "      <td>2</td>\n",
              "      <td>1</td>\n",
              "      <td>1</td>\n",
              "      <td>Cumings, Mrs. John Bradley (Florence Briggs Th...</td>\n",
              "      <td>female</td>\n",
              "      <td>38.0</td>\n",
              "      <td>1</td>\n",
              "      <td>0</td>\n",
              "      <td>PC 17599</td>\n",
              "      <td>71.2833</td>\n",
              "      <td>C85</td>\n",
              "      <td>C</td>\n",
              "    </tr>\n",
              "    <tr>\n",
              "      <th>2</th>\n",
              "      <td>3</td>\n",
              "      <td>1</td>\n",
              "      <td>3</td>\n",
              "      <td>Heikkinen, Miss. Laina</td>\n",
              "      <td>female</td>\n",
              "      <td>26.0</td>\n",
              "      <td>0</td>\n",
              "      <td>0</td>\n",
              "      <td>STON/O2. 3101282</td>\n",
              "      <td>7.9250</td>\n",
              "      <td>NaN</td>\n",
              "      <td>S</td>\n",
              "    </tr>\n",
              "    <tr>\n",
              "      <th>3</th>\n",
              "      <td>4</td>\n",
              "      <td>1</td>\n",
              "      <td>1</td>\n",
              "      <td>Futrelle, Mrs. Jacques Heath (Lily May Peel)</td>\n",
              "      <td>female</td>\n",
              "      <td>35.0</td>\n",
              "      <td>1</td>\n",
              "      <td>0</td>\n",
              "      <td>113803</td>\n",
              "      <td>53.1000</td>\n",
              "      <td>C123</td>\n",
              "      <td>S</td>\n",
              "    </tr>\n",
              "    <tr>\n",
              "      <th>4</th>\n",
              "      <td>5</td>\n",
              "      <td>0</td>\n",
              "      <td>3</td>\n",
              "      <td>Allen, Mr. William Henry</td>\n",
              "      <td>male</td>\n",
              "      <td>35.0</td>\n",
              "      <td>0</td>\n",
              "      <td>0</td>\n",
              "      <td>373450</td>\n",
              "      <td>8.0500</td>\n",
              "      <td>NaN</td>\n",
              "      <td>S</td>\n",
              "    </tr>\n",
              "  </tbody>\n",
              "</table>\n",
              "</div>"
            ],
            "text/plain": [
              "   PassengerId  Survived  Pclass  \\\n",
              "0            1         0       3   \n",
              "1            2         1       1   \n",
              "2            3         1       3   \n",
              "3            4         1       1   \n",
              "4            5         0       3   \n",
              "\n",
              "                                                Name     Sex   Age  SibSp  \\\n",
              "0                            Braund, Mr. Owen Harris    male  22.0      1   \n",
              "1  Cumings, Mrs. John Bradley (Florence Briggs Th...  female  38.0      1   \n",
              "2                             Heikkinen, Miss. Laina  female  26.0      0   \n",
              "3       Futrelle, Mrs. Jacques Heath (Lily May Peel)  female  35.0      1   \n",
              "4                           Allen, Mr. William Henry    male  35.0      0   \n",
              "\n",
              "   Parch            Ticket     Fare Cabin Embarked  \n",
              "0      0         A/5 21171   7.2500   NaN        S  \n",
              "1      0          PC 17599  71.2833   C85        C  \n",
              "2      0  STON/O2. 3101282   7.9250   NaN        S  \n",
              "3      0            113803  53.1000  C123        S  \n",
              "4      0            373450   8.0500   NaN        S  "
            ]
          },
          "metadata": {
            "tags": []
          },
          "execution_count": 36
        }
      ]
    },
    {
      "cell_type": "code",
      "metadata": {
        "id": "uZ9mOQksuUGc",
        "colab_type": "code",
        "colab": {}
      },
      "source": [
        "data.loc[data['Fare']>100, 'Fare'] = 100"
      ],
      "execution_count": null,
      "outputs": []
    },
    {
      "cell_type": "code",
      "metadata": {
        "id": "zKtKHm8BuUGe",
        "colab_type": "code",
        "colab": {},
        "outputId": "03f6f856-4e9b-4633-87cd-2bf2bc2696b9"
      },
      "source": [
        "data.head(20)"
      ],
      "execution_count": null,
      "outputs": [
        {
          "output_type": "execute_result",
          "data": {
            "text/html": [
              "<div>\n",
              "<style scoped>\n",
              "    .dataframe tbody tr th:only-of-type {\n",
              "        vertical-align: middle;\n",
              "    }\n",
              "\n",
              "    .dataframe tbody tr th {\n",
              "        vertical-align: top;\n",
              "    }\n",
              "\n",
              "    .dataframe thead th {\n",
              "        text-align: right;\n",
              "    }\n",
              "</style>\n",
              "<table border=\"1\" class=\"dataframe\">\n",
              "  <thead>\n",
              "    <tr style=\"text-align: right;\">\n",
              "      <th></th>\n",
              "      <th>PassengerId</th>\n",
              "      <th>Survived</th>\n",
              "      <th>Pclass</th>\n",
              "      <th>Name</th>\n",
              "      <th>Sex</th>\n",
              "      <th>Age</th>\n",
              "      <th>SibSp</th>\n",
              "      <th>Parch</th>\n",
              "      <th>Ticket</th>\n",
              "      <th>Fare</th>\n",
              "      <th>Cabin</th>\n",
              "      <th>Embarked</th>\n",
              "    </tr>\n",
              "  </thead>\n",
              "  <tbody>\n",
              "    <tr>\n",
              "      <th>0</th>\n",
              "      <td>1</td>\n",
              "      <td>0</td>\n",
              "      <td>3</td>\n",
              "      <td>Braund, Mr. Owen Harris</td>\n",
              "      <td>male</td>\n",
              "      <td>22.0</td>\n",
              "      <td>1</td>\n",
              "      <td>0</td>\n",
              "      <td>A/5 21171</td>\n",
              "      <td>7.2500</td>\n",
              "      <td>NaN</td>\n",
              "      <td>S</td>\n",
              "    </tr>\n",
              "    <tr>\n",
              "      <th>1</th>\n",
              "      <td>2</td>\n",
              "      <td>1</td>\n",
              "      <td>1</td>\n",
              "      <td>Cumings, Mrs. John Bradley (Florence Briggs Th...</td>\n",
              "      <td>female</td>\n",
              "      <td>38.0</td>\n",
              "      <td>1</td>\n",
              "      <td>0</td>\n",
              "      <td>PC 17599</td>\n",
              "      <td>71.2833</td>\n",
              "      <td>C85</td>\n",
              "      <td>C</td>\n",
              "    </tr>\n",
              "    <tr>\n",
              "      <th>2</th>\n",
              "      <td>3</td>\n",
              "      <td>1</td>\n",
              "      <td>3</td>\n",
              "      <td>Heikkinen, Miss. Laina</td>\n",
              "      <td>female</td>\n",
              "      <td>26.0</td>\n",
              "      <td>0</td>\n",
              "      <td>0</td>\n",
              "      <td>STON/O2. 3101282</td>\n",
              "      <td>7.9250</td>\n",
              "      <td>NaN</td>\n",
              "      <td>S</td>\n",
              "    </tr>\n",
              "    <tr>\n",
              "      <th>3</th>\n",
              "      <td>4</td>\n",
              "      <td>1</td>\n",
              "      <td>1</td>\n",
              "      <td>Futrelle, Mrs. Jacques Heath (Lily May Peel)</td>\n",
              "      <td>female</td>\n",
              "      <td>35.0</td>\n",
              "      <td>1</td>\n",
              "      <td>0</td>\n",
              "      <td>113803</td>\n",
              "      <td>53.1000</td>\n",
              "      <td>C123</td>\n",
              "      <td>S</td>\n",
              "    </tr>\n",
              "    <tr>\n",
              "      <th>4</th>\n",
              "      <td>5</td>\n",
              "      <td>0</td>\n",
              "      <td>3</td>\n",
              "      <td>Allen, Mr. William Henry</td>\n",
              "      <td>male</td>\n",
              "      <td>35.0</td>\n",
              "      <td>0</td>\n",
              "      <td>0</td>\n",
              "      <td>373450</td>\n",
              "      <td>8.0500</td>\n",
              "      <td>NaN</td>\n",
              "      <td>S</td>\n",
              "    </tr>\n",
              "    <tr>\n",
              "      <th>5</th>\n",
              "      <td>6</td>\n",
              "      <td>0</td>\n",
              "      <td>3</td>\n",
              "      <td>Moran, Mr. James</td>\n",
              "      <td>male</td>\n",
              "      <td>NaN</td>\n",
              "      <td>0</td>\n",
              "      <td>0</td>\n",
              "      <td>330877</td>\n",
              "      <td>8.4583</td>\n",
              "      <td>NaN</td>\n",
              "      <td>Q</td>\n",
              "    </tr>\n",
              "    <tr>\n",
              "      <th>6</th>\n",
              "      <td>7</td>\n",
              "      <td>0</td>\n",
              "      <td>1</td>\n",
              "      <td>McCarthy, Mr. Timothy J</td>\n",
              "      <td>male</td>\n",
              "      <td>54.0</td>\n",
              "      <td>0</td>\n",
              "      <td>0</td>\n",
              "      <td>17463</td>\n",
              "      <td>51.8625</td>\n",
              "      <td>E46</td>\n",
              "      <td>S</td>\n",
              "    </tr>\n",
              "    <tr>\n",
              "      <th>7</th>\n",
              "      <td>8</td>\n",
              "      <td>0</td>\n",
              "      <td>3</td>\n",
              "      <td>Palsson, Master. Gosta Leonard</td>\n",
              "      <td>male</td>\n",
              "      <td>2.0</td>\n",
              "      <td>3</td>\n",
              "      <td>1</td>\n",
              "      <td>349909</td>\n",
              "      <td>21.0750</td>\n",
              "      <td>NaN</td>\n",
              "      <td>S</td>\n",
              "    </tr>\n",
              "    <tr>\n",
              "      <th>8</th>\n",
              "      <td>9</td>\n",
              "      <td>1</td>\n",
              "      <td>3</td>\n",
              "      <td>Johnson, Mrs. Oscar W (Elisabeth Vilhelmina Berg)</td>\n",
              "      <td>female</td>\n",
              "      <td>27.0</td>\n",
              "      <td>0</td>\n",
              "      <td>2</td>\n",
              "      <td>347742</td>\n",
              "      <td>11.1333</td>\n",
              "      <td>NaN</td>\n",
              "      <td>S</td>\n",
              "    </tr>\n",
              "    <tr>\n",
              "      <th>9</th>\n",
              "      <td>10</td>\n",
              "      <td>1</td>\n",
              "      <td>2</td>\n",
              "      <td>Nasser, Mrs. Nicholas (Adele Achem)</td>\n",
              "      <td>female</td>\n",
              "      <td>14.0</td>\n",
              "      <td>1</td>\n",
              "      <td>0</td>\n",
              "      <td>237736</td>\n",
              "      <td>30.0708</td>\n",
              "      <td>NaN</td>\n",
              "      <td>C</td>\n",
              "    </tr>\n",
              "    <tr>\n",
              "      <th>10</th>\n",
              "      <td>11</td>\n",
              "      <td>1</td>\n",
              "      <td>3</td>\n",
              "      <td>Sandstrom, Miss. Marguerite Rut</td>\n",
              "      <td>female</td>\n",
              "      <td>4.0</td>\n",
              "      <td>1</td>\n",
              "      <td>1</td>\n",
              "      <td>PP 9549</td>\n",
              "      <td>16.7000</td>\n",
              "      <td>G6</td>\n",
              "      <td>S</td>\n",
              "    </tr>\n",
              "    <tr>\n",
              "      <th>11</th>\n",
              "      <td>12</td>\n",
              "      <td>1</td>\n",
              "      <td>1</td>\n",
              "      <td>Bonnell, Miss. Elizabeth</td>\n",
              "      <td>female</td>\n",
              "      <td>58.0</td>\n",
              "      <td>0</td>\n",
              "      <td>0</td>\n",
              "      <td>113783</td>\n",
              "      <td>26.5500</td>\n",
              "      <td>C103</td>\n",
              "      <td>S</td>\n",
              "    </tr>\n",
              "    <tr>\n",
              "      <th>12</th>\n",
              "      <td>13</td>\n",
              "      <td>0</td>\n",
              "      <td>3</td>\n",
              "      <td>Saundercock, Mr. William Henry</td>\n",
              "      <td>male</td>\n",
              "      <td>20.0</td>\n",
              "      <td>0</td>\n",
              "      <td>0</td>\n",
              "      <td>A/5. 2151</td>\n",
              "      <td>8.0500</td>\n",
              "      <td>NaN</td>\n",
              "      <td>S</td>\n",
              "    </tr>\n",
              "    <tr>\n",
              "      <th>13</th>\n",
              "      <td>14</td>\n",
              "      <td>0</td>\n",
              "      <td>3</td>\n",
              "      <td>Andersson, Mr. Anders Johan</td>\n",
              "      <td>male</td>\n",
              "      <td>39.0</td>\n",
              "      <td>1</td>\n",
              "      <td>5</td>\n",
              "      <td>347082</td>\n",
              "      <td>31.2750</td>\n",
              "      <td>NaN</td>\n",
              "      <td>S</td>\n",
              "    </tr>\n",
              "    <tr>\n",
              "      <th>14</th>\n",
              "      <td>15</td>\n",
              "      <td>0</td>\n",
              "      <td>3</td>\n",
              "      <td>Vestrom, Miss. Hulda Amanda Adolfina</td>\n",
              "      <td>female</td>\n",
              "      <td>14.0</td>\n",
              "      <td>0</td>\n",
              "      <td>0</td>\n",
              "      <td>350406</td>\n",
              "      <td>7.8542</td>\n",
              "      <td>NaN</td>\n",
              "      <td>S</td>\n",
              "    </tr>\n",
              "    <tr>\n",
              "      <th>15</th>\n",
              "      <td>16</td>\n",
              "      <td>1</td>\n",
              "      <td>2</td>\n",
              "      <td>Hewlett, Mrs. (Mary D Kingcome)</td>\n",
              "      <td>female</td>\n",
              "      <td>55.0</td>\n",
              "      <td>0</td>\n",
              "      <td>0</td>\n",
              "      <td>248706</td>\n",
              "      <td>16.0000</td>\n",
              "      <td>NaN</td>\n",
              "      <td>S</td>\n",
              "    </tr>\n",
              "    <tr>\n",
              "      <th>16</th>\n",
              "      <td>17</td>\n",
              "      <td>0</td>\n",
              "      <td>3</td>\n",
              "      <td>Rice, Master. Eugene</td>\n",
              "      <td>male</td>\n",
              "      <td>2.0</td>\n",
              "      <td>4</td>\n",
              "      <td>1</td>\n",
              "      <td>382652</td>\n",
              "      <td>29.1250</td>\n",
              "      <td>NaN</td>\n",
              "      <td>Q</td>\n",
              "    </tr>\n",
              "    <tr>\n",
              "      <th>17</th>\n",
              "      <td>18</td>\n",
              "      <td>1</td>\n",
              "      <td>2</td>\n",
              "      <td>Williams, Mr. Charles Eugene</td>\n",
              "      <td>male</td>\n",
              "      <td>NaN</td>\n",
              "      <td>0</td>\n",
              "      <td>0</td>\n",
              "      <td>244373</td>\n",
              "      <td>13.0000</td>\n",
              "      <td>NaN</td>\n",
              "      <td>S</td>\n",
              "    </tr>\n",
              "    <tr>\n",
              "      <th>18</th>\n",
              "      <td>19</td>\n",
              "      <td>0</td>\n",
              "      <td>3</td>\n",
              "      <td>Vander Planke, Mrs. Julius (Emelia Maria Vande...</td>\n",
              "      <td>female</td>\n",
              "      <td>31.0</td>\n",
              "      <td>1</td>\n",
              "      <td>0</td>\n",
              "      <td>345763</td>\n",
              "      <td>18.0000</td>\n",
              "      <td>NaN</td>\n",
              "      <td>S</td>\n",
              "    </tr>\n",
              "    <tr>\n",
              "      <th>19</th>\n",
              "      <td>20</td>\n",
              "      <td>1</td>\n",
              "      <td>3</td>\n",
              "      <td>Masselmani, Mrs. Fatima</td>\n",
              "      <td>female</td>\n",
              "      <td>NaN</td>\n",
              "      <td>0</td>\n",
              "      <td>0</td>\n",
              "      <td>2649</td>\n",
              "      <td>7.2250</td>\n",
              "      <td>NaN</td>\n",
              "      <td>C</td>\n",
              "    </tr>\n",
              "  </tbody>\n",
              "</table>\n",
              "</div>"
            ],
            "text/plain": [
              "    PassengerId  Survived  Pclass  \\\n",
              "0             1         0       3   \n",
              "1             2         1       1   \n",
              "2             3         1       3   \n",
              "3             4         1       1   \n",
              "4             5         0       3   \n",
              "5             6         0       3   \n",
              "6             7         0       1   \n",
              "7             8         0       3   \n",
              "8             9         1       3   \n",
              "9            10         1       2   \n",
              "10           11         1       3   \n",
              "11           12         1       1   \n",
              "12           13         0       3   \n",
              "13           14         0       3   \n",
              "14           15         0       3   \n",
              "15           16         1       2   \n",
              "16           17         0       3   \n",
              "17           18         1       2   \n",
              "18           19         0       3   \n",
              "19           20         1       3   \n",
              "\n",
              "                                                 Name     Sex   Age  SibSp  \\\n",
              "0                             Braund, Mr. Owen Harris    male  22.0      1   \n",
              "1   Cumings, Mrs. John Bradley (Florence Briggs Th...  female  38.0      1   \n",
              "2                              Heikkinen, Miss. Laina  female  26.0      0   \n",
              "3        Futrelle, Mrs. Jacques Heath (Lily May Peel)  female  35.0      1   \n",
              "4                            Allen, Mr. William Henry    male  35.0      0   \n",
              "5                                    Moran, Mr. James    male   NaN      0   \n",
              "6                             McCarthy, Mr. Timothy J    male  54.0      0   \n",
              "7                      Palsson, Master. Gosta Leonard    male   2.0      3   \n",
              "8   Johnson, Mrs. Oscar W (Elisabeth Vilhelmina Berg)  female  27.0      0   \n",
              "9                 Nasser, Mrs. Nicholas (Adele Achem)  female  14.0      1   \n",
              "10                    Sandstrom, Miss. Marguerite Rut  female   4.0      1   \n",
              "11                           Bonnell, Miss. Elizabeth  female  58.0      0   \n",
              "12                     Saundercock, Mr. William Henry    male  20.0      0   \n",
              "13                        Andersson, Mr. Anders Johan    male  39.0      1   \n",
              "14               Vestrom, Miss. Hulda Amanda Adolfina  female  14.0      0   \n",
              "15                   Hewlett, Mrs. (Mary D Kingcome)   female  55.0      0   \n",
              "16                               Rice, Master. Eugene    male   2.0      4   \n",
              "17                       Williams, Mr. Charles Eugene    male   NaN      0   \n",
              "18  Vander Planke, Mrs. Julius (Emelia Maria Vande...  female  31.0      1   \n",
              "19                            Masselmani, Mrs. Fatima  female   NaN      0   \n",
              "\n",
              "    Parch            Ticket     Fare Cabin Embarked  \n",
              "0       0         A/5 21171   7.2500   NaN        S  \n",
              "1       0          PC 17599  71.2833   C85        C  \n",
              "2       0  STON/O2. 3101282   7.9250   NaN        S  \n",
              "3       0            113803  53.1000  C123        S  \n",
              "4       0            373450   8.0500   NaN        S  \n",
              "5       0            330877   8.4583   NaN        Q  \n",
              "6       0             17463  51.8625   E46        S  \n",
              "7       1            349909  21.0750   NaN        S  \n",
              "8       2            347742  11.1333   NaN        S  \n",
              "9       0            237736  30.0708   NaN        C  \n",
              "10      1           PP 9549  16.7000    G6        S  \n",
              "11      0            113783  26.5500  C103        S  \n",
              "12      0         A/5. 2151   8.0500   NaN        S  \n",
              "13      5            347082  31.2750   NaN        S  \n",
              "14      0            350406   7.8542   NaN        S  \n",
              "15      0            248706  16.0000   NaN        S  \n",
              "16      1            382652  29.1250   NaN        Q  \n",
              "17      0            244373  13.0000   NaN        S  \n",
              "18      0            345763  18.0000   NaN        S  \n",
              "19      0              2649   7.2250   NaN        C  "
            ]
          },
          "metadata": {
            "tags": []
          },
          "execution_count": 39
        }
      ]
    },
    {
      "cell_type": "code",
      "metadata": {
        "id": "sWfpvogSuUGi",
        "colab_type": "code",
        "colab": {},
        "outputId": "d113b5f9-c1f7-4abe-b825-00b3179caec2"
      },
      "source": [
        "figure = data.Fare.hist(bins=50)\n",
        "figure.set_title('Fare vs Number of Passengers')\n",
        "figure.set_xlabel('Fare')\n",
        "figure.set_ylabel('Number of Passengers')"
      ],
      "execution_count": null,
      "outputs": [
        {
          "output_type": "execute_result",
          "data": {
            "text/plain": [
              "Text(0, 0.5, 'Number of Passengers')"
            ]
          },
          "metadata": {
            "tags": []
          },
          "execution_count": 40
        },
        {
          "output_type": "display_data",
          "data": {
            "image/png": "[encoded data removed]",
            "text/plain": [
              "<Figure size 432x288 with 1 Axes>"
            ]
          },
          "metadata": {
            "tags": [],
            "needs_background": "light"
          }
        }
      ]
    },
    {
      "cell_type": "code",
      "metadata": {
        "id": "MD6z3gxeuUGk",
        "colab_type": "code",
        "colab": {},
        "outputId": "1905fd44-04b7-4dc9-ebe3-adaa9819c7d7"
      },
      "source": [
        "figure = data.Age.hist(bins=50)\n",
        "figure.set_title('Age vs Number of Passengers')\n",
        "figure.set_xlabel('Age')\n",
        "figure.set_ylabel('Number of Passengers')"
      ],
      "execution_count": null,
      "outputs": [
        {
          "output_type": "execute_result",
          "data": {
            "text/plain": [
              "Text(0, 0.5, 'Number of Passengers')"
            ]
          },
          "metadata": {
            "tags": []
          },
          "execution_count": 41
        },
        {
          "output_type": "display_data",
          "data": {
            "image/png": "[encoded data removed]",
            "text/plain": [
              "<Figure size 432x288 with 1 Axes>"
            ]
          },
          "metadata": {
            "tags": [],
            "needs_background": "light"
          }
        }
      ]
    },
    {
      "cell_type": "code",
      "metadata": {
        "id": "B7zkzXePuUGo",
        "colab_type": "code",
        "colab": {}
      },
      "source": [
        "from sklearn.model_selection import train_test_split\n",
        "\n",
        "X_train, X_test, y_train, y_test = train_test_split(data[['Age', 'Fare']].fillna(0), data['Survived'],\n",
        "                                                    test_size=0.3)"
      ],
      "execution_count": null,
      "outputs": []
    },
    {
      "cell_type": "markdown",
      "metadata": {
        "id": "ZWucLcbauUGq",
        "colab_type": "text"
      },
      "source": [
        "### Logistic Regression (Sensitive to Outliers)"
      ]
    },
    {
      "cell_type": "code",
      "metadata": {
        "id": "WcKVqG6WuUGr",
        "colab_type": "code",
        "colab": {},
        "outputId": "66ad7923-c084-45ae-b919-cbb4a9ad98ba"
      },
      "source": [
        "from sklearn.linear_model import LogisticRegression\n",
        "classifier = LogisticRegression()\n",
        "classifier.fit(X_train, y_train)\n",
        "y_pred = classifier.predict(X_test)\n",
        "y_pred1 = classifier.predict_proba(X_test)\n",
        "\n",
        "from sklearn.metrics import accuracy_score, roc_auc_score\n",
        "\n",
        "print(\"Accuracy Score: {}\".format(accuracy_score(y_test, y_pred)))\n",
        "print(\"ROC_AUC Score: {}\".format(roc_auc_score(y_test, y_pred1[:, 1])))"
      ],
      "execution_count": null,
      "outputs": [
        {
          "output_type": "stream",
          "text": [
            "Accuracy Score: 0.6791044776119403\n",
            "ROC_AUC Score: 0.6787952540310314\n"
          ],
          "name": "stdout"
        }
      ]
    },
    {
      "cell_type": "markdown",
      "metadata": {
        "id": "cenPY5A8uUGu",
        "colab_type": "text"
      },
      "source": [
        "### Random Forest Classifier (Not Sensitive to Outliers)"
      ]
    },
    {
      "cell_type": "code",
      "metadata": {
        "id": "KJ2nyCZEuUGu",
        "colab_type": "code",
        "colab": {},
        "outputId": "f7ee1283-a513-4d75-f417-7e0cdf167469"
      },
      "source": [
        "from sklearn.ensemble import RandomForestClassifier\n",
        "classifier = RandomForestClassifier()\n",
        "classifier.fit(X_train, y_train)\n",
        "y_pred = classifier.predict(X_test)\n",
        "y_pred1 = classifier.predict_proba(X_test)\n",
        "\n",
        "from sklearn.metrics import accuracy_score, roc_auc_score\n",
        "\n",
        "print(\"Accuracy Score: {}\".format(accuracy_score(y_test, y_pred)))\n",
        "print(\"ROC_AUC Score: {}\".format(roc_auc_score(y_test, y_pred1[:, 1])))"
      ],
      "execution_count": null,
      "outputs": [
        {
          "output_type": "stream",
          "text": [
            "Accuracy Score: 0.667910447761194\n",
            "ROC_AUC Score: 0.7053544265287497\n"
          ],
          "name": "stdout"
        }
      ]
    }
  ]
}