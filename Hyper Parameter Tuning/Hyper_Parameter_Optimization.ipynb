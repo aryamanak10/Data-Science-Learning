{
  "nbformat": 4,
  "nbformat_minor": 0,
  "metadata": {
    "kernelspec": {
      "display_name": "Python 3",
      "language": "python",
      "name": "python3"
    },
    "language_info": {
      "codemirror_mode": {
        "name": "ipython",
        "version": 3
      },
      "file_extension": ".py",
      "mimetype": "text/x-python",
      "name": "python",
      "nbconvert_exporter": "python",
      "pygments_lexer": "ipython3",
      "version": "3.7.7"
    },
    "colab": {
      "name": "Hyper Parameter Optimization.ipynb",
      "provenance": [],
      "collapsed_sections": [
        "DU4V3xFsVnl4",
        "IE574zOHVnmZ",
        "-Uxfk8V2Vnm2",
        "5x5AdU4qVnm_"
      ]
    },
    "widgets": {
      "application/vnd.jupyter.widget-state+json": {
        "1e58e281d01248afbd35afdece4ba42f": {
          "model_module": "@jupyter-widgets/controls",
          "model_name": "HBoxModel",
          "state": {
            "_view_name": "HBoxView",
            "_dom_classes": [],
            "_model_name": "HBoxModel",
            "_view_module": "@jupyter-widgets/controls",
            "_model_module_version": "1.5.0",
            "_view_count": null,
            "_view_module_version": "1.5.0",
            "box_style": "",
            "layout": "IPY_MODEL_0429f96613a94cc889d60e24b1fd3279",
            "_model_module": "@jupyter-widgets/controls",
            "children": [
              "IPY_MODEL_b8179b43010b4d6e9f7cf1f50516ef51",
              "IPY_MODEL_49d27822a0504c3db66f89bc37910e2c"
            ]
          }
        },
        "0429f96613a94cc889d60e24b1fd3279": {
          "model_module": "@jupyter-widgets/base",
          "model_name": "LayoutModel",
          "state": {
            "_view_name": "LayoutView",
            "grid_template_rows": null,
            "right": null,
            "justify_content": null,
            "_view_module": "@jupyter-widgets/base",
            "overflow": null,
            "_model_module_version": "1.2.0",
            "_view_count": null,
            "flex_flow": null,
            "width": null,
            "min_width": null,
            "border": null,
            "align_items": null,
            "bottom": null,
            "_model_module": "@jupyter-widgets/base",
            "top": null,
            "grid_column": null,
            "overflow_y": null,
            "overflow_x": null,
            "grid_auto_flow": null,
            "grid_area": null,
            "grid_template_columns": null,
            "flex": null,
            "_model_name": "LayoutModel",
            "justify_items": null,
            "grid_row": null,
            "max_height": null,
            "align_content": null,
            "visibility": null,
            "align_self": null,
            "height": null,
            "min_height": null,
            "padding": null,
            "grid_auto_rows": null,
            "grid_gap": null,
            "max_width": null,
            "order": null,
            "_view_module_version": "1.2.0",
            "grid_template_areas": null,
            "object_position": null,
            "object_fit": null,
            "grid_auto_columns": null,
            "margin": null,
            "display": null,
            "left": null
          }
        },
        "b8179b43010b4d6e9f7cf1f50516ef51": {
          "model_module": "@jupyter-widgets/controls",
          "model_name": "FloatProgressModel",
          "state": {
            "_view_name": "ProgressView",
            "style": "IPY_MODEL_495f0918d73d4010a8f327dbb9153bc7",
            "_dom_classes": [],
            "description": "Optimization Progress: 100%",
            "_model_name": "FloatProgressModel",
            "bar_style": "",
            "max": 84,
            "_view_module": "@jupyter-widgets/controls",
            "_model_module_version": "1.5.0",
            "value": 84,
            "_view_count": null,
            "_view_module_version": "1.5.0",
            "orientation": "horizontal",
            "min": 0,
            "description_tooltip": null,
            "_model_module": "@jupyter-widgets/controls",
            "layout": "IPY_MODEL_0ea6e890e03a4ebca212dfd9c2e7b60c"
          }
        },
        "49d27822a0504c3db66f89bc37910e2c": {
          "model_module": "@jupyter-widgets/controls",
          "model_name": "HTMLModel",
          "state": {
            "_view_name": "HTMLView",
            "style": "IPY_MODEL_62621bbbabc7420e9f5777964a1a9927",
            "_dom_classes": [],
            "description": "",
            "_model_name": "HTMLModel",
            "placeholder": "​",
            "_view_module": "@jupyter-widgets/controls",
            "_model_module_version": "1.5.0",
            "value": " 84/84 [20:03&lt;00:00, 10.06s/pipeline]",
            "_view_count": null,
            "_view_module_version": "1.5.0",
            "description_tooltip": null,
            "_model_module": "@jupyter-widgets/controls",
            "layout": "IPY_MODEL_bfa335aa009547179b97bcbf56348680"
          }
        },
        "495f0918d73d4010a8f327dbb9153bc7": {
          "model_module": "@jupyter-widgets/controls",
          "model_name": "ProgressStyleModel",
          "state": {
            "_view_name": "StyleView",
            "_model_name": "ProgressStyleModel",
            "description_width": "initial",
            "_view_module": "@jupyter-widgets/base",
            "_model_module_version": "1.5.0",
            "_view_count": null,
            "_view_module_version": "1.2.0",
            "bar_color": null,
            "_model_module": "@jupyter-widgets/controls"
          }
        },
        "0ea6e890e03a4ebca212dfd9c2e7b60c": {
          "model_module": "@jupyter-widgets/base",
          "model_name": "LayoutModel",
          "state": {
            "_view_name": "LayoutView",
            "grid_template_rows": null,
            "right": null,
            "justify_content": null,
            "_view_module": "@jupyter-widgets/base",
            "overflow": null,
            "_model_module_version": "1.2.0",
            "_view_count": null,
            "flex_flow": null,
            "width": null,
            "min_width": null,
            "border": null,
            "align_items": null,
            "bottom": null,
            "_model_module": "@jupyter-widgets/base",
            "top": null,
            "grid_column": null,
            "overflow_y": null,
            "overflow_x": null,
            "grid_auto_flow": null,
            "grid_area": null,
            "grid_template_columns": null,
            "flex": null,
            "_model_name": "LayoutModel",
            "justify_items": null,
            "grid_row": null,
            "max_height": null,
            "align_content": null,
            "visibility": null,
            "align_self": null,
            "height": null,
            "min_height": null,
            "padding": null,
            "grid_auto_rows": null,
            "grid_gap": null,
            "max_width": null,
            "order": null,
            "_view_module_version": "1.2.0",
            "grid_template_areas": null,
            "object_position": null,
            "object_fit": null,
            "grid_auto_columns": null,
            "margin": null,
            "display": null,
            "left": null
          }
        },
        "62621bbbabc7420e9f5777964a1a9927": {
          "model_module": "@jupyter-widgets/controls",
          "model_name": "DescriptionStyleModel",
          "state": {
            "_view_name": "StyleView",
            "_model_name": "DescriptionStyleModel",
            "description_width": "",
            "_view_module": "@jupyter-widgets/base",
            "_model_module_version": "1.5.0",
            "_view_count": null,
            "_view_module_version": "1.2.0",
            "_model_module": "@jupyter-widgets/controls"
          }
        },
        "bfa335aa009547179b97bcbf56348680": {
          "model_module": "@jupyter-widgets/base",
          "model_name": "LayoutModel",
          "state": {
            "_view_name": "LayoutView",
            "grid_template_rows": null,
            "right": null,
            "justify_content": null,
            "_view_module": "@jupyter-widgets/base",
            "overflow": null,
            "_model_module_version": "1.2.0",
            "_view_count": null,
            "flex_flow": null,
            "width": null,
            "min_width": null,
            "border": null,
            "align_items": null,
            "bottom": null,
            "_model_module": "@jupyter-widgets/base",
            "top": null,
            "grid_column": null,
            "overflow_y": null,
            "overflow_x": null,
            "grid_auto_flow": null,
            "grid_area": null,
            "grid_template_columns": null,
            "flex": null,
            "_model_name": "LayoutModel",
            "justify_items": null,
            "grid_row": null,
            "max_height": null,
            "align_content": null,
            "visibility": null,
            "align_self": null,
            "height": null,
            "min_height": null,
            "padding": null,
            "grid_auto_rows": null,
            "grid_gap": null,
            "max_width": null,
            "order": null,
            "_view_module_version": "1.2.0",
            "grid_template_areas": null,
            "object_position": null,
            "object_fit": null,
            "grid_auto_columns": null,
            "margin": null,
            "display": null,
            "left": null
          }
        }
      }
    }
  },
  "cells": [
    {
      "cell_type": "markdown",
      "metadata": {
        "id": "Xa4x87A2VnkU",
        "colab_type": "text"
      },
      "source": [
        "## All Techniques Of Hyper Parameter Optimization\n",
        "\n",
        "1. GridSearchCV\n",
        "2. RandomizedSearchCV\n",
        "3. Bayesian Optimization -Automate Hyperparameter Tuning (Hyperopt) or **using Gaussian Transformation**\n",
        "4. Sequential Model Based Optimization(Tuning a scikit-learn estimator with skopt)\n",
        "4. Optuna- Automate Hyperparameter Tuning\n",
        "5. Genetic Algorithms (TPOT Classifier)\n",
        "\n",
        "#### References\n",
        "\n",
        "- https://github.com/fmfn/BayesianOptimization\n",
        "- https://github.com/hyperopt/hyperopt\n",
        "- https://www.jeremyjordan.me/hyperparameter-tuning/\n",
        "- https://optuna.org/\n",
        "- https://towardsdatascience.com/hyperparameters-optimization-526348bb8e2d(By Pier Paolo Ippolito )\n",
        "- https://scikit-optimize.github.io/stable/auto_examples/hyperparameter-optimization.html"
      ]
    },
    {
      "cell_type": "code",
      "metadata": {
        "id": "FGE28vJ3VnkX",
        "colab_type": "code",
        "colab": {}
      },
      "source": [
        "import warnings\n",
        "warnings.filterwarnings('ignore')"
      ],
      "execution_count": 10,
      "outputs": []
    },
    {
      "cell_type": "code",
      "metadata": {
        "id": "liVdbPWHVnkh",
        "colab_type": "code",
        "colab": {
          "base_uri": "https://localhost:8080/",
          "height": 206
        },
        "outputId": "1ba475ce-0a4b-49c8-b99e-9b51363c8c6b"
      },
      "source": [
        "import pandas as pd\n",
        "df=pd.read_csv('diabetes.csv')\n",
        "df.head()"
      ],
      "execution_count": 11,
      "outputs": [
        {
          "output_type": "execute_result",
          "data": {
            "text/html": [
              "<div>\n",
              "<style scoped>\n",
              "    .dataframe tbody tr th:only-of-type {\n",
              "        vertical-align: middle;\n",
              "    }\n",
              "\n",
              "    .dataframe tbody tr th {\n",
              "        vertical-align: top;\n",
              "    }\n",
              "\n",
              "    .dataframe thead th {\n",
              "        text-align: right;\n",
              "    }\n",
              "</style>\n",
              "<table border=\"1\" class=\"dataframe\">\n",
              "  <thead>\n",
              "    <tr style=\"text-align: right;\">\n",
              "      <th></th>\n",
              "      <th>Pregnancies</th>\n",
              "      <th>Glucose</th>\n",
              "      <th>BloodPressure</th>\n",
              "      <th>SkinThickness</th>\n",
              "      <th>Insulin</th>\n",
              "      <th>BMI</th>\n",
              "      <th>DiabetesPedigreeFunction</th>\n",
              "      <th>Age</th>\n",
              "      <th>Outcome</th>\n",
              "    </tr>\n",
              "  </thead>\n",
              "  <tbody>\n",
              "    <tr>\n",
              "      <th>0</th>\n",
              "      <td>6</td>\n",
              "      <td>148</td>\n",
              "      <td>72</td>\n",
              "      <td>35</td>\n",
              "      <td>0</td>\n",
              "      <td>33.6</td>\n",
              "      <td>0.627</td>\n",
              "      <td>50</td>\n",
              "      <td>1</td>\n",
              "    </tr>\n",
              "    <tr>\n",
              "      <th>1</th>\n",
              "      <td>1</td>\n",
              "      <td>85</td>\n",
              "      <td>66</td>\n",
              "      <td>29</td>\n",
              "      <td>0</td>\n",
              "      <td>26.6</td>\n",
              "      <td>0.351</td>\n",
              "      <td>31</td>\n",
              "      <td>0</td>\n",
              "    </tr>\n",
              "    <tr>\n",
              "      <th>2</th>\n",
              "      <td>8</td>\n",
              "      <td>183</td>\n",
              "      <td>64</td>\n",
              "      <td>0</td>\n",
              "      <td>0</td>\n",
              "      <td>23.3</td>\n",
              "      <td>0.672</td>\n",
              "      <td>32</td>\n",
              "      <td>1</td>\n",
              "    </tr>\n",
              "    <tr>\n",
              "      <th>3</th>\n",
              "      <td>1</td>\n",
              "      <td>89</td>\n",
              "      <td>66</td>\n",
              "      <td>23</td>\n",
              "      <td>94</td>\n",
              "      <td>28.1</td>\n",
              "      <td>0.167</td>\n",
              "      <td>21</td>\n",
              "      <td>0</td>\n",
              "    </tr>\n",
              "    <tr>\n",
              "      <th>4</th>\n",
              "      <td>0</td>\n",
              "      <td>137</td>\n",
              "      <td>40</td>\n",
              "      <td>35</td>\n",
              "      <td>168</td>\n",
              "      <td>43.1</td>\n",
              "      <td>2.288</td>\n",
              "      <td>33</td>\n",
              "      <td>1</td>\n",
              "    </tr>\n",
              "  </tbody>\n",
              "</table>\n",
              "</div>"
            ],
            "text/plain": [
              "   Pregnancies  Glucose  BloodPressure  ...  DiabetesPedigreeFunction  Age  Outcome\n",
              "0            6      148             72  ...                     0.627   50        1\n",
              "1            1       85             66  ...                     0.351   31        0\n",
              "2            8      183             64  ...                     0.672   32        1\n",
              "3            1       89             66  ...                     0.167   21        0\n",
              "4            0      137             40  ...                     2.288   33        1\n",
              "\n",
              "[5 rows x 9 columns]"
            ]
          },
          "metadata": {
            "tags": []
          },
          "execution_count": 11
        }
      ]
    },
    {
      "cell_type": "code",
      "metadata": {
        "id": "WcyaIPiHVnks",
        "colab_type": "code",
        "colab": {
          "base_uri": "https://localhost:8080/",
          "height": 191
        },
        "outputId": "36c0162d-8a02-4d25-b2ec-31490259dc84"
      },
      "source": [
        "df.isnull().sum()"
      ],
      "execution_count": 12,
      "outputs": [
        {
          "output_type": "execute_result",
          "data": {
            "text/plain": [
              "Pregnancies                 0\n",
              "Glucose                     0\n",
              "BloodPressure               0\n",
              "SkinThickness               0\n",
              "Insulin                     0\n",
              "BMI                         0\n",
              "DiabetesPedigreeFunction    0\n",
              "Age                         0\n",
              "Outcome                     0\n",
              "dtype: int64"
            ]
          },
          "metadata": {
            "tags": []
          },
          "execution_count": 12
        }
      ]
    },
    {
      "cell_type": "code",
      "metadata": {
        "id": "fGwg6s7XVnkz",
        "colab_type": "code",
        "colab": {
          "base_uri": "https://localhost:8080/",
          "height": 206
        },
        "outputId": "5ccb2e3e-3861-4b5d-aa31-03d5939543af"
      },
      "source": [
        "import numpy as np\n",
        "df['Glucose']=np.where(df['Glucose']==0,df['Glucose'].median(),df['Glucose'])\n",
        "df['Insulin']=np.where(df['Insulin']==0,df['Insulin'].median(),df['Insulin'])\n",
        "df['SkinThickness']=np.where(df['SkinThickness']==0,df['SkinThickness'].median(),df['SkinThickness'])\n",
        "df['BMI']=np.where(df['BMI']==0,df['BMI'].median(),df['BMI'])\n",
        "df['BloodPressure']=np.where(df['BloodPressure']==0,df['BloodPressure'].median(),df['BloodPressure'])\n",
        "df.head()"
      ],
      "execution_count": 13,
      "outputs": [
        {
          "output_type": "execute_result",
          "data": {
            "text/html": [
              "<div>\n",
              "<style scoped>\n",
              "    .dataframe tbody tr th:only-of-type {\n",
              "        vertical-align: middle;\n",
              "    }\n",
              "\n",
              "    .dataframe tbody tr th {\n",
              "        vertical-align: top;\n",
              "    }\n",
              "\n",
              "    .dataframe thead th {\n",
              "        text-align: right;\n",
              "    }\n",
              "</style>\n",
              "<table border=\"1\" class=\"dataframe\">\n",
              "  <thead>\n",
              "    <tr style=\"text-align: right;\">\n",
              "      <th></th>\n",
              "      <th>Pregnancies</th>\n",
              "      <th>Glucose</th>\n",
              "      <th>BloodPressure</th>\n",
              "      <th>SkinThickness</th>\n",
              "      <th>Insulin</th>\n",
              "      <th>BMI</th>\n",
              "      <th>DiabetesPedigreeFunction</th>\n",
              "      <th>Age</th>\n",
              "      <th>Outcome</th>\n",
              "    </tr>\n",
              "  </thead>\n",
              "  <tbody>\n",
              "    <tr>\n",
              "      <th>0</th>\n",
              "      <td>6</td>\n",
              "      <td>148.0</td>\n",
              "      <td>72.0</td>\n",
              "      <td>35.0</td>\n",
              "      <td>30.5</td>\n",
              "      <td>33.6</td>\n",
              "      <td>0.627</td>\n",
              "      <td>50</td>\n",
              "      <td>1</td>\n",
              "    </tr>\n",
              "    <tr>\n",
              "      <th>1</th>\n",
              "      <td>1</td>\n",
              "      <td>85.0</td>\n",
              "      <td>66.0</td>\n",
              "      <td>29.0</td>\n",
              "      <td>30.5</td>\n",
              "      <td>26.6</td>\n",
              "      <td>0.351</td>\n",
              "      <td>31</td>\n",
              "      <td>0</td>\n",
              "    </tr>\n",
              "    <tr>\n",
              "      <th>2</th>\n",
              "      <td>8</td>\n",
              "      <td>183.0</td>\n",
              "      <td>64.0</td>\n",
              "      <td>23.0</td>\n",
              "      <td>30.5</td>\n",
              "      <td>23.3</td>\n",
              "      <td>0.672</td>\n",
              "      <td>32</td>\n",
              "      <td>1</td>\n",
              "    </tr>\n",
              "    <tr>\n",
              "      <th>3</th>\n",
              "      <td>1</td>\n",
              "      <td>89.0</td>\n",
              "      <td>66.0</td>\n",
              "      <td>23.0</td>\n",
              "      <td>94.0</td>\n",
              "      <td>28.1</td>\n",
              "      <td>0.167</td>\n",
              "      <td>21</td>\n",
              "      <td>0</td>\n",
              "    </tr>\n",
              "    <tr>\n",
              "      <th>4</th>\n",
              "      <td>0</td>\n",
              "      <td>137.0</td>\n",
              "      <td>40.0</td>\n",
              "      <td>35.0</td>\n",
              "      <td>168.0</td>\n",
              "      <td>43.1</td>\n",
              "      <td>2.288</td>\n",
              "      <td>33</td>\n",
              "      <td>1</td>\n",
              "    </tr>\n",
              "  </tbody>\n",
              "</table>\n",
              "</div>"
            ],
            "text/plain": [
              "   Pregnancies  Glucose  BloodPressure  ...  DiabetesPedigreeFunction  Age  Outcome\n",
              "0            6    148.0           72.0  ...                     0.627   50        1\n",
              "1            1     85.0           66.0  ...                     0.351   31        0\n",
              "2            8    183.0           64.0  ...                     0.672   32        1\n",
              "3            1     89.0           66.0  ...                     0.167   21        0\n",
              "4            0    137.0           40.0  ...                     2.288   33        1\n",
              "\n",
              "[5 rows x 9 columns]"
            ]
          },
          "metadata": {
            "tags": []
          },
          "execution_count": 13
        }
      ]
    },
    {
      "cell_type": "markdown",
      "metadata": {
        "id": "Du41lzhEVnk6",
        "colab_type": "text"
      },
      "source": [
        "#### Independent And Dependent features"
      ]
    },
    {
      "cell_type": "code",
      "metadata": {
        "id": "ymu41BEbVnk8",
        "colab_type": "code",
        "colab": {}
      },
      "source": [
        "X=df.drop('Outcome',axis=1)\n",
        "y=df['Outcome']"
      ],
      "execution_count": 14,
      "outputs": []
    },
    {
      "cell_type": "code",
      "metadata": {
        "scrolled": true,
        "id": "KLCcVDG9VnlC",
        "colab_type": "code",
        "colab": {
          "base_uri": "https://localhost:8080/",
          "height": 206
        },
        "outputId": "d5444303-9214-44b1-d763-d851cba7706f"
      },
      "source": [
        "X.head()"
      ],
      "execution_count": 15,
      "outputs": [
        {
          "output_type": "execute_result",
          "data": {
            "text/html": [
              "<div>\n",
              "<style scoped>\n",
              "    .dataframe tbody tr th:only-of-type {\n",
              "        vertical-align: middle;\n",
              "    }\n",
              "\n",
              "    .dataframe tbody tr th {\n",
              "        vertical-align: top;\n",
              "    }\n",
              "\n",
              "    .dataframe thead th {\n",
              "        text-align: right;\n",
              "    }\n",
              "</style>\n",
              "<table border=\"1\" class=\"dataframe\">\n",
              "  <thead>\n",
              "    <tr style=\"text-align: right;\">\n",
              "      <th></th>\n",
              "      <th>Pregnancies</th>\n",
              "      <th>Glucose</th>\n",
              "      <th>BloodPressure</th>\n",
              "      <th>SkinThickness</th>\n",
              "      <th>Insulin</th>\n",
              "      <th>BMI</th>\n",
              "      <th>DiabetesPedigreeFunction</th>\n",
              "      <th>Age</th>\n",
              "    </tr>\n",
              "  </thead>\n",
              "  <tbody>\n",
              "    <tr>\n",
              "      <th>0</th>\n",
              "      <td>6</td>\n",
              "      <td>148.0</td>\n",
              "      <td>72.0</td>\n",
              "      <td>35.0</td>\n",
              "      <td>30.5</td>\n",
              "      <td>33.6</td>\n",
              "      <td>0.627</td>\n",
              "      <td>50</td>\n",
              "    </tr>\n",
              "    <tr>\n",
              "      <th>1</th>\n",
              "      <td>1</td>\n",
              "      <td>85.0</td>\n",
              "      <td>66.0</td>\n",
              "      <td>29.0</td>\n",
              "      <td>30.5</td>\n",
              "      <td>26.6</td>\n",
              "      <td>0.351</td>\n",
              "      <td>31</td>\n",
              "    </tr>\n",
              "    <tr>\n",
              "      <th>2</th>\n",
              "      <td>8</td>\n",
              "      <td>183.0</td>\n",
              "      <td>64.0</td>\n",
              "      <td>23.0</td>\n",
              "      <td>30.5</td>\n",
              "      <td>23.3</td>\n",
              "      <td>0.672</td>\n",
              "      <td>32</td>\n",
              "    </tr>\n",
              "    <tr>\n",
              "      <th>3</th>\n",
              "      <td>1</td>\n",
              "      <td>89.0</td>\n",
              "      <td>66.0</td>\n",
              "      <td>23.0</td>\n",
              "      <td>94.0</td>\n",
              "      <td>28.1</td>\n",
              "      <td>0.167</td>\n",
              "      <td>21</td>\n",
              "    </tr>\n",
              "    <tr>\n",
              "      <th>4</th>\n",
              "      <td>0</td>\n",
              "      <td>137.0</td>\n",
              "      <td>40.0</td>\n",
              "      <td>35.0</td>\n",
              "      <td>168.0</td>\n",
              "      <td>43.1</td>\n",
              "      <td>2.288</td>\n",
              "      <td>33</td>\n",
              "    </tr>\n",
              "  </tbody>\n",
              "</table>\n",
              "</div>"
            ],
            "text/plain": [
              "   Pregnancies  Glucose  BloodPressure  ...   BMI  DiabetesPedigreeFunction  Age\n",
              "0            6    148.0           72.0  ...  33.6                     0.627   50\n",
              "1            1     85.0           66.0  ...  26.6                     0.351   31\n",
              "2            8    183.0           64.0  ...  23.3                     0.672   32\n",
              "3            1     89.0           66.0  ...  28.1                     0.167   21\n",
              "4            0    137.0           40.0  ...  43.1                     2.288   33\n",
              "\n",
              "[5 rows x 8 columns]"
            ]
          },
          "metadata": {
            "tags": []
          },
          "execution_count": 15
        }
      ]
    },
    {
      "cell_type": "code",
      "metadata": {
        "id": "J-14mz3jVnlJ",
        "colab_type": "code",
        "colab": {
          "base_uri": "https://localhost:8080/",
          "height": 121
        },
        "outputId": "64772e52-43bf-46bd-86bc-a9c945ac3e07"
      },
      "source": [
        "y.head()"
      ],
      "execution_count": 16,
      "outputs": [
        {
          "output_type": "execute_result",
          "data": {
            "text/plain": [
              "0    1\n",
              "1    0\n",
              "2    1\n",
              "3    0\n",
              "4    1\n",
              "Name: Outcome, dtype: int64"
            ]
          },
          "metadata": {
            "tags": []
          },
          "execution_count": 16
        }
      ]
    },
    {
      "cell_type": "markdown",
      "metadata": {
        "id": "SoMQOvqTVnlN",
        "colab_type": "text"
      },
      "source": [
        "#### Train Test Split"
      ]
    },
    {
      "cell_type": "code",
      "metadata": {
        "id": "clAPJIrnVnlO",
        "colab_type": "code",
        "colab": {}
      },
      "source": [
        "from sklearn.model_selection import train_test_split\n",
        "X_train,X_test,y_train,y_test=train_test_split(X,y,test_size=0.20,random_state=33)"
      ],
      "execution_count": 17,
      "outputs": []
    },
    {
      "cell_type": "code",
      "metadata": {
        "id": "7eVDgUsKVnlU",
        "colab_type": "code",
        "colab": {}
      },
      "source": [
        "from sklearn.ensemble import RandomForestClassifier\n",
        "rf_classifier=RandomForestClassifier(n_estimators=10).fit(X_train,y_train)\n",
        "prediction=rf_classifier.predict(X_test)"
      ],
      "execution_count": null,
      "outputs": []
    },
    {
      "cell_type": "code",
      "metadata": {
        "id": "KEEym7nbVnlY",
        "colab_type": "code",
        "colab": {},
        "outputId": "4a8d8903-bc5c-419c-f097-df2bf7f2968d"
      },
      "source": [
        "y.value_counts()"
      ],
      "execution_count": null,
      "outputs": [
        {
          "output_type": "execute_result",
          "data": {
            "text/plain": [
              "0    500\n",
              "1    268\n",
              "Name: Outcome, dtype: int64"
            ]
          },
          "metadata": {
            "tags": []
          },
          "execution_count": 10
        }
      ]
    },
    {
      "cell_type": "markdown",
      "metadata": {
        "id": "hw3JJXKPVnle",
        "colab_type": "text"
      },
      "source": [
        "* Not an imbalanced dataset (1:2) ratio is fine."
      ]
    },
    {
      "cell_type": "code",
      "metadata": {
        "id": "m4IWqBhFVnlf",
        "colab_type": "code",
        "colab": {},
        "outputId": "0d59f579-5f96-4ddb-c587-04e52b744580"
      },
      "source": [
        "from sklearn.metrics import confusion_matrix,classification_report,accuracy_score\n",
        "print(confusion_matrix(y_test,prediction))\n",
        "print(accuracy_score(y_test,prediction))\n",
        "print(classification_report(y_test,prediction))"
      ],
      "execution_count": null,
      "outputs": [
        {
          "output_type": "stream",
          "text": [
            "[[82 17]\n",
            " [27 28]]\n",
            "0.7142857142857143\n",
            "              precision    recall  f1-score   support\n",
            "\n",
            "           0       0.75      0.83      0.79        99\n",
            "           1       0.62      0.51      0.56        55\n",
            "\n",
            "    accuracy                           0.71       154\n",
            "   macro avg       0.69      0.67      0.67       154\n",
            "weighted avg       0.71      0.71      0.71       154\n",
            "\n"
          ],
          "name": "stdout"
        }
      ]
    },
    {
      "cell_type": "markdown",
      "metadata": {
        "id": "osor9YhkVnll",
        "colab_type": "text"
      },
      "source": [
        "The main parameters used by a Random Forest Classifier are:\n",
        "\n",
        "- **criterion** = the function used to evaluate the quality of a split.\n",
        "- **max_depth** = maximum number of levels allowed in each tree.\n",
        "- **max_features** = maximum number of features considered when splitting a node.\n",
        "- **min_samples_leaf** = minimum number of samples which can be stored in a tree leaf.\n",
        "- **min_samples_split** = minimum number of samples necessary in a node to cause node splitting.\n",
        "- **n_estimators** = number of trees in the ensemble."
      ]
    },
    {
      "cell_type": "markdown",
      "metadata": {
        "id": "P3M7k6yTVnlm",
        "colab_type": "text"
      },
      "source": [
        "### Manual Hyperparameter Tuning"
      ]
    },
    {
      "cell_type": "code",
      "metadata": {
        "id": "dB14DKrpVnlm",
        "colab_type": "code",
        "colab": {},
        "outputId": "80e6d0f6-37d2-4898-d57b-60f488127016"
      },
      "source": [
        "model=RandomForestClassifier(n_estimators=300,criterion='entropy',\n",
        "                             max_features='sqrt',min_samples_leaf=10,random_state=100).fit(X_train,y_train)\n",
        "predictions=model.predict(X_test)\n",
        "print(confusion_matrix(y_test,predictions))\n",
        "print(accuracy_score(y_test,predictions))\n",
        "print(classification_report(y_test,predictions))"
      ],
      "execution_count": null,
      "outputs": [
        {
          "output_type": "stream",
          "text": [
            "[[87 12]\n",
            " [27 28]]\n",
            "0.7467532467532467\n",
            "              precision    recall  f1-score   support\n",
            "\n",
            "           0       0.76      0.88      0.82        99\n",
            "           1       0.70      0.51      0.59        55\n",
            "\n",
            "    accuracy                           0.75       154\n",
            "   macro avg       0.73      0.69      0.70       154\n",
            "weighted avg       0.74      0.75      0.74       154\n",
            "\n"
          ],
          "name": "stdout"
        }
      ]
    },
    {
      "cell_type": "markdown",
      "metadata": {
        "id": "Gr4bSokXVnlt",
        "colab_type": "text"
      },
      "source": [
        "### 1. Randomized Search Cv"
      ]
    },
    {
      "cell_type": "code",
      "metadata": {
        "id": "kP9WwSQcVnlt",
        "colab_type": "code",
        "colab": {},
        "outputId": "07fcd193-0d8b-4e15-9777-2b46a9268bb2"
      },
      "source": [
        "import numpy as np\n",
        "from sklearn.model_selection import RandomizedSearchCV\n",
        "\n",
        "# Number of trees in random forest.\n",
        "n_estimators = [int(x) for x in np.linspace(start = 200, stop = 2000, num = 10)]\n",
        "\n",
        "# Number of features to consider at every split.\n",
        "max_features = ['auto', 'sqrt', 'log2']\n",
        "\n",
        "# Maximum number of levels in tree.\n",
        "max_depth = [int(x) for x in np.linspace(10, 1000,10)]\n",
        "\n",
        "# Minimum number of samples required to split a node.\n",
        "min_samples_split = [1, 3, 4, 5, 7, 9]\n",
        "\n",
        "# Minimum number of samples required at each leaf node.\n",
        "min_samples_leaf = [1, 2, 4, 6, 8]\n",
        "\n",
        "# Create the random grid\n",
        "random_grid = {'n_estimators': n_estimators,\n",
        "               'max_features': max_features,\n",
        "               'max_depth': max_depth,\n",
        "               'min_samples_split': min_samples_split,\n",
        "               'min_samples_leaf': min_samples_leaf,\n",
        "               'criterion':['entropy','gini']}\n",
        "\n",
        "print(random_grid)"
      ],
      "execution_count": null,
      "outputs": [
        {
          "output_type": "stream",
          "text": [
            "{'n_estimators': [200, 400, 600, 800, 1000, 1200, 1400, 1600, 1800, 2000], 'max_features': ['auto', 'sqrt', 'log2'], 'max_depth': [10, 120, 230, 340, 450, 560, 670, 780, 890, 1000], 'min_samples_split': [1, 3, 4, 5, 7, 9], 'min_samples_leaf': [1, 2, 4, 6, 8], 'criterion': ['entropy', 'gini']}\n"
          ],
          "name": "stdout"
        }
      ]
    },
    {
      "cell_type": "code",
      "metadata": {
        "id": "3qeLbGzSVnly",
        "colab_type": "code",
        "colab": {}
      },
      "source": [
        "rf=RandomForestClassifier()\n",
        "rf_randomcv=RandomizedSearchCV(estimator=rf,param_distributions=random_grid,n_iter=100,cv=3,verbose=2,\n",
        "                               random_state=100,n_jobs=-1)"
      ],
      "execution_count": null,
      "outputs": []
    },
    {
      "cell_type": "markdown",
      "metadata": {
        "id": "DU4V3xFsVnl4",
        "colab_type": "text"
      },
      "source": [
        "#### Fit the randomized model"
      ]
    },
    {
      "cell_type": "code",
      "metadata": {
        "id": "XKFrXSZMVnl5",
        "colab_type": "code",
        "colab": {},
        "outputId": "d4cae163-9084-45cd-fd22-44b79246baf5"
      },
      "source": [
        "rf_randomcv.fit(X_train,y_train)"
      ],
      "execution_count": null,
      "outputs": [
        {
          "output_type": "stream",
          "text": [
            "Fitting 3 folds for each of 100 candidates, totalling 300 fits\n"
          ],
          "name": "stdout"
        },
        {
          "output_type": "stream",
          "text": [
            "[Parallel(n_jobs=-1)]: Using backend LokyBackend with 8 concurrent workers.\n",
            "[Parallel(n_jobs=-1)]: Done  25 tasks      | elapsed:    8.3s\n",
            "[Parallel(n_jobs=-1)]: Done 146 tasks      | elapsed:   42.2s\n",
            "[Parallel(n_jobs=-1)]: Done 300 out of 300 | elapsed:  1.5min finished\n"
          ],
          "name": "stderr"
        },
        {
          "output_type": "execute_result",
          "data": {
            "text/plain": [
              "RandomizedSearchCV(cv=3, estimator=RandomForestClassifier(), n_iter=100,\n",
              "                   n_jobs=-1,\n",
              "                   param_distributions={'criterion': ['entropy', 'gini'],\n",
              "                                        'max_depth': [10, 120, 230, 340, 450,\n",
              "                                                      560, 670, 780, 890,\n",
              "                                                      1000],\n",
              "                                        'max_features': ['auto', 'sqrt',\n",
              "                                                         'log2'],\n",
              "                                        'min_samples_leaf': [1, 2, 4, 6, 8],\n",
              "                                        'min_samples_split': [1, 3, 4, 5, 7, 9],\n",
              "                                        'n_estimators': [200, 400, 600, 800,\n",
              "                                                         1000, 1200, 1400, 1600,\n",
              "                                                         1800, 2000]},\n",
              "                   random_state=100, verbose=2)"
            ]
          },
          "metadata": {
            "tags": []
          },
          "execution_count": 15
        }
      ]
    },
    {
      "cell_type": "code",
      "metadata": {
        "id": "9iUDHYXfVnl-",
        "colab_type": "code",
        "colab": {},
        "outputId": "bbf845b2-a043-44ea-a6f3-d23de788d861"
      },
      "source": [
        "rf_randomcv.best_params_"
      ],
      "execution_count": null,
      "outputs": [
        {
          "output_type": "execute_result",
          "data": {
            "text/plain": [
              "{'n_estimators': 200,\n",
              " 'min_samples_split': 3,\n",
              " 'min_samples_leaf': 8,\n",
              " 'max_features': 'auto',\n",
              " 'max_depth': 670,\n",
              " 'criterion': 'gini'}"
            ]
          },
          "metadata": {
            "tags": []
          },
          "execution_count": 16
        }
      ]
    },
    {
      "cell_type": "markdown",
      "metadata": {
        "id": "5R4wyZH9VnmC",
        "colab_type": "text"
      },
      "source": [
        "**Model with the Best Parameters**"
      ]
    },
    {
      "cell_type": "code",
      "metadata": {
        "scrolled": true,
        "id": "zq64JX1-VnmC",
        "colab_type": "code",
        "colab": {},
        "outputId": "2ecd4142-1097-4b97-9f91-c65338fdf113"
      },
      "source": [
        "rf_randomcv.best_estimator_"
      ],
      "execution_count": null,
      "outputs": [
        {
          "output_type": "execute_result",
          "data": {
            "text/plain": [
              "RandomForestClassifier(max_depth=670, min_samples_leaf=8, min_samples_split=3,\n",
              "                       n_estimators=200)"
            ]
          },
          "metadata": {
            "tags": []
          },
          "execution_count": 18
        }
      ]
    },
    {
      "cell_type": "code",
      "metadata": {
        "id": "Id-NbS6QVnmG",
        "colab_type": "code",
        "colab": {}
      },
      "source": [
        "best_random_grid=rf_randomcv.best_estimator_"
      ],
      "execution_count": null,
      "outputs": []
    },
    {
      "cell_type": "code",
      "metadata": {
        "id": "ehivYF8pVnmK",
        "colab_type": "code",
        "colab": {},
        "outputId": "12ae5c8f-551a-4e63-eb5b-e7daa294374f"
      },
      "source": [
        "from sklearn.metrics import accuracy_score\n",
        "y_pred=best_random_grid.predict(X_test)\n",
        "print(confusion_matrix(y_test,y_pred))\n",
        "print(\"Accuracy Score {}\".format(accuracy_score(y_test,y_pred)))\n",
        "print(\"Classification report: {}\".format(classification_report(y_test,y_pred)))"
      ],
      "execution_count": null,
      "outputs": [
        {
          "output_type": "stream",
          "text": [
            "[[86 13]\n",
            " [28 27]]\n",
            "Accuracy Score 0.7337662337662337\n",
            "Classification report:               precision    recall  f1-score   support\n",
            "\n",
            "           0       0.75      0.87      0.81        99\n",
            "           1       0.68      0.49      0.57        55\n",
            "\n",
            "    accuracy                           0.73       154\n",
            "   macro avg       0.71      0.68      0.69       154\n",
            "weighted avg       0.73      0.73      0.72       154\n",
            "\n"
          ],
          "name": "stdout"
        }
      ]
    },
    {
      "cell_type": "markdown",
      "metadata": {
        "id": "n3EoY6bOVnmP",
        "colab_type": "text"
      },
      "source": [
        "### 2. GridSearch CV"
      ]
    },
    {
      "cell_type": "code",
      "metadata": {
        "id": "U7MZktiRVnmQ",
        "colab_type": "code",
        "colab": {},
        "outputId": "0cb194c3-0d03-4c73-d6b4-90f02c1f6d40"
      },
      "source": [
        "rf_randomcv.best_params_"
      ],
      "execution_count": null,
      "outputs": [
        {
          "output_type": "execute_result",
          "data": {
            "text/plain": [
              "{'n_estimators': 200,\n",
              " 'min_samples_split': 3,\n",
              " 'min_samples_leaf': 8,\n",
              " 'max_features': 'auto',\n",
              " 'max_depth': 670,\n",
              " 'criterion': 'gini'}"
            ]
          },
          "metadata": {
            "tags": []
          },
          "execution_count": 21
        }
      ]
    },
    {
      "cell_type": "code",
      "metadata": {
        "id": "mhw8gvvwVnmU",
        "colab_type": "code",
        "colab": {},
        "outputId": "19236457-0fe0-4879-e023-fb5cbec66fa5"
      },
      "source": [
        "from sklearn.model_selection import GridSearchCV\n",
        "\n",
        "param_grid = {\n",
        "    'criterion': [rf_randomcv.best_params_['criterion']],\n",
        "    'max_depth': [rf_randomcv.best_params_['max_depth']],\n",
        "    'max_features': [rf_randomcv.best_params_['max_features']],\n",
        "    'min_samples_leaf': [rf_randomcv.best_params_['min_samples_leaf'], \n",
        "                         rf_randomcv.best_params_['min_samples_leaf']+2, \n",
        "                         rf_randomcv.best_params_['min_samples_leaf'] + 4],\n",
        "    'min_samples_split': [rf_randomcv.best_params_['min_samples_split'] - 2,\n",
        "                          rf_randomcv.best_params_['min_samples_split'] - 1,\n",
        "                          rf_randomcv.best_params_['min_samples_split'], \n",
        "                          rf_randomcv.best_params_['min_samples_split'] +1,\n",
        "                          rf_randomcv.best_params_['min_samples_split'] + 2],\n",
        "    'n_estimators': [rf_randomcv.best_params_['n_estimators'] - 100, rf_randomcv.best_params_['n_estimators'], \n",
        "                     rf_randomcv.best_params_['n_estimators'] + 100, \n",
        "                     rf_randomcv.best_params_['n_estimators'] + 200, rf_randomcv.best_params_['n_estimators'] + 300]\n",
        "}\n",
        "\n",
        "print(param_grid)"
      ],
      "execution_count": null,
      "outputs": [
        {
          "output_type": "stream",
          "text": [
            "{'criterion': ['gini'], 'max_depth': [670], 'max_features': ['auto'], 'min_samples_leaf': [8, 10, 12], 'min_samples_split': [1, 2, 3, 4, 5], 'n_estimators': [100, 200, 300, 400, 500]}\n"
          ],
          "name": "stdout"
        }
      ]
    },
    {
      "cell_type": "markdown",
      "metadata": {
        "id": "IE574zOHVnmZ",
        "colab_type": "text"
      },
      "source": [
        "#### Fit the grid_search to the data"
      ]
    },
    {
      "cell_type": "markdown",
      "metadata": {
        "id": "9ul-ih8hVnma",
        "colab_type": "text"
      },
      "source": [
        "* **There is no n_iter parameter in GridSearch CV**.\n",
        "\n",
        "* If you want to know how many iterations it will run for you can calculate it by (1 * 1 * 1 * 3 * 5 * 5) = **75 iterations will take place**\n",
        "\n",
        "* We will multiple the length of each of the parameter that we have selected."
      ]
    },
    {
      "cell_type": "code",
      "metadata": {
        "id": "nhWC80aFVnmb",
        "colab_type": "code",
        "colab": {},
        "outputId": "32e1b18a-8173-4d69-f71a-a349b3c8c29a"
      },
      "source": [
        "rf=RandomForestClassifier()\n",
        "grid_search=GridSearchCV(estimator=rf,param_grid=param_grid,cv=10,n_jobs=-1,verbose=2)\n",
        "grid_search.fit(X_train,y_train)"
      ],
      "execution_count": null,
      "outputs": [
        {
          "output_type": "stream",
          "text": [
            "Fitting 10 folds for each of 75 candidates, totalling 750 fits\n"
          ],
          "name": "stdout"
        },
        {
          "output_type": "stream",
          "text": [
            "[Parallel(n_jobs=-1)]: Using backend LokyBackend with 8 concurrent workers.\n",
            "[Parallel(n_jobs=-1)]: Done  25 tasks      | elapsed:    1.4s\n",
            "[Parallel(n_jobs=-1)]: Done 146 tasks      | elapsed:   11.3s\n",
            "[Parallel(n_jobs=-1)]: Done 349 tasks      | elapsed:   26.5s\n",
            "[Parallel(n_jobs=-1)]: Done 632 tasks      | elapsed:   48.3s\n",
            "[Parallel(n_jobs=-1)]: Done 750 out of 750 | elapsed:   59.5s finished\n"
          ],
          "name": "stderr"
        },
        {
          "output_type": "execute_result",
          "data": {
            "text/plain": [
              "GridSearchCV(cv=10, estimator=RandomForestClassifier(), n_jobs=-1,\n",
              "             param_grid={'criterion': ['gini'], 'max_depth': [670],\n",
              "                         'max_features': ['auto'],\n",
              "                         'min_samples_leaf': [8, 10, 12],\n",
              "                         'min_samples_split': [1, 2, 3, 4, 5],\n",
              "                         'n_estimators': [100, 200, 300, 400, 500]},\n",
              "             verbose=2)"
            ]
          },
          "metadata": {
            "tags": []
          },
          "execution_count": 23
        }
      ]
    },
    {
      "cell_type": "code",
      "metadata": {
        "id": "ZX0vkq31Vnmg",
        "colab_type": "code",
        "colab": {},
        "outputId": "65f546d7-61e3-4ba7-e98b-0e825ca725c4"
      },
      "source": [
        "grid_search.best_estimator_"
      ],
      "execution_count": null,
      "outputs": [
        {
          "output_type": "execute_result",
          "data": {
            "text/plain": [
              "RandomForestClassifier(max_depth=670, min_samples_leaf=8, min_samples_split=4)"
            ]
          },
          "metadata": {
            "tags": []
          },
          "execution_count": 24
        }
      ]
    },
    {
      "cell_type": "code",
      "metadata": {
        "id": "cdMKmmQ4Vnmk",
        "colab_type": "code",
        "colab": {}
      },
      "source": [
        "best_grid=grid_search.best_estimator_"
      ],
      "execution_count": null,
      "outputs": []
    },
    {
      "cell_type": "code",
      "metadata": {
        "id": "wB3_mx7VVnmo",
        "colab_type": "code",
        "colab": {},
        "outputId": "10afb734-1841-41e6-a037-50054ab3df9f"
      },
      "source": [
        "best_grid"
      ],
      "execution_count": null,
      "outputs": [
        {
          "output_type": "execute_result",
          "data": {
            "text/plain": [
              "RandomForestClassifier(max_depth=670, min_samples_leaf=8, min_samples_split=4)"
            ]
          },
          "metadata": {
            "tags": []
          },
          "execution_count": 26
        }
      ]
    },
    {
      "cell_type": "code",
      "metadata": {
        "id": "STiWDzypVnms",
        "colab_type": "code",
        "colab": {},
        "outputId": "4a870b17-f29e-4675-ac77-419d3f3c6890"
      },
      "source": [
        "y_pred=best_grid.predict(X_test)\n",
        "print(confusion_matrix(y_test,y_pred))\n",
        "print(\"Accuracy Score {}\".format(accuracy_score(y_test,y_pred)))\n",
        "print(\"Classification report: {}\".format(classification_report(y_test,y_pred)))"
      ],
      "execution_count": null,
      "outputs": [
        {
          "output_type": "stream",
          "text": [
            "[[87 12]\n",
            " [25 30]]\n",
            "Accuracy Score 0.7597402597402597\n",
            "Classification report:               precision    recall  f1-score   support\n",
            "\n",
            "           0       0.78      0.88      0.82        99\n",
            "           1       0.71      0.55      0.62        55\n",
            "\n",
            "    accuracy                           0.76       154\n",
            "   macro avg       0.75      0.71      0.72       154\n",
            "weighted avg       0.75      0.76      0.75       154\n",
            "\n"
          ],
          "name": "stdout"
        }
      ]
    },
    {
      "cell_type": "markdown",
      "metadata": {
        "id": "EXDQZ8exVnmv",
        "colab_type": "text"
      },
      "source": [
        "### Automated Hyperparameter Tuning\n",
        "\n",
        "Automated Hyperparameter Tuning can be done by using techniques such as:\n",
        "\n",
        "- Bayesian Optimization\n",
        "- Gradient Descent\n",
        "- Evolutionary Algorithms"
      ]
    },
    {
      "cell_type": "markdown",
      "metadata": {
        "id": "sCEKHoYbVnmw",
        "colab_type": "text"
      },
      "source": [
        "### Bayesian Optimization\n",
        "\n",
        "Bayesian optimization uses probability to find the minimum of a function. The final aim is to find the input value to a function which can gives us the lowest possible output value.It usually performs better than random grid and manual search providing better performance in the testing phase and reduced optimization time.\n",
        "\n",
        "\n",
        "In Hyperopt, Bayesian Optimization can be implemented giving 3 three main parameters to the function **fmin**.\n",
        "\n",
        "\n",
        "- **Objective Function** = defines the loss function to minimize.\n",
        "- **Domain Space** = defines the range of input values to test (in Bayesian Optimization, This space creates a probability distribution for each of the used Hyperparameters).\n",
        "- **Optimization Algorithm** = defines the search algorithm to use to select the best input values to use in each new iteration."
      ]
    },
    {
      "cell_type": "code",
      "metadata": {
        "id": "-q0dL4bEVnmx",
        "colab_type": "code",
        "colab": {}
      },
      "source": [
        "from hyperopt import hp,fmin,tpe,STATUS_OK,Trials"
      ],
      "execution_count": null,
      "outputs": []
    },
    {
      "cell_type": "markdown",
      "metadata": {
        "id": "-Uxfk8V2Vnm2",
        "colab_type": "text"
      },
      "source": [
        "#### Domain Space"
      ]
    },
    {
      "cell_type": "code",
      "metadata": {
        "id": "57r5bqfDVnm3",
        "colab_type": "code",
        "colab": {}
      },
      "source": [
        "space = {'criterion': hp.choice('criterion', ['entropy', 'gini']),\n",
        "        'max_depth': hp.quniform('max_depth', 10, 1200, 10),\n",
        "        'max_features': hp.choice('max_features', ['auto', 'sqrt','log2', None]),\n",
        "        'min_samples_leaf': hp.uniform('min_samples_leaf', 0, 0.5),\n",
        "        'min_samples_split' : hp.uniform ('min_samples_split', 0, 1),\n",
        "        'n_estimators' : hp.choice('n_estimators', [10, 50, 300, 750, 1200,1300,1500])\n",
        "    }"
      ],
      "execution_count": null,
      "outputs": []
    },
    {
      "cell_type": "code",
      "metadata": {
        "id": "HpcK8EB4Vnm8",
        "colab_type": "code",
        "colab": {},
        "outputId": "3980ac44-0b35-49e7-a103-e4eec4250f0e"
      },
      "source": [
        "space"
      ],
      "execution_count": null,
      "outputs": [
        {
          "output_type": "execute_result",
          "data": {
            "text/plain": [
              "{'criterion': <hyperopt.pyll.base.Apply at 0x7f085b822c10>,\n",
              " 'max_depth': <hyperopt.pyll.base.Apply at 0x7f085b822e50>,\n",
              " 'max_features': <hyperopt.pyll.base.Apply at 0x7f085b822f90>,\n",
              " 'min_samples_leaf': <hyperopt.pyll.base.Apply at 0x7f085b830290>,\n",
              " 'min_samples_split': <hyperopt.pyll.base.Apply at 0x7f085b830410>,\n",
              " 'n_estimators': <hyperopt.pyll.base.Apply at 0x7f085b830590>}"
            ]
          },
          "metadata": {
            "tags": []
          },
          "execution_count": 30
        }
      ]
    },
    {
      "cell_type": "markdown",
      "metadata": {
        "id": "5x5AdU4qVnm_",
        "colab_type": "text"
      },
      "source": [
        "#### Objective Function and Optimization Algorithm (Random Forest Classifier)"
      ]
    },
    {
      "cell_type": "code",
      "metadata": {
        "id": "UW8P5n8KVnm_",
        "colab_type": "code",
        "colab": {}
      },
      "source": [
        "from sklearn.model_selection import cross_val_score\n",
        "def objective(space):\n",
        "    model = RandomForestClassifier(criterion = space['criterion'],\n",
        "                                   max_depth = space['max_depth'],\n",
        "                                   max_features = space['max_features'],\n",
        "                                   min_samples_leaf = space['min_samples_leaf'],\n",
        "                                   min_samples_split = space['min_samples_split'],\n",
        "                                   n_estimators = space['n_estimators'], \n",
        "                                 )\n",
        "    \n",
        "    accuracy = cross_val_score(model, X_train, y_train, cv = 5).mean()\n",
        "\n",
        "    # We aim to maximize accuracy, therefore we return it as a negative value\n",
        "    \n",
        "    return {'loss': -accuracy, 'status': STATUS_OK }"
      ],
      "execution_count": null,
      "outputs": []
    },
    {
      "cell_type": "code",
      "metadata": {
        "id": "wf5TTzW2VnnD",
        "colab_type": "code",
        "colab": {},
        "outputId": "9be40bfb-7a46-4fe6-eded-8b61b4553060"
      },
      "source": [
        "trials = Trials()\n",
        "\n",
        "best = fmin(fn= objective,       # Objective Function\n",
        "            space= space,        # Domain Space\n",
        "            algo= tpe.suggest,   # Optimization Algorithm\n",
        "            max_evals = 80,      # Number of evaluations\n",
        "            trials= trials)\n",
        "best"
      ],
      "execution_count": null,
      "outputs": [
        {
          "output_type": "stream",
          "text": [
            "100%|██████████| 80/80 [06:38<00:00,  4.98s/trial, best loss: -0.7720378515260563]\n"
          ],
          "name": "stdout"
        },
        {
          "output_type": "execute_result",
          "data": {
            "text/plain": [
              "{'criterion': 1,\n",
              " 'max_depth': 780.0,\n",
              " 'max_features': 3,\n",
              " 'min_samples_leaf': 0.05602019841464171,\n",
              " 'min_samples_split': 0.09877144025590444,\n",
              " 'n_estimators': 6}"
            ]
          },
          "metadata": {
            "tags": []
          },
          "execution_count": 33
        }
      ]
    },
    {
      "cell_type": "code",
      "metadata": {
        "id": "wsfNm4_4VnnG",
        "colab_type": "code",
        "colab": {},
        "outputId": "ad5f7b39-e761-48a6-9a69-656263cb5419"
      },
      "source": [
        "crit = {0: 'entropy', 1: 'gini'}\n",
        "feat = {0: 'auto', 1: 'sqrt', 2: 'log2', 3: None}\n",
        "est = {0: 10, 1: 50, 2: 300, 3: 750, 4: 1200,5: 1300,6: 1500}\n",
        "\n",
        "\n",
        "print(crit[best['criterion']])\n",
        "print(feat[best['max_features']])\n",
        "print(est[best['n_estimators']])"
      ],
      "execution_count": null,
      "outputs": [
        {
          "output_type": "stream",
          "text": [
            "gini\n",
            "None\n",
            "1500\n"
          ],
          "name": "stdout"
        }
      ]
    },
    {
      "cell_type": "code",
      "metadata": {
        "id": "P8U1l9PSVnnL",
        "colab_type": "code",
        "colab": {},
        "outputId": "d6d106bc-1367-4e2e-e88b-310e6064ce9e"
      },
      "source": [
        "trainedforest = RandomForestClassifier(criterion = crit[best['criterion']],\n",
        "                                       max_depth = best['max_depth'], \n",
        "                                       max_features = feat[best['max_features']], \n",
        "                                       min_samples_leaf = best['min_samples_leaf'], \n",
        "                                       min_samples_split = best['min_samples_split'], \n",
        "                                       n_estimators = est[best['n_estimators']]).fit(X_train,y_train)\n",
        "\n",
        "predictionforest = trainedforest.predict(X_test)\n",
        "print(confusion_matrix(y_test,predictionforest))\n",
        "print(accuracy_score(y_test,predictionforest))\n",
        "print(classification_report(y_test,predictionforest))"
      ],
      "execution_count": null,
      "outputs": [
        {
          "output_type": "stream",
          "text": [
            "[[87 12]\n",
            " [27 28]]\n",
            "0.7467532467532467\n",
            "              precision    recall  f1-score   support\n",
            "\n",
            "           0       0.76      0.88      0.82        99\n",
            "           1       0.70      0.51      0.59        55\n",
            "\n",
            "    accuracy                           0.75       154\n",
            "   macro avg       0.73      0.69      0.70       154\n",
            "weighted avg       0.74      0.75      0.74       154\n",
            "\n"
          ],
          "name": "stdout"
        }
      ]
    },
    {
      "cell_type": "markdown",
      "metadata": {
        "id": "jreAwp_eVnnO",
        "colab_type": "text"
      },
      "source": [
        "### Genetic Algorithms\n",
        "Genetic Algorithms tries to apply natural selection mechanisms to Machine Learning contexts.\n",
        "\n",
        "* Let's imagine we create a population of **N** Machine Learning models with some predifined Hyperparameters. \n",
        "* We can then calculate the accuracy of each model and decide to keep just half of the models (the ones that performs best).\n",
        "* We can now generate some offsprings having similar Hyperparameters to the ones of the best models so that go get again a population of N models.\n",
        "* At this point we can again calculate the accuracy of each model and repeat the cycle for a defined number of generations.\n",
        "* In this way, just the best models will survive at the end of the process."
      ]
    },
    {
      "cell_type": "code",
      "metadata": {
        "id": "fxx7y5AaVnnP",
        "colab_type": "code",
        "colab": {
          "base_uri": "https://localhost:8080/",
          "height": 54
        },
        "outputId": "e7fced32-b828-43ed-b250-97f3a8d223e6"
      },
      "source": [
        "import numpy as np\n",
        "from sklearn.model_selection import RandomizedSearchCV\n",
        "\n",
        "# Number of trees in random forest.\n",
        "n_estimators = [int(x) for x in np.linspace(start = 200, stop = 2000, num = 10)]\n",
        "\n",
        "# Number of features to consider at every split.\n",
        "max_features = ['auto', 'sqrt','log2']\n",
        "\n",
        "# Maximum number of levels in tree.\n",
        "max_depth = [int(x) for x in np.linspace(10, 1000,10)]\n",
        "\n",
        "# Minimum number of samples required to split a node.\n",
        "min_samples_split = [2, 5, 10, 14]\n",
        "\n",
        "# Minimum number of samples required at each leaf node.\n",
        "min_samples_leaf = [1, 2, 4, 6, 8]\n",
        "\n",
        "# Create the random grid\n",
        "param = {'n_estimators': n_estimators,\n",
        "               'max_features': max_features,\n",
        "               'max_depth': max_depth,\n",
        "               'min_samples_split': min_samples_split,\n",
        "               'min_samples_leaf': min_samples_leaf,\n",
        "              'criterion':['entropy','gini']}\n",
        "\n",
        "print(param)"
      ],
      "execution_count": null,
      "outputs": [
        {
          "output_type": "stream",
          "text": [
            "{'n_estimators': [200, 400, 600, 800, 1000, 1200, 1400, 1600, 1800, 2000], 'max_features': ['auto', 'sqrt', 'log2'], 'max_depth': [10, 120, 230, 340, 450, 560, 670, 780, 890, 1000], 'min_samples_split': [2, 5, 10, 14], 'min_samples_leaf': [1, 2, 4, 6, 8], 'criterion': ['entropy', 'gini']}\n"
          ],
          "name": "stdout"
        }
      ]
    },
    {
      "cell_type": "code",
      "metadata": {
        "id": "AFZJyfDDVssy",
        "colab_type": "code",
        "colab": {
          "base_uri": "https://localhost:8080/",
          "height": 575
        },
        "outputId": "51245a50-5521-47fb-a283-428a6530812e"
      },
      "source": [
        "!pip install tpot"
      ],
      "execution_count": null,
      "outputs": [
        {
          "output_type": "stream",
          "text": [
            "Collecting tpot\n",
            "\u001b[?25l  Downloading https://files.pythonhosted.org/packages/14/5e/cb87b0257033a7a396e533a634079ee151a239d180efe2a8b1d2e3584d23/TPOT-0.11.5-py3-none-any.whl (82kB)\n",
            "\r\u001b[K     |████                            | 10kB 17.6MB/s eta 0:00:01\r\u001b[K     |████████                        | 20kB 3.4MB/s eta 0:00:01\r\u001b[K     |████████████                    | 30kB 4.4MB/s eta 0:00:01\r\u001b[K     |████████████████                | 40kB 4.9MB/s eta 0:00:01\r\u001b[K     |████████████████████            | 51kB 3.6MB/s eta 0:00:01\r\u001b[K     |████████████████████████        | 61kB 4.3MB/s eta 0:00:01\r\u001b[K     |████████████████████████████    | 71kB 4.7MB/s eta 0:00:01\r\u001b[K     |███████████████████████████████▉| 81kB 5.2MB/s eta 0:00:01\r\u001b[K     |████████████████████████████████| 92kB 4.0MB/s \n",
            "\u001b[?25hCollecting stopit>=1.1.1\n",
            "  Downloading https://files.pythonhosted.org/packages/35/58/e8bb0b0fb05baf07bbac1450c447d753da65f9701f551dca79823ce15d50/stopit-1.1.2.tar.gz\n",
            "Requirement already satisfied: joblib>=0.13.2 in /usr/local/lib/python3.6/dist-packages (from tpot) (0.16.0)\n",
            "Requirement already satisfied: scipy>=1.3.1 in /usr/local/lib/python3.6/dist-packages (from tpot) (1.4.1)\n",
            "Requirement already satisfied: scikit-learn>=0.22.0 in /usr/local/lib/python3.6/dist-packages (from tpot) (0.22.2.post1)\n",
            "Requirement already satisfied: tqdm>=4.36.1 in /usr/local/lib/python3.6/dist-packages (from tpot) (4.41.1)\n",
            "Requirement already satisfied: pandas>=0.24.2 in /usr/local/lib/python3.6/dist-packages (from tpot) (1.0.5)\n",
            "Collecting update-checker>=0.16\n",
            "  Downloading https://files.pythonhosted.org/packages/0c/ba/8dd7fa5f0b1c6a8ac62f8f57f7e794160c1f86f31c6d0fb00f582372a3e4/update_checker-0.18.0-py3-none-any.whl\n",
            "Requirement already satisfied: numpy>=1.16.3 in /usr/local/lib/python3.6/dist-packages (from tpot) (1.18.5)\n",
            "Collecting deap>=1.2\n",
            "\u001b[?25l  Downloading https://files.pythonhosted.org/packages/0a/eb/2bd0a32e3ce757fb26264765abbaedd6d4d3640d90219a513aeabd08ee2b/deap-1.3.1-cp36-cp36m-manylinux2010_x86_64.whl (157kB)\n",
            "\u001b[K     |████████████████████████████████| 163kB 17.0MB/s \n",
            "\u001b[?25hRequirement already satisfied: pytz>=2017.2 in /usr/local/lib/python3.6/dist-packages (from pandas>=0.24.2->tpot) (2018.9)\n",
            "Requirement already satisfied: python-dateutil>=2.6.1 in /usr/local/lib/python3.6/dist-packages (from pandas>=0.24.2->tpot) (2.8.1)\n",
            "Requirement already satisfied: requests>=2.3.0 in /usr/local/lib/python3.6/dist-packages (from update-checker>=0.16->tpot) (2.23.0)\n",
            "Requirement already satisfied: six>=1.5 in /usr/local/lib/python3.6/dist-packages (from python-dateutil>=2.6.1->pandas>=0.24.2->tpot) (1.15.0)\n",
            "Requirement already satisfied: urllib3!=1.25.0,!=1.25.1,<1.26,>=1.21.1 in /usr/local/lib/python3.6/dist-packages (from requests>=2.3.0->update-checker>=0.16->tpot) (1.24.3)\n",
            "Requirement already satisfied: chardet<4,>=3.0.2 in /usr/local/lib/python3.6/dist-packages (from requests>=2.3.0->update-checker>=0.16->tpot) (3.0.4)\n",
            "Requirement already satisfied: idna<3,>=2.5 in /usr/local/lib/python3.6/dist-packages (from requests>=2.3.0->update-checker>=0.16->tpot) (2.10)\n",
            "Requirement already satisfied: certifi>=2017.4.17 in /usr/local/lib/python3.6/dist-packages (from requests>=2.3.0->update-checker>=0.16->tpot) (2020.6.20)\n",
            "Building wheels for collected packages: stopit\n",
            "  Building wheel for stopit (setup.py) ... \u001b[?25l\u001b[?25hdone\n",
            "  Created wheel for stopit: filename=stopit-1.1.2-cp36-none-any.whl size=11956 sha256=a795865296b35b00ce65a0b138da3062bebe611bd0dda76807b5bd4db9e28dc8\n",
            "  Stored in directory: /root/.cache/pip/wheels/3c/85/2b/2580190404636bfc63e8de3dff629c03bb795021e1983a6cc7\n",
            "Successfully built stopit\n",
            "Installing collected packages: stopit, update-checker, deap, tpot\n",
            "Successfully installed deap-1.3.1 stopit-1.1.2 tpot-0.11.5 update-checker-0.18.0\n"
          ],
          "name": "stdout"
        }
      ]
    },
    {
      "cell_type": "code",
      "metadata": {
        "id": "lTUnjQltVnnR",
        "colab_type": "code",
        "colab": {
          "base_uri": "https://localhost:8080/",
          "height": 888,
          "referenced_widgets": [
            "1e58e281d01248afbd35afdece4ba42f",
            "0429f96613a94cc889d60e24b1fd3279",
            "b8179b43010b4d6e9f7cf1f50516ef51",
            "49d27822a0504c3db66f89bc37910e2c",
            "495f0918d73d4010a8f327dbb9153bc7",
            "0ea6e890e03a4ebca212dfd9c2e7b60c",
            "62621bbbabc7420e9f5777964a1a9927",
            "bfa335aa009547179b97bcbf56348680"
          ]
        },
        "outputId": "357847d2-f796-4096-9cf3-2b16bc643612"
      },
      "source": [
        "from tpot import TPOTClassifier\n",
        "\n",
        "tpot_classifier = TPOTClassifier(generations= 5,\n",
        "                                 population_size= 24,\n",
        "                                 offspring_size= 12,\n",
        "                                 verbosity= 2,\n",
        "                                 early_stop= 12,\n",
        "                                 config_dict={'sklearn.ensemble.RandomForestClassifier': param},\n",
        "                                 cv = 4,\n",
        "                                 scoring = 'accuracy')\n",
        "\n",
        "tpot_classifier.fit(X_train,y_train)"
      ],
      "execution_count": null,
      "outputs": [
        {
          "output_type": "display_data",
          "data": {
            "application/vnd.jupyter.widget-view+json": {
              "model_id": "1e58e281d01248afbd35afdece4ba42f",
              "version_minor": 0,
              "version_major": 2
            },
            "text/plain": [
              "HBox(children=(FloatProgress(value=0.0, description='Optimization Progress', max=84.0, style=ProgressStyle(des…"
            ]
          },
          "metadata": {
            "tags": []
          }
        },
        {
          "output_type": "stream",
          "text": [
            "\n",
            "Generation 1 - Current best internal CV score: 0.7752631355572532\n",
            "Generation 2 - Current best internal CV score: 0.7818096935743994\n",
            "Generation 3 - Current best internal CV score: 0.7818096935743994\n",
            "Generation 4 - Current best internal CV score: 0.7818096935743994\n",
            "\n",
            "Best pipeline: RandomForestClassifier(RandomForestClassifier(input_matrix, criterion=entropy, max_depth=560, max_features=auto, min_samples_leaf=4, min_samples_split=14, n_estimators=600), criterion=entropy, max_depth=230, max_features=log2, min_samples_leaf=6, min_samples_split=10, n_estimators=1400)\n"
          ],
          "name": "stdout"
        },
        {
          "output_type": "execute_result",
          "data": {
            "text/plain": [
              "TPOTClassifier(config_dict={'sklearn.ensemble.RandomForestClassifier': {'criterion': ['entropy',\n",
              "                                                                                      'gini'],\n",
              "                                                                        'max_depth': [10,\n",
              "                                                                                      120,\n",
              "                                                                                      230,\n",
              "                                                                                      340,\n",
              "                                                                                      450,\n",
              "                                                                                      560,\n",
              "                                                                                      670,\n",
              "                                                                                      780,\n",
              "                                                                                      890,\n",
              "                                                                                      1000],\n",
              "                                                                        'max_features': ['auto',\n",
              "                                                                                         'sqrt',\n",
              "                                                                                         'log2'],\n",
              "                                                                        'min_samples_leaf': [1,\n",
              "                                                                                             2,\n",
              "                                                                                             4,\n",
              "                                                                                             6,\n",
              "                                                                                             8],\n",
              "                                                                        'min_samples_split': [2,\n",
              "                                                                                              5,\n",
              "                                                                                              10,\n",
              "                                                                                              14],\n",
              "                                                                        'n_estimators': [200,\n",
              "                                                                                         400,\n",
              "                                                                                         600,\n",
              "                                                                                         800,\n",
              "                                                                                         1000,\n",
              "                                                                                         1200,\n",
              "                                                                                         1400,\n",
              "                                                                                         1600,\n",
              "                                                                                         1800,\n",
              "                                                                                         2000]}},\n",
              "               crossover_rate=0.1, cv=4, disa...se,\n",
              "               early_stop=12, generations=5,\n",
              "               log_file=<ipykernel.iostream.OutStream object at 0x7f6b5fc1e828>,\n",
              "               max_eval_time_mins=5, max_time_mins=None, memory=None,\n",
              "               mutation_rate=0.9, n_jobs=1, offspring_size=12,\n",
              "               periodic_checkpoint_folder=None, population_size=24,\n",
              "               random_state=None, scoring='accuracy', subsample=1.0,\n",
              "               template=None, use_dask=False, verbosity=2, warm_start=False)"
            ]
          },
          "metadata": {
            "tags": []
          },
          "execution_count": 7
        }
      ]
    },
    {
      "cell_type": "code",
      "metadata": {
        "id": "KOGuoaA9VnnV",
        "colab_type": "code",
        "colab": {
          "base_uri": "https://localhost:8080/",
          "height": 34
        },
        "outputId": "b31a43d3-d119-4094-f121-bf23775f2c86"
      },
      "source": [
        "accuracy = tpot_classifier.score(X_test, y_test)\n",
        "print(accuracy)"
      ],
      "execution_count": null,
      "outputs": [
        {
          "output_type": "stream",
          "text": [
            "0.7597402597402597\n"
          ],
          "name": "stdout"
        }
      ]
    },
    {
      "cell_type": "markdown",
      "metadata": {
        "id": "IMQ05kqmVnnX",
        "colab_type": "text"
      },
      "source": [
        "### Optimize hyperparameters of the model using Optuna\n",
        "\n",
        "* The hyperparameters of the above algorithm are `n_estimators` and `max_depth` for which we can try different values to see if the model accuracy can be improved. \n",
        "\n",
        "* The `objective` function is modified to accept a trial object.\n",
        "\n",
        "* This trial has several methods for sampling hyperparameters.\n",
        "\n",
        "* We create a study to run the hyperparameter optimization and finally read the best hyperparameters."
      ]
    },
    {
      "cell_type": "code",
      "metadata": {
        "id": "yVi2e4Td34a6",
        "colab_type": "code",
        "colab": {
          "base_uri": "https://localhost:8080/",
          "height": 1000
        },
        "outputId": "f79d4be4-b655-4c66-d48c-f61182caae56"
      },
      "source": [
        "!pip install optuna"
      ],
      "execution_count": 18,
      "outputs": [
        {
          "output_type": "stream",
          "text": [
            "Collecting optuna\n",
            "\u001b[?25l  Downloading https://files.pythonhosted.org/packages/06/b0/9a6313c78bca92abfacc08a2ad8b27bfe845256f615786ee2b6452ae1978/optuna-2.0.0.tar.gz (226kB)\n",
            "\u001b[K     |████████████████████████████████| 235kB 4.2MB/s \n",
            "\u001b[?25hCollecting alembic\n",
            "\u001b[?25l  Downloading https://files.pythonhosted.org/packages/60/1e/cabc75a189de0fbb2841d0975243e59bde8b7822bacbb95008ac6fe9ad47/alembic-1.4.2.tar.gz (1.1MB)\n",
            "\u001b[K     |████████████████████████████████| 1.1MB 8.1MB/s \n",
            "\u001b[?25h  Installing build dependencies ... \u001b[?25l\u001b[?25hdone\n",
            "  Getting requirements to build wheel ... \u001b[?25l\u001b[?25hdone\n",
            "    Preparing wheel metadata ... \u001b[?25l\u001b[?25hdone\n",
            "Collecting cliff\n",
            "\u001b[?25l  Downloading https://files.pythonhosted.org/packages/71/06/03b1f92d46546a18eabf33ff7f37ef422c18c93d5a926bf590fee32ebe75/cliff-3.4.0-py3-none-any.whl (76kB)\n",
            "\u001b[K     |████████████████████████████████| 81kB 8.0MB/s \n",
            "\u001b[?25hCollecting cmaes>=0.5.1\n",
            "  Downloading https://files.pythonhosted.org/packages/63/88/d5e9b78151dce671d7e78ee4cc8905d83208254caa2a386b163ae0ab0027/cmaes-0.6.0-py3-none-any.whl\n",
            "Collecting colorlog\n",
            "  Downloading https://files.pythonhosted.org/packages/2a/81/12d77537c82c5d46aa2721dfee25a0e873ef5920ebd0827152f411effb57/colorlog-4.2.1-py2.py3-none-any.whl\n",
            "Requirement already satisfied: joblib in /usr/local/lib/python3.6/dist-packages (from optuna) (0.16.0)\n",
            "Requirement already satisfied: numpy in /usr/local/lib/python3.6/dist-packages (from optuna) (1.18.5)\n",
            "Requirement already satisfied: packaging in /usr/local/lib/python3.6/dist-packages (from optuna) (20.4)\n",
            "Requirement already satisfied: scipy!=1.4.0 in /usr/local/lib/python3.6/dist-packages (from optuna) (1.4.1)\n",
            "Requirement already satisfied: sqlalchemy>=1.1.0 in /usr/local/lib/python3.6/dist-packages (from optuna) (1.3.18)\n",
            "Requirement already satisfied: tqdm in /usr/local/lib/python3.6/dist-packages (from optuna) (4.41.1)\n",
            "Collecting python-editor>=0.3\n",
            "  Downloading https://files.pythonhosted.org/packages/c6/d3/201fc3abe391bbae6606e6f1d598c15d367033332bd54352b12f35513717/python_editor-1.0.4-py3-none-any.whl\n",
            "Requirement already satisfied: python-dateutil in /usr/local/lib/python3.6/dist-packages (from alembic->optuna) (2.8.1)\n",
            "Collecting Mako\n",
            "\u001b[?25l  Downloading https://files.pythonhosted.org/packages/a6/37/0e706200d22172eb8fa17d68a7ae22dec7631a0a92266634fb518a88a5b2/Mako-1.1.3-py2.py3-none-any.whl (75kB)\n",
            "\u001b[K     |████████████████████████████████| 81kB 6.9MB/s \n",
            "\u001b[?25hRequirement already satisfied: pyparsing>=2.1.0 in /usr/local/lib/python3.6/dist-packages (from cliff->optuna) (2.4.7)\n",
            "Requirement already satisfied: PyYAML>=3.12 in /usr/local/lib/python3.6/dist-packages (from cliff->optuna) (3.13)\n",
            "Requirement already satisfied: PrettyTable<0.8,>=0.7.2 in /usr/local/lib/python3.6/dist-packages (from cliff->optuna) (0.7.2)\n",
            "Collecting stevedore>=2.0.1\n",
            "\u001b[?25l  Downloading https://files.pythonhosted.org/packages/d6/f4/041afc90e684f2b7d00a7f49abcbaf0b8c03e916bbc398ce49dce2a3c408/stevedore-3.2.0-py3-none-any.whl (42kB)\n",
            "\u001b[K     |████████████████████████████████| 51kB 7.3MB/s \n",
            "\u001b[?25hRequirement already satisfied: six>=1.10.0 in /usr/local/lib/python3.6/dist-packages (from cliff->optuna) (1.15.0)\n",
            "Collecting cmd2!=0.8.3,>=0.8.0\n",
            "\u001b[?25l  Downloading https://files.pythonhosted.org/packages/29/4c/1f97a0de461e56c62d5c565e6ebb02088dc0c11ff72d7c76d5f559417ef3/cmd2-1.3.2-py3-none-any.whl (129kB)\n",
            "\u001b[K     |████████████████████████████████| 133kB 14.1MB/s \n",
            "\u001b[?25hCollecting pbr!=2.1.0,>=2.0.0\n",
            "\u001b[?25l  Downloading https://files.pythonhosted.org/packages/96/ba/aa953a11ec014b23df057ecdbc922fdb40ca8463466b1193f3367d2711a6/pbr-5.4.5-py2.py3-none-any.whl (110kB)\n",
            "\u001b[K     |████████████████████████████████| 112kB 17.0MB/s \n",
            "\u001b[?25hRequirement already satisfied: MarkupSafe>=0.9.2 in /usr/local/lib/python3.6/dist-packages (from Mako->alembic->optuna) (1.1.1)\n",
            "Requirement already satisfied: importlib-metadata>=1.7.0; python_version < \"3.8\" in /usr/local/lib/python3.6/dist-packages (from stevedore>=2.0.1->cliff->optuna) (1.7.0)\n",
            "Requirement already satisfied: wcwidth>=0.1.7 in /usr/local/lib/python3.6/dist-packages (from cmd2!=0.8.3,>=0.8.0->cliff->optuna) (0.2.5)\n",
            "Requirement already satisfied: attrs>=16.3.0 in /usr/local/lib/python3.6/dist-packages (from cmd2!=0.8.3,>=0.8.0->cliff->optuna) (19.3.0)\n",
            "Requirement already satisfied: setuptools>=34.4 in /usr/local/lib/python3.6/dist-packages (from cmd2!=0.8.3,>=0.8.0->cliff->optuna) (49.2.0)\n",
            "Collecting pyperclip>=1.6\n",
            "  Downloading https://files.pythonhosted.org/packages/f6/5b/55866e1cde0f86f5eec59dab5de8a66628cb0d53da74b8dbc15ad8dabda3/pyperclip-1.8.0.tar.gz\n",
            "Collecting colorama>=0.3.7\n",
            "  Downloading https://files.pythonhosted.org/packages/c9/dc/45cdef1b4d119eb96316b3117e6d5708a08029992b2fee2c143c7a0a5cc5/colorama-0.4.3-py2.py3-none-any.whl\n",
            "Requirement already satisfied: zipp>=0.5 in /usr/local/lib/python3.6/dist-packages (from importlib-metadata>=1.7.0; python_version < \"3.8\"->stevedore>=2.0.1->cliff->optuna) (3.1.0)\n",
            "Building wheels for collected packages: alembic\n",
            "  Building wheel for alembic (PEP 517) ... \u001b[?25l\u001b[?25hdone\n",
            "  Created wheel for alembic: filename=alembic-1.4.2-cp36-none-any.whl size=159543 sha256=0e79e80fbee245f7e41d73ae823b456d0c4fff1b925c35b027117cd0b159f7d9\n",
            "  Stored in directory: /root/.cache/pip/wheels/1f/04/83/76023f7a4c14688c0b5c2682a96392cfdd3ee4449eaaa287ef\n",
            "Successfully built alembic\n",
            "Building wheels for collected packages: optuna, pyperclip\n",
            "  Building wheel for optuna (setup.py) ... \u001b[?25l\u001b[?25hdone\n",
            "  Created wheel for optuna: filename=optuna-2.0.0-cp36-none-any.whl size=312964 sha256=14dcd3c27c82cef973001cab87607237fd6209772b681847fdac5b65c1f5579e\n",
            "  Stored in directory: /root/.cache/pip/wheels/b5/c9/03/c45484454bf657ffed0ed6af153bd3d213928df115eb2a56eb\n",
            "  Building wheel for pyperclip (setup.py) ... \u001b[?25l\u001b[?25hdone\n",
            "  Created wheel for pyperclip: filename=pyperclip-1.8.0-cp36-none-any.whl size=8693 sha256=b71e40f0daee2b2c6156c52c303798d7d798838b834ddccaebd4c0ef0859f4b6\n",
            "  Stored in directory: /root/.cache/pip/wheels/b2/ac/0a/b784f0afe26eaf52e88a7e15c7369090deea0354fa1c6fc689\n",
            "Successfully built optuna pyperclip\n",
            "Installing collected packages: python-editor, Mako, alembic, pbr, stevedore, pyperclip, colorama, cmd2, cliff, cmaes, colorlog, optuna\n",
            "Successfully installed Mako-1.1.3 alembic-1.4.2 cliff-3.4.0 cmaes-0.6.0 cmd2-1.3.2 colorama-0.4.3 colorlog-4.2.1 optuna-2.0.0 pbr-5.4.5 pyperclip-1.8.0 python-editor-1.0.4 stevedore-3.2.0\n"
          ],
          "name": "stdout"
        }
      ]
    },
    {
      "cell_type": "code",
      "metadata": {
        "id": "zUZ6AtAKVnnX",
        "colab_type": "code",
        "colab": {}
      },
      "source": [
        "import optuna\n",
        "import sklearn.svm\n",
        "def objective(trial):\n",
        "\n",
        "    classifier = trial.suggest_categorical('classifier', ['RandomForest', 'SVC'])\n",
        "    \n",
        "    if classifier == 'RandomForest':\n",
        "        n_estimators = trial.suggest_int('n_estimators', 200, 2000,10)\n",
        "        max_depth = int(trial.suggest_float('max_depth', 10, 100, log=True))\n",
        "\n",
        "        clf = sklearn.ensemble.RandomForestClassifier(\n",
        "            n_estimators=n_estimators, max_depth=max_depth)\n",
        "    else:\n",
        "        c = trial.suggest_float('svc_c', 1e-10, 1e10, log=True)\n",
        "        \n",
        "        clf = sklearn.svm.SVC(C=c, gamma='auto')\n",
        "\n",
        "    return sklearn.model_selection.cross_val_score(\n",
        "        clf,X_train,y_train, n_jobs=-1, cv=3).mean()\n"
      ],
      "execution_count": 19,
      "outputs": []
    },
    {
      "cell_type": "code",
      "metadata": {
        "id": "CAe4x_V0Vnna",
        "colab_type": "code",
        "colab": {
          "base_uri": "https://localhost:8080/",
          "height": 1000
        },
        "outputId": "f5f5ac75-ddb3-46c4-e070-940442b45abd"
      },
      "source": [
        "# direction is maximized becausse we need to maximize the accuracy of the model.\n",
        "study = optuna.create_study(direction='maximize')\n",
        "study.optimize(objective, n_trials=100)\n",
        "\n",
        "trial = study.best_trial\n",
        "\n",
        "print('Accuracy: {}'.format(trial.value))\n",
        "print(\"Best hyperparameters: {}\".format(trial.params))"
      ],
      "execution_count": 20,
      "outputs": [
        {
          "output_type": "stream",
          "text": [
            "[I 2020-08-11 14:19:31,295] Trial 0 finished with value: 0.6530926191614858 and parameters: {'classifier': 'SVC', 'svc_c': 0.00011586657074918459}. Best is trial 0 with value: 0.6530926191614858.\n",
            "[I 2020-08-11 14:19:31,373] Trial 1 finished with value: 0.6530926191614858 and parameters: {'classifier': 'SVC', 'svc_c': 148921417.20673385}. Best is trial 0 with value: 0.6530926191614858.\n",
            "[I 2020-08-11 14:19:37,000] Trial 2 finished with value: 0.7638928742228598 and parameters: {'classifier': 'RandomForest', 'n_estimators': 1360, 'max_depth': 12.484691478273927}. Best is trial 2 with value: 0.7638928742228598.\n",
            "[I 2020-08-11 14:19:44,868] Trial 3 finished with value: 0.7704208512673363 and parameters: {'classifier': 'RandomForest', 'n_estimators': 1930, 'max_depth': 16.91760135096698}. Best is trial 3 with value: 0.7704208512673363.\n",
            "[I 2020-08-11 14:19:44,926] Trial 4 finished with value: 0.6530926191614858 and parameters: {'classifier': 'SVC', 'svc_c': 0.12917337627473002}. Best is trial 3 with value: 0.7704208512673363.\n",
            "[I 2020-08-11 14:19:44,971] Trial 5 finished with value: 0.6530926191614858 and parameters: {'classifier': 'SVC', 'svc_c': 1.3120054918637937e-07}. Best is trial 3 with value: 0.7704208512673363.\n",
            "[I 2020-08-11 14:19:48,962] Trial 6 finished with value: 0.767168818747011 and parameters: {'classifier': 'RandomForest', 'n_estimators': 980, 'max_depth': 10.938864271115827}. Best is trial 3 with value: 0.7704208512673363.\n",
            "[I 2020-08-11 14:19:49,009] Trial 7 finished with value: 0.6530926191614858 and parameters: {'classifier': 'SVC', 'svc_c': 9.910508880782219e-10}. Best is trial 3 with value: 0.7704208512673363.\n",
            "[I 2020-08-11 14:19:49,067] Trial 8 finished with value: 0.6530926191614858 and parameters: {'classifier': 'SVC', 'svc_c': 0.024426803743004617}. Best is trial 3 with value: 0.7704208512673363.\n",
            "[I 2020-08-11 14:19:49,111] Trial 9 finished with value: 0.6530926191614858 and parameters: {'classifier': 'SVC', 'svc_c': 5.7256067368993034e-08}. Best is trial 3 with value: 0.7704208512673363.\n",
            "[I 2020-08-11 14:19:57,347] Trial 10 finished with value: 0.7655268611509646 and parameters: {'classifier': 'RandomForest', 'n_estimators': 2000, 'max_depth': 49.09253923246031}. Best is trial 3 with value: 0.7704208512673363.\n",
            "[I 2020-08-11 14:20:00,254] Trial 11 finished with value: 0.7704049099314524 and parameters: {'classifier': 'RandomForest', 'n_estimators': 710, 'max_depth': 11.483727787743213}. Best is trial 3 with value: 0.7704208512673363.\n",
            "[I 2020-08-11 14:20:01,138] Trial 12 finished with value: 0.7639088155587439 and parameters: {'classifier': 'RandomForest', 'n_estimators': 210, 'max_depth': 19.653774955938474}. Best is trial 3 with value: 0.7704208512673363.\n",
            "[I 2020-08-11 14:20:04,114] Trial 13 finished with value: 0.7687868643392317 and parameters: {'classifier': 'RandomForest', 'n_estimators': 730, 'max_depth': 22.202648099121394}. Best is trial 3 with value: 0.7704208512673363.\n",
            "[I 2020-08-11 14:20:06,011] Trial 14 finished with value: 0.7622748286306393 and parameters: {'classifier': 'RandomForest', 'n_estimators': 460, 'max_depth': 10.522486245345842}. Best is trial 3 with value: 0.7704208512673363.\n",
            "[I 2020-08-11 14:20:13,871] Trial 15 finished with value: 0.7671528774111271 and parameters: {'classifier': 'RandomForest', 'n_estimators': 1920, 'max_depth': 19.01522036155407}. Best is trial 3 with value: 0.7704208512673363.\n",
            "[I 2020-08-11 14:20:19,797] Trial 16 finished with value: 0.7590068547744301 and parameters: {'classifier': 'RandomForest', 'n_estimators': 1440, 'max_depth': 87.26116860170016}. Best is trial 3 with value: 0.7704208512673363.\n",
            "[I 2020-08-11 14:20:22,426] Trial 17 finished with value: 0.7638928742228598 and parameters: {'classifier': 'RandomForest', 'n_estimators': 640, 'max_depth': 33.15933579110046}. Best is trial 3 with value: 0.7704208512673363.\n",
            "[I 2020-08-11 14:20:29,266] Trial 18 finished with value: 0.7606408417025347 and parameters: {'classifier': 'RandomForest', 'n_estimators': 1670, 'max_depth': 13.224641296374244}. Best is trial 3 with value: 0.7704208512673363.\n",
            "[I 2020-08-11 14:20:33,454] Trial 19 finished with value: 0.7671608480790691 and parameters: {'classifier': 'RandomForest', 'n_estimators': 1020, 'max_depth': 16.084869741064438}. Best is trial 3 with value: 0.7704208512673363.\n",
            "[I 2020-08-11 14:20:34,587] Trial 20 finished with value: 0.7622748286306393 and parameters: {'classifier': 'RandomForest', 'n_estimators': 270, 'max_depth': 36.89453233444312}. Best is trial 3 with value: 0.7704208512673363.\n",
            "[I 2020-08-11 14:20:37,505] Trial 21 finished with value: 0.775314841383708 and parameters: {'classifier': 'RandomForest', 'n_estimators': 710, 'max_depth': 23.85656263227053}. Best is trial 21 with value: 0.775314841383708.\n",
            "[I 2020-08-11 14:20:40,754] Trial 22 finished with value: 0.7704128805993943 and parameters: {'classifier': 'RandomForest', 'n_estimators': 790, 'max_depth': 23.765985308876477}. Best is trial 21 with value: 0.775314841383708.\n",
            "[I 2020-08-11 14:20:44,206] Trial 23 finished with value: 0.7638849035549179 and parameters: {'classifier': 'RandomForest', 'n_estimators': 830, 'max_depth': 24.41251013083172}. Best is trial 21 with value: 0.775314841383708.\n",
            "[I 2020-08-11 14:20:49,397] Trial 24 finished with value: 0.7622668579626972 and parameters: {'classifier': 'RandomForest', 'n_estimators': 1260, 'max_depth': 31.17540378333715}. Best is trial 21 with value: 0.775314841383708.\n",
            "[I 2020-08-11 14:20:51,492] Trial 25 finished with value: 0.7639008448908019 and parameters: {'classifier': 'RandomForest', 'n_estimators': 500, 'max_depth': 26.061325469502492}. Best is trial 21 with value: 0.775314841383708.\n",
            "[I 2020-08-11 14:20:55,225] Trial 26 finished with value: 0.7639088155587439 and parameters: {'classifier': 'RandomForest', 'n_estimators': 900, 'max_depth': 43.92908449214065}. Best is trial 21 with value: 0.775314841383708.\n",
            "[I 2020-08-11 14:20:59,878] Trial 27 finished with value: 0.7736569424517775 and parameters: {'classifier': 'RandomForest', 'n_estimators': 1130, 'max_depth': 15.483733496629712}. Best is trial 21 with value: 0.775314841383708.\n",
            "[I 2020-08-11 14:21:07,259] Trial 28 finished with value: 0.7655268611509646 and parameters: {'classifier': 'RandomForest', 'n_estimators': 1800, 'max_depth': 15.553392715882609}. Best is trial 21 with value: 0.775314841383708.\n",
            "[I 2020-08-11 14:21:12,182] Trial 29 finished with value: 0.7655268611509646 and parameters: {'classifier': 'RandomForest', 'n_estimators': 1200, 'max_depth': 15.853252919007144}. Best is trial 21 with value: 0.775314841383708.\n",
            "[I 2020-08-11 14:21:18,648] Trial 30 finished with value: 0.7606488123704768 and parameters: {'classifier': 'RandomForest', 'n_estimators': 1580, 'max_depth': 18.33063854131367}. Best is trial 21 with value: 0.775314841383708.\n",
            "[I 2020-08-11 14:21:20,626] Trial 31 finished with value: 0.7622588872947552 and parameters: {'classifier': 'RandomForest', 'n_estimators': 470, 'max_depth': 26.80571787792818}. Best is trial 21 with value: 0.775314841383708.\n",
            "[I 2020-08-11 14:21:25,138] Trial 32 finished with value: 0.7655188904830225 and parameters: {'classifier': 'RandomForest', 'n_estimators': 1090, 'max_depth': 21.680810046417484}. Best is trial 21 with value: 0.775314841383708.\n",
            "[I 2020-08-11 14:21:27,570] Trial 33 finished with value: 0.7655428024868485 and parameters: {'classifier': 'RandomForest', 'n_estimators': 590, 'max_depth': 14.59564051450733}. Best is trial 21 with value: 0.775314841383708.\n",
            "[I 2020-08-11 14:21:31,137] Trial 34 finished with value: 0.7655188904830225 and parameters: {'classifier': 'RandomForest', 'n_estimators': 870, 'max_depth': 18.005119327818882}. Best is trial 21 with value: 0.775314841383708.\n",
            "[I 2020-08-11 14:21:34,379] Trial 35 finished with value: 0.772038896859557 and parameters: {'classifier': 'RandomForest', 'n_estimators': 790, 'max_depth': 28.995752873973718}. Best is trial 21 with value: 0.775314841383708.\n",
            "[I 2020-08-11 14:21:35,963] Trial 36 finished with value: 0.7622509166268133 and parameters: {'classifier': 'RandomForest', 'n_estimators': 380, 'max_depth': 28.42006868783957}. Best is trial 21 with value: 0.775314841383708.\n",
            "[I 2020-08-11 14:21:36,031] Trial 37 finished with value: 0.6530926191614858 and parameters: {'classifier': 'SVC', 'svc_c': 841925.6545379004}. Best is trial 21 with value: 0.775314841383708.\n",
            "[I 2020-08-11 14:21:41,778] Trial 38 finished with value: 0.7687868643392317 and parameters: {'classifier': 'RandomForest', 'n_estimators': 1390, 'max_depth': 39.500863256938466}. Best is trial 21 with value: 0.775314841383708.\n",
            "[I 2020-08-11 14:21:41,846] Trial 39 finished with value: 0.6530926191614858 and parameters: {'classifier': 'SVC', 'svc_c': 60943.796325192576}. Best is trial 21 with value: 0.775314841383708.\n",
            "[I 2020-08-11 14:21:46,829] Trial 40 finished with value: 0.7622668579626972 and parameters: {'classifier': 'RandomForest', 'n_estimators': 1210, 'max_depth': 13.939901270715634}. Best is trial 21 with value: 0.775314841383708.\n",
            "[I 2020-08-11 14:21:50,090] Trial 41 finished with value: 0.7736808544556034 and parameters: {'classifier': 'RandomForest', 'n_estimators': 790, 'max_depth': 22.77055010437812}. Best is trial 21 with value: 0.775314841383708.\n",
            "[I 2020-08-11 14:21:54,033] Trial 42 finished with value: 0.7655188904830225 and parameters: {'classifier': 'RandomForest', 'n_estimators': 960, 'max_depth': 21.103983810652977}. Best is trial 21 with value: 0.775314841383708.\n",
            "[I 2020-08-11 14:21:56,651] Trial 43 finished with value: 0.767136936075243 and parameters: {'classifier': 'RandomForest', 'n_estimators': 630, 'max_depth': 30.18463547633664}. Best is trial 21 with value: 0.775314841383708.\n",
            "[I 2020-08-11 14:21:59,631] Trial 44 finished with value: 0.7704049099314524 and parameters: {'classifier': 'RandomForest', 'n_estimators': 720, 'max_depth': 17.401517500797866}. Best is trial 21 with value: 0.775314841383708.\n",
            "[I 2020-08-11 14:22:03,809] Trial 45 finished with value: 0.7638928742228598 and parameters: {'classifier': 'RandomForest', 'n_estimators': 1020, 'max_depth': 12.448019364611635}. Best is trial 21 with value: 0.775314841383708.\n",
            "[I 2020-08-11 14:22:07,022] Trial 46 finished with value: 0.7704128805993943 and parameters: {'classifier': 'RandomForest', 'n_estimators': 780, 'max_depth': 53.8010848721462}. Best is trial 21 with value: 0.775314841383708.\n",
            "[I 2020-08-11 14:22:07,091] Trial 47 finished with value: 0.6530926191614858 and parameters: {'classifier': 'SVC', 'svc_c': 706.37177711278}. Best is trial 21 with value: 0.775314841383708.\n",
            "[I 2020-08-11 14:22:09,417] Trial 48 finished with value: 0.7655188904830225 and parameters: {'classifier': 'RandomForest', 'n_estimators': 560, 'max_depth': 20.63541681722596}. Best is trial 21 with value: 0.775314841383708.\n",
            "[I 2020-08-11 14:22:13,227] Trial 49 finished with value: 0.7639008448908019 and parameters: {'classifier': 'RandomForest', 'n_estimators': 930, 'max_depth': 23.798813225452847}. Best is trial 21 with value: 0.775314841383708.\n",
            "[I 2020-08-11 14:22:16,115] Trial 50 finished with value: 0.772038896859557 and parameters: {'classifier': 'RandomForest', 'n_estimators': 690, 'max_depth': 19.94637477837004}. Best is trial 21 with value: 0.775314841383708.\n",
            "[I 2020-08-11 14:22:18,977] Trial 51 finished with value: 0.7655348318189065 and parameters: {'classifier': 'RandomForest', 'n_estimators': 690, 'max_depth': 17.26500919303156}. Best is trial 21 with value: 0.775314841383708.\n",
            "[I 2020-08-11 14:22:20,460] Trial 52 finished with value: 0.7622748286306393 and parameters: {'classifier': 'RandomForest', 'n_estimators': 350, 'max_depth': 19.406701265000546}. Best is trial 21 with value: 0.775314841383708.\n",
            "[I 2020-08-11 14:22:23,761] Trial 53 finished with value: 0.767136936075243 and parameters: {'classifier': 'RandomForest', 'n_estimators': 790, 'max_depth': 34.23172532617586}. Best is trial 21 with value: 0.775314841383708.\n",
            "[I 2020-08-11 14:22:31,882] Trial 54 finished with value: 0.7638928742228598 and parameters: {'classifier': 'RandomForest', 'n_estimators': 1990, 'max_depth': 11.600186652126142}. Best is trial 21 with value: 0.775314841383708.\n",
            "[I 2020-08-11 14:22:34,215] Trial 55 finished with value: 0.7720468675274988 and parameters: {'classifier': 'RandomForest', 'n_estimators': 560, 'max_depth': 22.653653023799997}. Best is trial 21 with value: 0.775314841383708.\n",
            "[I 2020-08-11 14:22:38,851] Trial 56 finished with value: 0.7671528774111271 and parameters: {'classifier': 'RandomForest', 'n_estimators': 1130, 'max_depth': 27.0853965837408}. Best is trial 21 with value: 0.775314841383708.\n",
            "[I 2020-08-11 14:22:41,089] Trial 57 finished with value: 0.7655188904830225 and parameters: {'classifier': 'RandomForest', 'n_estimators': 540, 'max_depth': 24.07611674855599}. Best is trial 21 with value: 0.775314841383708.\n",
            "[I 2020-08-11 14:22:43,823] Trial 58 finished with value: 0.7687868643392317 and parameters: {'classifier': 'RandomForest', 'n_estimators': 660, 'max_depth': 22.246208734964267}. Best is trial 21 with value: 0.775314841383708.\n",
            "[I 2020-08-11 14:22:45,615] Trial 59 finished with value: 0.7655268611509646 and parameters: {'classifier': 'RandomForest', 'n_estimators': 430, 'max_depth': 28.67885281284401}. Best is trial 21 with value: 0.775314841383708.\n",
            "[I 2020-08-11 14:22:50,094] Trial 60 finished with value: 0.7573808385142674 and parameters: {'classifier': 'RandomForest', 'n_estimators': 1090, 'max_depth': 19.41650331608314}. Best is trial 21 with value: 0.775314841383708.\n",
            "[I 2020-08-11 14:22:52,975] Trial 61 finished with value: 0.7606408417025347 and parameters: {'classifier': 'RandomForest', 'n_estimators': 700, 'max_depth': 23.344658629395816}. Best is trial 21 with value: 0.775314841383708.\n",
            "[I 2020-08-11 14:22:56,420] Trial 62 finished with value: 0.7704049099314524 and parameters: {'classifier': 'RandomForest', 'n_estimators': 840, 'max_depth': 25.478416702793833}. Best is trial 21 with value: 0.775314841383708.\n",
            "[I 2020-08-11 14:22:57,564] Trial 63 finished with value: 0.7622668579626972 and parameters: {'classifier': 'RandomForest', 'n_estimators': 270, 'max_depth': 10.011645479619508}. Best is trial 21 with value: 0.775314841383708.\n",
            "[I 2020-08-11 14:23:00,783] Trial 64 finished with value: 0.7671608480790691 and parameters: {'classifier': 'RandomForest', 'n_estimators': 780, 'max_depth': 15.761841445528857}. Best is trial 21 with value: 0.775314841383708.\n",
            "[I 2020-08-11 14:23:03,243] Trial 65 finished with value: 0.767144906743185 and parameters: {'classifier': 'RandomForest', 'n_estimators': 590, 'max_depth': 20.299322301423665}. Best is trial 21 with value: 0.775314841383708.\n",
            "[I 2020-08-11 14:23:06,284] Trial 66 finished with value: 0.7622748286306393 and parameters: {'classifier': 'RandomForest', 'n_estimators': 740, 'max_depth': 17.280309584601277}. Best is trial 21 with value: 0.775314841383708.\n",
            "[I 2020-08-11 14:23:06,351] Trial 67 finished with value: 0.6530926191614858 and parameters: {'classifier': 'SVC', 'svc_c': 5244275235.52904}. Best is trial 21 with value: 0.775314841383708.\n",
            "[I 2020-08-11 14:23:12,921] Trial 68 finished with value: 0.7671528774111271 and parameters: {'classifier': 'RandomForest', 'n_estimators': 1610, 'max_depth': 33.754228044252585}. Best is trial 21 with value: 0.775314841383708.\n",
            "[I 2020-08-11 14:23:15,529] Trial 69 finished with value: 0.7655188904830225 and parameters: {'classifier': 'RandomForest', 'n_estimators': 630, 'max_depth': 14.621677700997882}. Best is trial 21 with value: 0.775314841383708.\n",
            "[I 2020-08-11 14:23:22,800] Trial 70 finished with value: 0.7622668579626972 and parameters: {'classifier': 'RandomForest', 'n_estimators': 1790, 'max_depth': 22.170248746853808}. Best is trial 21 with value: 0.775314841383708.\n",
            "[I 2020-08-11 14:23:25,970] Trial 71 finished with value: 0.7671528774111271 and parameters: {'classifier': 'RandomForest', 'n_estimators': 770, 'max_depth': 64.09306630669728}. Best is trial 21 with value: 0.775314841383708.\n",
            "[I 2020-08-11 14:23:29,609] Trial 72 finished with value: 0.7655109198150805 and parameters: {'classifier': 'RandomForest', 'n_estimators': 880, 'max_depth': 54.474953838289785}. Best is trial 21 with value: 0.775314841383708.\n",
            "[I 2020-08-11 14:23:31,695] Trial 73 finished with value: 0.7703969392635103 and parameters: {'classifier': 'RandomForest', 'n_estimators': 500, 'max_depth': 25.457119219365644}. Best is trial 21 with value: 0.775314841383708.\n",
            "[I 2020-08-11 14:23:34,968] Trial 74 finished with value: 0.7655188904830225 and parameters: {'classifier': 'RandomForest', 'n_estimators': 800, 'max_depth': 67.20537029980242}. Best is trial 21 with value: 0.775314841383708.\n",
            "[I 2020-08-11 14:23:38,884] Trial 75 finished with value: 0.7655348318189065 and parameters: {'classifier': 'RandomForest', 'n_estimators': 960, 'max_depth': 96.56712535609284}. Best is trial 21 with value: 0.775314841383708.\n",
            "[I 2020-08-11 14:23:41,564] Trial 76 finished with value: 0.7655348318189065 and parameters: {'classifier': 'RandomForest', 'n_estimators': 650, 'max_depth': 28.758285329811972}. Best is trial 21 with value: 0.775314841383708.\n",
            "[I 2020-08-11 14:23:45,687] Trial 77 finished with value: 0.7655268611509646 and parameters: {'classifier': 'RandomForest', 'n_estimators': 1010, 'max_depth': 18.8845608397874}. Best is trial 21 with value: 0.775314841383708.\n",
            "[I 2020-08-11 14:23:49,150] Trial 78 finished with value: 0.7687948350071737 and parameters: {'classifier': 'RandomForest', 'n_estimators': 840, 'max_depth': 36.83873038322293}. Best is trial 21 with value: 0.775314841383708.\n",
            "[I 2020-08-11 14:23:55,255] Trial 79 finished with value: 0.7639008448908019 and parameters: {'classifier': 'RandomForest', 'n_estimators': 1480, 'max_depth': 22.378386036274094}. Best is trial 21 with value: 0.775314841383708.\n",
            "[I 2020-08-11 14:23:55,323] Trial 80 finished with value: 0.6530926191614858 and parameters: {'classifier': 'SVC', 'svc_c': 818.2566590428326}. Best is trial 21 with value: 0.775314841383708.\n",
            "[I 2020-08-11 14:23:58,428] Trial 81 finished with value: 0.7590068547744301 and parameters: {'classifier': 'RandomForest', 'n_estimators': 750, 'max_depth': 31.279073868430906}. Best is trial 21 with value: 0.775314841383708.\n",
            "[I 2020-08-11 14:24:02,272] Trial 82 finished with value: 0.7622668579626972 and parameters: {'classifier': 'RandomForest', 'n_estimators': 910, 'max_depth': 24.64021308129842}. Best is trial 21 with value: 0.775314841383708.\n",
            "[I 2020-08-11 14:24:04,554] Trial 83 finished with value: 0.7671608480790691 and parameters: {'classifier': 'RandomForest', 'n_estimators': 550, 'max_depth': 16.30842842608296}. Best is trial 21 with value: 0.775314841383708.\n",
            "[I 2020-08-11 14:24:07,453] Trial 84 finished with value: 0.7720468675274988 and parameters: {'classifier': 'RandomForest', 'n_estimators': 690, 'max_depth': 20.787392400900607}. Best is trial 21 with value: 0.775314841383708.\n",
            "[I 2020-08-11 14:24:10,278] Trial 85 finished with value: 0.7687788936712897 and parameters: {'classifier': 'RandomForest', 'n_estimators': 680, 'max_depth': 18.431134561339757}. Best is trial 21 with value: 0.775314841383708.\n",
            "[I 2020-08-11 14:24:12,037] Trial 86 finished with value: 0.7655029491471385 and parameters: {'classifier': 'RandomForest', 'n_estimators': 420, 'max_depth': 20.023982921264807}. Best is trial 21 with value: 0.775314841383708.\n",
            "[I 2020-08-11 14:24:14,518] Trial 87 finished with value: 0.7606328710345927 and parameters: {'classifier': 'RandomForest', 'n_estimators': 600, 'max_depth': 26.65924818945768}. Best is trial 21 with value: 0.775314841383708.\n",
            "[I 2020-08-11 14:24:16,625] Trial 88 finished with value: 0.7638928742228598 and parameters: {'classifier': 'RandomForest', 'n_estimators': 510, 'max_depth': 21.161404234820633}. Best is trial 21 with value: 0.775314841383708.\n",
            "[I 2020-08-11 14:24:22,087] Trial 89 finished with value: 0.7671608480790691 and parameters: {'classifier': 'RandomForest', 'n_estimators': 1330, 'max_depth': 23.14913596552233}. Best is trial 21 with value: 0.775314841383708.\n",
            "[I 2020-08-11 14:24:25,014] Trial 90 finished with value: 0.7671608480790691 and parameters: {'classifier': 'RandomForest', 'n_estimators': 710, 'max_depth': 14.44006501000531}. Best is trial 21 with value: 0.775314841383708.\n",
            "[I 2020-08-11 14:24:28,479] Trial 91 finished with value: 0.772038896859557 and parameters: {'classifier': 'RandomForest', 'n_estimators': 840, 'max_depth': 13.265621036834604}. Best is trial 21 with value: 0.775314841383708.\n",
            "[I 2020-08-11 14:24:31,906] Trial 92 finished with value: 0.7704049099314524 and parameters: {'classifier': 'RandomForest', 'n_estimators': 830, 'max_depth': 12.481149552304219}. Best is trial 21 with value: 0.775314841383708.\n",
            "[I 2020-08-11 14:24:35,504] Trial 93 finished with value: 0.7671528774111271 and parameters: {'classifier': 'RandomForest', 'n_estimators': 870, 'max_depth': 13.155726576694247}. Best is trial 21 with value: 0.775314841383708.\n",
            "[I 2020-08-11 14:24:38,484] Trial 94 finished with value: 0.7606328710345927 and parameters: {'classifier': 'RandomForest', 'n_estimators': 730, 'max_depth': 11.33209003774125}. Best is trial 21 with value: 0.775314841383708.\n",
            "[I 2020-08-11 14:24:41,246] Trial 95 finished with value: 0.7687868643392317 and parameters: {'classifier': 'RandomForest', 'n_estimators': 670, 'max_depth': 16.59335378206975}. Best is trial 21 with value: 0.775314841383708.\n",
            "[I 2020-08-11 14:24:44,642] Trial 96 finished with value: 0.7639008448908019 and parameters: {'classifier': 'RandomForest', 'n_estimators': 820, 'max_depth': 15.103976399218375}. Best is trial 21 with value: 0.775314841383708.\n",
            "[I 2020-08-11 14:24:47,197] Trial 97 finished with value: 0.7639008448908019 and parameters: {'classifier': 'RandomForest', 'n_estimators': 610, 'max_depth': 13.477085016253877}. Best is trial 21 with value: 0.775314841383708.\n",
            "[I 2020-08-11 14:24:50,315] Trial 98 finished with value: 0.7655268611509646 and parameters: {'classifier': 'RandomForest', 'n_estimators': 760, 'max_depth': 17.42086767141856}. Best is trial 21 with value: 0.775314841383708.\n",
            "[I 2020-08-11 14:24:54,573] Trial 99 finished with value: 0.7622668579626972 and parameters: {'classifier': 'RandomForest', 'n_estimators': 1040, 'max_depth': 21.220759468878118}. Best is trial 21 with value: 0.775314841383708.\n"
          ],
          "name": "stderr"
        },
        {
          "output_type": "stream",
          "text": [
            "Accuracy: 0.775314841383708\n",
            "Best hyperparameters: {'classifier': 'RandomForest', 'n_estimators': 710, 'max_depth': 23.85656263227053}\n"
          ],
          "name": "stdout"
        }
      ]
    },
    {
      "cell_type": "code",
      "metadata": {
        "id": "smo8SE9yVnnr",
        "colab_type": "code",
        "colab": {
          "base_uri": "https://localhost:8080/",
          "height": 54
        },
        "outputId": "c7c44dcc-2fe7-4ac6-e655-b9ec0da4584c"
      },
      "source": [
        "trial"
      ],
      "execution_count": 21,
      "outputs": [
        {
          "output_type": "execute_result",
          "data": {
            "text/plain": [
              "FrozenTrial(number=21, value=0.775314841383708, datetime_start=datetime.datetime(2020, 8, 11, 14, 20, 34, 594452), datetime_complete=datetime.datetime(2020, 8, 11, 14, 20, 37, 504986), params={'classifier': 'RandomForest', 'n_estimators': 710, 'max_depth': 23.85656263227053}, distributions={'classifier': CategoricalDistribution(choices=('RandomForest', 'SVC')), 'n_estimators': IntUniformDistribution(high=2000, low=200, step=10), 'max_depth': LogUniformDistribution(high=100, low=10)}, user_attrs={}, system_attrs={}, intermediate_values={}, trial_id=21, state=TrialState.COMPLETE)"
            ]
          },
          "metadata": {
            "tags": []
          },
          "execution_count": 21
        }
      ]
    },
    {
      "cell_type": "code",
      "metadata": {
        "id": "GFyzYiJuVnnu",
        "colab_type": "code",
        "colab": {
          "base_uri": "https://localhost:8080/",
          "height": 69
        },
        "outputId": "76f12fb0-8add-44c8-82ad-6be9715d02ba"
      },
      "source": [
        "study.best_params"
      ],
      "execution_count": 22,
      "outputs": [
        {
          "output_type": "execute_result",
          "data": {
            "text/plain": [
              "{'classifier': 'RandomForest',\n",
              " 'max_depth': 23.85656263227053,\n",
              " 'n_estimators': 710}"
            ]
          },
          "metadata": {
            "tags": []
          },
          "execution_count": 22
        }
      ]
    },
    {
      "cell_type": "code",
      "metadata": {
        "id": "SeP5U1BYVnnx",
        "colab_type": "code",
        "colab": {
          "base_uri": "https://localhost:8080/",
          "height": 156
        },
        "outputId": "92c898e0-9fa8-4216-ba94-98241da84388"
      },
      "source": [
        "from sklearn.ensemble import RandomForestClassifier\n",
        "\n",
        "rf=RandomForestClassifier(n_estimators=330,max_depth=30)\n",
        "rf.fit(X_train,y_train)"
      ],
      "execution_count": 24,
      "outputs": [
        {
          "output_type": "execute_result",
          "data": {
            "text/plain": [
              "RandomForestClassifier(bootstrap=True, ccp_alpha=0.0, class_weight=None,\n",
              "                       criterion='gini', max_depth=30, max_features='auto',\n",
              "                       max_leaf_nodes=None, max_samples=None,\n",
              "                       min_impurity_decrease=0.0, min_impurity_split=None,\n",
              "                       min_samples_leaf=1, min_samples_split=2,\n",
              "                       min_weight_fraction_leaf=0.0, n_estimators=330,\n",
              "                       n_jobs=None, oob_score=False, random_state=None,\n",
              "                       verbose=0, warm_start=False)"
            ]
          },
          "metadata": {
            "tags": []
          },
          "execution_count": 24
        }
      ]
    },
    {
      "cell_type": "code",
      "metadata": {
        "id": "IPmKa-IMVnnz",
        "colab_type": "code",
        "colab": {
          "base_uri": "https://localhost:8080/",
          "height": 225
        },
        "outputId": "275f7158-ef88-4158-a19d-aa4dcffec500"
      },
      "source": [
        "from sklearn.metrics import confusion_matrix,classification_report,accuracy_score\n",
        "\n",
        "y_pred=rf.predict(X_test)\n",
        "print(confusion_matrix(y_test,y_pred))\n",
        "print(accuracy_score(y_test,y_pred))\n",
        "print(classification_report(y_test,y_pred))"
      ],
      "execution_count": 26,
      "outputs": [
        {
          "output_type": "stream",
          "text": [
            "[[82 17]\n",
            " [21 34]]\n",
            "0.7532467532467533\n",
            "              precision    recall  f1-score   support\n",
            "\n",
            "           0       0.80      0.83      0.81        99\n",
            "           1       0.67      0.62      0.64        55\n",
            "\n",
            "    accuracy                           0.75       154\n",
            "   macro avg       0.73      0.72      0.73       154\n",
            "weighted avg       0.75      0.75      0.75       154\n",
            "\n"
          ],
          "name": "stdout"
        }
      ]
    }
  ]
}