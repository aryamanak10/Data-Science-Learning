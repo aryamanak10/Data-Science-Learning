{
  "nbformat": 4,
  "nbformat_minor": 0,
  "metadata": {
    "kernelspec": {
      "display_name": "Python 3",
      "language": "python",
      "name": "python3"
    },
    "language_info": {
      "codemirror_mode": {
        "name": "ipython",
        "version": 3
      },
      "file_extension": ".py",
      "mimetype": "text/x-python",
      "name": "python",
      "nbconvert_exporter": "python",
      "pygments_lexer": "ipython3",
      "version": "3.7.7"
    },
    "colab": {
      "name": "Feature Engineering - Part 4.ipynb",
      "provenance": []
    }
  },
  "cells": [
    {
      "cell_type": "markdown",
      "metadata": {
        "id": "yc0ayu9cqtvk",
        "colab_type": "text"
      },
      "source": [
        "## Ordinal Encoding"
      ]
    },
    {
      "cell_type": "markdown",
      "metadata": {
        "id": "jciurhh3qtvn",
        "colab_type": "text"
      },
      "source": [
        "* Where you can order the feature labels in such a way that you can assign a rank to them.\n",
        "\n",
        "* For example: Low, Medium and High or Grading System (A-1, B-2, C-3, D-4, F-5)\n",
        "\n",
        "* Experience of a Batsman (A-10 years-1st Rank, B-5 years-2nd Rank, C-3 years-3rd Rank)\n",
        "\n",
        "* Weekdays and Weekends (Mon-7, Tues, Wed, Thur, Fri-3, Sat-2, Sun-1)"
      ]
    },
    {
      "cell_type": "code",
      "metadata": {
        "id": "qtAdt1yPqtvr",
        "colab_type": "code",
        "colab": {}
      },
      "source": [
        "import datetime"
      ],
      "execution_count": null,
      "outputs": []
    },
    {
      "cell_type": "code",
      "metadata": {
        "id": "KfzjyFhOqtv3",
        "colab_type": "code",
        "colab": {},
        "outputId": "6506ff5a-c38f-43aa-d277-00ba8fe3bb3a"
      },
      "source": [
        "today_date = datetime.datetime.today()\n",
        "today_date"
      ],
      "execution_count": null,
      "outputs": [
        {
          "output_type": "execute_result",
          "data": {
            "text/plain": [
              "datetime.datetime(2020, 8, 5, 20, 35, 32, 423050)"
            ]
          },
          "metadata": {
            "tags": []
          },
          "execution_count": 2
        }
      ]
    },
    {
      "cell_type": "code",
      "metadata": {
        "id": "IoN96CyaqtwB",
        "colab_type": "code",
        "colab": {},
        "outputId": "62458137-ebb9-4534-ddd2-b1edbefa4402"
      },
      "source": [
        "today_date-datetime.timedelta(3)"
      ],
      "execution_count": null,
      "outputs": [
        {
          "output_type": "execute_result",
          "data": {
            "text/plain": [
              "datetime.datetime(2020, 8, 2, 20, 35, 32, 423050)"
            ]
          },
          "metadata": {
            "tags": []
          },
          "execution_count": 3
        }
      ]
    },
    {
      "cell_type": "markdown",
      "metadata": {
        "id": "6m46el46qtwK",
        "colab_type": "text"
      },
      "source": [
        "#### List Comprehension"
      ]
    },
    {
      "cell_type": "code",
      "metadata": {
        "id": "Co7SJqapqtwN",
        "colab_type": "code",
        "colab": {},
        "outputId": "2a28031e-fbba-4511-b6d3-0dd7a334732c"
      },
      "source": [
        "days = [today_date - datetime.timedelta(x) for x in range(0,15)]\n",
        "days"
      ],
      "execution_count": null,
      "outputs": [
        {
          "output_type": "execute_result",
          "data": {
            "text/plain": [
              "[datetime.datetime(2020, 8, 5, 20, 35, 32, 423050),\n",
              " datetime.datetime(2020, 8, 4, 20, 35, 32, 423050),\n",
              " datetime.datetime(2020, 8, 3, 20, 35, 32, 423050),\n",
              " datetime.datetime(2020, 8, 2, 20, 35, 32, 423050),\n",
              " datetime.datetime(2020, 8, 1, 20, 35, 32, 423050),\n",
              " datetime.datetime(2020, 7, 31, 20, 35, 32, 423050),\n",
              " datetime.datetime(2020, 7, 30, 20, 35, 32, 423050),\n",
              " datetime.datetime(2020, 7, 29, 20, 35, 32, 423050),\n",
              " datetime.datetime(2020, 7, 28, 20, 35, 32, 423050),\n",
              " datetime.datetime(2020, 7, 27, 20, 35, 32, 423050),\n",
              " datetime.datetime(2020, 7, 26, 20, 35, 32, 423050),\n",
              " datetime.datetime(2020, 7, 25, 20, 35, 32, 423050),\n",
              " datetime.datetime(2020, 7, 24, 20, 35, 32, 423050),\n",
              " datetime.datetime(2020, 7, 23, 20, 35, 32, 423050),\n",
              " datetime.datetime(2020, 7, 22, 20, 35, 32, 423050)]"
            ]
          },
          "metadata": {
            "tags": []
          },
          "execution_count": 4
        }
      ]
    },
    {
      "cell_type": "code",
      "metadata": {
        "id": "Pk9rZTo2qtwU",
        "colab_type": "code",
        "colab": {}
      },
      "source": [
        "import pandas as pd"
      ],
      "execution_count": null,
      "outputs": []
    },
    {
      "cell_type": "code",
      "metadata": {
        "id": "bCHAhODJqtwb",
        "colab_type": "code",
        "colab": {}
      },
      "source": [
        "data=pd.DataFrame(days)"
      ],
      "execution_count": null,
      "outputs": []
    },
    {
      "cell_type": "code",
      "metadata": {
        "id": "FRcrc7ezqtwi",
        "colab_type": "code",
        "colab": {}
      },
      "source": [
        "data.columns=[\"Day\"]"
      ],
      "execution_count": null,
      "outputs": []
    },
    {
      "cell_type": "code",
      "metadata": {
        "id": "XNY86y_Qqtwn",
        "colab_type": "code",
        "colab": {},
        "outputId": "704456a3-c8f2-4447-bc25-7d39c6cf1549"
      },
      "source": [
        "data.head()"
      ],
      "execution_count": null,
      "outputs": [
        {
          "output_type": "execute_result",
          "data": {
            "text/html": [
              "<div>\n",
              "<style scoped>\n",
              "    .dataframe tbody tr th:only-of-type {\n",
              "        vertical-align: middle;\n",
              "    }\n",
              "\n",
              "    .dataframe tbody tr th {\n",
              "        vertical-align: top;\n",
              "    }\n",
              "\n",
              "    .dataframe thead th {\n",
              "        text-align: right;\n",
              "    }\n",
              "</style>\n",
              "<table border=\"1\" class=\"dataframe\">\n",
              "  <thead>\n",
              "    <tr style=\"text-align: right;\">\n",
              "      <th></th>\n",
              "      <th>Day</th>\n",
              "    </tr>\n",
              "  </thead>\n",
              "  <tbody>\n",
              "    <tr>\n",
              "      <th>0</th>\n",
              "      <td>2020-08-05 20:35:32.423050</td>\n",
              "    </tr>\n",
              "    <tr>\n",
              "      <th>1</th>\n",
              "      <td>2020-08-04 20:35:32.423050</td>\n",
              "    </tr>\n",
              "    <tr>\n",
              "      <th>2</th>\n",
              "      <td>2020-08-03 20:35:32.423050</td>\n",
              "    </tr>\n",
              "    <tr>\n",
              "      <th>3</th>\n",
              "      <td>2020-08-02 20:35:32.423050</td>\n",
              "    </tr>\n",
              "    <tr>\n",
              "      <th>4</th>\n",
              "      <td>2020-08-01 20:35:32.423050</td>\n",
              "    </tr>\n",
              "  </tbody>\n",
              "</table>\n",
              "</div>"
            ],
            "text/plain": [
              "                         Day\n",
              "0 2020-08-05 20:35:32.423050\n",
              "1 2020-08-04 20:35:32.423050\n",
              "2 2020-08-03 20:35:32.423050\n",
              "3 2020-08-02 20:35:32.423050\n",
              "4 2020-08-01 20:35:32.423050"
            ]
          },
          "metadata": {
            "tags": []
          },
          "execution_count": 8
        }
      ]
    },
    {
      "cell_type": "markdown",
      "metadata": {
        "id": "FzrgZZHIqtwu",
        "colab_type": "text"
      },
      "source": [
        "* Advised to take out the **hour, minute, second, month, year, day of the month** and create those features from the 'Day' Column and then drop the 'Day' column"
      ]
    },
    {
      "cell_type": "code",
      "metadata": {
        "id": "eBzjiMgyqtwu",
        "colab_type": "code",
        "colab": {},
        "outputId": "b8e7245b-802b-4610-ccda-744906ffff98"
      },
      "source": [
        "data['weekday']=data['Day'].dt.day_name()\n",
        "data.head()"
      ],
      "execution_count": null,
      "outputs": [
        {
          "output_type": "execute_result",
          "data": {
            "text/html": [
              "<div>\n",
              "<style scoped>\n",
              "    .dataframe tbody tr th:only-of-type {\n",
              "        vertical-align: middle;\n",
              "    }\n",
              "\n",
              "    .dataframe tbody tr th {\n",
              "        vertical-align: top;\n",
              "    }\n",
              "\n",
              "    .dataframe thead th {\n",
              "        text-align: right;\n",
              "    }\n",
              "</style>\n",
              "<table border=\"1\" class=\"dataframe\">\n",
              "  <thead>\n",
              "    <tr style=\"text-align: right;\">\n",
              "      <th></th>\n",
              "      <th>Day</th>\n",
              "      <th>weekday</th>\n",
              "    </tr>\n",
              "  </thead>\n",
              "  <tbody>\n",
              "    <tr>\n",
              "      <th>0</th>\n",
              "      <td>2020-08-05 20:35:32.423050</td>\n",
              "      <td>Wednesday</td>\n",
              "    </tr>\n",
              "    <tr>\n",
              "      <th>1</th>\n",
              "      <td>2020-08-04 20:35:32.423050</td>\n",
              "      <td>Tuesday</td>\n",
              "    </tr>\n",
              "    <tr>\n",
              "      <th>2</th>\n",
              "      <td>2020-08-03 20:35:32.423050</td>\n",
              "      <td>Monday</td>\n",
              "    </tr>\n",
              "    <tr>\n",
              "      <th>3</th>\n",
              "      <td>2020-08-02 20:35:32.423050</td>\n",
              "      <td>Sunday</td>\n",
              "    </tr>\n",
              "    <tr>\n",
              "      <th>4</th>\n",
              "      <td>2020-08-01 20:35:32.423050</td>\n",
              "      <td>Saturday</td>\n",
              "    </tr>\n",
              "  </tbody>\n",
              "</table>\n",
              "</div>"
            ],
            "text/plain": [
              "                         Day    weekday\n",
              "0 2020-08-05 20:35:32.423050  Wednesday\n",
              "1 2020-08-04 20:35:32.423050    Tuesday\n",
              "2 2020-08-03 20:35:32.423050     Monday\n",
              "3 2020-08-02 20:35:32.423050     Sunday\n",
              "4 2020-08-01 20:35:32.423050   Saturday"
            ]
          },
          "metadata": {
            "tags": []
          },
          "execution_count": 11
        }
      ]
    },
    {
      "cell_type": "markdown",
      "metadata": {
        "id": "akw5B8V-qtwz",
        "colab_type": "text"
      },
      "source": [
        "#### Ranking the days of the week"
      ]
    },
    {
      "cell_type": "code",
      "metadata": {
        "id": "m95avYR6qtw1",
        "colab_type": "code",
        "colab": {}
      },
      "source": [
        "dictionary={'Monday':1,'Tuesday':2,'Wednesday':3,'Thursday':4,'Friday':5,'Saturday':6,'Sunday':7}"
      ],
      "execution_count": null,
      "outputs": []
    },
    {
      "cell_type": "code",
      "metadata": {
        "id": "mchSFdvmqtw4",
        "colab_type": "code",
        "colab": {},
        "outputId": "c241bdb4-815b-4dd2-c9a6-ec9ca0f2e53c"
      },
      "source": [
        "dictionary"
      ],
      "execution_count": null,
      "outputs": [
        {
          "output_type": "execute_result",
          "data": {
            "text/plain": [
              "{'Monday': 1,\n",
              " 'Tuesday': 2,\n",
              " 'Wednesday': 3,\n",
              " 'Thursday': 4,\n",
              " 'Friday': 5,\n",
              " 'Saturday': 6,\n",
              " 'Sunday': 7}"
            ]
          },
          "metadata": {
            "tags": []
          },
          "execution_count": 13
        }
      ]
    },
    {
      "cell_type": "markdown",
      "metadata": {
        "id": "mhshnJ4Jqtw_",
        "colab_type": "text"
      },
      "source": [
        "* .map() function maps the week day with the rank assigned to it."
      ]
    },
    {
      "cell_type": "code",
      "metadata": {
        "id": "3teZG9TtqtxB",
        "colab_type": "code",
        "colab": {}
      },
      "source": [
        "data['weekday_ordinal']=data['weekday'].map(dictionary)"
      ],
      "execution_count": null,
      "outputs": []
    },
    {
      "cell_type": "code",
      "metadata": {
        "id": "-rLkc3FPqtxF",
        "colab_type": "code",
        "colab": {},
        "outputId": "6462af18-07e9-4041-a6b8-a97aaf5487a8"
      },
      "source": [
        "data"
      ],
      "execution_count": null,
      "outputs": [
        {
          "output_type": "execute_result",
          "data": {
            "text/html": [
              "<div>\n",
              "<style scoped>\n",
              "    .dataframe tbody tr th:only-of-type {\n",
              "        vertical-align: middle;\n",
              "    }\n",
              "\n",
              "    .dataframe tbody tr th {\n",
              "        vertical-align: top;\n",
              "    }\n",
              "\n",
              "    .dataframe thead th {\n",
              "        text-align: right;\n",
              "    }\n",
              "</style>\n",
              "<table border=\"1\" class=\"dataframe\">\n",
              "  <thead>\n",
              "    <tr style=\"text-align: right;\">\n",
              "      <th></th>\n",
              "      <th>Day</th>\n",
              "      <th>weekday</th>\n",
              "      <th>weekday_ordinal</th>\n",
              "    </tr>\n",
              "  </thead>\n",
              "  <tbody>\n",
              "    <tr>\n",
              "      <th>0</th>\n",
              "      <td>2020-08-05 20:35:32.423050</td>\n",
              "      <td>Wednesday</td>\n",
              "      <td>3</td>\n",
              "    </tr>\n",
              "    <tr>\n",
              "      <th>1</th>\n",
              "      <td>2020-08-04 20:35:32.423050</td>\n",
              "      <td>Tuesday</td>\n",
              "      <td>2</td>\n",
              "    </tr>\n",
              "    <tr>\n",
              "      <th>2</th>\n",
              "      <td>2020-08-03 20:35:32.423050</td>\n",
              "      <td>Monday</td>\n",
              "      <td>1</td>\n",
              "    </tr>\n",
              "    <tr>\n",
              "      <th>3</th>\n",
              "      <td>2020-08-02 20:35:32.423050</td>\n",
              "      <td>Sunday</td>\n",
              "      <td>7</td>\n",
              "    </tr>\n",
              "    <tr>\n",
              "      <th>4</th>\n",
              "      <td>2020-08-01 20:35:32.423050</td>\n",
              "      <td>Saturday</td>\n",
              "      <td>6</td>\n",
              "    </tr>\n",
              "    <tr>\n",
              "      <th>5</th>\n",
              "      <td>2020-07-31 20:35:32.423050</td>\n",
              "      <td>Friday</td>\n",
              "      <td>5</td>\n",
              "    </tr>\n",
              "    <tr>\n",
              "      <th>6</th>\n",
              "      <td>2020-07-30 20:35:32.423050</td>\n",
              "      <td>Thursday</td>\n",
              "      <td>4</td>\n",
              "    </tr>\n",
              "    <tr>\n",
              "      <th>7</th>\n",
              "      <td>2020-07-29 20:35:32.423050</td>\n",
              "      <td>Wednesday</td>\n",
              "      <td>3</td>\n",
              "    </tr>\n",
              "    <tr>\n",
              "      <th>8</th>\n",
              "      <td>2020-07-28 20:35:32.423050</td>\n",
              "      <td>Tuesday</td>\n",
              "      <td>2</td>\n",
              "    </tr>\n",
              "    <tr>\n",
              "      <th>9</th>\n",
              "      <td>2020-07-27 20:35:32.423050</td>\n",
              "      <td>Monday</td>\n",
              "      <td>1</td>\n",
              "    </tr>\n",
              "    <tr>\n",
              "      <th>10</th>\n",
              "      <td>2020-07-26 20:35:32.423050</td>\n",
              "      <td>Sunday</td>\n",
              "      <td>7</td>\n",
              "    </tr>\n",
              "    <tr>\n",
              "      <th>11</th>\n",
              "      <td>2020-07-25 20:35:32.423050</td>\n",
              "      <td>Saturday</td>\n",
              "      <td>6</td>\n",
              "    </tr>\n",
              "    <tr>\n",
              "      <th>12</th>\n",
              "      <td>2020-07-24 20:35:32.423050</td>\n",
              "      <td>Friday</td>\n",
              "      <td>5</td>\n",
              "    </tr>\n",
              "    <tr>\n",
              "      <th>13</th>\n",
              "      <td>2020-07-23 20:35:32.423050</td>\n",
              "      <td>Thursday</td>\n",
              "      <td>4</td>\n",
              "    </tr>\n",
              "    <tr>\n",
              "      <th>14</th>\n",
              "      <td>2020-07-22 20:35:32.423050</td>\n",
              "      <td>Wednesday</td>\n",
              "      <td>3</td>\n",
              "    </tr>\n",
              "  </tbody>\n",
              "</table>\n",
              "</div>"
            ],
            "text/plain": [
              "                          Day    weekday  weekday_ordinal\n",
              "0  2020-08-05 20:35:32.423050  Wednesday                3\n",
              "1  2020-08-04 20:35:32.423050    Tuesday                2\n",
              "2  2020-08-03 20:35:32.423050     Monday                1\n",
              "3  2020-08-02 20:35:32.423050     Sunday                7\n",
              "4  2020-08-01 20:35:32.423050   Saturday                6\n",
              "5  2020-07-31 20:35:32.423050     Friday                5\n",
              "6  2020-07-30 20:35:32.423050   Thursday                4\n",
              "7  2020-07-29 20:35:32.423050  Wednesday                3\n",
              "8  2020-07-28 20:35:32.423050    Tuesday                2\n",
              "9  2020-07-27 20:35:32.423050     Monday                1\n",
              "10 2020-07-26 20:35:32.423050     Sunday                7\n",
              "11 2020-07-25 20:35:32.423050   Saturday                6\n",
              "12 2020-07-24 20:35:32.423050     Friday                5\n",
              "13 2020-07-23 20:35:32.423050   Thursday                4\n",
              "14 2020-07-22 20:35:32.423050  Wednesday                3"
            ]
          },
          "metadata": {
            "tags": []
          },
          "execution_count": 15
        }
      ]
    },
    {
      "cell_type": "markdown",
      "metadata": {
        "id": "QtBrGHPfqtxL",
        "colab_type": "text"
      },
      "source": [
        "## Count Or Frequency Encoding"
      ]
    },
    {
      "cell_type": "markdown",
      "metadata": {
        "id": "WnETgCR0qtxM",
        "colab_type": "text"
      },
      "source": [
        "* It replace the feature label with the **frequency or the count** of that feature label.\n",
        "\n",
        "* Replace the **'Nan' or '?'** with **'Missing'/'Others'** label.  \n",
        "\n",
        "* If a new country is added after the deployment, it can be added to the **'Others'** column."
      ]
    },
    {
      "cell_type": "code",
      "metadata": {
        "id": "pbNdwPNEqtxN",
        "colab_type": "code",
        "colab": {},
        "outputId": "45fc5a66-c9ec-4d51-a517-b60838f48651"
      },
      "source": [
        "train_set = pd.read_csv('http://archive.ics.uci.edu/ml/machine-learning-databases/adult/adult.data',\n",
        "                        header = None,index_col=None)\n",
        "train_set.head()"
      ],
      "execution_count": null,
      "outputs": [
        {
          "output_type": "execute_result",
          "data": {
            "text/html": [
              "<div>\n",
              "<style scoped>\n",
              "    .dataframe tbody tr th:only-of-type {\n",
              "        vertical-align: middle;\n",
              "    }\n",
              "\n",
              "    .dataframe tbody tr th {\n",
              "        vertical-align: top;\n",
              "    }\n",
              "\n",
              "    .dataframe thead th {\n",
              "        text-align: right;\n",
              "    }\n",
              "</style>\n",
              "<table border=\"1\" class=\"dataframe\">\n",
              "  <thead>\n",
              "    <tr style=\"text-align: right;\">\n",
              "      <th></th>\n",
              "      <th>0</th>\n",
              "      <th>1</th>\n",
              "      <th>2</th>\n",
              "      <th>3</th>\n",
              "      <th>4</th>\n",
              "      <th>5</th>\n",
              "      <th>6</th>\n",
              "      <th>7</th>\n",
              "      <th>8</th>\n",
              "      <th>9</th>\n",
              "      <th>10</th>\n",
              "      <th>11</th>\n",
              "      <th>12</th>\n",
              "      <th>13</th>\n",
              "      <th>14</th>\n",
              "    </tr>\n",
              "  </thead>\n",
              "  <tbody>\n",
              "    <tr>\n",
              "      <th>0</th>\n",
              "      <td>39</td>\n",
              "      <td>State-gov</td>\n",
              "      <td>77516</td>\n",
              "      <td>Bachelors</td>\n",
              "      <td>13</td>\n",
              "      <td>Never-married</td>\n",
              "      <td>Adm-clerical</td>\n",
              "      <td>Not-in-family</td>\n",
              "      <td>White</td>\n",
              "      <td>Male</td>\n",
              "      <td>2174</td>\n",
              "      <td>0</td>\n",
              "      <td>40</td>\n",
              "      <td>United-States</td>\n",
              "      <td>&lt;=50K</td>\n",
              "    </tr>\n",
              "    <tr>\n",
              "      <th>1</th>\n",
              "      <td>50</td>\n",
              "      <td>Self-emp-not-inc</td>\n",
              "      <td>83311</td>\n",
              "      <td>Bachelors</td>\n",
              "      <td>13</td>\n",
              "      <td>Married-civ-spouse</td>\n",
              "      <td>Exec-managerial</td>\n",
              "      <td>Husband</td>\n",
              "      <td>White</td>\n",
              "      <td>Male</td>\n",
              "      <td>0</td>\n",
              "      <td>0</td>\n",
              "      <td>13</td>\n",
              "      <td>United-States</td>\n",
              "      <td>&lt;=50K</td>\n",
              "    </tr>\n",
              "    <tr>\n",
              "      <th>2</th>\n",
              "      <td>38</td>\n",
              "      <td>Private</td>\n",
              "      <td>215646</td>\n",
              "      <td>HS-grad</td>\n",
              "      <td>9</td>\n",
              "      <td>Divorced</td>\n",
              "      <td>Handlers-cleaners</td>\n",
              "      <td>Not-in-family</td>\n",
              "      <td>White</td>\n",
              "      <td>Male</td>\n",
              "      <td>0</td>\n",
              "      <td>0</td>\n",
              "      <td>40</td>\n",
              "      <td>United-States</td>\n",
              "      <td>&lt;=50K</td>\n",
              "    </tr>\n",
              "    <tr>\n",
              "      <th>3</th>\n",
              "      <td>53</td>\n",
              "      <td>Private</td>\n",
              "      <td>234721</td>\n",
              "      <td>11th</td>\n",
              "      <td>7</td>\n",
              "      <td>Married-civ-spouse</td>\n",
              "      <td>Handlers-cleaners</td>\n",
              "      <td>Husband</td>\n",
              "      <td>Black</td>\n",
              "      <td>Male</td>\n",
              "      <td>0</td>\n",
              "      <td>0</td>\n",
              "      <td>40</td>\n",
              "      <td>United-States</td>\n",
              "      <td>&lt;=50K</td>\n",
              "    </tr>\n",
              "    <tr>\n",
              "      <th>4</th>\n",
              "      <td>28</td>\n",
              "      <td>Private</td>\n",
              "      <td>338409</td>\n",
              "      <td>Bachelors</td>\n",
              "      <td>13</td>\n",
              "      <td>Married-civ-spouse</td>\n",
              "      <td>Prof-specialty</td>\n",
              "      <td>Wife</td>\n",
              "      <td>Black</td>\n",
              "      <td>Female</td>\n",
              "      <td>0</td>\n",
              "      <td>0</td>\n",
              "      <td>40</td>\n",
              "      <td>Cuba</td>\n",
              "      <td>&lt;=50K</td>\n",
              "    </tr>\n",
              "  </tbody>\n",
              "</table>\n",
              "</div>"
            ],
            "text/plain": [
              "   0                  1       2           3   4                    5   \\\n",
              "0  39          State-gov   77516   Bachelors  13        Never-married   \n",
              "1  50   Self-emp-not-inc   83311   Bachelors  13   Married-civ-spouse   \n",
              "2  38            Private  215646     HS-grad   9             Divorced   \n",
              "3  53            Private  234721        11th   7   Married-civ-spouse   \n",
              "4  28            Private  338409   Bachelors  13   Married-civ-spouse   \n",
              "\n",
              "                   6               7       8        9     10  11  12  \\\n",
              "0        Adm-clerical   Not-in-family   White     Male  2174   0  40   \n",
              "1     Exec-managerial         Husband   White     Male     0   0  13   \n",
              "2   Handlers-cleaners   Not-in-family   White     Male     0   0  40   \n",
              "3   Handlers-cleaners         Husband   Black     Male     0   0  40   \n",
              "4      Prof-specialty            Wife   Black   Female     0   0  40   \n",
              "\n",
              "               13      14  \n",
              "0   United-States   <=50K  \n",
              "1   United-States   <=50K  \n",
              "2   United-States   <=50K  \n",
              "3   United-States   <=50K  \n",
              "4            Cuba   <=50K  "
            ]
          },
          "metadata": {
            "tags": []
          },
          "execution_count": 16
        }
      ]
    },
    {
      "cell_type": "code",
      "metadata": {
        "id": "YiQKuT3_qtxS",
        "colab_type": "code",
        "colab": {}
      },
      "source": [
        "columns=[1,3,5,6,7,8,9,13]"
      ],
      "execution_count": null,
      "outputs": []
    },
    {
      "cell_type": "code",
      "metadata": {
        "id": "mOFiPDgjqtxW",
        "colab_type": "code",
        "colab": {}
      },
      "source": [
        "train_set=train_set[columns]"
      ],
      "execution_count": null,
      "outputs": []
    },
    {
      "cell_type": "code",
      "metadata": {
        "id": "gcjX3o35qtxZ",
        "colab_type": "code",
        "colab": {}
      },
      "source": [
        "train_set.columns=['Employment','Degree','Status','Designation','family_job','Race','Sex','Country']"
      ],
      "execution_count": null,
      "outputs": []
    },
    {
      "cell_type": "code",
      "metadata": {
        "id": "YdA26y_Jqtxe",
        "colab_type": "code",
        "colab": {},
        "outputId": "4cb0b5ac-fae8-4296-c66d-0e0f99ce0906"
      },
      "source": [
        "train_set.head()"
      ],
      "execution_count": null,
      "outputs": [
        {
          "output_type": "execute_result",
          "data": {
            "text/html": [
              "<div>\n",
              "<style scoped>\n",
              "    .dataframe tbody tr th:only-of-type {\n",
              "        vertical-align: middle;\n",
              "    }\n",
              "\n",
              "    .dataframe tbody tr th {\n",
              "        vertical-align: top;\n",
              "    }\n",
              "\n",
              "    .dataframe thead th {\n",
              "        text-align: right;\n",
              "    }\n",
              "</style>\n",
              "<table border=\"1\" class=\"dataframe\">\n",
              "  <thead>\n",
              "    <tr style=\"text-align: right;\">\n",
              "      <th></th>\n",
              "      <th>Employment</th>\n",
              "      <th>Degree</th>\n",
              "      <th>Status</th>\n",
              "      <th>Designation</th>\n",
              "      <th>family_job</th>\n",
              "      <th>Race</th>\n",
              "      <th>Sex</th>\n",
              "      <th>Country</th>\n",
              "    </tr>\n",
              "  </thead>\n",
              "  <tbody>\n",
              "    <tr>\n",
              "      <th>0</th>\n",
              "      <td>State-gov</td>\n",
              "      <td>Bachelors</td>\n",
              "      <td>Never-married</td>\n",
              "      <td>Adm-clerical</td>\n",
              "      <td>Not-in-family</td>\n",
              "      <td>White</td>\n",
              "      <td>Male</td>\n",
              "      <td>United-States</td>\n",
              "    </tr>\n",
              "    <tr>\n",
              "      <th>1</th>\n",
              "      <td>Self-emp-not-inc</td>\n",
              "      <td>Bachelors</td>\n",
              "      <td>Married-civ-spouse</td>\n",
              "      <td>Exec-managerial</td>\n",
              "      <td>Husband</td>\n",
              "      <td>White</td>\n",
              "      <td>Male</td>\n",
              "      <td>United-States</td>\n",
              "    </tr>\n",
              "    <tr>\n",
              "      <th>2</th>\n",
              "      <td>Private</td>\n",
              "      <td>HS-grad</td>\n",
              "      <td>Divorced</td>\n",
              "      <td>Handlers-cleaners</td>\n",
              "      <td>Not-in-family</td>\n",
              "      <td>White</td>\n",
              "      <td>Male</td>\n",
              "      <td>United-States</td>\n",
              "    </tr>\n",
              "    <tr>\n",
              "      <th>3</th>\n",
              "      <td>Private</td>\n",
              "      <td>11th</td>\n",
              "      <td>Married-civ-spouse</td>\n",
              "      <td>Handlers-cleaners</td>\n",
              "      <td>Husband</td>\n",
              "      <td>Black</td>\n",
              "      <td>Male</td>\n",
              "      <td>United-States</td>\n",
              "    </tr>\n",
              "    <tr>\n",
              "      <th>4</th>\n",
              "      <td>Private</td>\n",
              "      <td>Bachelors</td>\n",
              "      <td>Married-civ-spouse</td>\n",
              "      <td>Prof-specialty</td>\n",
              "      <td>Wife</td>\n",
              "      <td>Black</td>\n",
              "      <td>Female</td>\n",
              "      <td>Cuba</td>\n",
              "    </tr>\n",
              "  </tbody>\n",
              "</table>\n",
              "</div>"
            ],
            "text/plain": [
              "          Employment      Degree               Status         Designation  \\\n",
              "0          State-gov   Bachelors        Never-married        Adm-clerical   \n",
              "1   Self-emp-not-inc   Bachelors   Married-civ-spouse     Exec-managerial   \n",
              "2            Private     HS-grad             Divorced   Handlers-cleaners   \n",
              "3            Private        11th   Married-civ-spouse   Handlers-cleaners   \n",
              "4            Private   Bachelors   Married-civ-spouse      Prof-specialty   \n",
              "\n",
              "       family_job    Race      Sex         Country  \n",
              "0   Not-in-family   White     Male   United-States  \n",
              "1         Husband   White     Male   United-States  \n",
              "2   Not-in-family   White     Male   United-States  \n",
              "3         Husband   Black     Male   United-States  \n",
              "4            Wife   Black   Female            Cuba  "
            ]
          },
          "metadata": {
            "tags": []
          },
          "execution_count": 20
        }
      ]
    },
    {
      "cell_type": "code",
      "metadata": {
        "id": "nMUi8Uy-qtxi",
        "colab_type": "code",
        "colab": {},
        "outputId": "63e6dea8-27fb-42bc-add7-8a47bfff712c"
      },
      "source": [
        "for feature in train_set.columns[:]:\n",
        "    print(feature,\":\",len(train_set[feature].unique()),'labels')"
      ],
      "execution_count": null,
      "outputs": [
        {
          "output_type": "stream",
          "text": [
            "Employment : 9 labels\n",
            "Degree : 16 labels\n",
            "Status : 7 labels\n",
            "Designation : 15 labels\n",
            "family_job : 6 labels\n",
            "Race : 5 labels\n",
            "Sex : 2 labels\n",
            "Country : 42 labels\n"
          ],
          "name": "stdout"
        }
      ]
    },
    {
      "cell_type": "code",
      "metadata": {
        "id": "s0cftBaWqtxn",
        "colab_type": "code",
        "colab": {},
        "outputId": "693e28c2-5182-40ce-817a-576061953f1c"
      },
      "source": [
        "country_map=train_set['Country'].value_counts\n",
        "country_map"
      ],
      "execution_count": null,
      "outputs": [
        {
          "output_type": "execute_result",
          "data": {
            "text/plain": [
              "<bound method IndexOpsMixin.value_counts of 0         United-States\n",
              "1         United-States\n",
              "2         United-States\n",
              "3         United-States\n",
              "4                  Cuba\n",
              "              ...      \n",
              "32556     United-States\n",
              "32557     United-States\n",
              "32558     United-States\n",
              "32559     United-States\n",
              "32560     United-States\n",
              "Name: Country, Length: 32561, dtype: object>"
            ]
          },
          "metadata": {
            "tags": []
          },
          "execution_count": 22
        }
      ]
    },
    {
      "cell_type": "code",
      "metadata": {
        "id": "gv62Pavqqtxq",
        "colab_type": "code",
        "colab": {},
        "outputId": "0622fe14-807a-4b54-889d-cfd3775d0aa0"
      },
      "source": [
        "country_map=train_set['Country'].value_counts().to_dict()\n",
        "country_map"
      ],
      "execution_count": null,
      "outputs": [
        {
          "output_type": "execute_result",
          "data": {
            "text/plain": [
              "{' United-States': 29170,\n",
              " ' Mexico': 643,\n",
              " ' ?': 583,\n",
              " ' Philippines': 198,\n",
              " ' Germany': 137,\n",
              " ' Canada': 121,\n",
              " ' Puerto-Rico': 114,\n",
              " ' El-Salvador': 106,\n",
              " ' India': 100,\n",
              " ' Cuba': 95,\n",
              " ' England': 90,\n",
              " ' Jamaica': 81,\n",
              " ' South': 80,\n",
              " ' China': 75,\n",
              " ' Italy': 73,\n",
              " ' Dominican-Republic': 70,\n",
              " ' Vietnam': 67,\n",
              " ' Guatemala': 64,\n",
              " ' Japan': 62,\n",
              " ' Poland': 60,\n",
              " ' Columbia': 59,\n",
              " ' Taiwan': 51,\n",
              " ' Haiti': 44,\n",
              " ' Iran': 43,\n",
              " ' Portugal': 37,\n",
              " ' Nicaragua': 34,\n",
              " ' Peru': 31,\n",
              " ' Greece': 29,\n",
              " ' France': 29,\n",
              " ' Ecuador': 28,\n",
              " ' Ireland': 24,\n",
              " ' Hong': 20,\n",
              " ' Cambodia': 19,\n",
              " ' Trinadad&Tobago': 19,\n",
              " ' Laos': 18,\n",
              " ' Thailand': 18,\n",
              " ' Yugoslavia': 16,\n",
              " ' Outlying-US(Guam-USVI-etc)': 14,\n",
              " ' Hungary': 13,\n",
              " ' Honduras': 13,\n",
              " ' Scotland': 12,\n",
              " ' Holand-Netherlands': 1}"
            ]
          },
          "metadata": {
            "tags": []
          },
          "execution_count": 23
        }
      ]
    },
    {
      "cell_type": "code",
      "metadata": {
        "id": "OWrbTumEqtxw",
        "colab_type": "code",
        "colab": {},
        "outputId": "77ad4001-5849-4fe3-bb53-3beffb158bd1"
      },
      "source": [
        "train_set['Country']=train_set['Country'].map(country_map)\n",
        "train_set.head(20)"
      ],
      "execution_count": null,
      "outputs": [
        {
          "output_type": "execute_result",
          "data": {
            "text/html": [
              "<div>\n",
              "<style scoped>\n",
              "    .dataframe tbody tr th:only-of-type {\n",
              "        vertical-align: middle;\n",
              "    }\n",
              "\n",
              "    .dataframe tbody tr th {\n",
              "        vertical-align: top;\n",
              "    }\n",
              "\n",
              "    .dataframe thead th {\n",
              "        text-align: right;\n",
              "    }\n",
              "</style>\n",
              "<table border=\"1\" class=\"dataframe\">\n",
              "  <thead>\n",
              "    <tr style=\"text-align: right;\">\n",
              "      <th></th>\n",
              "      <th>Employment</th>\n",
              "      <th>Degree</th>\n",
              "      <th>Status</th>\n",
              "      <th>Designation</th>\n",
              "      <th>family_job</th>\n",
              "      <th>Race</th>\n",
              "      <th>Sex</th>\n",
              "      <th>Country</th>\n",
              "    </tr>\n",
              "  </thead>\n",
              "  <tbody>\n",
              "    <tr>\n",
              "      <th>0</th>\n",
              "      <td>State-gov</td>\n",
              "      <td>Bachelors</td>\n",
              "      <td>Never-married</td>\n",
              "      <td>Adm-clerical</td>\n",
              "      <td>Not-in-family</td>\n",
              "      <td>White</td>\n",
              "      <td>Male</td>\n",
              "      <td>29170</td>\n",
              "    </tr>\n",
              "    <tr>\n",
              "      <th>1</th>\n",
              "      <td>Self-emp-not-inc</td>\n",
              "      <td>Bachelors</td>\n",
              "      <td>Married-civ-spouse</td>\n",
              "      <td>Exec-managerial</td>\n",
              "      <td>Husband</td>\n",
              "      <td>White</td>\n",
              "      <td>Male</td>\n",
              "      <td>29170</td>\n",
              "    </tr>\n",
              "    <tr>\n",
              "      <th>2</th>\n",
              "      <td>Private</td>\n",
              "      <td>HS-grad</td>\n",
              "      <td>Divorced</td>\n",
              "      <td>Handlers-cleaners</td>\n",
              "      <td>Not-in-family</td>\n",
              "      <td>White</td>\n",
              "      <td>Male</td>\n",
              "      <td>29170</td>\n",
              "    </tr>\n",
              "    <tr>\n",
              "      <th>3</th>\n",
              "      <td>Private</td>\n",
              "      <td>11th</td>\n",
              "      <td>Married-civ-spouse</td>\n",
              "      <td>Handlers-cleaners</td>\n",
              "      <td>Husband</td>\n",
              "      <td>Black</td>\n",
              "      <td>Male</td>\n",
              "      <td>29170</td>\n",
              "    </tr>\n",
              "    <tr>\n",
              "      <th>4</th>\n",
              "      <td>Private</td>\n",
              "      <td>Bachelors</td>\n",
              "      <td>Married-civ-spouse</td>\n",
              "      <td>Prof-specialty</td>\n",
              "      <td>Wife</td>\n",
              "      <td>Black</td>\n",
              "      <td>Female</td>\n",
              "      <td>95</td>\n",
              "    </tr>\n",
              "    <tr>\n",
              "      <th>5</th>\n",
              "      <td>Private</td>\n",
              "      <td>Masters</td>\n",
              "      <td>Married-civ-spouse</td>\n",
              "      <td>Exec-managerial</td>\n",
              "      <td>Wife</td>\n",
              "      <td>White</td>\n",
              "      <td>Female</td>\n",
              "      <td>29170</td>\n",
              "    </tr>\n",
              "    <tr>\n",
              "      <th>6</th>\n",
              "      <td>Private</td>\n",
              "      <td>9th</td>\n",
              "      <td>Married-spouse-absent</td>\n",
              "      <td>Other-service</td>\n",
              "      <td>Not-in-family</td>\n",
              "      <td>Black</td>\n",
              "      <td>Female</td>\n",
              "      <td>81</td>\n",
              "    </tr>\n",
              "    <tr>\n",
              "      <th>7</th>\n",
              "      <td>Self-emp-not-inc</td>\n",
              "      <td>HS-grad</td>\n",
              "      <td>Married-civ-spouse</td>\n",
              "      <td>Exec-managerial</td>\n",
              "      <td>Husband</td>\n",
              "      <td>White</td>\n",
              "      <td>Male</td>\n",
              "      <td>29170</td>\n",
              "    </tr>\n",
              "    <tr>\n",
              "      <th>8</th>\n",
              "      <td>Private</td>\n",
              "      <td>Masters</td>\n",
              "      <td>Never-married</td>\n",
              "      <td>Prof-specialty</td>\n",
              "      <td>Not-in-family</td>\n",
              "      <td>White</td>\n",
              "      <td>Female</td>\n",
              "      <td>29170</td>\n",
              "    </tr>\n",
              "    <tr>\n",
              "      <th>9</th>\n",
              "      <td>Private</td>\n",
              "      <td>Bachelors</td>\n",
              "      <td>Married-civ-spouse</td>\n",
              "      <td>Exec-managerial</td>\n",
              "      <td>Husband</td>\n",
              "      <td>White</td>\n",
              "      <td>Male</td>\n",
              "      <td>29170</td>\n",
              "    </tr>\n",
              "    <tr>\n",
              "      <th>10</th>\n",
              "      <td>Private</td>\n",
              "      <td>Some-college</td>\n",
              "      <td>Married-civ-spouse</td>\n",
              "      <td>Exec-managerial</td>\n",
              "      <td>Husband</td>\n",
              "      <td>Black</td>\n",
              "      <td>Male</td>\n",
              "      <td>29170</td>\n",
              "    </tr>\n",
              "    <tr>\n",
              "      <th>11</th>\n",
              "      <td>State-gov</td>\n",
              "      <td>Bachelors</td>\n",
              "      <td>Married-civ-spouse</td>\n",
              "      <td>Prof-specialty</td>\n",
              "      <td>Husband</td>\n",
              "      <td>Asian-Pac-Islander</td>\n",
              "      <td>Male</td>\n",
              "      <td>100</td>\n",
              "    </tr>\n",
              "    <tr>\n",
              "      <th>12</th>\n",
              "      <td>Private</td>\n",
              "      <td>Bachelors</td>\n",
              "      <td>Never-married</td>\n",
              "      <td>Adm-clerical</td>\n",
              "      <td>Own-child</td>\n",
              "      <td>White</td>\n",
              "      <td>Female</td>\n",
              "      <td>29170</td>\n",
              "    </tr>\n",
              "    <tr>\n",
              "      <th>13</th>\n",
              "      <td>Private</td>\n",
              "      <td>Assoc-acdm</td>\n",
              "      <td>Never-married</td>\n",
              "      <td>Sales</td>\n",
              "      <td>Not-in-family</td>\n",
              "      <td>Black</td>\n",
              "      <td>Male</td>\n",
              "      <td>29170</td>\n",
              "    </tr>\n",
              "    <tr>\n",
              "      <th>14</th>\n",
              "      <td>Private</td>\n",
              "      <td>Assoc-voc</td>\n",
              "      <td>Married-civ-spouse</td>\n",
              "      <td>Craft-repair</td>\n",
              "      <td>Husband</td>\n",
              "      <td>Asian-Pac-Islander</td>\n",
              "      <td>Male</td>\n",
              "      <td>583</td>\n",
              "    </tr>\n",
              "    <tr>\n",
              "      <th>15</th>\n",
              "      <td>Private</td>\n",
              "      <td>7th-8th</td>\n",
              "      <td>Married-civ-spouse</td>\n",
              "      <td>Transport-moving</td>\n",
              "      <td>Husband</td>\n",
              "      <td>Amer-Indian-Eskimo</td>\n",
              "      <td>Male</td>\n",
              "      <td>643</td>\n",
              "    </tr>\n",
              "    <tr>\n",
              "      <th>16</th>\n",
              "      <td>Self-emp-not-inc</td>\n",
              "      <td>HS-grad</td>\n",
              "      <td>Never-married</td>\n",
              "      <td>Farming-fishing</td>\n",
              "      <td>Own-child</td>\n",
              "      <td>White</td>\n",
              "      <td>Male</td>\n",
              "      <td>29170</td>\n",
              "    </tr>\n",
              "    <tr>\n",
              "      <th>17</th>\n",
              "      <td>Private</td>\n",
              "      <td>HS-grad</td>\n",
              "      <td>Never-married</td>\n",
              "      <td>Machine-op-inspct</td>\n",
              "      <td>Unmarried</td>\n",
              "      <td>White</td>\n",
              "      <td>Male</td>\n",
              "      <td>29170</td>\n",
              "    </tr>\n",
              "    <tr>\n",
              "      <th>18</th>\n",
              "      <td>Private</td>\n",
              "      <td>11th</td>\n",
              "      <td>Married-civ-spouse</td>\n",
              "      <td>Sales</td>\n",
              "      <td>Husband</td>\n",
              "      <td>White</td>\n",
              "      <td>Male</td>\n",
              "      <td>29170</td>\n",
              "    </tr>\n",
              "    <tr>\n",
              "      <th>19</th>\n",
              "      <td>Self-emp-not-inc</td>\n",
              "      <td>Masters</td>\n",
              "      <td>Divorced</td>\n",
              "      <td>Exec-managerial</td>\n",
              "      <td>Unmarried</td>\n",
              "      <td>White</td>\n",
              "      <td>Female</td>\n",
              "      <td>29170</td>\n",
              "    </tr>\n",
              "  </tbody>\n",
              "</table>\n",
              "</div>"
            ],
            "text/plain": [
              "           Employment         Degree                  Status  \\\n",
              "0           State-gov      Bachelors           Never-married   \n",
              "1    Self-emp-not-inc      Bachelors      Married-civ-spouse   \n",
              "2             Private        HS-grad                Divorced   \n",
              "3             Private           11th      Married-civ-spouse   \n",
              "4             Private      Bachelors      Married-civ-spouse   \n",
              "5             Private        Masters      Married-civ-spouse   \n",
              "6             Private            9th   Married-spouse-absent   \n",
              "7    Self-emp-not-inc        HS-grad      Married-civ-spouse   \n",
              "8             Private        Masters           Never-married   \n",
              "9             Private      Bachelors      Married-civ-spouse   \n",
              "10            Private   Some-college      Married-civ-spouse   \n",
              "11          State-gov      Bachelors      Married-civ-spouse   \n",
              "12            Private      Bachelors           Never-married   \n",
              "13            Private     Assoc-acdm           Never-married   \n",
              "14            Private      Assoc-voc      Married-civ-spouse   \n",
              "15            Private        7th-8th      Married-civ-spouse   \n",
              "16   Self-emp-not-inc        HS-grad           Never-married   \n",
              "17            Private        HS-grad           Never-married   \n",
              "18            Private           11th      Married-civ-spouse   \n",
              "19   Self-emp-not-inc        Masters                Divorced   \n",
              "\n",
              "           Designation      family_job                 Race      Sex  Country  \n",
              "0         Adm-clerical   Not-in-family                White     Male    29170  \n",
              "1      Exec-managerial         Husband                White     Male    29170  \n",
              "2    Handlers-cleaners   Not-in-family                White     Male    29170  \n",
              "3    Handlers-cleaners         Husband                Black     Male    29170  \n",
              "4       Prof-specialty            Wife                Black   Female       95  \n",
              "5      Exec-managerial            Wife                White   Female    29170  \n",
              "6        Other-service   Not-in-family                Black   Female       81  \n",
              "7      Exec-managerial         Husband                White     Male    29170  \n",
              "8       Prof-specialty   Not-in-family                White   Female    29170  \n",
              "9      Exec-managerial         Husband                White     Male    29170  \n",
              "10     Exec-managerial         Husband                Black     Male    29170  \n",
              "11      Prof-specialty         Husband   Asian-Pac-Islander     Male      100  \n",
              "12        Adm-clerical       Own-child                White   Female    29170  \n",
              "13               Sales   Not-in-family                Black     Male    29170  \n",
              "14        Craft-repair         Husband   Asian-Pac-Islander     Male      583  \n",
              "15    Transport-moving         Husband   Amer-Indian-Eskimo     Male      643  \n",
              "16     Farming-fishing       Own-child                White     Male    29170  \n",
              "17   Machine-op-inspct       Unmarried                White     Male    29170  \n",
              "18               Sales         Husband                White     Male    29170  \n",
              "19     Exec-managerial       Unmarried                White   Female    29170  "
            ]
          },
          "metadata": {
            "tags": []
          },
          "execution_count": 24
        }
      ]
    },
    {
      "cell_type": "markdown",
      "metadata": {
        "id": "FcjgfuUfqtx1",
        "colab_type": "text"
      },
      "source": [
        "1. **Advantages**\n",
        "\n",
        "    * Easy To Use\n",
        "    * Not increasing feature space \n",
        "    \n",
        "    \n",
        "2. **Disadvantage**\n",
        "\n",
        "    * It will provide same weight if the frequencies of the features are same."
      ]
    },
    {
      "cell_type": "markdown",
      "metadata": {
        "id": "3NeKoFIDqtx2",
        "colab_type": "text"
      },
      "source": [
        "## Target Guided Ordinal Encoding"
      ]
    },
    {
      "cell_type": "markdown",
      "metadata": {
        "id": "9HjGy3YOqtx2",
        "colab_type": "text"
      },
      "source": [
        "1. Ordering the labels according to the target feature.\n",
        "\n",
        "\n",
        "2. Replace the labels by the joint probability of being 1 or 0."
      ]
    },
    {
      "cell_type": "code",
      "metadata": {
        "id": "Mmwjsk9Nqtx3",
        "colab_type": "code",
        "colab": {},
        "outputId": "07243bc0-a6a8-437c-8612-bae6730b3630"
      },
      "source": [
        "df=pd.read_csv('titanic.csv', usecols=['Cabin','Survived'])\n",
        "df.head()"
      ],
      "execution_count": null,
      "outputs": [
        {
          "output_type": "execute_result",
          "data": {
            "text/html": [
              "<div>\n",
              "<style scoped>\n",
              "    .dataframe tbody tr th:only-of-type {\n",
              "        vertical-align: middle;\n",
              "    }\n",
              "\n",
              "    .dataframe tbody tr th {\n",
              "        vertical-align: top;\n",
              "    }\n",
              "\n",
              "    .dataframe thead th {\n",
              "        text-align: right;\n",
              "    }\n",
              "</style>\n",
              "<table border=\"1\" class=\"dataframe\">\n",
              "  <thead>\n",
              "    <tr style=\"text-align: right;\">\n",
              "      <th></th>\n",
              "      <th>Survived</th>\n",
              "      <th>Cabin</th>\n",
              "    </tr>\n",
              "  </thead>\n",
              "  <tbody>\n",
              "    <tr>\n",
              "      <th>0</th>\n",
              "      <td>0</td>\n",
              "      <td>NaN</td>\n",
              "    </tr>\n",
              "    <tr>\n",
              "      <th>1</th>\n",
              "      <td>1</td>\n",
              "      <td>C85</td>\n",
              "    </tr>\n",
              "    <tr>\n",
              "      <th>2</th>\n",
              "      <td>1</td>\n",
              "      <td>NaN</td>\n",
              "    </tr>\n",
              "    <tr>\n",
              "      <th>3</th>\n",
              "      <td>1</td>\n",
              "      <td>C123</td>\n",
              "    </tr>\n",
              "    <tr>\n",
              "      <th>4</th>\n",
              "      <td>0</td>\n",
              "      <td>NaN</td>\n",
              "    </tr>\n",
              "  </tbody>\n",
              "</table>\n",
              "</div>"
            ],
            "text/plain": [
              "   Survived Cabin\n",
              "0         0   NaN\n",
              "1         1   C85\n",
              "2         1   NaN\n",
              "3         1  C123\n",
              "4         0   NaN"
            ]
          },
          "metadata": {
            "tags": []
          },
          "execution_count": 25
        }
      ]
    },
    {
      "cell_type": "code",
      "metadata": {
        "id": "xT7ufDlOqtx7",
        "colab_type": "code",
        "colab": {}
      },
      "source": [
        "df['Cabin'].fillna('Missing',inplace=True)"
      ],
      "execution_count": null,
      "outputs": []
    },
    {
      "cell_type": "code",
      "metadata": {
        "id": "UwB65-LlqtyA",
        "colab_type": "code",
        "colab": {},
        "outputId": "a113c89f-6cb1-4a37-de46-f926978b71d4"
      },
      "source": [
        "df.head()"
      ],
      "execution_count": null,
      "outputs": [
        {
          "output_type": "execute_result",
          "data": {
            "text/html": [
              "<div>\n",
              "<style scoped>\n",
              "    .dataframe tbody tr th:only-of-type {\n",
              "        vertical-align: middle;\n",
              "    }\n",
              "\n",
              "    .dataframe tbody tr th {\n",
              "        vertical-align: top;\n",
              "    }\n",
              "\n",
              "    .dataframe thead th {\n",
              "        text-align: right;\n",
              "    }\n",
              "</style>\n",
              "<table border=\"1\" class=\"dataframe\">\n",
              "  <thead>\n",
              "    <tr style=\"text-align: right;\">\n",
              "      <th></th>\n",
              "      <th>Survived</th>\n",
              "      <th>Cabin</th>\n",
              "    </tr>\n",
              "  </thead>\n",
              "  <tbody>\n",
              "    <tr>\n",
              "      <th>0</th>\n",
              "      <td>0</td>\n",
              "      <td>Missing</td>\n",
              "    </tr>\n",
              "    <tr>\n",
              "      <th>1</th>\n",
              "      <td>1</td>\n",
              "      <td>C85</td>\n",
              "    </tr>\n",
              "    <tr>\n",
              "      <th>2</th>\n",
              "      <td>1</td>\n",
              "      <td>Missing</td>\n",
              "    </tr>\n",
              "    <tr>\n",
              "      <th>3</th>\n",
              "      <td>1</td>\n",
              "      <td>C123</td>\n",
              "    </tr>\n",
              "    <tr>\n",
              "      <th>4</th>\n",
              "      <td>0</td>\n",
              "      <td>Missing</td>\n",
              "    </tr>\n",
              "  </tbody>\n",
              "</table>\n",
              "</div>"
            ],
            "text/plain": [
              "   Survived    Cabin\n",
              "0         0  Missing\n",
              "1         1      C85\n",
              "2         1  Missing\n",
              "3         1     C123\n",
              "4         0  Missing"
            ]
          },
          "metadata": {
            "tags": []
          },
          "execution_count": 27
        }
      ]
    },
    {
      "cell_type": "code",
      "metadata": {
        "id": "E2MsyTcEqtyD",
        "colab_type": "code",
        "colab": {},
        "outputId": "ed0e7c4d-0879-4b1f-a85a-3cac45bfcabc"
      },
      "source": [
        "df['Cabin']=df['Cabin'].astype(str)\n",
        "df.head()"
      ],
      "execution_count": null,
      "outputs": [
        {
          "output_type": "execute_result",
          "data": {
            "text/html": [
              "<div>\n",
              "<style scoped>\n",
              "    .dataframe tbody tr th:only-of-type {\n",
              "        vertical-align: middle;\n",
              "    }\n",
              "\n",
              "    .dataframe tbody tr th {\n",
              "        vertical-align: top;\n",
              "    }\n",
              "\n",
              "    .dataframe thead th {\n",
              "        text-align: right;\n",
              "    }\n",
              "</style>\n",
              "<table border=\"1\" class=\"dataframe\">\n",
              "  <thead>\n",
              "    <tr style=\"text-align: right;\">\n",
              "      <th></th>\n",
              "      <th>Survived</th>\n",
              "      <th>Cabin</th>\n",
              "    </tr>\n",
              "  </thead>\n",
              "  <tbody>\n",
              "    <tr>\n",
              "      <th>0</th>\n",
              "      <td>0</td>\n",
              "      <td>Missing</td>\n",
              "    </tr>\n",
              "    <tr>\n",
              "      <th>1</th>\n",
              "      <td>1</td>\n",
              "      <td>C85</td>\n",
              "    </tr>\n",
              "    <tr>\n",
              "      <th>2</th>\n",
              "      <td>1</td>\n",
              "      <td>Missing</td>\n",
              "    </tr>\n",
              "    <tr>\n",
              "      <th>3</th>\n",
              "      <td>1</td>\n",
              "      <td>C123</td>\n",
              "    </tr>\n",
              "    <tr>\n",
              "      <th>4</th>\n",
              "      <td>0</td>\n",
              "      <td>Missing</td>\n",
              "    </tr>\n",
              "  </tbody>\n",
              "</table>\n",
              "</div>"
            ],
            "text/plain": [
              "   Survived    Cabin\n",
              "0         0  Missing\n",
              "1         1      C85\n",
              "2         1  Missing\n",
              "3         1     C123\n",
              "4         0  Missing"
            ]
          },
          "metadata": {
            "tags": []
          },
          "execution_count": 28
        }
      ]
    },
    {
      "cell_type": "code",
      "metadata": {
        "id": "a7xneRnuqtyH",
        "colab_type": "code",
        "colab": {}
      },
      "source": [
        "df['Cabin']=df['Cabin'].astype(str).str[0]"
      ],
      "execution_count": null,
      "outputs": []
    },
    {
      "cell_type": "code",
      "metadata": {
        "id": "Z6lZS_WdqtyJ",
        "colab_type": "code",
        "colab": {},
        "outputId": "a6f325be-ba3c-49b6-9c3b-25d391fc46b4"
      },
      "source": [
        "df.head()"
      ],
      "execution_count": null,
      "outputs": [
        {
          "output_type": "execute_result",
          "data": {
            "text/html": [
              "<div>\n",
              "<style scoped>\n",
              "    .dataframe tbody tr th:only-of-type {\n",
              "        vertical-align: middle;\n",
              "    }\n",
              "\n",
              "    .dataframe tbody tr th {\n",
              "        vertical-align: top;\n",
              "    }\n",
              "\n",
              "    .dataframe thead th {\n",
              "        text-align: right;\n",
              "    }\n",
              "</style>\n",
              "<table border=\"1\" class=\"dataframe\">\n",
              "  <thead>\n",
              "    <tr style=\"text-align: right;\">\n",
              "      <th></th>\n",
              "      <th>Survived</th>\n",
              "      <th>Cabin</th>\n",
              "    </tr>\n",
              "  </thead>\n",
              "  <tbody>\n",
              "    <tr>\n",
              "      <th>0</th>\n",
              "      <td>0</td>\n",
              "      <td>M</td>\n",
              "    </tr>\n",
              "    <tr>\n",
              "      <th>1</th>\n",
              "      <td>1</td>\n",
              "      <td>C</td>\n",
              "    </tr>\n",
              "    <tr>\n",
              "      <th>2</th>\n",
              "      <td>1</td>\n",
              "      <td>M</td>\n",
              "    </tr>\n",
              "    <tr>\n",
              "      <th>3</th>\n",
              "      <td>1</td>\n",
              "      <td>C</td>\n",
              "    </tr>\n",
              "    <tr>\n",
              "      <th>4</th>\n",
              "      <td>0</td>\n",
              "      <td>M</td>\n",
              "    </tr>\n",
              "  </tbody>\n",
              "</table>\n",
              "</div>"
            ],
            "text/plain": [
              "   Survived Cabin\n",
              "0         0     M\n",
              "1         1     C\n",
              "2         1     M\n",
              "3         1     C\n",
              "4         0     M"
            ]
          },
          "metadata": {
            "tags": []
          },
          "execution_count": 30
        }
      ]
    },
    {
      "cell_type": "code",
      "metadata": {
        "id": "HuBCLBUkqtyN",
        "colab_type": "code",
        "colab": {},
        "outputId": "ed01aa0b-26a1-443e-9742-e354d3dcc2f6"
      },
      "source": [
        "df.Cabin.unique()"
      ],
      "execution_count": null,
      "outputs": [
        {
          "output_type": "execute_result",
          "data": {
            "text/plain": [
              "array(['M', 'C', 'E', 'G', 'D', 'A', 'B', 'F', 'T'], dtype=object)"
            ]
          },
          "metadata": {
            "tags": []
          },
          "execution_count": 31
        }
      ]
    },
    {
      "cell_type": "markdown",
      "metadata": {
        "id": "Ukz-QZ4KqtyR",
        "colab_type": "text"
      },
      "source": [
        "* We are grouping the rows by the **Cabin Index** and taking the **Percentage of People who survived** in that particular **Cabin Index**"
      ]
    },
    {
      "cell_type": "code",
      "metadata": {
        "id": "uG9YaLIGqtyV",
        "colab_type": "code",
        "colab": {},
        "outputId": "591b368f-379a-46a3-bd54-9f7d7c0941ae"
      },
      "source": [
        "df.groupby(['Cabin'])['Survived'].mean()"
      ],
      "execution_count": null,
      "outputs": [
        {
          "output_type": "execute_result",
          "data": {
            "text/plain": [
              "Cabin\n",
              "A    0.466667\n",
              "B    0.744681\n",
              "C    0.593220\n",
              "D    0.757576\n",
              "E    0.750000\n",
              "F    0.615385\n",
              "G    0.500000\n",
              "M    0.299854\n",
              "T    0.000000\n",
              "Name: Survived, dtype: float64"
            ]
          },
          "metadata": {
            "tags": []
          },
          "execution_count": 32
        }
      ]
    },
    {
      "cell_type": "code",
      "metadata": {
        "id": "PH4l-8OcqtyY",
        "colab_type": "code",
        "colab": {},
        "outputId": "bb6e93b4-9e2d-47ea-9b69-3a28b16f5d9d"
      },
      "source": [
        "df.groupby(['Cabin'])['Survived'].mean().sort_values().index"
      ],
      "execution_count": null,
      "outputs": [
        {
          "output_type": "execute_result",
          "data": {
            "text/plain": [
              "Index(['T', 'M', 'A', 'G', 'C', 'F', 'B', 'E', 'D'], dtype='object', name='Cabin')"
            ]
          },
          "metadata": {
            "tags": []
          },
          "execution_count": 33
        }
      ]
    },
    {
      "cell_type": "code",
      "metadata": {
        "id": "Q0yeQUv6qtyc",
        "colab_type": "code",
        "colab": {},
        "outputId": "dc614766-6ff0-4f06-b416-5e4a36eae1c8"
      },
      "source": [
        "ordinal_labels=df.groupby(['Cabin'])['Survived'].mean().sort_values().index\n",
        "ordinal_labels"
      ],
      "execution_count": null,
      "outputs": [
        {
          "output_type": "execute_result",
          "data": {
            "text/plain": [
              "Index(['T', 'M', 'A', 'G', 'C', 'F', 'B', 'E', 'D'], dtype='object', name='Cabin')"
            ]
          },
          "metadata": {
            "tags": []
          },
          "execution_count": 34
        }
      ]
    },
    {
      "cell_type": "code",
      "metadata": {
        "id": "Hp_Ku_ZEqtyg",
        "colab_type": "code",
        "colab": {},
        "outputId": "5e840d22-119b-485e-a8e8-ca4b164c828b"
      },
      "source": [
        "enumerate(ordinal_labels, start=0)"
      ],
      "execution_count": null,
      "outputs": [
        {
          "output_type": "execute_result",
          "data": {
            "text/plain": [
              "<enumerate at 0x7fee4e717910>"
            ]
          },
          "metadata": {
            "tags": []
          },
          "execution_count": 35
        }
      ]
    },
    {
      "cell_type": "code",
      "metadata": {
        "id": "YM5VLLDgqtyk",
        "colab_type": "code",
        "colab": {},
        "outputId": "58c740a3-2c2d-4dec-ea6c-deaba0aa43af"
      },
      "source": [
        "ordinal_labels2={k:i for i,k in enumerate(ordinal_labels,0)}\n",
        "ordinal_labels2"
      ],
      "execution_count": null,
      "outputs": [
        {
          "output_type": "execute_result",
          "data": {
            "text/plain": [
              "{'T': 0, 'M': 1, 'A': 2, 'G': 3, 'C': 4, 'F': 5, 'B': 6, 'E': 7, 'D': 8}"
            ]
          },
          "metadata": {
            "tags": []
          },
          "execution_count": 36
        }
      ]
    },
    {
      "cell_type": "markdown",
      "metadata": {
        "id": "RE7OJNviqtyp",
        "colab_type": "text"
      },
      "source": [
        "* The **iterator variable(0 to 8)** will always be returned first and then the value of **ordinal label(T to D)** will be returned for **enumerate**\n",
        "\n",
        "\n",
        "* In this higher the **'Cabin_ordinal_labels'**, higher is the **Percentage of Survival Rate**"
      ]
    },
    {
      "cell_type": "code",
      "metadata": {
        "id": "lNUFUp45qtyp",
        "colab_type": "code",
        "colab": {},
        "outputId": "a0b5a6cc-91b6-4257-feca-70c4d9053f23"
      },
      "source": [
        "df['Cabin_ordinal_labels']=df['Cabin'].map(ordinal_labels2)\n",
        "df.head()"
      ],
      "execution_count": null,
      "outputs": [
        {
          "output_type": "execute_result",
          "data": {
            "text/html": [
              "<div>\n",
              "<style scoped>\n",
              "    .dataframe tbody tr th:only-of-type {\n",
              "        vertical-align: middle;\n",
              "    }\n",
              "\n",
              "    .dataframe tbody tr th {\n",
              "        vertical-align: top;\n",
              "    }\n",
              "\n",
              "    .dataframe thead th {\n",
              "        text-align: right;\n",
              "    }\n",
              "</style>\n",
              "<table border=\"1\" class=\"dataframe\">\n",
              "  <thead>\n",
              "    <tr style=\"text-align: right;\">\n",
              "      <th></th>\n",
              "      <th>Survived</th>\n",
              "      <th>Cabin</th>\n",
              "      <th>Cabin_ordinal_labels</th>\n",
              "    </tr>\n",
              "  </thead>\n",
              "  <tbody>\n",
              "    <tr>\n",
              "      <th>0</th>\n",
              "      <td>0</td>\n",
              "      <td>M</td>\n",
              "      <td>1</td>\n",
              "    </tr>\n",
              "    <tr>\n",
              "      <th>1</th>\n",
              "      <td>1</td>\n",
              "      <td>C</td>\n",
              "      <td>4</td>\n",
              "    </tr>\n",
              "    <tr>\n",
              "      <th>2</th>\n",
              "      <td>1</td>\n",
              "      <td>M</td>\n",
              "      <td>1</td>\n",
              "    </tr>\n",
              "    <tr>\n",
              "      <th>3</th>\n",
              "      <td>1</td>\n",
              "      <td>C</td>\n",
              "      <td>4</td>\n",
              "    </tr>\n",
              "    <tr>\n",
              "      <th>4</th>\n",
              "      <td>0</td>\n",
              "      <td>M</td>\n",
              "      <td>1</td>\n",
              "    </tr>\n",
              "  </tbody>\n",
              "</table>\n",
              "</div>"
            ],
            "text/plain": [
              "   Survived Cabin  Cabin_ordinal_labels\n",
              "0         0     M                     1\n",
              "1         1     C                     4\n",
              "2         1     M                     1\n",
              "3         1     C                     4\n",
              "4         0     M                     1"
            ]
          },
          "metadata": {
            "tags": []
          },
          "execution_count": 37
        }
      ]
    },
    {
      "cell_type": "markdown",
      "metadata": {
        "id": "VEOX1f4Gqtys",
        "colab_type": "text"
      },
      "source": [
        "## Mean Encoding"
      ]
    },
    {
      "cell_type": "markdown",
      "metadata": {
        "id": "_SULQwnVqtyt",
        "colab_type": "text"
      },
      "source": [
        "* Here instead of Ranking the **Percentage Survival Rate** from 0 to 8, we replace the **Cabin Feature** with the **Percentage Survival Rate Value**itself."
      ]
    },
    {
      "cell_type": "code",
      "metadata": {
        "id": "W_crm7sbqtyt",
        "colab_type": "code",
        "colab": {}
      },
      "source": [
        "mean_ordinal=df.groupby(['Cabin'])['Survived'].mean().to_dict()"
      ],
      "execution_count": null,
      "outputs": []
    },
    {
      "cell_type": "code",
      "metadata": {
        "id": "7-DZq9zwqtyv",
        "colab_type": "code",
        "colab": {},
        "outputId": "d1ad7d6c-9f5a-43ff-feac-e2efe1f0a576"
      },
      "source": [
        "mean_ordinal"
      ],
      "execution_count": null,
      "outputs": [
        {
          "output_type": "execute_result",
          "data": {
            "text/plain": [
              "{'A': 0.4666666666666667,\n",
              " 'B': 0.7446808510638298,\n",
              " 'C': 0.5932203389830508,\n",
              " 'D': 0.7575757575757576,\n",
              " 'E': 0.75,\n",
              " 'F': 0.6153846153846154,\n",
              " 'G': 0.5,\n",
              " 'M': 0.29985443959243085,\n",
              " 'T': 0.0}"
            ]
          },
          "metadata": {
            "tags": []
          },
          "execution_count": 39
        }
      ]
    },
    {
      "cell_type": "code",
      "metadata": {
        "id": "6T5b1KJvqtyz",
        "colab_type": "code",
        "colab": {}
      },
      "source": [
        "df['Cabin_Mean_Encoding'] = df['Cabin'].map(mean_ordinal)"
      ],
      "execution_count": null,
      "outputs": []
    },
    {
      "cell_type": "code",
      "metadata": {
        "id": "ZXUCQBeJqty0",
        "colab_type": "code",
        "colab": {},
        "outputId": "6c040c09-a31d-4ec1-ce08-aa8e114b6672"
      },
      "source": [
        "df.head(20)"
      ],
      "execution_count": null,
      "outputs": [
        {
          "output_type": "execute_result",
          "data": {
            "text/html": [
              "<div>\n",
              "<style scoped>\n",
              "    .dataframe tbody tr th:only-of-type {\n",
              "        vertical-align: middle;\n",
              "    }\n",
              "\n",
              "    .dataframe tbody tr th {\n",
              "        vertical-align: top;\n",
              "    }\n",
              "\n",
              "    .dataframe thead th {\n",
              "        text-align: right;\n",
              "    }\n",
              "</style>\n",
              "<table border=\"1\" class=\"dataframe\">\n",
              "  <thead>\n",
              "    <tr style=\"text-align: right;\">\n",
              "      <th></th>\n",
              "      <th>Survived</th>\n",
              "      <th>Cabin</th>\n",
              "      <th>Cabin_ordinal_labels</th>\n",
              "      <th>Cabin_Mean_Encoding</th>\n",
              "    </tr>\n",
              "  </thead>\n",
              "  <tbody>\n",
              "    <tr>\n",
              "      <th>0</th>\n",
              "      <td>0</td>\n",
              "      <td>M</td>\n",
              "      <td>1</td>\n",
              "      <td>0.299854</td>\n",
              "    </tr>\n",
              "    <tr>\n",
              "      <th>1</th>\n",
              "      <td>1</td>\n",
              "      <td>C</td>\n",
              "      <td>4</td>\n",
              "      <td>0.593220</td>\n",
              "    </tr>\n",
              "    <tr>\n",
              "      <th>2</th>\n",
              "      <td>1</td>\n",
              "      <td>M</td>\n",
              "      <td>1</td>\n",
              "      <td>0.299854</td>\n",
              "    </tr>\n",
              "    <tr>\n",
              "      <th>3</th>\n",
              "      <td>1</td>\n",
              "      <td>C</td>\n",
              "      <td>4</td>\n",
              "      <td>0.593220</td>\n",
              "    </tr>\n",
              "    <tr>\n",
              "      <th>4</th>\n",
              "      <td>0</td>\n",
              "      <td>M</td>\n",
              "      <td>1</td>\n",
              "      <td>0.299854</td>\n",
              "    </tr>\n",
              "    <tr>\n",
              "      <th>5</th>\n",
              "      <td>0</td>\n",
              "      <td>M</td>\n",
              "      <td>1</td>\n",
              "      <td>0.299854</td>\n",
              "    </tr>\n",
              "    <tr>\n",
              "      <th>6</th>\n",
              "      <td>0</td>\n",
              "      <td>E</td>\n",
              "      <td>7</td>\n",
              "      <td>0.750000</td>\n",
              "    </tr>\n",
              "    <tr>\n",
              "      <th>7</th>\n",
              "      <td>0</td>\n",
              "      <td>M</td>\n",
              "      <td>1</td>\n",
              "      <td>0.299854</td>\n",
              "    </tr>\n",
              "    <tr>\n",
              "      <th>8</th>\n",
              "      <td>1</td>\n",
              "      <td>M</td>\n",
              "      <td>1</td>\n",
              "      <td>0.299854</td>\n",
              "    </tr>\n",
              "    <tr>\n",
              "      <th>9</th>\n",
              "      <td>1</td>\n",
              "      <td>M</td>\n",
              "      <td>1</td>\n",
              "      <td>0.299854</td>\n",
              "    </tr>\n",
              "    <tr>\n",
              "      <th>10</th>\n",
              "      <td>1</td>\n",
              "      <td>G</td>\n",
              "      <td>3</td>\n",
              "      <td>0.500000</td>\n",
              "    </tr>\n",
              "    <tr>\n",
              "      <th>11</th>\n",
              "      <td>1</td>\n",
              "      <td>C</td>\n",
              "      <td>4</td>\n",
              "      <td>0.593220</td>\n",
              "    </tr>\n",
              "    <tr>\n",
              "      <th>12</th>\n",
              "      <td>0</td>\n",
              "      <td>M</td>\n",
              "      <td>1</td>\n",
              "      <td>0.299854</td>\n",
              "    </tr>\n",
              "    <tr>\n",
              "      <th>13</th>\n",
              "      <td>0</td>\n",
              "      <td>M</td>\n",
              "      <td>1</td>\n",
              "      <td>0.299854</td>\n",
              "    </tr>\n",
              "    <tr>\n",
              "      <th>14</th>\n",
              "      <td>0</td>\n",
              "      <td>M</td>\n",
              "      <td>1</td>\n",
              "      <td>0.299854</td>\n",
              "    </tr>\n",
              "    <tr>\n",
              "      <th>15</th>\n",
              "      <td>1</td>\n",
              "      <td>M</td>\n",
              "      <td>1</td>\n",
              "      <td>0.299854</td>\n",
              "    </tr>\n",
              "    <tr>\n",
              "      <th>16</th>\n",
              "      <td>0</td>\n",
              "      <td>M</td>\n",
              "      <td>1</td>\n",
              "      <td>0.299854</td>\n",
              "    </tr>\n",
              "    <tr>\n",
              "      <th>17</th>\n",
              "      <td>1</td>\n",
              "      <td>M</td>\n",
              "      <td>1</td>\n",
              "      <td>0.299854</td>\n",
              "    </tr>\n",
              "    <tr>\n",
              "      <th>18</th>\n",
              "      <td>0</td>\n",
              "      <td>M</td>\n",
              "      <td>1</td>\n",
              "      <td>0.299854</td>\n",
              "    </tr>\n",
              "    <tr>\n",
              "      <th>19</th>\n",
              "      <td>1</td>\n",
              "      <td>M</td>\n",
              "      <td>1</td>\n",
              "      <td>0.299854</td>\n",
              "    </tr>\n",
              "  </tbody>\n",
              "</table>\n",
              "</div>"
            ],
            "text/plain": [
              "    Survived Cabin  Cabin_ordinal_labels  Cabin_Mean_Encoding\n",
              "0          0     M                     1             0.299854\n",
              "1          1     C                     4             0.593220\n",
              "2          1     M                     1             0.299854\n",
              "3          1     C                     4             0.593220\n",
              "4          0     M                     1             0.299854\n",
              "5          0     M                     1             0.299854\n",
              "6          0     E                     7             0.750000\n",
              "7          0     M                     1             0.299854\n",
              "8          1     M                     1             0.299854\n",
              "9          1     M                     1             0.299854\n",
              "10         1     G                     3             0.500000\n",
              "11         1     C                     4             0.593220\n",
              "12         0     M                     1             0.299854\n",
              "13         0     M                     1             0.299854\n",
              "14         0     M                     1             0.299854\n",
              "15         1     M                     1             0.299854\n",
              "16         0     M                     1             0.299854\n",
              "17         1     M                     1             0.299854\n",
              "18         0     M                     1             0.299854\n",
              "19         1     M                     1             0.299854"
            ]
          },
          "metadata": {
            "tags": []
          },
          "execution_count": 41
        }
      ]
    }
  ]
}